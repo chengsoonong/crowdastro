{
 "cells": [
  {
   "cell_type": "markdown",
   "metadata": {},
   "source": [
    "# Train Everything\n",
    "\n",
    "This notebook uses the RGZ labels to train on *everything* we can, and makes predictions for every SWIRE object within 1' of a radio component. It is tested against RGZ (which is all we really have to work with if we're predicting on everything)."
   ]
  },
  {
   "cell_type": "code",
   "execution_count": 1,
   "metadata": {
    "collapsed": true
   },
   "outputs": [],
   "source": [
    "import astropy.io.ascii as asc, numpy, h5py, sklearn.linear_model, crowdastro.crowd.util, pickle, scipy.spatial\n",
    "import matplotlib.pyplot as plt\n",
    "%matplotlib inline\n",
    "with open('/Users/alger/data/Crowdastro/sets_atlas.pkl', 'rb') as f:\n",
    "    atlas_sets = pickle.load(f)\n",
    "    atlas_sets_compact = atlas_sets['RGZ & compact']\n",
    "    atlas_sets_resolved = atlas_sets['RGZ & resolved']\n",
    "with open('/Users/alger/data/Crowdastro/sets_swire.pkl', 'rb') as f:\n",
    "    swire_sets = pickle.load(f)\n",
    "    swire_sets_compact = swire_sets['RGZ & compact']\n",
    "    swire_sets_resolved = swire_sets['RGZ & resolved']\n",
    "with h5py.File('/Users/alger/data/Crowdastro/swire.h5') as f:\n",
    "    swire_features = f['features'].value\n",
    "with h5py.File('/Users/alger/data/Crowdastro/crowdastro-swire.h5') as f:\n",
    "    swire_names = [i.decode('ascii') for i in f['/swire/cdfs/string'].value]\n",
    "    swire_coords = f['/swire/cdfs/numeric'][:, :2]\n",
    "swire_labels = {i['swire']: i['rgz_label'] for i in asc.read('/Users/alger/data/SWIRE/all_labels.csv')}\n",
    "table = asc.read('/Users/alger/data/Crowdastro/one-table-to-rule-them-all.tbl')\n",
    "swire_tree = scipy.spatial.KDTree(swire_coords)"
   ]
  },
  {
   "cell_type": "code",
   "execution_count": 2,
   "metadata": {},
   "outputs": [
    {
     "name": "stdout",
     "output_type": "stream",
     "text": [
      "0.876911896501\n",
      "0.845826136855\n",
      "0.86048508232\n",
      "0.839901715101\n"
     ]
    }
   ],
   "source": [
    "import collections\n",
    "swire_to_probs = collections.defaultdict(list)\n",
    "\n",
    "for (train, test), (_, test_swire) in zip(atlas_sets['RGZ'], swire_sets['RGZ']):\n",
    "    key_to_row = {}\n",
    "    for row in table:\n",
    "        key_to_row[row['Key']] = row\n",
    "    # Get coords.\n",
    "    ras = [key_to_row[k]['Component RA (Franzen)'] for k in train]\n",
    "    decs = [key_to_row[k]['Component DEC (Franzen)'] for k in train]\n",
    "    coords = list(zip(ras, decs))\n",
    "    # Find nearby SWIREs.\n",
    "    nearby = sorted({int(i) for i in numpy.concatenate(swire_tree.query_ball_point(coords, 1 / 60))})\n",
    "    # Train on the features.\n",
    "    features = swire_features[nearby]\n",
    "    labels = [swire_labels[swire_names[n]] == 'True' for n in nearby]\n",
    "    lr = sklearn.linear_model.LogisticRegression(class_weight='balanced', C=1e10)\n",
    "    lr.fit(features, labels)\n",
    "    # Predict on the test set.\n",
    "    test_labels = [swire_labels[swire_names[n]] == 'True' for n in test_swire]\n",
    "    test_features = swire_features[test_swire]\n",
    "    acc = crowdastro.crowd.util.balanced_accuracy(test_labels, lr.predict(test_features))\n",
    "    print(acc)\n",
    "    probs = lr.predict_proba(test_features)\n",
    "    for n, p in zip(test_swire, probs):\n",
    "        swire_to_probs[n].append(p)"
   ]
  },
  {
   "cell_type": "code",
   "execution_count": 12,
   "metadata": {},
   "outputs": [],
   "source": [
    "swires = numpy.ma.MaskedArray(numpy.zeros(max(swire_to_probs) + 1), mask=numpy.ones(max(swire_to_probs) + 1))\n",
    "swires.mask[sorted(swire_to_probs)] = 0\n",
    "for n in swire_to_probs:\n",
    "    swires[n] = numpy.mean(swire_to_probs[n], axis=0)[1]"
   ]
  },
  {
   "cell_type": "code",
   "execution_count": 15,
   "metadata": {},
   "outputs": [],
   "source": [
    "assert swires.mask.sum() == 0"
   ]
  },
  {
   "cell_type": "markdown",
   "metadata": {},
   "source": [
    "## Distribution of predictions"
   ]
  },
  {
   "cell_type": "code",
   "execution_count": 19,
   "metadata": {},
   "outputs": [
    {
     "data": {
      "text/plain": [
       "<matplotlib.axes._subplots.AxesSubplot at 0x124300080>"
      ]
     },
     "execution_count": 19,
     "metadata": {},
     "output_type": "execute_result"
    },
    {
     "data": {
      "image/png": "[encoded data removed]",
      "text/plain": [
       "<matplotlib.figure.Figure at 0x121c489e8>"
      ]
     },
     "metadata": {},
     "output_type": "display_data"
    }
   ],
   "source": [
    "import seaborn\n",
    "seaborn.distplot(swires)"
   ]
  },
  {
   "cell_type": "code",
   "execution_count": 20,
   "metadata": {
    "collapsed": true
   },
   "outputs": [],
   "source": [
    "with h5py.File('/Users/alger/data/Crowdastro/predictions_swire_all.h5', 'w') as f:\n",
    "    f.create_dataset('predictions', data=swires)"
   ]
  },
  {
   "cell_type": "code",
   "execution_count": null,
   "metadata": {
    "collapsed": true
   },
   "outputs": [],
   "source": []
  }
 ],
 "metadata": {
  "kernelspec": {
   "display_name": "Python 3",
   "language": "python",
   "name": "python3"
  },
  "language_info": {
   "codemirror_mode": {
    "name": "ipython",
    "version": 3
   },
   "file_extension": ".py",
   "mimetype": "text/x-python",
   "name": "python",
   "nbconvert_exporter": "python",
   "pygments_lexer": "ipython3",
   "version": "3.6.1"
  }
 },
 "nbformat": 4,
 "nbformat_minor": 2
}
