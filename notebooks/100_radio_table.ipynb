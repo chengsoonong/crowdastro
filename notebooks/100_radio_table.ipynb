{
 "cells": [
  {
   "cell_type": "markdown",
   "metadata": {},
   "source": [
    "# One Table To Rule Them All: Radio\n",
    "\n",
    "This notebook generates a table of radio components in the CDFS and ELAIS-S1 fields, according to various incarnations of the ATLAS survey. To run it, you will need a MongoDB server with the RGZ database loaded. All other data is fetched from the internet.\n",
    "\n",
    "In the following cell, specify the MongoDB server details:"
   ]
  },
  {
   "cell_type": "code",
   "execution_count": 2,
   "metadata": {
    "collapsed": true
   },
   "outputs": [],
   "source": [
    "MONGO_HOST = 'localhost'\n",
    "MONGO_PORT = 27017"
   ]
  },
  {
   "cell_type": "markdown",
   "metadata": {},
   "source": [
    "In this cell, specify if you have access to a crowdastro output file (crowdastro.h5), and if so, where it is:"
   ]
  },
  {
   "cell_type": "code",
   "execution_count": 3,
   "metadata": {
    "collapsed": true
   },
   "outputs": [],
   "source": [
    "USING_CROWDASTRO = True\n",
    "CROWDASTRO_PATH = 'crowdastro-swire.h5'\n",
    "# To get this file, run `crowdastro import_data --ir swire`."
   ]
  },
  {
   "cell_type": "markdown",
   "metadata": {},
   "source": [
    "In this cell, specify if you have access to a CSV of the Fan et al. (2015) cross-identifications, and if so, where it is:"
   ]
  },
  {
   "cell_type": "code",
   "execution_count": 4,
   "metadata": {
    "collapsed": true
   },
   "outputs": [],
   "source": [
    "USING_FAN = True\n",
    "FAN_PATH = 'fan_2015_a.csv'"
   ]
  },
  {
   "cell_type": "markdown",
   "metadata": {},
   "source": [
    "In this cell, specify if you have access to the 11 January 2014 Franzen catalogue, and if so, where it is:"
   ]
  },
  {
   "cell_type": "code",
   "execution_count": 5,
   "metadata": {
    "collapsed": true
   },
   "outputs": [],
   "source": [
    "USING_FRANZEN = True\n",
    "FRANZEN_PATH = 'ATLASDR3_CDFS_cmpcat_11JAN2014.dat'"
   ]
  },
  {
   "cell_type": "markdown",
   "metadata": {},
   "source": [
    "Next, we will fetch the resources we need."
   ]
  },
  {
   "cell_type": "code",
   "execution_count": 6,
   "metadata": {
    "collapsed": true
   },
   "outputs": [],
   "source": [
    "NORRIS_COMPONENTS_URI = 'http://www.atnf.csiro.au/people/rnorris/papers/n202/tab4.txt'\n",
    "NORRIS_CROSS_IDENTIFICATIONS_URI = 'http://www.atnf.csiro.au/people/rnorris/papers/n202/tab6.txt'\n",
    "MIDDELBERG_COMPONENTS_URI = 'http://iopscience.iop.org/article/10.1086/508275/fulltext/datafile4.txt'\n",
    "MIDDELBERG_CROSS_IDENTIFICATIONS_URI = 'http://iopscience.iop.org/article/10.1086/508275/fulltext/datafile6.txt'"
   ]
  },
  {
   "cell_type": "code",
   "execution_count": 7,
   "metadata": {
    "collapsed": false,
    "scrolled": true
   },
   "outputs": [
    {
     "data": {
      "text/html": [
       "&lt;Table length=784&gt;\n",
       "<table id=\"table4624132472\" class=\"table-striped table-bordered table-condensed\">\n",
       "<thead><tr><th>#</th><th>Name</th><th>Radio RA</th><th>Radio dec</th><th>err(RA)</th><th>err(dec)</th><th>Peak Flux</th><th>Int flux</th><th>Bmaj</th><th>Bmin</th><th>Bpa</th><th>rms</th></tr></thead>\n",
       "<thead><tr><th>str4</th><th>str26</th><th>str11</th><th>str11</th><th>float64</th><th>float64</th><th>float64</th><th>float64</th><th>float64</th><th>float64</th><th>float64</th><th>float64</th></tr></thead>\n",
       "<tr><td>C001</td><td>ATCDFS_J032602.78-284709.0</td><td>3:26:02.785</td><td>-28:47:09.0</td><td>0.78</td><td>0.73</td><td>0.7</td><td>1.38</td><td>8.3</td><td>2.6</td><td>60.8</td><td>79.3</td></tr>\n",
       "<tr><td>C002</td><td>ATCDFS_J032604.15-275659.3</td><td>3:26:04.152</td><td>-27:56:59.3</td><td>0.55</td><td>0.9</td><td>0.71</td><td>1.97</td><td>11.5</td><td>7.3</td><td>-17.0</td><td>71.9</td></tr>\n",
       "<tr><td>C003</td><td>ATCDFS_J032605.68-274734.4</td><td>3:26:05.685</td><td>-27:47:34.4</td><td>0.1</td><td>0.11</td><td>40.81</td><td>74.7</td><td>5.9</td><td>5.6</td><td>85.7</td><td>119.1</td></tr>\n",
       "<tr><td>C004</td><td>ATCDFS_J032606.95-275332.2</td><td>3:26:06.955</td><td>-27:53:32.2</td><td>0.52</td><td>1.19</td><td>0.41</td><td>0.43</td><td>0.0</td><td>0.0</td><td>-1.0</td><td>76.7</td></tr>\n",
       "<tr><td>C005</td><td>ATCDFS_J032611.47-273243.8</td><td>3:26:11.475</td><td>-27:32:43.8</td><td>0.1</td><td>0.1</td><td>69.65</td><td>110.9</td><td>5.3</td><td>3.3</td><td>89.6</td><td>156.3</td></tr>\n",
       "<tr><td>C006</td><td>ATCDFS_J032613.70-281717.7</td><td>3:26:13.701</td><td>-28:17:17.7</td><td>0.57</td><td>0.79</td><td>0.48</td><td>0.54</td><td>0.0</td><td>0.0</td><td>0.0</td><td>77.7</td></tr>\n",
       "<tr><td>C007</td><td>ATCDFS_J032615.48-284629.2</td><td>3:26:15.489</td><td>-28:46:29.2</td><td>0.34</td><td>0.36</td><td>0.45</td><td>0.71</td><td>0.0</td><td>0.0</td><td>0.0</td><td>66.0</td></tr>\n",
       "<tr><td>C008</td><td>ATCDFS_J032615.55-280601.0</td><td>3:26:15.557</td><td>-28:06:01.0</td><td>0.3</td><td>0.47</td><td>0.73</td><td>1.06</td><td>0.0</td><td>0.0</td><td>-1.0</td><td>56.9</td></tr>\n",
       "<tr><td>C009</td><td>ATCDFS_J032616.35-280014.6</td><td>3:26:16.353</td><td>-28:00:14.6</td><td>0.18</td><td>0.3</td><td>1.24</td><td>1.66</td><td>0.0</td><td>0.0</td><td>-1.0</td><td>60.1</td></tr>\n",
       "<tr><td>C010</td><td>ATCDFS_J032616.41-271621.1</td><td>3:26:16.419</td><td>-27:16:21.1</td><td>0.15</td><td>0.23</td><td>4.17</td><td>7.84</td><td>9.1</td><td>2.8</td><td>-40.0</td><td>90.2</td></tr>\n",
       "<tr><td>...</td><td>...</td><td>...</td><td>...</td><td>...</td><td>...</td><td>...</td><td>...</td><td>...</td><td>...</td><td>...</td><td>...</td></tr>\n",
       "<tr><td>C775</td><td>ATCDFS_J033544.32-274323.3</td><td>3:35:44.326</td><td>-27:43:23.3</td><td>0.48</td><td>0.98</td><td>1.36</td><td>2.81</td><td>9.5</td><td>5.4</td><td>3.6</td><td>73.1</td></tr>\n",
       "<tr><td>C776</td><td>ATCDFS_J033544.35-282050.9</td><td>3:35:44.350</td><td>-28:20:50.9</td><td>0.35</td><td>0.77</td><td>0.67</td><td>1.24</td><td>9.6</td><td>4.3</td><td>-9.5</td><td>70.4</td></tr>\n",
       "<tr><td>C777</td><td>ATCDFS_J033544.96-274308.0</td><td>3:35:44.960</td><td>-27:43:08.0</td><td>0.41</td><td>0.8</td><td>0.58</td><td>1.31</td><td>9.4</td><td>6.2</td><td>16.0</td><td>71.5</td></tr>\n",
       "<tr><td>C778</td><td>ATCDFS_J033546.38-283805.2</td><td>3:35:46.383</td><td>-28:38:05.2</td><td>0.33</td><td>0.56</td><td>0.98</td><td>1.55</td><td>5.5</td><td>3.9</td><td>54.2</td><td>66.9</td></tr>\n",
       "<tr><td>C779</td><td>ATCDFS_J033548.20-284402.3</td><td>3:35:48.204</td><td>-28:44:02.3</td><td>0.12</td><td>0.15</td><td>7.09</td><td>12.37</td><td>6.2</td><td>4.6</td><td>-48.8</td><td>76.4</td></tr>\n",
       "<tr><td>C780</td><td>ATCDFS_J033549.15-274918.5</td><td>3:35:49.152</td><td>-27:49:18.5</td><td>0.12</td><td>0.16</td><td>6.01</td><td>10.97</td><td>6.7</td><td>5.3</td><td>22.2</td><td>79.5</td></tr>\n",
       "<tr><td>C781</td><td>ATCDFS_J033553.33-272740.4</td><td>3:35:53.336</td><td>-27:27:40.4</td><td>0.1</td><td>0.1</td><td>73.88</td><td>126.9</td><td>6.0</td><td>3.6</td><td>71.9</td><td>149.7</td></tr>\n",
       "<tr><td>C782</td><td>ATCDFS_J033553.48-275510.9</td><td>3:35:53.480</td><td>-27:55:10.9</td><td>0.35</td><td>0.62</td><td>0.59</td><td>0.99</td><td>5.8</td><td>4.5</td><td>-43.6</td><td>73.5</td></tr>\n",
       "<tr><td>C783</td><td>ATCDFS_J033553.58-280956.8</td><td>3:35:53.589</td><td>-28:09:56.8</td><td>0.16</td><td>0.4</td><td>0.46</td><td>0.51</td><td>0.0</td><td>0.0</td><td>0.0</td><td>61.2</td></tr>\n",
       "<tr><td>C784</td><td>ATCDFS_J033553.63-282923.5</td><td>3:35:53.634</td><td>-28:29:23.5</td><td>0.64</td><td>0.96</td><td>0.53</td><td>1.17</td><td>7.4</td><td>6.6</td><td>-61.2</td><td>80.0</td></tr>\n",
       "</table>"
      ],
      "text/plain": [
       "<Table length=784>\n",
       " #              Name              Radio RA  ...   Bmin    Bpa     rms  \n",
       "str4           str26               str11    ... float64 float64 float64\n",
       "---- -------------------------- ----------- ... ------- ------- -------\n",
       "C001 ATCDFS_J032602.78-284709.0 3:26:02.785 ...     2.6    60.8    79.3\n",
       "C002 ATCDFS_J032604.15-275659.3 3:26:04.152 ...     7.3   -17.0    71.9\n",
       "C003 ATCDFS_J032605.68-274734.4 3:26:05.685 ...     5.6    85.7   119.1\n",
       "C004 ATCDFS_J032606.95-275332.2 3:26:06.955 ...     0.0    -1.0    76.7\n",
       "C005 ATCDFS_J032611.47-273243.8 3:26:11.475 ...     3.3    89.6   156.3\n",
       "C006 ATCDFS_J032613.70-281717.7 3:26:13.701 ...     0.0     0.0    77.7\n",
       "C007 ATCDFS_J032615.48-284629.2 3:26:15.489 ...     0.0     0.0    66.0\n",
       "C008 ATCDFS_J032615.55-280601.0 3:26:15.557 ...     0.0    -1.0    56.9\n",
       "C009 ATCDFS_J032616.35-280014.6 3:26:16.353 ...     0.0    -1.0    60.1\n",
       "C010 ATCDFS_J032616.41-271621.1 3:26:16.419 ...     2.8   -40.0    90.2\n",
       " ...                        ...         ... ...     ...     ...     ...\n",
       "C775 ATCDFS_J033544.32-274323.3 3:35:44.326 ...     5.4     3.6    73.1\n",
       "C776 ATCDFS_J033544.35-282050.9 3:35:44.350 ...     4.3    -9.5    70.4\n",
       "C777 ATCDFS_J033544.96-274308.0 3:35:44.960 ...     6.2    16.0    71.5\n",
       "C778 ATCDFS_J033546.38-283805.2 3:35:46.383 ...     3.9    54.2    66.9\n",
       "C779 ATCDFS_J033548.20-284402.3 3:35:48.204 ...     4.6   -48.8    76.4\n",
       "C780 ATCDFS_J033549.15-274918.5 3:35:49.152 ...     5.3    22.2    79.5\n",
       "C781 ATCDFS_J033553.33-272740.4 3:35:53.336 ...     3.6    71.9   149.7\n",
       "C782 ATCDFS_J033553.48-275510.9 3:35:53.480 ...     4.5   -43.6    73.5\n",
       "C783 ATCDFS_J033553.58-280956.8 3:35:53.589 ...     0.0     0.0    61.2\n",
       "C784 ATCDFS_J033553.63-282923.5 3:35:53.634 ...     6.6   -61.2    80.0"
      ]
     },
     "execution_count": 7,
     "metadata": {},
     "output_type": "execute_result"
    }
   ],
   "source": [
    "# Load Norris components.\n",
    "import requests, io, astropy.io.ascii as asc, astropy.table, pandas\n",
    "norris_components = astropy.table.Table.from_pandas(\n",
    "    pandas.read_fwf(\n",
    "        io.StringIO(\n",
    "            requests.get(NORRIS_COMPONENTS_URI).text\n",
    "        ),\n",
    "        skiprows=[0, 2],\n",
    "        header=0,\n",
    "        widths=map(len, [\n",
    "                '   # ',\n",
    "                'Name                       ',\n",
    "                'Radio RA     ',\n",
    "                'Radio dec  ',\n",
    "                'err(RA) ',\n",
    "                'err(dec) ',\n",
    "                'Peak Flux  ',\n",
    "                'Int flux   ',\n",
    "                'Bmaj   ',\n",
    "                'Bmin   ',\n",
    "                ' Bpa      ',\n",
    "                ' rms  ',\n",
    "            ])\n",
    "    )\n",
    ")\n",
    "norris_components"
   ]
  },
  {
   "cell_type": "code",
   "execution_count": 8,
   "metadata": {
    "collapsed": false,
    "scrolled": false
   },
   "outputs": [
    {
     "data": {
      "text/html": [
       "&lt;Table masked=True length=10&gt;\n",
       "<table id=\"table4567083384\" class=\"table-striped table-bordered table-condensed\">\n",
       "<thead><tr><th>#</th><th>Name</th><th>Component</th><th>SWIRE</th><th>Radio RA</th><th>Radio dec</th><th>20cm</th><th>3.6µm</th><th>4.5µm</th><th>5.8µm</th><th>8.0µm</th><th>24µm</th><th>U</th><th>G</th><th>R</th><th>I</th><th>Z</th><th>z(sp)</th><th>ID</th><th>Class</th><th>Basis</th></tr></thead>\n",
       "<thead><tr><th>str4</th><th>str26</th><th>str19</th><th>str26</th><th>str11</th><th>str12</th><th>float64</th><th>float64</th><th>str8</th><th>str8</th><th>str8</th><th>float64</th><th>float64</th><th>float64</th><th>float64</th><th>float64</th><th>float64</th><th>float64</th><th>int64</th><th>str4</th><th>str3</th></tr></thead>\n",
       "<tr><td>S701</td><td>ATCDFS_J033529.42-285156.5</td><td>C753</td><td>SWIRE3_J033529.46-285154.5</td><td>3:35:29.424</td><td>-28:51:56.54</td><td>1.7</td><td>716.0</td><td>521.4</td><td>194.3</td><td>146.7</td><td>-1.0</td><td>20.6</td><td>18.8</td><td>17.5</td><td>16.7</td><td>16.4</td><td>--</td><td>3</td><td>--</td><td>--</td></tr>\n",
       "<tr><td>S702</td><td>ATCDFS_J033530.22-281108.4</td><td>C754</td><td>SWIRE3_J033530.19-281108.5</td><td>3:35:30.229</td><td>-28:11:08.45</td><td>0.8</td><td>32.2</td><td>38.5</td><td>-1.0</td><td>56.2</td><td>376.3</td><td>99.0</td><td>99.0</td><td>99.0</td><td>99.0</td><td>99.0</td><td>--</td><td>1</td><td>AGN</td><td>b</td></tr>\n",
       "<tr><td>S703</td><td>ATCDFS_J033531.02-272702.2</td><td>C755</td><td>--</td><td>3:35:31.025</td><td>-27:27:02.20</td><td>26.1</td><td>--</td><td>--</td><td>--</td><td>--</td><td>--</td><td>--</td><td>--</td><td>--</td><td>--</td><td>--</td><td>--</td><td>9</td><td>--</td><td>--</td></tr>\n",
       "<tr><td>S704</td><td>ATCDFS_J033532.11-274547.6</td><td>C756</td><td>SWIRE3_J033532.11-274545.2</td><td>3:35:32.115</td><td>-27:45:47.61</td><td>2.2</td><td>164.4</td><td>84.6</td><td>55.3</td><td>40.6</td><td>-1.0</td><td>--</td><td>--</td><td>--</td><td>--</td><td>--</td><td>--</td><td>3</td><td>--</td><td>--</td></tr>\n",
       "<tr><td>S705</td><td>ATCDFS_J033532.19-284801.0</td><td>C757</td><td>SWIRE3_J033532.19-284801.1</td><td>3:35:32.192</td><td>-28:48:01.08</td><td>0.9</td><td>222.5</td><td>417.8</td><td>1084.8</td><td>2999.4</td><td>10830.1</td><td>99.0</td><td>24.2</td><td>22.0</td><td>20.7</td><td>20.1</td><td>--</td><td>1</td><td>--</td><td>--</td></tr>\n",
       "<tr><td>S706</td><td>ATCDFS_J033533.22-280621.8</td><td>C758</td><td>--</td><td>3:35:33.224</td><td>-28:06:21.85</td><td>0.3</td><td>--</td><td>--</td><td>--</td><td>--</td><td>--</td><td>--</td><td>--</td><td>--</td><td>--</td><td>--</td><td>--</td><td>9</td><td>--</td><td>--</td></tr>\n",
       "<tr><td>S707</td><td>ATCDFS_J033533.96-273313.4</td><td>C759,C760,C761,C764</td><td>SWIRE3_J033533.90-273310.9</td><td>3:35:33.963</td><td>-27:33:13.46</td><td>9.4</td><td>451.6</td><td>512.5</td><td>724.7</td><td>966.6</td><td>2208.2</td><td>--</td><td>19.8</td><td>19.5</td><td>18.9</td><td>--</td><td>--</td><td>3</td><td>AGN</td><td>b</td></tr>\n",
       "<tr><td>S708</td><td>ATCDFS_J033534.47-284213.3</td><td>C763</td><td>SWIRE3_J033534.66-284221.7</td><td>3:35:34.479</td><td>-28:42:13.31</td><td>0.5</td><td>79.8</td><td>53.1</td><td>-1.0</td><td>44.3</td><td>-1.0</td><td>99.0</td><td>22.7</td><td>21.3</td><td>20.4</td><td>19.9</td><td>--</td><td>4</td><td>--</td><td>--</td></tr>\n",
       "<tr><td>S709</td><td>ATCDFS_J033535.20-281729.0</td><td>C762,C765</td><td>SWIRE3_J033535.20-281729.0</td><td>3:35:35.20</td><td>-28:17:29.00</td><td>8.4</td><td>34.5</td><td>25.3</td><td>-1.0</td><td>-1.0</td><td>-1.0</td><td>99.0</td><td>99.0</td><td>99.0</td><td>22.6</td><td>21.9</td><td>--</td><td>-1</td><td>AGN</td><td>a</td></tr>\n",
       "<tr><td>S710</td><td>ATCDFS_J033536.48-282618.2</td><td>C766</td><td>(154935)</td><td>3:35:36.488</td><td>-28:26:18.27</td><td>0.3</td><td>4.1</td><td>-1.0</td><td>-1.0</td><td>-1.0</td><td>-1.0</td><td>99.0</td><td>99.0</td><td>99.0</td><td>99.0</td><td>99.0</td><td>--</td><td>1</td><td>--</td><td>--</td></tr>\n",
       "</table>"
      ],
      "text/plain": [
       "<Table masked=True length=10>\n",
       " #              Name                 Component      ...   ID  Class Basis\n",
       "str4           str26                   str19        ... int64  str4  str3\n",
       "---- -------------------------- ------------------- ... ----- ----- -----\n",
       "S701 ATCDFS_J033529.42-285156.5                C753 ...     3    --    --\n",
       "S702 ATCDFS_J033530.22-281108.4                C754 ...     1   AGN     b\n",
       "S703 ATCDFS_J033531.02-272702.2                C755 ...     9    --    --\n",
       "S704 ATCDFS_J033532.11-274547.6                C756 ...     3    --    --\n",
       "S705 ATCDFS_J033532.19-284801.0                C757 ...     1    --    --\n",
       "S706 ATCDFS_J033533.22-280621.8                C758 ...     9    --    --\n",
       "S707 ATCDFS_J033533.96-273313.4 C759,C760,C761,C764 ...     3   AGN     b\n",
       "S708 ATCDFS_J033534.47-284213.3                C763 ...     4    --    --\n",
       "S709 ATCDFS_J033535.20-281729.0           C762,C765 ...    -1   AGN     a\n",
       "S710 ATCDFS_J033536.48-282618.2                C766 ...     1    --    --"
      ]
     },
     "execution_count": 8,
     "metadata": {},
     "output_type": "execute_result"
    }
   ],
   "source": [
    "# Load Norris cross-identifications.\n",
    "# This table has inconsistent tabs, so we will have to convert them to \"soft tabs\".\n",
    "def replace_tabs(s, tabstop=8):\n",
    "    \"\"\"Convert tabs to spaces.\"\"\"\n",
    "    out = ''\n",
    "    upto = 0\n",
    "    last = None\n",
    "    for c in s:\n",
    "        if c == '\\t':\n",
    "            # Fill up to next tabstop.\n",
    "            diff = tabstop - upto % tabstop\n",
    "            if diff == 0:\n",
    "                diff = tabstop\n",
    "            out += ' ' * diff\n",
    "            upto += diff\n",
    "            last = c\n",
    "            continue\n",
    "        \n",
    "        last = c\n",
    "        out += c\n",
    "        upto += 1\n",
    "\n",
    "    return out\n",
    "\n",
    "test_input = ('S001\tATCDFS_J032602.78-284709.0\tC001\t            SWIRE3_J032603.15-284708.5\t3:26:02.785\t-28:47:09.06\t1.4\t33.8\t21.1\t-1.0\t-1.0\t-1.0\t\t\t\t\t\t \t4\t\t\t\t\tlooks like a group in irac 1')\n",
    "test_output = ('S001    ATCDFS_J032602.78-284709.0      C001                SWIRE3_J032603.15-284708.5  3:26:02.785     -28:47:09.06    1.4     33.8    21.1    -1.0    -1.0    -1.0                                                    4                                       looks like a group in irac 1')\n",
    "\n",
    "assert test_output == replace_tabs(test_input)\n",
    "\n",
    "\n",
    "norris_cross_identifications = astropy.table.Table.from_pandas(\n",
    "    pandas.read_fwf(\n",
    "        io.StringIO(\n",
    "            '\\n'.join(map(\n",
    "                    lambda s: replace_tabs(s, 8),\n",
    "                    requests.get(NORRIS_CROSS_IDENTIFICATIONS_URI).text.split('\\r\\n'))\n",
    "             )\n",
    "        ),\n",
    "        skiprows=[0, 2],\n",
    "        header=0,\n",
    "        widths=[8, 32, 20, 28, 16, 16, 8, 8, 8, 8, 8, 8, 8, 8, 8, 8, 8, 8, 16, 8, 16]\n",
    "    )\n",
    ")\n",
    "norris_cross_identifications[700:710]"
   ]
  },
  {
   "cell_type": "code",
   "execution_count": 9,
   "metadata": {
    "collapsed": false
   },
   "outputs": [
    {
     "name": "stdout",
     "output_type": "stream",
     "text": [
      "Downloading http://iopscience.iop.org/article/10.1086/508275/fulltext/datafile4.txt [Done]\n",
      " ID             Name            RAh RAm  RAs  DE- DEd  DEm    DEs   e_RAs  e_DEs  PFlux IFlux MajAxis MinAxis PosAng rms  Com\n",
      "                                 h  min   s       deg arcmin arcsec arcsec arcsec  mJy   mJy   arcsec  arcsec  deg   uJy     \n",
      "---- -------------------------- --- --- ----- --- --- ------ ------ ------ ------ ----- ----- ------- ------- ------ ---- ---\n",
      "C001 ATCDFS_J032602.78-284709.0   3  26 2.785   -  28     47    9.0   0.78   0.73   0.7  1.38     8.3     2.6   60.8 79.3  --\n",
      "Downloading http://iopscience.iop.org/article/10.1086/508275/fulltext/datafile6.txt [Done]\n",
      " ID             Name            CID            SName            RAh RAm  RAs  DE- DEd  DEm    DEs   F20 F3.6 F4.5 F5.8 F8.0 F24  umag gmag rmag Imag zmag  z  Type Class f_Class             Comm            \n",
      "                                                                 h  min   s       deg arcmin arcsec mJy uJy  uJy  uJy  uJy  uJy  mag  mag  mag  mag  mag                                                     \n",
      "---- -------------------------- ---- -------------------------- --- --- ----- --- --- ------ ------ --- ---- ---- ---- ---- ---- ---- ---- ---- ---- ---- --- ---- ----- ------- ----------------------------\n",
      "S001 ATCDFS_J032602.78-284709.0 C001 SWIRE3_J032603.15-284708.5   3  26 2.785   -  28     47   9.06 1.4 33.8 21.1 -1.0 -1.0 -1.0   --   --   --   --   --  --    4    --      -- looks like a group in irac 1\n"
     ]
    }
   ],
   "source": [
    "# Load Middelberg tables.\n",
    "middelberg_components = asc.read(MIDDELBERG_COMPONENTS_URI)\n",
    "print(middelberg_components[0])\n",
    "middelberg_cross_identifications = asc.read(MIDDELBERG_CROSS_IDENTIFICATIONS_URI)\n",
    "print(middelberg_cross_identifications[0])"
   ]
  },
  {
   "cell_type": "code",
   "execution_count": 10,
   "metadata": {
    "collapsed": false
   },
   "outputs": [],
   "source": [
    "# Convert Middelberg data into columns. There's no catalogue matching to do here so we can\n",
    "# throw everything in right away.\n",
    "import astropy.coordinates\n",
    "\n",
    "_middelberg_component_ids = middelberg_components['ID']\n",
    "_middelberg_component_names = middelberg_components['Name']\n",
    "_middelberg_component_positions = [\n",
    "    astropy.coordinates.SkyCoord(ra=(r['RAh'], r['RAm'], r['RAs']),\n",
    "                                 dec=(-r['DEd'], r['DEm'], r['DEs']),\n",
    "                                 unit=('hourangle', 'deg'))\n",
    "    for r in middelberg_components\n",
    "]\n",
    "_middelberg_component_ras = [r.ra.deg for r in _middelberg_component_positions]\n",
    "_middelberg_component_decs = [r.dec.deg for r in _middelberg_component_positions]\n",
    "_middelberg_component_peak_flux = middelberg_components['PFlux']\n",
    "_middelberg_component_int_flux = middelberg_components['IFlux']\n",
    "_middelberg_source_ids = middelberg_components['ID']\n",
    "_middelberg_cid_to_source_id = {}\n",
    "_middelberg_cid_to_source_name = {}\n",
    "_middelberg_cid_to_swire = {}\n",
    "_middelberg_cid_to_source_z = {}\n",
    "_middelberg_cid_to_source_ra = {}\n",
    "_middelberg_cid_to_source_dec = {}\n",
    "for row in middelberg_cross_identifications:\n",
    "    for component in row['CID'].split(','):\n",
    "        component = component.strip()\n",
    "        _middelberg_cid_to_source_id[component] = row['ID']\n",
    "        _middelberg_cid_to_source_name[component] = row['Name']\n",
    "        _middelberg_cid_to_swire[component] = row['SName']\n",
    "        _middelberg_cid_to_source_z[component] = row['z']\n",
    "        pos = astropy.coordinates.SkyCoord(ra=(row['RAh'], row['RAm'], row['RAs']),\n",
    "                                           dec=(-row['DEd'], row['DEm'], row['DEs']),\n",
    "                                           unit=('hourangle', 'deg'))\n",
    "        _middelberg_cid_to_source_ra[component] = pos.ra.deg\n",
    "        _middelberg_cid_to_source_dec[component] = pos.dec.deg\n",
    "\n",
    "_middelberg_component_source_ids = [_middelberg_cid_to_source_id[c] for c in _middelberg_component_ids]\n",
    "_middelberg_component_source_names = [_middelberg_cid_to_source_name[c] for c in _middelberg_component_ids]\n",
    "_middelberg_component_swires = [_middelberg_cid_to_swire[c] for c in _middelberg_component_ids]\n",
    "_middelberg_component_source_zs = [_middelberg_cid_to_source_z[c] for c in _middelberg_component_ids]\n",
    "_middelberg_component_source_ras = [_middelberg_cid_to_source_ra[c] for c in _middelberg_component_ids]\n",
    "_middelberg_component_source_decs = [_middelberg_cid_to_source_dec[c] for c in _middelberg_component_ids]"
   ]
  },
  {
   "cell_type": "code",
   "execution_count": 13,
   "metadata": {
    "collapsed": false
   },
   "outputs": [],
   "source": [
    "# Load RGZ.\n",
    "import pymongo, numpy\n",
    "\n",
    "client = pymongo.MongoClient(MONGO_HOST, MONGO_PORT)\n",
    "db = client['radio']\n",
    "\n",
    "_rgz_sources = []\n",
    "_rgz_coords = []\n",
    "_rgz_zids = []\n",
    "\n",
    "for subject in db.radio_subjects.find({'metadata.survey': 'atlas'}):\n",
    "    source = subject['metadata']['source']\n",
    "    ra, dec = subject['coords']\n",
    "    zid = subject['zooniverse_id']\n",
    "    _rgz_sources.append(source)\n",
    "    _rgz_coords.append((ra, dec))\n",
    "    _rgz_zids.append(zid)\n",
    "\n",
    "_rgz_coords = numpy.array(_rgz_coords)"
   ]
  },
  {
   "cell_type": "code",
   "execution_count": 71,
   "metadata": {
    "collapsed": false
   },
   "outputs": [],
   "source": [
    "# Load consensuses from crowdastro.\n",
    "import h5py\n",
    "with h5py.File(CROWDASTRO_PATH, 'r') as crowdastro_h5:\n",
    "    # (atlas_i, ir_i, success, percentage)\n",
    "    _crowdastro_consensus_objects = crowdastro_h5['/atlas/cdfs/consensus_objects']\n",
    "    _crowdastro_zids = [r[0].decode('ascii') for r in crowdastro_h5['/atlas/cdfs/string']]\n",
    "    _crowdastro_swire_names = [r.decode('ascii') for r in crowdastro_h5['/swire/cdfs/string']]\n",
    "    _crowdastro_zid_to_swire = {}\n",
    "    _crowdastro_zid_to_percentages = {}\n",
    "    _crowdastro_zid_to_fit_success = {}\n",
    "    for atlas_i, ir_i, success, percentage in _crowdastro_consensus_objects:\n",
    "        _crowdastro_zid_to_swire[_crowdastro_zids[int(atlas_i)]] = _crowdastro_swire_names[int(ir_i)]\n",
    "        _crowdastro_zid_to_percentages[_crowdastro_zids[int(atlas_i)]] = percentage\n",
    "        _crowdastro_zid_to_fit_success[_crowdastro_zids[int(atlas_i)]] = bool(success)"
   ]
  },
  {
   "cell_type": "code",
   "execution_count": 15,
   "metadata": {
    "collapsed": false
   },
   "outputs": [
    {
     "data": {
      "text/html": [
       "&lt;Table length=3079&gt;\n",
       "<table id=\"table4654081416\" class=\"table-striped table-bordered table-condensed\">\n",
       "<thead><tr><th>ID</th><th>Name</th><th>RA</th><th>DEC</th><th>RA_ERR</th><th>DEC_ERR</th><th>SNR</th><th>RMS</th><th>BWS</th><th>Sp</th><th>Sp_ERR</th><th>S</th><th>S_ERR</th><th>DECONV</th><th>DECONV_ERR</th><th>V</th><th>OBS_FREQ</th><th>SINDEX</th><th>INDEX_ERR</th></tr></thead>\n",
       "<thead><tr><th>str8</th><th>str27</th><th>float64</th><th>float64</th><th>float64</th><th>float64</th><th>float64</th><th>float64</th><th>float64</th><th>float64</th><th>float64</th><th>float64</th><th>float64</th><th>float64</th><th>float64</th><th>float64</th><th>float64</th><th>float64</th><th>float64</th></tr></thead>\n",
       "<tr><td>CI0001C1</td><td>ATLAS3_J032836.59-284145.1C</td><td>52.152477</td><td>-28.69587</td><td>0.00199</td><td>0.00176</td><td>23135.61</td><td>0.041</td><td>0.96</td><td>948.56</td><td>0.32</td><td>984.24</td><td>0.34</td><td>2.088</td><td>0.013</td><td>1.0</td><td>1472.61</td><td>-0.703</td><td>0.005</td></tr>\n",
       "<tr><td>CI0001C2</td><td>ATLAS3_J032836.49-284201.1C</td><td>52.152059</td><td>-28.700312</td><td>0.0131</td><td>0.00956</td><td>4266.59</td><td>0.041</td><td>0.96</td><td>174.93</td><td>0.33</td><td>200.05</td><td>0.38</td><td>4.08</td><td>0.038</td><td>1.0</td><td>1472.46</td><td>-0.703</td><td>0.005</td></tr>\n",
       "<tr><td>CI0001C3</td><td>ATLAS3_J032836.38-284155.0C</td><td>52.151573</td><td>-28.698618</td><td>0.0503</td><td>0.0441</td><td>924.15</td><td>0.041</td><td>0.96</td><td>37.89</td><td>0.27</td><td>112.08</td><td>0.8</td><td>15.066</td><td>0.039</td><td>1.0</td><td>1472.53</td><td>-0.703</td><td>0.005</td></tr>\n",
       "<tr><td>CI0001C4</td><td>ATLAS3_J032835.99-284104.2C</td><td>52.149971</td><td>-28.684496</td><td>1.071</td><td>2.606</td><td>15.66</td><td>0.041</td><td>0.96</td><td>0.642</td><td>0.199</td><td>1.21</td><td>0.38</td><td>10.127</td><td>2.525</td><td>0.915</td><td>1473.08</td><td>-0.703</td><td>0.005</td></tr>\n",
       "<tr><td>CI0001C5</td><td>ATLAS3_J032836.77-284148.2C</td><td>52.153192</td><td>-28.69673</td><td>0.114</td><td>0.1825</td><td>223.66</td><td>0.041</td><td>0.96</td><td>9.17</td><td>0.34</td><td>28.5</td><td>1.1</td><td>15.632</td><td>0.198</td><td>1.0</td><td>1472.58</td><td>-0.703</td><td>0.005</td></tr>\n",
       "<tr><td>CI0002</td><td>ATLAS3_J032734.01-284621.5C</td><td>51.89172</td><td>-28.772626</td><td>0.017</td><td>0.035</td><td>4819.0</td><td>0.031</td><td>0.97</td><td>153.35</td><td>7.819</td><td>159.314</td><td>7.966</td><td>2.123</td><td>1.949</td><td>1.0</td><td>1480.37</td><td>-0.233</td><td>0.012</td></tr>\n",
       "<tr><td>CI0003</td><td>ATLAS3_J032611.46-273243.0C</td><td>51.547764</td><td>-27.54529</td><td>0.017</td><td>0.035</td><td>3889.0</td><td>0.026</td><td>0.95</td><td>106.644</td><td>5.438</td><td>107.635</td><td>5.382</td><td>1.038</td><td>3.988</td><td>1.0</td><td>1488.15</td><td>-0.481</td><td>0.014</td></tr>\n",
       "<tr><td>CI0004</td><td>ATLAS3_J033409.28-282420.0C</td><td>53.538672</td><td>-28.405543</td><td>0.017</td><td>0.035</td><td>3616.0</td><td>0.018</td><td>0.97</td><td>65.128</td><td>3.321</td><td>75.989</td><td>3.799</td><td>4.397</td><td>0.941</td><td>1.0</td><td>1493.32</td><td>-0.621</td><td>0.014</td></tr>\n",
       "<tr><td>CI0005C1</td><td>ATLAS3_J032737.35-280132.8C</td><td>51.905615</td><td>-28.025772</td><td>0.0621</td><td>0.0487</td><td>447.33</td><td>0.015</td><td>0.97</td><td>6.71</td><td>0.42</td><td>0.0</td><td>0.0</td><td>0.0</td><td>0.0</td><td>1.0</td><td>1488.39</td><td>-0.474</td><td>0.013</td></tr>\n",
       "<tr><td>CI0005C2</td><td>ATLAS3_J032738.11-280126.6C</td><td>51.908796</td><td>-28.024042</td><td>0.0143</td><td>0.01865</td><td>1445.33</td><td>0.015</td><td>0.97</td><td>21.68</td><td>0.18</td><td>23.22</td><td>0.19</td><td>2.87</td><td>0.235</td><td>1.0</td><td>1488.21</td><td>-0.474</td><td>0.013</td></tr>\n",
       "<tr><td>...</td><td>...</td><td>...</td><td>...</td><td>...</td><td>...</td><td>...</td><td>...</td><td>...</td><td>...</td><td>...</td><td>...</td><td>...</td><td>...</td><td>...</td><td>...</td><td>...</td><td>...</td><td>...</td></tr>\n",
       "<tr><td>CI2929</td><td>ATLAS3_J032711.74-272743.0C</td><td>51.798926</td><td>-27.461945</td><td>0.983</td><td>2.394</td><td>5.01</td><td>0.014</td><td>0.99</td><td>0.072</td><td>0.015</td><td>0.0</td><td>0.0</td><td>0.0</td><td>0.0</td><td>0.292</td><td>1516.36</td><td>-99.0</td><td>-99.0</td></tr>\n",
       "<tr><td>CI2932</td><td>ATLAS3_J032711.09-284100.8C</td><td>51.796229</td><td>-28.683553</td><td>0.983</td><td>2.394</td><td>5.01</td><td>0.021</td><td>0.98</td><td>0.109</td><td>0.022</td><td>0.0</td><td>0.0</td><td>0.0</td><td>0.0</td><td>0.541</td><td>1491.79</td><td>-99.0</td><td>-99.0</td></tr>\n",
       "<tr><td>CI2933</td><td>ATLAS3_J032655.06-273633.9C</td><td>51.729407</td><td>-27.609423</td><td>0.979</td><td>2.383</td><td>5.03</td><td>0.015</td><td>0.98</td><td>0.079</td><td>0.016</td><td>0.0</td><td>0.0</td><td>0.0</td><td>0.0</td><td>0.369</td><td>1507.75</td><td>-99.0</td><td>-99.0</td></tr>\n",
       "<tr><td>CI2935</td><td>ATLAS3_J033459.59-284302.6C</td><td>53.748297</td><td>-28.717401</td><td>0.986</td><td>2.398</td><td>5.0</td><td>0.016</td><td>0.98</td><td>0.082</td><td>0.017</td><td>0.0</td><td>0.0</td><td>0.0</td><td>0.0</td><td>0.394</td><td>1504.4</td><td>-99.0</td><td>-99.0</td></tr>\n",
       "<tr><td>CI2944</td><td>ATLAS3_J032926.44-282423.6C</td><td>52.36016</td><td>-28.406557</td><td>0.976</td><td>2.376</td><td>5.05</td><td>0.015</td><td>0.97</td><td>0.077</td><td>0.016</td><td>0.0</td><td>0.0</td><td>0.0</td><td>0.0</td><td>0.344</td><td>1486.02</td><td>-99.0</td><td>-99.0</td></tr>\n",
       "<tr><td>CI2947</td><td>ATLAS3_J032713.94-273944.3C</td><td>51.808064</td><td>-27.662311</td><td>0.983</td><td>2.39</td><td>5.01</td><td>0.014</td><td>0.98</td><td>0.074</td><td>0.015</td><td>0.0</td><td>0.0</td><td>0.0</td><td>0.0</td><td>0.305</td><td>1501.18</td><td>-99.0</td><td>-99.0</td></tr>\n",
       "<tr><td>CI2949</td><td>ATLAS3_J032959.65-280220.3C</td><td>52.498556</td><td>-28.038963</td><td>0.983</td><td>2.394</td><td>5.01</td><td>0.013</td><td>0.97</td><td>0.069</td><td>0.014</td><td>0.0</td><td>0.0</td><td>0.0</td><td>0.0</td><td>0.258</td><td>1484.95</td><td>-99.0</td><td>-99.0</td></tr>\n",
       "<tr><td>CI2983</td><td>ATLAS3_J033059.50-284952.0C</td><td>52.747925</td><td>-28.831107</td><td>0.983</td><td>2.394</td><td>5.01</td><td>0.023</td><td>0.95</td><td>0.119</td><td>0.024</td><td>0.0</td><td>0.0</td><td>0.0</td><td>0.0</td><td>0.571</td><td>1469.73</td><td>-99.0</td><td>-99.0</td></tr>\n",
       "<tr><td>CI2998</td><td>ATLAS3_J032911.97-282138.3C</td><td>52.29988</td><td>-28.360634</td><td>0.986</td><td>2.398</td><td>5.0</td><td>0.015</td><td>0.96</td><td>0.078</td><td>0.016</td><td>0.0</td><td>0.0</td><td>0.0</td><td>0.0</td><td>0.353</td><td>1487.55</td><td>-99.0</td><td>-99.0</td></tr>\n",
       "<tr><td>CI3180</td><td>ATLAS3_J033202.85-274656.2C</td><td>53.011863</td><td>-27.78228</td><td>0.983</td><td>2.39</td><td>5.01</td><td>0.021</td><td>0.94</td><td>0.112</td><td>0.023</td><td>0.0</td><td>0.0</td><td>0.0</td><td>0.0</td><td>0.551</td><td>1417.17</td><td>-99.0</td><td>-99.0</td></tr>\n",
       "</table>"
      ],
      "text/plain": [
       "<Table length=3079>\n",
       "   ID                Name                RA    ... OBS_FREQ  SINDEX INDEX_ERR\n",
       "  str8              str27             float64  ... float64  float64  float64 \n",
       "-------- --------------------------- --------- ... -------- ------- ---------\n",
       "CI0001C1 ATLAS3_J032836.59-284145.1C 52.152477 ...  1472.61  -0.703     0.005\n",
       "CI0001C2 ATLAS3_J032836.49-284201.1C 52.152059 ...  1472.46  -0.703     0.005\n",
       "CI0001C3 ATLAS3_J032836.38-284155.0C 52.151573 ...  1472.53  -0.703     0.005\n",
       "CI0001C4 ATLAS3_J032835.99-284104.2C 52.149971 ...  1473.08  -0.703     0.005\n",
       "CI0001C5 ATLAS3_J032836.77-284148.2C 52.153192 ...  1472.58  -0.703     0.005\n",
       "  CI0002 ATLAS3_J032734.01-284621.5C  51.89172 ...  1480.37  -0.233     0.012\n",
       "  CI0003 ATLAS3_J032611.46-273243.0C 51.547764 ...  1488.15  -0.481     0.014\n",
       "  CI0004 ATLAS3_J033409.28-282420.0C 53.538672 ...  1493.32  -0.621     0.014\n",
       "CI0005C1 ATLAS3_J032737.35-280132.8C 51.905615 ...  1488.39  -0.474     0.013\n",
       "CI0005C2 ATLAS3_J032738.11-280126.6C 51.908796 ...  1488.21  -0.474     0.013\n",
       "     ...                         ...       ... ...      ...     ...       ...\n",
       "  CI2929 ATLAS3_J032711.74-272743.0C 51.798926 ...  1516.36   -99.0     -99.0\n",
       "  CI2932 ATLAS3_J032711.09-284100.8C 51.796229 ...  1491.79   -99.0     -99.0\n",
       "  CI2933 ATLAS3_J032655.06-273633.9C 51.729407 ...  1507.75   -99.0     -99.0\n",
       "  CI2935 ATLAS3_J033459.59-284302.6C 53.748297 ...   1504.4   -99.0     -99.0\n",
       "  CI2944 ATLAS3_J032926.44-282423.6C  52.36016 ...  1486.02   -99.0     -99.0\n",
       "  CI2947 ATLAS3_J032713.94-273944.3C 51.808064 ...  1501.18   -99.0     -99.0\n",
       "  CI2949 ATLAS3_J032959.65-280220.3C 52.498556 ...  1484.95   -99.0     -99.0\n",
       "  CI2983 ATLAS3_J033059.50-284952.0C 52.747925 ...  1469.73   -99.0     -99.0\n",
       "  CI2998 ATLAS3_J032911.97-282138.3C  52.29988 ...  1487.55   -99.0     -99.0\n",
       "  CI3180 ATLAS3_J033202.85-274656.2C 53.011863 ...  1417.17   -99.0     -99.0"
      ]
     },
     "execution_count": 15,
     "metadata": {},
     "output_type": "execute_result"
    }
   ],
   "source": [
    "# Load Franzen.\n",
    "franzen = asc.read(FRANZEN_PATH)\n",
    "# Note that multi-component Franzen objects are matched to exactly one RGZ object, which is associated with the\n",
    "# first component of said object. We will not make the same assumption here.\n",
    "franzen"
   ]
  },
  {
   "cell_type": "code",
   "execution_count": 27,
   "metadata": {
    "collapsed": false
   },
   "outputs": [],
   "source": [
    "# Match Franzen to Norris.\n",
    "import scipy.spatial\n",
    "_franzen_cid_to_norris = {}  # Maps Franzen CID -> Norris CID (RGZ uses Franzen CIDs)\n",
    "_norris_cids = [r['#'] for r in norris_components]\n",
    "_norris_coords = [astropy.coordinates.SkyCoord(\n",
    "    ra=r['Radio RA'],\n",
    "    dec=r['Radio dec'],\n",
    "    unit=('hourangle', 'deg')) for r in norris_components]\n",
    "\n",
    "_norris_coords = numpy.array([(p.ra.deg, p.dec.deg) for p in _norris_coords])\n",
    "_norris_tree = scipy.spatial.KDTree(_norris_coords)\n",
    "_franzen_coords = numpy.array(list(zip([franzen['RA'], franzen['DEC']])))[:, 0, :].T\n",
    "_franzen_cids = franzen['ID']\n",
    "_dists, _indices = _norris_tree.query(_franzen_coords)\n",
    "_matches = _dists < 5 / 60 / 60\n",
    "\n",
    "for cid, match, index in zip(_franzen_cids, _matches, _indices):\n",
    "    if not match:\n",
    "        continue\n",
    "    \n",
    "    _franzen_cid_to_norris[cid] = _norris_cids[index]\n",
    "_norris_to_franzen_cid = {j:i for i, j in _franzen_cid_to_norris.items()}"
   ]
  },
  {
   "cell_type": "code",
   "execution_count": 21,
   "metadata": {
    "collapsed": false
   },
   "outputs": [],
   "source": [
    "# Load Fan.\n",
    "fan_cross_identifications = asc.read(FAN_PATH, header_start=0, delimiter=',')\n",
    "_fan_source_ids = fan_cross_identifications['id']\n",
    "_fan_id_to_swire = {r['id']:r['swire'] for r in fan_cross_identifications}\n",
    "# Assuming that CID in Fan = CID in Norris.\n",
    "_fan_component_to_source = {}\n",
    "_fan_component_to_swire = {}\n",
    "for row in fan_cross_identifications:\n",
    "    components = row['radios'].split(',')\n",
    "    for component in components:\n",
    "        component = component.strip()\n",
    "        _fan_component_to_source[component] = row['id']\n",
    "        _fan_component_to_swire[component] = row['swire']"
   ]
  },
  {
   "cell_type": "markdown",
   "metadata": {
    "collapsed": false
   },
   "source": [
    "Now, we can construct the table. We will have the following columns:\n",
    "\n",
    "- Key\n",
    "- [component columns in Norris] (Norris)\n",
    "- [source columns in Norris] (Norris)\n",
    "- Source ID (Fan)\n",
    "- SWIRE Name (Fan)\n",
    "- [component columns in Franzen] (Franzen)\n",
    "- Component ID (RGZ)\n",
    "- Zooniverse ID (RGZ)\n",
    "- SWIRE Name (RGZ-MV)\n",
    "- Gaussian Click Fit Success (RGZ)\n",
    "- Click Agreement (RGZ)\n",
    "\n",
    "<!--\n",
    "- Component ID (Middelberg)\n",
    "- Component Name (Middelberg)\n",
    "- RA (Middelberg)\n",
    "- Dec (Middelberg)\n",
    "- Source ID (Middelberg)\n",
    "- Source Name (Middelberg)\n",
    "- SWIRE Name (Middelberg)\n",
    "- Peak Flux (Middelberg)\n",
    "- Int Flux (Middelberg)\n",
    "- Source RA (Middelberg)\n",
    "- Source Dec (Middelberg)\n",
    "- Source Redshift (Middelberg)\n",
    "-->"
   ]
  },
  {
   "cell_type": "code",
   "execution_count": 72,
   "metadata": {
    "collapsed": false
   },
   "outputs": [
    {
     "data": {
      "text/plain": [
       "['Key',\n",
       " 'Component # (Norris)',\n",
       " 'Component Name (Norris)',\n",
       " 'Component Radio RA (Norris)',\n",
       " 'Component Radio dec (Norris)',\n",
       " 'Component err(RA) (Norris)',\n",
       " 'Component err(dec) (Norris)',\n",
       " 'Component Peak Flux (Norris)',\n",
       " 'Component Int flux (Norris)',\n",
       " 'Component Bmaj (Norris)',\n",
       " 'Component Bmin (Norris)',\n",
       " 'Component Bpa (Norris)',\n",
       " 'Component rms (Norris)',\n",
       " 'Source # (Norris)',\n",
       " 'Source Name (Norris)',\n",
       " 'Source Component (Norris)',\n",
       " 'Source SWIRE (Norris)',\n",
       " 'Source Radio RA (Norris)',\n",
       " 'Source Radio dec (Norris)',\n",
       " 'Source 20cm (Norris)',\n",
       " 'Source 3.6µm (Norris)',\n",
       " 'Source 4.5µm (Norris)',\n",
       " 'Source 5.8µm (Norris)',\n",
       " 'Source 8.0µm (Norris)',\n",
       " 'Source 24µm (Norris)',\n",
       " 'Source U (Norris)',\n",
       " 'Source G (Norris)',\n",
       " 'Source R (Norris)',\n",
       " 'Source I (Norris)',\n",
       " 'Source Z (Norris)',\n",
       " 'Source z(sp) (Norris)',\n",
       " 'Source ID (Norris)',\n",
       " 'Source Class (Norris)',\n",
       " 'Source Basis (Norris)',\n",
       " 'Source # (Fan)',\n",
       " 'Source SWIRE Name (Fan)',\n",
       " 'Component ID (Franzen)',\n",
       " 'Component Name (Franzen)',\n",
       " 'Component RA (Franzen)',\n",
       " 'Component DEC (Franzen)',\n",
       " 'Component RA_ERR (Franzen)',\n",
       " 'Component DEC_ERR (Franzen)',\n",
       " 'Component SNR (Franzen)',\n",
       " 'Component RMS (Franzen)',\n",
       " 'Component BWS (Franzen)',\n",
       " 'Component Sp (Franzen)',\n",
       " 'Component Sp_ERR (Franzen)',\n",
       " 'Component S (Franzen)',\n",
       " 'Component S_ERR (Franzen)',\n",
       " 'Component DECONV (Franzen)',\n",
       " 'Component DECONV_ERR (Franzen)',\n",
       " 'Component V (Franzen)',\n",
       " 'Component OBS_FREQ (Franzen)',\n",
       " 'Component SINDEX (Franzen)',\n",
       " 'Component INDEX_ERR (Franzen)',\n",
       " 'Component Zooniverse ID (RGZ)',\n",
       " 'Primary Component ID (RGZ)',\n",
       " 'Source SWIRE Name (RGZ)',\n",
       " 'Gaussian Click Fit Success (RGZ)',\n",
       " 'Click Agreement (RGZ)']"
      ]
     },
     "execution_count": 72,
     "metadata": {},
     "output_type": "execute_result"
    }
   ],
   "source": [
    "names = ['Key'] + [\n",
    "    'Component ' + k + ' (Norris)' for k in norris_components.columns.keys()] + [\n",
    "    'Source ' + k + ' (Norris)' for k in norris_cross_identifications.columns.keys()] + [\n",
    "    'Source # (Fan)',\n",
    "    'Source SWIRE Name (Fan)'] + [\n",
    "    'Component ' + k + ' (Franzen)' for k in franzen.columns.keys()] + [\n",
    "    'Component Zooniverse ID (RGZ)',\n",
    "    'Primary Component ID (RGZ)',\n",
    "    'Source SWIRE Name (RGZ)',\n",
    "    'Gaussian Click Fit Success (RGZ)',\n",
    "    'Click Agreement (RGZ)']\n",
    "\n",
    "names"
   ]
  },
  {
   "cell_type": "code",
   "execution_count": 91,
   "metadata": {
    "collapsed": false,
    "scrolled": false
   },
   "outputs": [
    {
     "name": "stderr",
     "output_type": "stream",
     "text": [
      "/usr/local/lib/python3.6/site-packages/ipykernel/__main__.py:112: UserWarning: Warning: converting a masked element to nan.\n"
     ]
    },
    {
     "data": {
      "text/html": [
       "&lt;Table masked=True length=3155&gt;\n",
       "<table id=\"table4655895160\" class=\"table-striped table-bordered table-condensed\">\n",
       "<thead><tr><th>Key</th><th>Component # (Norris)</th><th>Component Name (Norris)</th><th>Component Radio RA (Norris)</th><th>Component Radio dec (Norris)</th><th>Component err(RA) (Norris)</th><th>Component err(dec) (Norris)</th><th>Component Peak Flux (Norris)</th><th>Component Int flux (Norris)</th><th>Component Bmaj (Norris)</th><th>Component Bmin (Norris)</th><th>Component Bpa (Norris)</th><th>Component rms (Norris)</th><th>Source # (Norris)</th><th>Source Name (Norris)</th><th>Source Component (Norris)</th><th>Source SWIRE (Norris)</th><th>Source Radio RA (Norris)</th><th>Source Radio dec (Norris)</th><th>Source 20cm (Norris)</th><th>Source 3.6µm (Norris)</th><th>Source 4.5µm (Norris)</th><th>Source 5.8µm (Norris)</th><th>Source 8.0µm (Norris)</th><th>Source 24µm (Norris)</th><th>Source U (Norris)</th><th>Source G (Norris)</th><th>Source R (Norris)</th><th>Source I (Norris)</th><th>Source Z (Norris)</th><th>Source z(sp) (Norris)</th><th>Source ID (Norris)</th><th>Source Class (Norris)</th><th>Source Basis (Norris)</th><th>Source # (Fan)</th><th>Source SWIRE Name (Fan)</th><th>Component ID (Franzen)</th><th>Component Name (Franzen)</th><th>Component RA (Franzen)</th><th>Component DEC (Franzen)</th><th>Component RA_ERR (Franzen)</th><th>Component DEC_ERR (Franzen)</th><th>Component SNR (Franzen)</th><th>Component RMS (Franzen)</th><th>Component BWS (Franzen)</th><th>Component Sp (Franzen)</th><th>Component Sp_ERR (Franzen)</th><th>Component S (Franzen)</th><th>Component S_ERR (Franzen)</th><th>Component DECONV (Franzen)</th><th>Component DECONV_ERR (Franzen)</th><th>Component V (Franzen)</th><th>Component OBS_FREQ (Franzen)</th><th>Component SINDEX (Franzen)</th><th>Component INDEX_ERR (Franzen)</th><th>Component Zooniverse ID (RGZ)</th><th>Primary Component ID (RGZ)</th><th>Source SWIRE Name (RGZ)</th><th>Gaussian Click Fit Success (RGZ)</th><th>Click Agreement (RGZ)</th></tr></thead>\n",
       "<thead><tr><th>int64</th><th>str4</th><th>str26</th><th>str11</th><th>str11</th><th>float64</th><th>float64</th><th>float64</th><th>float64</th><th>float64</th><th>float64</th><th>float64</th><th>float64</th><th>str4</th><th>str26</th><th>str19</th><th>str32</th><th>str11</th><th>str12</th><th>float64</th><th>float64</th><th>str32</th><th>str32</th><th>str32</th><th>float64</th><th>float64</th><th>float64</th><th>float64</th><th>float64</th><th>float64</th><th>float64</th><th>float64</th><th>str32</th><th>str32</th><th>str5</th><th>str26</th><th>str8</th><th>str27</th><th>float64</th><th>float64</th><th>float64</th><th>float64</th><th>float64</th><th>float64</th><th>float64</th><th>float64</th><th>float64</th><th>float64</th><th>float64</th><th>float64</th><th>float64</th><th>float64</th><th>float64</th><th>float64</th><th>float64</th><th>str10</th><th>str8</th><th>str26</th><th>str5</th><th>str32</th></tr></thead>\n",
       "<tr><td>0</td><td>C001</td><td>ATCDFS_J032602.78-284709.0</td><td>3:26:02.785</td><td>-28:47:09.0</td><td>0.78</td><td>0.73</td><td>0.7</td><td>1.38</td><td>8.3</td><td>2.6</td><td>60.8</td><td>79.3</td><td>S001</td><td>ATCDFS_J032602.78-284709.0</td><td>C001</td><td>SWIRE3_J032603.15-284708.5</td><td>3:26:02.785</td><td>-28:47:09.06</td><td>1.4</td><td>33.8</td><td>21.1</td><td>-1.0</td><td>-1.0</td><td>-1.0</td><td>--</td><td>--</td><td>--</td><td>--</td><td>--</td><td>--</td><td>4.0</td><td>--</td><td>--</td><td>91</td><td>SWIRE3_J032603.15-284708.5</td><td>CI0412</td><td>ATLAS3_J032602.82-284708.1C</td><td>51.511734</td><td>-28.785575</td><td>0.171</td><td>0.414</td><td>29.0</td><td>0.045</td><td>0.93</td><td>1.395</td><td>0.086</td><td>2.211</td><td>0.119</td><td>8.234</td><td>0.576</td><td>0.995</td><td>1450.89</td><td>--</td><td>--</td><td>ARG0003rb2</td><td>CI0412</td><td>SWIRE3_J032602.36-284711.5</td><td>True</td><td>1.0</td></tr>\n",
       "<tr><td>1</td><td>C002</td><td>ATCDFS_J032604.15-275659.3</td><td>3:26:04.152</td><td>-27:56:59.3</td><td>0.55</td><td>0.9</td><td>0.71</td><td>1.97</td><td>11.5</td><td>7.3</td><td>-17.0</td><td>71.9</td><td>S002</td><td>ATCDFS_J032604.15-275659.3</td><td>C002</td><td>--</td><td>3:26:04.152</td><td>-27:56:59.39</td><td>2.0</td><td>--</td><td>--</td><td>--</td><td>--</td><td>--</td><td>--</td><td>--</td><td>--</td><td>--</td><td>--</td><td>--</td><td>8.0</td><td>--</td><td>--</td><td>--</td><td>--</td><td>CI0354</td><td>ATLAS3_J032604.21-275659.6C</td><td>51.517555</td><td>-27.949875</td><td>0.141</td><td>0.342</td><td>35.25</td><td>0.036</td><td>0.93</td><td>1.35</td><td>0.079</td><td>1.826</td><td>0.098</td><td>6.393</td><td>0.72</td><td>0.994</td><td>1449.61</td><td>--</td><td>--</td><td>--</td><td>--</td><td>--</td><td>--</td><td>--</td></tr>\n",
       "<tr><td>2</td><td>C003</td><td>ATCDFS_J032605.68-274734.4</td><td>3:26:05.685</td><td>-27:47:34.4</td><td>0.1</td><td>0.11</td><td>40.81</td><td>74.7</td><td>5.9</td><td>5.6</td><td>85.7</td><td>119.1</td><td>S003</td><td>ATCDFS_J032605.68-274734.4</td><td>C003</td><td>--</td><td>3:26:05.685</td><td>-27:47:34.48</td><td>74.7</td><td>--</td><td>--</td><td>--</td><td>--</td><td>--</td><td>--</td><td>--</td><td>--</td><td>--</td><td>--</td><td>--</td><td>8.0</td><td>--</td><td>--</td><td>--</td><td>--</td><td>--</td><td>--</td><td>--</td><td>--</td><td>--</td><td>--</td><td>--</td><td>--</td><td>--</td><td>--</td><td>--</td><td>--</td><td>--</td><td>--</td><td>--</td><td>--</td><td>--</td><td>--</td><td>--</td><td>--</td><td>--</td><td>--</td><td>--</td><td>--</td></tr>\n",
       "<tr><td>3</td><td>C004</td><td>ATCDFS_J032606.95-275332.2</td><td>3:26:06.955</td><td>-27:53:32.2</td><td>0.52</td><td>1.19</td><td>0.41</td><td>0.43</td><td>0.0</td><td>0.0</td><td>-1.0</td><td>76.7</td><td>S004</td><td>ATCDFS_J032606.95-275332.2</td><td>C004</td><td>--</td><td>3:26:06.955</td><td>-27:53:32.26</td><td>0.4</td><td>--</td><td>--</td><td>--</td><td>--</td><td>--</td><td>--</td><td>--</td><td>--</td><td>--</td><td>--</td><td>--</td><td>8.0</td><td>--</td><td>--</td><td>--</td><td>--</td><td>--</td><td>--</td><td>--</td><td>--</td><td>--</td><td>--</td><td>--</td><td>--</td><td>--</td><td>--</td><td>--</td><td>--</td><td>--</td><td>--</td><td>--</td><td>--</td><td>--</td><td>--</td><td>--</td><td>--</td><td>--</td><td>--</td><td>--</td><td>--</td></tr>\n",
       "<tr><td>4</td><td>C005</td><td>ATCDFS_J032611.47-273243.8</td><td>3:26:11.475</td><td>-27:32:43.8</td><td>0.1</td><td>0.1</td><td>69.65</td><td>110.9</td><td>5.3</td><td>3.3</td><td>89.6</td><td>156.3</td><td>S005</td><td>ATCDFS_J032611.47-273243.8</td><td>C005</td><td>--</td><td>3:26:11.475</td><td>-27:32:43.81</td><td>110.9</td><td>--</td><td>--</td><td>--</td><td>--</td><td>--</td><td>--</td><td>--</td><td>--</td><td>--</td><td>--</td><td>--</td><td>8.0</td><td>--</td><td>--</td><td>--</td><td>--</td><td>CI0003</td><td>ATLAS3_J032611.46-273243.0C</td><td>51.547764</td><td>-27.54529</td><td>0.017</td><td>0.035</td><td>3889.0</td><td>0.026</td><td>0.95</td><td>106.644</td><td>5.438</td><td>107.635</td><td>5.382</td><td>1.038</td><td>3.988</td><td>1.0</td><td>1488.15</td><td>-0.481</td><td>0.014</td><td>--</td><td>--</td><td>--</td><td>--</td><td>--</td></tr>\n",
       "<tr><td>5</td><td>C006</td><td>ATCDFS_J032613.70-281717.7</td><td>3:26:13.701</td><td>-28:17:17.7</td><td>0.57</td><td>0.79</td><td>0.48</td><td>0.54</td><td>0.0</td><td>0.0</td><td>0.0</td><td>77.7</td><td>S006</td><td>ATCDFS_J032613.70-281717.7</td><td>C006</td><td>(441298)</td><td>3:26:13.701</td><td>-28:17:17.71</td><td>0.5</td><td>6.4</td><td>-1.0</td><td>-1.0</td><td>-1.0</td><td>-1.0</td><td>--</td><td>--</td><td>--</td><td>--</td><td>--</td><td>--</td><td>3.0</td><td>--</td><td>--</td><td>--</td><td>--</td><td>--</td><td>--</td><td>--</td><td>--</td><td>--</td><td>--</td><td>--</td><td>--</td><td>--</td><td>--</td><td>--</td><td>--</td><td>--</td><td>--</td><td>--</td><td>--</td><td>--</td><td>--</td><td>--</td><td>--</td><td>--</td><td>--</td><td>--</td><td>--</td></tr>\n",
       "<tr><td>6</td><td>C007</td><td>ATCDFS_J032615.48-284629.2</td><td>3:26:15.489</td><td>-28:46:29.2</td><td>0.34</td><td>0.36</td><td>0.45</td><td>0.71</td><td>0.0</td><td>0.0</td><td>0.0</td><td>66.0</td><td>S007</td><td>ATCDFS_J032615.48-284629.2</td><td>C007</td><td>SWIRE3_J032615.41-284630.7</td><td>3:26:15.489</td><td>-28:46:29.24</td><td>0.7</td><td>265.0</td><td>136.9</td><td>132.7</td><td>67.1</td><td>-1.0</td><td>--</td><td>--</td><td>--</td><td>--</td><td>--</td><td>--</td><td>2.0</td><td>--</td><td>--</td><td>153</td><td>SWIRE3_J032615.41-284630.7</td><td>CI0614</td><td>ATLAS3_J032615.49-284629.4C</td><td>51.564555</td><td>-28.774847</td><td>0.267</td><td>0.648</td><td>18.51</td><td>0.036</td><td>0.94</td><td>0.703</td><td>0.052</td><td>1.299</td><td>0.074</td><td>9.913</td><td>0.546</td><td>0.927</td><td>1465.03</td><td>--</td><td>--</td><td>ARG0003rfr</td><td>CI0614</td><td>SWIRE3_J032615.41-284630.7</td><td>True</td><td>1.0</td></tr>\n",
       "<tr><td>7</td><td>C008</td><td>ATCDFS_J032615.55-280601.0</td><td>3:26:15.557</td><td>-28:06:01.0</td><td>0.3</td><td>0.47</td><td>0.73</td><td>1.06</td><td>0.0</td><td>0.0</td><td>-1.0</td><td>56.9</td><td>S008</td><td>ATCDFS_J032615.55-280601.0</td><td>C008</td><td>SWIRE3_J032615.52-280559.8</td><td>3:26:15.557</td><td>-28:06:01.05</td><td>1.1</td><td>40.3</td><td>51.4</td><td>-1.0</td><td>-1.0</td><td>-1.0</td><td>--</td><td>--</td><td>--</td><td>--</td><td>--</td><td>--</td><td>2.0</td><td>--</td><td>--</td><td>156</td><td>SWIRE3_J032615.52-280559.8</td><td>CI0320</td><td>ATLAS3_J032615.55-280559.8C</td><td>51.564799</td><td>-28.099955</td><td>0.121</td><td>0.292</td><td>41.32</td><td>0.026</td><td>0.94</td><td>1.126</td><td>0.064</td><td>0.0</td><td>0.0</td><td>0.0</td><td>0.0</td><td>0.985</td><td>1472.47</td><td>--</td><td>--</td><td>ARG0003r8s</td><td>CI0320</td><td>SWIRE3_J032615.52-280559.8</td><td>True</td><td>1.0</td></tr>\n",
       "<tr><td>8</td><td>C009</td><td>ATCDFS_J032616.35-280014.6</td><td>3:26:16.353</td><td>-28:00:14.6</td><td>0.18</td><td>0.3</td><td>1.24</td><td>1.66</td><td>0.0</td><td>0.0</td><td>-1.0</td><td>60.1</td><td>S009</td><td>ATCDFS_J032616.35-280014.6</td><td>C009</td><td>SWIRE3_J032616.31-280014.7</td><td>3:26:16.353</td><td>-28:00:14.61</td><td>1.7</td><td>143.6</td><td>73.9</td><td>-1.0</td><td>56.7</td><td>-1.0</td><td>--</td><td>--</td><td>--</td><td>--</td><td>--</td><td>--</td><td>1.0</td><td>--</td><td>--</td><td>996</td><td>SWIRE3_J032616.31-280014.7</td><td>CI0240</td><td>ATLAS3_J032616.36-280013.6C</td><td>51.568155</td><td>-28.003787</td><td>0.078</td><td>0.19</td><td>64.33</td><td>0.027</td><td>0.94</td><td>1.823</td><td>0.097</td><td>0.0</td><td>0.0</td><td>0.0</td><td>0.0</td><td>0.998</td><td>1468.25</td><td>-0.047</td><td>0.186</td><td>--</td><td>--</td><td>--</td><td>--</td><td>--</td></tr>\n",
       "<tr><td>9</td><td>C010</td><td>ATCDFS_J032616.41-271621.1</td><td>3:26:16.419</td><td>-27:16:21.1</td><td>0.15</td><td>0.23</td><td>4.17</td><td>7.84</td><td>9.1</td><td>2.8</td><td>-40.0</td><td>90.2</td><td>S010</td><td>ATCDFS_J032616.41-271621.1</td><td>C010</td><td>--</td><td>3:26:16.419</td><td>-27:16:21.10</td><td>7.8</td><td>--</td><td>--</td><td>--</td><td>--</td><td>--</td><td>--</td><td>--</td><td>--</td><td>--</td><td>--</td><td>--</td><td>8.0</td><td>--</td><td>--</td><td>--</td><td>--</td><td>--</td><td>--</td><td>--</td><td>--</td><td>--</td><td>--</td><td>--</td><td>--</td><td>--</td><td>--</td><td>--</td><td>--</td><td>--</td><td>--</td><td>--</td><td>--</td><td>--</td><td>--</td><td>--</td><td>--</td><td>--</td><td>--</td><td>--</td><td>--</td></tr>\n",
       "<tr><td>...</td><td>...</td><td>...</td><td>...</td><td>...</td><td>...</td><td>...</td><td>...</td><td>...</td><td>...</td><td>...</td><td>...</td><td>...</td><td>...</td><td>...</td><td>...</td><td>...</td><td>...</td><td>...</td><td>...</td><td>...</td><td>...</td><td>...</td><td>...</td><td>...</td><td>...</td><td>...</td><td>...</td><td>...</td><td>...</td><td>...</td><td>...</td><td>...</td><td>...</td><td>...</td><td>...</td><td>...</td><td>...</td><td>...</td><td>...</td><td>...</td><td>...</td><td>...</td><td>...</td><td>...</td><td>...</td><td>...</td><td>...</td><td>...</td><td>...</td><td>...</td><td>...</td><td>...</td><td>...</td><td>...</td><td>...</td><td>...</td><td>...</td><td>...</td><td>...</td></tr>\n",
       "<tr><td>3145</td><td>--</td><td>--</td><td>--</td><td>--</td><td>--</td><td>--</td><td>--</td><td>--</td><td>--</td><td>--</td><td>--</td><td>--</td><td>--</td><td>--</td><td>--</td><td>--</td><td>--</td><td>--</td><td>--</td><td>--</td><td>--</td><td>--</td><td>--</td><td>--</td><td>--</td><td>--</td><td>--</td><td>--</td><td>--</td><td>--</td><td>--</td><td>--</td><td>--</td><td>--</td><td>--</td><td>CI2929</td><td>ATLAS3_J032711.74-272743.0C</td><td>51.798926</td><td>-27.461945</td><td>0.983</td><td>2.394</td><td>5.01</td><td>0.014</td><td>0.99</td><td>0.072</td><td>0.015</td><td>0.0</td><td>0.0</td><td>0.0</td><td>0.0</td><td>0.292</td><td>1516.36</td><td>--</td><td>--</td><td>ARG0003sxa</td><td>CI2929</td><td>--</td><td>--</td><td>--</td></tr>\n",
       "<tr><td>3146</td><td>--</td><td>--</td><td>--</td><td>--</td><td>--</td><td>--</td><td>--</td><td>--</td><td>--</td><td>--</td><td>--</td><td>--</td><td>--</td><td>--</td><td>--</td><td>--</td><td>--</td><td>--</td><td>--</td><td>--</td><td>--</td><td>--</td><td>--</td><td>--</td><td>--</td><td>--</td><td>--</td><td>--</td><td>--</td><td>--</td><td>--</td><td>--</td><td>--</td><td>--</td><td>--</td><td>CI2932</td><td>ATLAS3_J032711.09-284100.8C</td><td>51.796229</td><td>-28.683553</td><td>0.983</td><td>2.394</td><td>5.01</td><td>0.021</td><td>0.98</td><td>0.109</td><td>0.022</td><td>0.0</td><td>0.0</td><td>0.0</td><td>0.0</td><td>0.541</td><td>1491.79</td><td>--</td><td>--</td><td>ARG0003sxb</td><td>CI2932</td><td>--</td><td>--</td><td>--</td></tr>\n",
       "<tr><td>3147</td><td>--</td><td>--</td><td>--</td><td>--</td><td>--</td><td>--</td><td>--</td><td>--</td><td>--</td><td>--</td><td>--</td><td>--</td><td>--</td><td>--</td><td>--</td><td>--</td><td>--</td><td>--</td><td>--</td><td>--</td><td>--</td><td>--</td><td>--</td><td>--</td><td>--</td><td>--</td><td>--</td><td>--</td><td>--</td><td>--</td><td>--</td><td>--</td><td>--</td><td>--</td><td>--</td><td>CI2933</td><td>ATLAS3_J032655.06-273633.9C</td><td>51.729407</td><td>-27.609423</td><td>0.979</td><td>2.383</td><td>5.03</td><td>0.015</td><td>0.98</td><td>0.079</td><td>0.016</td><td>0.0</td><td>0.0</td><td>0.0</td><td>0.0</td><td>0.369</td><td>1507.75</td><td>--</td><td>--</td><td>ARG0003sxc</td><td>CI2933</td><td>--</td><td>--</td><td>--</td></tr>\n",
       "<tr><td>3148</td><td>--</td><td>--</td><td>--</td><td>--</td><td>--</td><td>--</td><td>--</td><td>--</td><td>--</td><td>--</td><td>--</td><td>--</td><td>--</td><td>--</td><td>--</td><td>--</td><td>--</td><td>--</td><td>--</td><td>--</td><td>--</td><td>--</td><td>--</td><td>--</td><td>--</td><td>--</td><td>--</td><td>--</td><td>--</td><td>--</td><td>--</td><td>--</td><td>--</td><td>--</td><td>--</td><td>CI2935</td><td>ATLAS3_J033459.59-284302.6C</td><td>53.748297</td><td>-28.717401</td><td>0.986</td><td>2.398</td><td>5.0</td><td>0.016</td><td>0.98</td><td>0.082</td><td>0.017</td><td>0.0</td><td>0.0</td><td>0.0</td><td>0.0</td><td>0.394</td><td>1504.4</td><td>--</td><td>--</td><td>ARG0003sxd</td><td>CI2935</td><td>SWIRE3_J033459.65-284301.3</td><td>True</td><td>1.0</td></tr>\n",
       "<tr><td>3149</td><td>--</td><td>--</td><td>--</td><td>--</td><td>--</td><td>--</td><td>--</td><td>--</td><td>--</td><td>--</td><td>--</td><td>--</td><td>--</td><td>--</td><td>--</td><td>--</td><td>--</td><td>--</td><td>--</td><td>--</td><td>--</td><td>--</td><td>--</td><td>--</td><td>--</td><td>--</td><td>--</td><td>--</td><td>--</td><td>--</td><td>--</td><td>--</td><td>--</td><td>--</td><td>--</td><td>CI2944</td><td>ATLAS3_J032926.44-282423.6C</td><td>52.36016</td><td>-28.406557</td><td>0.976</td><td>2.376</td><td>5.05</td><td>0.015</td><td>0.97</td><td>0.077</td><td>0.016</td><td>0.0</td><td>0.0</td><td>0.0</td><td>0.0</td><td>0.344</td><td>1486.02</td><td>--</td><td>--</td><td>--</td><td>--</td><td>--</td><td>--</td><td>--</td></tr>\n",
       "<tr><td>3150</td><td>--</td><td>--</td><td>--</td><td>--</td><td>--</td><td>--</td><td>--</td><td>--</td><td>--</td><td>--</td><td>--</td><td>--</td><td>--</td><td>--</td><td>--</td><td>--</td><td>--</td><td>--</td><td>--</td><td>--</td><td>--</td><td>--</td><td>--</td><td>--</td><td>--</td><td>--</td><td>--</td><td>--</td><td>--</td><td>--</td><td>--</td><td>--</td><td>--</td><td>--</td><td>--</td><td>CI2947</td><td>ATLAS3_J032713.94-273944.3C</td><td>51.808064</td><td>-27.662311</td><td>0.983</td><td>2.39</td><td>5.01</td><td>0.014</td><td>0.98</td><td>0.074</td><td>0.015</td><td>0.0</td><td>0.0</td><td>0.0</td><td>0.0</td><td>0.305</td><td>1501.18</td><td>--</td><td>--</td><td>ARG0003sxe</td><td>CI2947</td><td>--</td><td>--</td><td>--</td></tr>\n",
       "<tr><td>3151</td><td>--</td><td>--</td><td>--</td><td>--</td><td>--</td><td>--</td><td>--</td><td>--</td><td>--</td><td>--</td><td>--</td><td>--</td><td>--</td><td>--</td><td>--</td><td>--</td><td>--</td><td>--</td><td>--</td><td>--</td><td>--</td><td>--</td><td>--</td><td>--</td><td>--</td><td>--</td><td>--</td><td>--</td><td>--</td><td>--</td><td>--</td><td>--</td><td>--</td><td>--</td><td>--</td><td>CI2949</td><td>ATLAS3_J032959.65-280220.3C</td><td>52.498556</td><td>-28.038963</td><td>0.983</td><td>2.394</td><td>5.01</td><td>0.013</td><td>0.97</td><td>0.069</td><td>0.014</td><td>0.0</td><td>0.0</td><td>0.0</td><td>0.0</td><td>0.258</td><td>1484.95</td><td>--</td><td>--</td><td>ARG0003sxf</td><td>CI2949</td><td>--</td><td>--</td><td>--</td></tr>\n",
       "<tr><td>3152</td><td>--</td><td>--</td><td>--</td><td>--</td><td>--</td><td>--</td><td>--</td><td>--</td><td>--</td><td>--</td><td>--</td><td>--</td><td>--</td><td>--</td><td>--</td><td>--</td><td>--</td><td>--</td><td>--</td><td>--</td><td>--</td><td>--</td><td>--</td><td>--</td><td>--</td><td>--</td><td>--</td><td>--</td><td>--</td><td>--</td><td>--</td><td>--</td><td>--</td><td>--</td><td>--</td><td>CI2983</td><td>ATLAS3_J033059.50-284952.0C</td><td>52.747925</td><td>-28.831107</td><td>0.983</td><td>2.394</td><td>5.01</td><td>0.023</td><td>0.95</td><td>0.119</td><td>0.024</td><td>0.0</td><td>0.0</td><td>0.0</td><td>0.0</td><td>0.571</td><td>1469.73</td><td>--</td><td>--</td><td>ARG0003sxg</td><td>CI2983</td><td>--</td><td>--</td><td>--</td></tr>\n",
       "<tr><td>3153</td><td>--</td><td>--</td><td>--</td><td>--</td><td>--</td><td>--</td><td>--</td><td>--</td><td>--</td><td>--</td><td>--</td><td>--</td><td>--</td><td>--</td><td>--</td><td>--</td><td>--</td><td>--</td><td>--</td><td>--</td><td>--</td><td>--</td><td>--</td><td>--</td><td>--</td><td>--</td><td>--</td><td>--</td><td>--</td><td>--</td><td>--</td><td>--</td><td>--</td><td>--</td><td>--</td><td>CI2998</td><td>ATLAS3_J032911.97-282138.3C</td><td>52.29988</td><td>-28.360634</td><td>0.986</td><td>2.398</td><td>5.0</td><td>0.015</td><td>0.96</td><td>0.078</td><td>0.016</td><td>0.0</td><td>0.0</td><td>0.0</td><td>0.0</td><td>0.353</td><td>1487.55</td><td>--</td><td>--</td><td>ARG0003sxh</td><td>CI2998</td><td>--</td><td>--</td><td>--</td></tr>\n",
       "<tr><td>3154</td><td>--</td><td>--</td><td>--</td><td>--</td><td>--</td><td>--</td><td>--</td><td>--</td><td>--</td><td>--</td><td>--</td><td>--</td><td>--</td><td>--</td><td>--</td><td>--</td><td>--</td><td>--</td><td>--</td><td>--</td><td>--</td><td>--</td><td>--</td><td>--</td><td>--</td><td>--</td><td>--</td><td>--</td><td>--</td><td>--</td><td>--</td><td>--</td><td>--</td><td>--</td><td>--</td><td>CI3180</td><td>ATLAS3_J033202.85-274656.2C</td><td>53.011863</td><td>-27.78228</td><td>0.983</td><td>2.39</td><td>5.01</td><td>0.021</td><td>0.94</td><td>0.112</td><td>0.023</td><td>0.0</td><td>0.0</td><td>0.0</td><td>0.0</td><td>0.551</td><td>1417.17</td><td>--</td><td>--</td><td>ARG0003sxi</td><td>CI3180</td><td>--</td><td>--</td><td>--</td></tr>\n",
       "</table>"
      ],
      "text/plain": [
       "<Table masked=True length=3155>\n",
       " Key  Component # (Norris) ... Click Agreement (RGZ)\n",
       "int64         str4         ...         str32        \n",
       "----- -------------------- ... ---------------------\n",
       "    0                 C001 ...                   1.0\n",
       "    1                 C002 ...                    --\n",
       "    2                 C003 ...                    --\n",
       "    3                 C004 ...                    --\n",
       "    4                 C005 ...                    --\n",
       "    5                 C006 ...                    --\n",
       "    6                 C007 ...                   1.0\n",
       "    7                 C008 ...                   1.0\n",
       "    8                 C009 ...                    --\n",
       "    9                 C010 ...                    --\n",
       "  ...                  ... ...                   ...\n",
       " 3145                   -- ...                    --\n",
       " 3146                   -- ...                    --\n",
       " 3147                   -- ...                    --\n",
       " 3148                   -- ...                   1.0\n",
       " 3149                   -- ...                    --\n",
       " 3150                   -- ...                    --\n",
       " 3151                   -- ...                    --\n",
       " 3152                   -- ...                    --\n",
       " 3153                   -- ...                    --\n",
       " 3154                   -- ...                    --"
      ]
     },
     "execution_count": 91,
     "metadata": {},
     "output_type": "execute_result"
    }
   ],
   "source": [
    "import astropy.table\n",
    "\n",
    "# Component (Norris)\n",
    "comp_columns = []\n",
    "for column in norris_components.columns:\n",
    "    comp_columns.append(list(norris_components[column]))\n",
    "\n",
    "# Source (Norris)\n",
    "source_columns = []\n",
    "for column in norris_cross_identifications.columns:\n",
    "    _component_to_value = {}\n",
    "    for row in norris_cross_identifications:\n",
    "        components = row['Component'].split(',')\n",
    "        for component in components:\n",
    "            component = component.strip()\n",
    "            _component_to_value[component] = row[column]\n",
    "    \n",
    "    column = []\n",
    "    for component in comp_columns[0]:\n",
    "        column.append(_component_to_value[component])\n",
    "    source_columns.append(column)\n",
    "\n",
    "# Add in the Fan matches.\n",
    "fan_sources = [_fan_component_to_source.get(c, '') for c in comp_columns[0]]\n",
    "fan_swires = [_fan_component_to_swire.get(c, '') for c in comp_columns[0]]\n",
    "fan_columns = [fan_sources, fan_swires]\n",
    "\n",
    "# Add in the Franzen matches.\n",
    "franzen_columns = []\n",
    "for column in franzen.columns:\n",
    "    _component_to_value = {}\n",
    "    for row in franzen:\n",
    "        component = row['ID']\n",
    "        _component_to_value[component] = row[column]\n",
    "    \n",
    "    column = []\n",
    "    for norris_cid in norris_components['#']:\n",
    "        if norris_cid not in _norris_to_franzen_cid:\n",
    "            column.append(float('nan'))\n",
    "        else:\n",
    "            franzen_cid = _norris_to_franzen_cid[norris_cid]\n",
    "            column.append(_component_to_value[franzen_cid])\n",
    "    franzen_columns.append(column)\n",
    "\n",
    "# Add in all the Franzen objects with no corresponding Norris.\n",
    "_all_franzen_ids = set(franzen['ID'])\n",
    "_included_franzen_ids = {i for i in franzen_columns[0] if isinstance(i, str)}\n",
    "assert 700 < len(_included_franzen_ids) < 800  # Sanity check.\n",
    "_missing_franzen_ids = _all_franzen_ids - _included_franzen_ids\n",
    "# Pad existing columns to include new datapoints.\n",
    "for column in itertools.chain(comp_columns, source_columns, fan_columns):\n",
    "    column.extend([float('nan')] * len(_missing_franzen_ids))\n",
    "# Fill in the Franzen columns.\n",
    "for row in franzen:\n",
    "    if row['ID'] in _missing_franzen_ids:\n",
    "        for column, column_name in zip(franzen_columns, franzen.columns):\n",
    "            column.append(row[column_name])\n",
    "\n",
    "# Add in the RGZ data.\n",
    "# Columns: Zooniverse ID, Primary Component ID, SWIRE Name, Gaussian Click Fit Success,\n",
    "#          Click Agreement.\n",
    "# RGZ is a proper subset of Franzen, so all objects in RGZ should already be in the table.\n",
    "# For multi-component radio objects like CI0001C1..CI0001C5, there is only one RGZ object,\n",
    "# and it is associated with the first component. Each component here should be associated\n",
    "# with the same Zooniverse ID, Component ID, and SWIRE Name. The component ID will be the\n",
    "# ID of the primary component.\n",
    "_cid_to_zid = dict(zip(_rgz_sources, _rgz_zids))\n",
    "zooniverse_ids = []\n",
    "rgz_primary_components = []\n",
    "rgz_swire_names = []\n",
    "rgz_successes = []\n",
    "rgz_percentages = []\n",
    "import re\n",
    "for cid in franzen_columns[0]:\n",
    "    if not cid or not isinstance(cid, str):\n",
    "        zooniverse_ids.append('')\n",
    "        rgz_primary_components.append('')\n",
    "        rgz_swire_names.append('')\n",
    "        rgz_successes.append('')\n",
    "        rgz_percentages.append('')\n",
    "        continue\n",
    "    multi_component = re.match(r'(CI\\d+)C\\d+', cid)\n",
    "    if multi_component:\n",
    "        primary = multi_component.group(1) + 'C1'\n",
    "    else:\n",
    "        primary = cid\n",
    "    if primary not in _cid_to_zid:\n",
    "        zooniverse_ids.append('')\n",
    "        rgz_primary_components.append('')\n",
    "        rgz_swire_names.append('')\n",
    "        rgz_successes.append('')\n",
    "        rgz_percentages.append('')\n",
    "        continue\n",
    "    rgz_primary_components.append(primary)\n",
    "    zooniverse_ids.append(_cid_to_zid[primary])\n",
    "    rgz_swire_names.append(_crowdastro_zid_to_swire.get(_cid_to_zid[primary], ''))\n",
    "    rgz_successes.append(_crowdastro_zid_to_fit_success.get(_cid_to_zid[primary], ''))\n",
    "    rgz_percentages.append(_crowdastro_zid_to_percentages.get(_cid_to_zid[primary], ''))\n",
    "# Check that all RGZ objects are in the table.\n",
    "assert all(z in zooniverse_ids for z in _rgz_zids)\n",
    "assert all(c in zooniverse_ids for c in _crowdastro_zid_to_swire)\n",
    "rgz_columns = [zooniverse_ids, rgz_primary_components, rgz_swire_names, rgz_successes, rgz_percentages]\n",
    "\n",
    "# Key\n",
    "keys = list(range(len(comp_columns[0])))\n",
    "\n",
    "# Assemble the table data.\n",
    "data = [keys] + comp_columns + source_columns + fan_columns + franzen_columns + rgz_columns\n",
    "\n",
    "# Mask everything that is NaN or empty.\n",
    "for i, column in enumerate(data):\n",
    "    column = numpy.array(column)\n",
    "    try:\n",
    "        masked = numpy.ma.MaskedArray(data=column,\n",
    "                                      mask=numpy.logical_or(numpy.isnan(column), column == -99.0))\n",
    "    except TypeError:\n",
    "        masked = numpy.ma.MaskedArray(data=column,\n",
    "                                      mask=numpy.logical_or(column == '', column == 'nan'))\n",
    "    data[i] = masked\n",
    "\n",
    "# Assemble the whole table.\n",
    "table = astropy.table.Table(data=data,\n",
    "                            names=names)\n",
    "table"
   ]
  },
  {
   "cell_type": "code",
   "execution_count": 92,
   "metadata": {
    "collapsed": false
   },
   "outputs": [
    {
     "name": "stderr",
     "output_type": "stream",
     "text": [
      "WARNING: AstropyDeprecationWarning: one-table-to-rule-them-all.tbl already exists. Automatically overwriting ASCII files is deprecated. Use the argument 'overwrite=True' in the future. [astropy.io.ascii.ui]\n"
     ]
    }
   ],
   "source": [
    "table.write('one-table-to-rule-them-all.tbl', format='csv')"
   ]
  },
  {
   "cell_type": "code",
   "execution_count": 46,
   "metadata": {
    "collapsed": false,
    "scrolled": true
   },
   "outputs": [
    {
     "data": {
      "image/png": "[encoded data removed]",
      "text/plain": [
       "<matplotlib.figure.Figure at 0x1155524e0>"
      ]
     },
     "metadata": {},
     "output_type": "display_data"
    }
   ],
   "source": [
    "import matplotlib.pyplot as plt\n",
    "%matplotlib inline\n",
    "def decimalify(ras, decs):\n",
    "    from astropy.coordinates import SkyCoord\n",
    "    coords = []\n",
    "    for ra, dec in zip(ras, decs):\n",
    "        sc = SkyCoord(ra=ra, dec=dec, unit=('hourangle', 'deg'))\n",
    "        coords.append((sc.ra.deg, sc.dec.deg))\n",
    "    return zip(*coords)\n",
    "not_in_franzen = table[[not bool(i) for i in table['Component ID (Franzen)']]]\n",
    "ras = not_in_franzen['Component Radio RA (Norris)']\n",
    "decs = not_in_franzen['Component Radio dec (Norris)']\n",
    "plt.scatter(*decimalify(ras, decs), color='green', marker='+')\n",
    "plt.show()"
   ]
  },
  {
   "cell_type": "code",
   "execution_count": null,
   "metadata": {
    "collapsed": true
   },
   "outputs": [],
   "source": []
  }
 ],
 "metadata": {
  "kernelspec": {
   "display_name": "Python 3",
   "language": "python",
   "name": "python3"
  },
  "language_info": {
   "codemirror_mode": {
    "name": "ipython",
    "version": 3
   },
   "file_extension": ".py",
   "mimetype": "text/x-python",
   "name": "python",
   "nbconvert_exporter": "python",
   "pygments_lexer": "ipython3",
   "version": "3.6.0"
  }
 },
 "nbformat": 4,
 "nbformat_minor": 0
}
