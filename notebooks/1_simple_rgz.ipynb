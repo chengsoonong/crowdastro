{
 "cells": [
  {
   "cell_type": "markdown",
   "metadata": {},
   "source": [
    "# Simple Radio Galaxy Zoo Data Manipulations"
   ]
  },
  {
   "cell_type": "code",
   "execution_count": 1,
   "metadata": {
    "collapsed": false
   },
   "outputs": [],
   "source": [
    "import bson\n",
    "import IPython.core.display\n",
    "import IPython.display\n",
    "import matplotlib\n",
    "import monary\n",
    "import numpy\n",
    "import pandas\n",
    "import pprint\n",
    "import pymongo\n",
    "import sklearn.linear_model\n",
    "\n",
    "# Matplotlib on Mac OS X in a virtualenv doesn't work properly, so we have to force it to use the TkAgg backend.\n",
    "matplotlib.use('TkAgg')\n",
    "import matplotlib.pyplot\n",
    "%matplotlib inline\n",
    "\n",
    "DB_NAME = 'radio'"
   ]
  },
  {
   "cell_type": "code",
   "execution_count": 2,
   "metadata": {
    "collapsed": false
   },
   "outputs": [],
   "source": [
    "# Load up DB.\n",
    "client = pymongo.MongoClient('localhost', 27017)\n",
    "db = client[DB_NAME]"
   ]
  },
  {
   "cell_type": "code",
   "execution_count": 3,
   "metadata": {
    "collapsed": false
   },
   "outputs": [
    {
     "name": "stdout",
     "output_type": "stream",
     "text": [
      "{'_id': ObjectId('52af7d53eb9a9b05ef000654'),\n",
      " 'activated_at': datetime.datetime(2015, 9, 5, 22, 0, 22, 808000),\n",
      " 'classification_count': 5,\n",
      " 'coords': [163.13695833333333, 22.891777777777776],\n",
      " 'created_at': datetime.datetime(2013, 12, 17, 9, 20, 39, 863000),\n",
      " 'group': {'_id': ObjectId('55f6f8723ae740d851000002'),\n",
      "           'name': 'first',\n",
      "           'zooniverse_id': 'GRG0000002'},\n",
      " 'group_id': ObjectId('55f6f8723ae740d851000002'),\n",
      " 'location': {'contours': 'http://radio.galaxyzoo.org/subjects/contours/52af7d53eb9a9b05ef000654.json',\n",
      "              'radio': 'http://radio.galaxyzoo.org/subjects/radio/52af7d53eb9a9b05ef000654.jpg',\n",
      "              'standard': 'http://radio.galaxyzoo.org/subjects/standard/52af7d53eb9a9b05ef000654.jpg'},\n",
      " 'metadata': {'contour_count': 1,\n",
      "              'dec_dms': '22.0 53.0 30.4',\n",
      "              'ra_hms': '10.0 52.0 32.87',\n",
      "              'rms': '0.000187',\n",
      "              'source': 'FIRSTJ105232.8+225330',\n",
      "              'survey': 'first'},\n",
      " 'project_id': ObjectId('52afdb804d69636532000001'),\n",
      " 'random': 0.9201829684274996,\n",
      " 'state': 'complete',\n",
      " 'updated_at': datetime.datetime(2013, 12, 17, 9, 20, 39, 896000),\n",
      " 'workflow_ids': [ObjectId('52afdb804d69636532000002')],\n",
      " 'zooniverse_id': 'ARG00026es'}\n"
     ]
    },
    {
     "data": {
      "text/html": [
       "<img src=\"http://radio.galaxyzoo.org/subjects/radio/52af7d53eb9a9b05ef000654.jpg\"/>"
      ],
      "text/plain": [
       "<IPython.core.display.Image object>"
      ]
     },
     "execution_count": 3,
     "metadata": {},
     "output_type": "execute_result"
    }
   ],
   "source": [
    "# Trying out the subjects DB (following the setup.md example).\n",
    "subjects = db['radio_subjects']\n",
    "subject = subjects.find_one()\n",
    "pprint.pprint(subject)\n",
    "IPython.display.Image(url=subject['location']['radio'])"
   ]
  },
  {
   "cell_type": "code",
   "execution_count": 4,
   "metadata": {
    "collapsed": false
   },
   "outputs": [
    {
     "data": {
      "text/html": [
       "<img src=\"http://radio.galaxyzoo.org/subjects/standard/52af7d53eb9a9b05ef000654.jpg\"/>"
      ],
      "text/plain": [
       "<IPython.core.display.Image object>"
      ]
     },
     "execution_count": 4,
     "metadata": {},
     "output_type": "execute_result"
    }
   ],
   "source": [
    "IPython.display.Image(url=subject['location']['standard'])"
   ]
  },
  {
   "cell_type": "code",
   "execution_count": 5,
   "metadata": {
    "collapsed": false,
    "scrolled": false
   },
   "outputs": [
    {
     "name": "stdout",
     "output_type": "stream",
     "text": [
      "{'y': '380', 'x': '112'}\n",
      "{'ymin': '259.9727595144465', 'xmin': '73.02375854060725', 'ymax': '279.7878048157555', 'xmax': '86.77171365343739'}\n",
      "{'_id': ObjectId('52b0240e2b60f1254400145f'),\n",
      " 'annotations': [{'ir': {'0': {'x': '112', 'y': '380'}},\n",
      "                  'radio': {'0': {'xmax': '86.77171365343739',\n",
      "                                  'xmin': '73.02375854060725',\n",
      "                                  'ymax': '279.7878048157555',\n",
      "                                  'ymin': '259.9727595144465'}}},\n",
      "                 {'ir': {'0': {'x': '214', 'y': '211'}},\n",
      "                  'radio': {'0': {'xmax': '158.6582798829562',\n",
      "                                  'xmin': '130.35688465193564',\n",
      "                                  'ymax': '198.9501488105795',\n",
      "                                  'ymin': '150.72371665247624'},\n",
      "                            '1': {'xmax': '176.9758706071857',\n",
      "                                  'xmin': '148.31174070355846',\n",
      "                                  'ymax': '131.22621569098413',\n",
      "                                  'ymin': '90.46675602000403'}}},\n",
      "                 {'finished_at': 'Tue, 17 Dec 2013 10:14:37 GMT',\n",
      "                  'started_at': 'Tue, 17 Dec 2013 10:13:58 GMT'},\n",
      "                 {'user_agent': 'Mozilla/5.0 (Macintosh; Intel Mac OS X '\n",
      "                                '10_9_0) AppleWebKit/537.36 (KHTML, like '\n",
      "                                'Gecko) Chrome/31.0.1650.63 Safari/537.36'}],\n",
      " 'created_at': datetime.datetime(2013, 12, 17, 10, 14, 38),\n",
      " 'project_id': ObjectId('52afdb804d69636532000001'),\n",
      " 'subject_ids': [ObjectId('520be919e4bb21ddd30000c9')],\n",
      " 'subjects': [],\n",
      " 'tutorial': False,\n",
      " 'updated_at': datetime.datetime(2013, 12, 17, 10, 14, 38, 237000),\n",
      " 'user_id': ObjectId('5013adf30454e27ae4000002'),\n",
      " 'user_ip': '',\n",
      " 'user_name': '',\n",
      " 'workflow_id': ObjectId('520be12ce4bb21ddcd000002')}\n"
     ]
    }
   ],
   "source": [
    "# Trying out the classifications DB.\n",
    "classifications = db['radio_classifications']\n",
    "for classification in classifications.find():\n",
    "    # Get a classification that has annotations.\n",
    "    annotations = classification['annotations'][0]\n",
    "    if 'ir' in annotations:\n",
    "        break\n",
    "\n",
    "print(classification['annotations'][0]['ir']['0'])\n",
    "print(classification['annotations'][0]['radio']['0'])\n",
    "sid = classification['subject_ids'][0]\n",
    "pprint.pprint(classification)"
   ]
  },
  {
   "cell_type": "code",
   "execution_count": 6,
   "metadata": {
    "collapsed": false
   },
   "outputs": [
    {
     "data": {
      "text/html": [
       "<div>\n",
       "<table border=\"1\" class=\"dataframe\">\n",
       "  <thead>\n",
       "    <tr style=\"text-align: right;\">\n",
       "      <th></th>\n",
       "      <th>classification_count</th>\n",
       "      <th>state</th>\n",
       "    </tr>\n",
       "  </thead>\n",
       "  <tbody>\n",
       "    <tr>\n",
       "      <th>0</th>\n",
       "      <td>b'5'</td>\n",
       "      <td>b'complete'</td>\n",
       "    </tr>\n",
       "    <tr>\n",
       "      <th>1</th>\n",
       "      <td>b'5'</td>\n",
       "      <td>b'complete'</td>\n",
       "    </tr>\n",
       "    <tr>\n",
       "      <th>2</th>\n",
       "      <td>b'0'</td>\n",
       "      <td>b'inactive'</td>\n",
       "    </tr>\n",
       "    <tr>\n",
       "      <th>3</th>\n",
       "      <td>b'5'</td>\n",
       "      <td>b'complete'</td>\n",
       "    </tr>\n",
       "    <tr>\n",
       "      <th>4</th>\n",
       "      <td>b'0'</td>\n",
       "      <td>b'inactive'</td>\n",
       "    </tr>\n",
       "  </tbody>\n",
       "</table>\n",
       "</div>"
      ],
      "text/plain": [
       "  classification_count        state\n",
       "0                 b'5'  b'complete'\n",
       "1                 b'5'  b'complete'\n",
       "2                 b'0'  b'inactive'\n",
       "3                 b'5'  b'complete'\n",
       "4                 b'0'  b'inactive'"
      ]
     },
     "execution_count": 6,
     "metadata": {},
     "output_type": "execute_result"
    }
   ],
   "source": [
    "# Trying out Monary.\n",
    "with monary.Monary() as mon:\n",
    "    columns = ['classification_count', 'state']\n",
    "    subjects_data = mon.query(DB_NAME, 'radio_subjects', {},\n",
    "                              columns, ['uint8', 'string:20'])\n",
    "subjects_dataframe = pandas.DataFrame(numpy.ma.filled(subjects_data).T, columns=columns)\n",
    "subjects_dataframe.head()\n",
    "\n",
    "# One thing I can't figure out is how to load an entire nested bson doc, e.g. the entire location property.\n",
    "# I also can't figure out how to query by ID. I know that I can specify properties in find_one and also in the\n",
    "# monary query, but this doesn't seem to work for ID (possibly due to its type?)."
   ]
  },
  {
   "cell_type": "markdown",
   "metadata": {
    "collapsed": false
   },
   "source": [
    "To demonstrate basic logistic regression, I will map classification count to whether or not subjects are complete."
   ]
  },
  {
   "cell_type": "code",
   "execution_count": 7,
   "metadata": {
    "collapsed": false
   },
   "outputs": [
    {
     "data": {
      "text/html": [
       "<div>\n",
       "<table border=\"1\" class=\"dataframe\">\n",
       "  <thead>\n",
       "    <tr style=\"text-align: right;\">\n",
       "      <th></th>\n",
       "      <th>classification_count</th>\n",
       "      <th>state</th>\n",
       "      <th>complete</th>\n",
       "    </tr>\n",
       "  </thead>\n",
       "  <tbody>\n",
       "    <tr>\n",
       "      <th>0</th>\n",
       "      <td>5</td>\n",
       "      <td>b'complete'</td>\n",
       "      <td>True</td>\n",
       "    </tr>\n",
       "    <tr>\n",
       "      <th>1</th>\n",
       "      <td>5</td>\n",
       "      <td>b'complete'</td>\n",
       "      <td>True</td>\n",
       "    </tr>\n",
       "    <tr>\n",
       "      <th>2</th>\n",
       "      <td>0</td>\n",
       "      <td>b'inactive'</td>\n",
       "      <td>False</td>\n",
       "    </tr>\n",
       "    <tr>\n",
       "      <th>3</th>\n",
       "      <td>5</td>\n",
       "      <td>b'complete'</td>\n",
       "      <td>True</td>\n",
       "    </tr>\n",
       "    <tr>\n",
       "      <th>4</th>\n",
       "      <td>0</td>\n",
       "      <td>b'inactive'</td>\n",
       "      <td>False</td>\n",
       "    </tr>\n",
       "  </tbody>\n",
       "</table>\n",
       "</div>"
      ],
      "text/plain": [
       "   classification_count        state complete\n",
       "0                     5  b'complete'     True\n",
       "1                     5  b'complete'     True\n",
       "2                     0  b'inactive'    False\n",
       "3                     5  b'complete'     True\n",
       "4                     0  b'inactive'    False"
      ]
     },
     "execution_count": 7,
     "metadata": {},
     "output_type": "execute_result"
    }
   ],
   "source": [
    "# Get the data into types we can use.\n",
    "subjects_dataframe['complete'] = subjects_dataframe['state'] == b'complete'\n",
    "subjects_dataframe['classification_count'] = subjects_dataframe['classification_count'].astype(int)\n",
    "subjects_dataframe.head()"
   ]
  },
  {
   "cell_type": "code",
   "execution_count": 8,
   "metadata": {
    "collapsed": false
   },
   "outputs": [
    {
     "data": {
      "image/png": "[encoded data removed]",
      "text/plain": [
       "<matplotlib.figure.Figure at 0x10ae5a7b8>"
      ]
     },
     "metadata": {},
     "output_type": "display_data"
    }
   ],
   "source": [
    "# Let's look at the data to see how separable it is.\n",
    "subjects_dataframe = subjects_dataframe.sort_values(by='classification_count')\n",
    "\n",
    "samples = 150000\n",
    "features = numpy.vstack([subjects_dataframe['classification_count'][:samples],\n",
    "                         numpy.ones(samples)]).T\n",
    "targets = subjects_dataframe['complete'][:samples].astype(float)\n",
    "\n",
    "matplotlib.pyplot.scatter(features[:, 0], targets)\n",
    "matplotlib.pyplot.title('Classification Count vs Complete')\n",
    "matplotlib.pyplot.xlabel('Classification Count')\n",
    "matplotlib.pyplot.ylabel('Complete?')\n",
    "matplotlib.pyplot.show()"
   ]
  },
  {
   "cell_type": "code",
   "execution_count": 9,
   "metadata": {
    "collapsed": false,
    "scrolled": true
   },
   "outputs": [
    {
     "data": {
      "image/png": "[encoded data removed]",
      "text/plain": [
       "<matplotlib.figure.Figure at 0x10da49a20>"
      ]
     },
     "metadata": {},
     "output_type": "display_data"
    }
   ],
   "source": [
    "# Not very linearly separable/separable at all. Let's try separating it anyway.\n",
    "lr = sklearn.linear_model.LogisticRegression()\n",
    "lr.fit(features, targets)\n",
    "\n",
    "predictions = lr.predict(features)\n",
    "incomplete_features = features[predictions < 0.5]\n",
    "complete_features = features[predictions > 0.5]\n",
    "incomplete_predictions = targets[predictions < 0.5]\n",
    "complete_predictions = targets[predictions > 0.5]\n",
    "\n",
    "matplotlib.pyplot.scatter(incomplete_features[:, 0], incomplete_predictions, c='r', marker='+')\n",
    "matplotlib.pyplot.scatter(complete_features[:, 0], complete_predictions, c='g', marker='x')\n",
    "matplotlib.pyplot.title('Predicted Completeness from Classification Count')\n",
    "matplotlib.pyplot.xlabel('Classification Count')\n",
    "matplotlib.pyplot.ylabel('(True) Complete?')\n",
    "matplotlib.pyplot.legend(['Incomplete', 'Complete'])\n",
    "matplotlib.pyplot.show()"
   ]
  },
  {
   "cell_type": "markdown",
   "metadata": {},
   "source": [
    "That seems a sensible result."
   ]
  },
  {
   "cell_type": "code",
   "execution_count": null,
   "metadata": {
    "collapsed": true
   },
   "outputs": [],
   "source": []
  }
 ],
 "metadata": {
  "kernelspec": {
   "display_name": "Python 3",
   "language": "python",
   "name": "python3"
  },
  "language_info": {
   "codemirror_mode": {
    "name": "ipython",
    "version": 3
   },
   "file_extension": ".py",
   "mimetype": "text/x-python",
   "name": "python",
   "nbconvert_exporter": "python",
   "pygments_lexer": "ipython3",
   "version": "3.4.0"
  }
 },
 "nbformat": 4,
 "nbformat_minor": 0
}
