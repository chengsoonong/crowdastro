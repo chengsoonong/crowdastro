{
 "cells": [
  {
   "cell_type": "markdown",
   "metadata": {},
   "source": [
    "# Distance from Centre\n",
    "\n",
    "Host galaxies are usually in the centre. Should we use this fact?\n",
    "\n",
    "In this notebook, I'll try three different sets of features: one set including linear distance from the centre, one set including Gaussian distance from the centre, and one set with neither."
   ]
  },
  {
   "cell_type": "code",
   "execution_count": 15,
   "metadata": {
    "collapsed": false
   },
   "outputs": [
    {
     "name": "stderr",
     "output_type": "stream",
     "text": [
      "K:\\Languages\\Anaconda3\\lib\\site-packages\\astropy\\io\\fits\\util.py:578: UserWarning: Could not find appropriate MS Visual C Runtime library or library is corrupt/misconfigured; cannot determine whether your file object was opened in append mode.  Please consider using a file object opened in write mode instead.\n",
      "  'Could not find appropriate MS Visual C Runtime '\n",
      "K:\\Languages\\Anaconda3\\lib\\site-packages\\ipykernel\\__main__.py:47: DeprecationWarning: using a non-integer number instead of an integer will result in an error in the future\n"
     ]
    }
   ],
   "source": [
    "# Setup taken from notebook 17.\n",
    "\n",
    "import itertools\n",
    "import sys\n",
    "\n",
    "import bson\n",
    "import h5py\n",
    "import keras.layers\n",
    "import keras.models\n",
    "import matplotlib.pyplot\n",
    "import numpy\n",
    "import pandas\n",
    "import sklearn.cross_validation\n",
    "import sklearn.dummy\n",
    "import sklearn.linear_model\n",
    "import sklearn.metrics\n",
    "\n",
    "sys.path.insert(1, '..')\n",
    "import crowdastro.data\n",
    "import crowdastro.show\n",
    "\n",
    "with pandas.HDFStore('../crowdastro-data/training.h5') as store:\n",
    "    data = store['data']\n",
    "\n",
    "n = 5000\n",
    "\n",
    "# I'm gathering up the radio patches first so I can run them through the CNN at the same time\n",
    "# as one big matrix operation. In principle this would run on the GPU.\n",
    "radio_patches = numpy.zeros((n, 80, 80))\n",
    "labels = numpy.zeros((n,))\n",
    "linear_distances = numpy.zeros((n,))\n",
    "gaussian_distances = numpy.zeros((n,))\n",
    "\n",
    "radius = 40\n",
    "padding = 150\n",
    "\n",
    "for idx, row in data.head(n).iterrows():\n",
    "    sid = bson.objectid.ObjectId(row['subject_id'][0].decode('ascii'))\n",
    "    x = row['x'][0]\n",
    "    y = row['y'][0]\n",
    "    label = row['is_host'][0]\n",
    "    \n",
    "    labels[idx] = label\n",
    "    \n",
    "    subject = crowdastro.data.db.radio_subjects.find_one({'_id': sid})\n",
    "    radio = crowdastro.data.get_radio(subject, size='5x5')\n",
    "    patch = radio[x - radius + padding : x + radius + padding, y - radius + padding : y + radius + padding]\n",
    "    radio_patches[idx, :] = patch\n",
    "    \n",
    "    linear_distances[idx] = numpy.hypot(x - 100, y - 100)\n",
    "    gaussian_distances[idx] = numpy.exp(-((x - 100) ** 2 / (2 * 50 ** 2) + (y - 100) ** 2 / (2 * 50 ** 2)))\n",
    "\n",
    "# Load the CNN.\n",
    "\n",
    "with open('../crowdastro-data/cnn_model_2.json', 'r') as f:\n",
    "    cnn = keras.models.model_from_json(f.read())\n",
    "\n",
    "cnn.load_weights('../crowdastro-data/cnn_weights_2.h5')\n",
    "\n",
    "cnn.layers = cnn.layers[:5]  # Pop the layers after the second convolution's activation.\n",
    "cnn.add(keras.layers.Flatten())\n",
    "\n",
    "cnn.compile(optimizer='sgd', loss='mse')  # I don't actually care about the optimiser or loss.\n",
    "\n",
    "# Load the PCA.\n",
    "with h5py.File('../crowdastro-data/pca.h5') as f:\n",
    "    pca = f['conv_2'][:]\n",
    "\n",
    "# Find the radio features.\n",
    "radio_features = cnn.predict(radio_patches.reshape(n, 1, 80, 80)) @ pca.T\n",
    "\n",
    "# Add on the astronomy features.\n",
    "features = numpy.hstack([radio_features, data.ix[:n-1, 'flux_ap2_24':'flux_ap2_80'].as_matrix()])\n",
    "features = numpy.nan_to_num(features)"
   ]
  },
  {
   "cell_type": "code",
   "execution_count": 16,
   "metadata": {
    "collapsed": true
   },
   "outputs": [],
   "source": [
    "subject_ids = set()\n",
    "for idx, row in data.ix[n:n * 2].iterrows():\n",
    "    sid = row['subject_id'][0]\n",
    "    subject_ids.add(sid)"
   ]
  },
  {
   "cell_type": "markdown",
   "metadata": {},
   "source": [
    "## Baseline &mdash; no distance"
   ]
  },
  {
   "cell_type": "code",
   "execution_count": 23,
   "metadata": {
    "collapsed": false
   },
   "outputs": [
    {
     "name": "stdout",
     "output_type": "stream",
     "text": [
      "Classification accuracy: 84.70%\n",
      "Problem accuracy: 61.59%\n"
     ]
    },
    {
     "name": "stderr",
     "output_type": "stream",
     "text": [
      "K:\\Languages\\Anaconda3\\lib\\site-packages\\astropy\\io\\fits\\util.py:578: UserWarning: Could not find appropriate MS Visual C Runtime library or library is corrupt/misconfigured; cannot determine whether your file object was opened in append mode.  Please consider using a file object opened in write mode instead.\n",
      "  'Could not find appropriate MS Visual C Runtime '\n",
      "K:\\Languages\\Anaconda3\\lib\\site-packages\\ipykernel\\__main__.py:21: DeprecationWarning: using a non-integer number instead of an integer will result in an error in the future\n"
     ]
    }
   ],
   "source": [
    "def test(features, labels):\n",
    "    xs_train, xs_test, ts_train, ts_test = sklearn.cross_validation.train_test_split(\n",
    "            features, labels, test_size=0.2, random_state=0)\n",
    "    lr = sklearn.linear_model.LogisticRegression(class_weight='balanced')\n",
    "    lr.fit(xs_train, ts_train)\n",
    "    print('Classification accuracy: {:.02%}'.format(lr.score(xs_test, ts_test)))\n",
    "\n",
    "    hits = 0\n",
    "    attempts = 0\n",
    "\n",
    "    for subject_id in subject_ids:\n",
    "        indices = (data['subject_id'] == subject_id).as_matrix().reshape(-1)\n",
    "        potential_hosts = numpy.nan_to_num(data.as_matrix()[indices][:, 1:-1].astype(float))\n",
    "        labels = numpy.nan_to_num(data.as_matrix()[indices][:, -1].astype(bool))\n",
    "\n",
    "        subject = crowdastro.data.db.radio_subjects.find_one({'_id': bson.objectid.ObjectId(subject_id.decode('ascii'))})\n",
    "        radio = crowdastro.data.get_radio(subject, size='5x5')\n",
    "\n",
    "        radio_patches = numpy.zeros((len(potential_hosts), 1, radius * 2, radius * 2))\n",
    "        for index, (x, y, *astro) in enumerate(potential_hosts):\n",
    "            patch = radio[x - radius + padding : x + radius + padding, y - radius + padding : y + radius + padding]\n",
    "            radio_patches[index, 0, :] = patch\n",
    "\n",
    "        radio_features = cnn.predict(radio_patches) @ pca.T\n",
    "        astro_features = potential_hosts[:, 2:]\n",
    "        features = numpy.hstack([radio_features, astro_features])\n",
    "\n",
    "        scores = lr.predict_proba(features)[:, 1].reshape(-1)\n",
    "        predicted_host = scores.argmax()\n",
    "        if labels[predicted_host]:\n",
    "            hits += 1\n",
    "        attempts += 1\n",
    "\n",
    "    print('Problem accuracy: {:.02%}'.format(hits / attempts))\n",
    "\n",
    "test(features, labels)"
   ]
  },
  {
   "cell_type": "markdown",
   "metadata": {},
   "source": [
    "## Linear distance"
   ]
  },
  {
   "cell_type": "code",
   "execution_count": 24,
   "metadata": {
    "collapsed": false
   },
   "outputs": [
    {
     "name": "stdout",
     "output_type": "stream",
     "text": [
      "Classification accuracy: 87.90%\n",
      "Linear distance weight: -0.00328479306217\n",
      "Problem accuracy: 63.04%\n"
     ]
    },
    {
     "name": "stderr",
     "output_type": "stream",
     "text": [
      "K:\\Languages\\Anaconda3\\lib\\site-packages\\astropy\\io\\fits\\util.py:578: UserWarning: Could not find appropriate MS Visual C Runtime library or library is corrupt/misconfigured; cannot determine whether your file object was opened in append mode.  Please consider using a file object opened in write mode instead.\n",
      "  'Could not find appropriate MS Visual C Runtime '\n",
      "K:\\Languages\\Anaconda3\\lib\\site-packages\\ipykernel\\__main__.py:24: DeprecationWarning: using a non-integer number instead of an integer will result in an error in the future\n"
     ]
    }
   ],
   "source": [
    "def test(features, labels, linear_distances):\n",
    "    features = numpy.hstack([features, linear_distances.reshape(-1, 1)])\n",
    "\n",
    "    xs_train, xs_test, ts_train, ts_test = sklearn.cross_validation.train_test_split(\n",
    "            features, labels, test_size=0.2, random_state=0)\n",
    "    lr = sklearn.linear_model.LogisticRegression(class_weight='balanced')\n",
    "    lr.fit(xs_train, ts_train)\n",
    "    print('Classification accuracy: {:.02%}'.format(lr.score(xs_test, ts_test)))\n",
    "\n",
    "    hits = 0\n",
    "    attempts = 0\n",
    "\n",
    "    for subject_id in subject_ids:\n",
    "        indices = (data['subject_id'] == subject_id).as_matrix().reshape(-1)\n",
    "        potential_hosts = numpy.nan_to_num(data.as_matrix()[indices][:, 1:-1].astype(float))\n",
    "        labels = numpy.nan_to_num(data.as_matrix()[indices][:, -1].astype(bool))\n",
    "\n",
    "        subject = crowdastro.data.db.radio_subjects.find_one({'_id': bson.objectid.ObjectId(subject_id.decode('ascii'))})\n",
    "        radio = crowdastro.data.get_radio(subject, size='5x5')\n",
    "\n",
    "        radio_patches = numpy.zeros((len(potential_hosts), 1, radius * 2, radius * 2))\n",
    "        linear_features = numpy.zeros((len(potential_hosts),))\n",
    "        for index, (x, y, *astro) in enumerate(potential_hosts):\n",
    "            patch = radio[x - radius + padding : x + radius + padding, y - radius + padding : y + radius + padding]\n",
    "            radio_patches[index, 0, :] = patch\n",
    "            linear_features[index] = numpy.hypot(x - 100, y - 100)\n",
    "\n",
    "        radio_features = cnn.predict(radio_patches) @ pca.T\n",
    "        astro_features = potential_hosts[:, 2:]\n",
    "        features = numpy.hstack([radio_features, astro_features, linear_features.reshape(-1, 1)])\n",
    "\n",
    "        scores = lr.predict_proba(features)[:, 1].reshape(-1)\n",
    "        predicted_host = scores.argmax()\n",
    "        if labels[predicted_host]:\n",
    "            hits += 1\n",
    "        attempts += 1\n",
    "    \n",
    "    assert lr.coef_.shape[1] == 161\n",
    "    print('Linear distance weight:', lr.coef_[0, -1])\n",
    "\n",
    "    print('Problem accuracy: {:.02%}'.format(hits / attempts))\n",
    "\n",
    "test(features, labels, linear_distances)"
   ]
  },
  {
   "cell_type": "markdown",
   "metadata": {},
   "source": [
    "## Gaussian distance"
   ]
  },
  {
   "cell_type": "code",
   "execution_count": 27,
   "metadata": {
    "collapsed": false
   },
   "outputs": [
    {
     "name": "stdout",
     "output_type": "stream",
     "text": [
      "Classification accuracy: 86.00%\n",
      "Linear distance weight: 0.0186958708631\n",
      "Problem accuracy: 62.32%\n"
     ]
    },
    {
     "name": "stderr",
     "output_type": "stream",
     "text": [
      "K:\\Languages\\Anaconda3\\lib\\site-packages\\astropy\\io\\fits\\util.py:578: UserWarning: Could not find appropriate MS Visual C Runtime library or library is corrupt/misconfigured; cannot determine whether your file object was opened in append mode.  Please consider using a file object opened in write mode instead.\n",
      "  'Could not find appropriate MS Visual C Runtime '\n",
      "K:\\Languages\\Anaconda3\\lib\\site-packages\\ipykernel\\__main__.py:24: DeprecationWarning: using a non-integer number instead of an integer will result in an error in the future\n"
     ]
    }
   ],
   "source": [
    "def test(features, labels, gaussian_distances):\n",
    "    features = numpy.hstack([features, gaussian_distances.reshape(-1, 1)])\n",
    "\n",
    "    xs_train, xs_test, ts_train, ts_test = sklearn.cross_validation.train_test_split(\n",
    "            features, labels, test_size=0.2, random_state=0)\n",
    "    lr = sklearn.linear_model.LogisticRegression(class_weight='balanced')\n",
    "    lr.fit(xs_train, ts_train)\n",
    "    print('Classification accuracy: {:.02%}'.format(lr.score(xs_test, ts_test)))\n",
    "\n",
    "    hits = 0\n",
    "    attempts = 0\n",
    "\n",
    "    for subject_id in subject_ids:\n",
    "        indices = (data['subject_id'] == subject_id).as_matrix().reshape(-1)\n",
    "        potential_hosts = numpy.nan_to_num(data.as_matrix()[indices][:, 1:-1].astype(float))\n",
    "        labels = numpy.nan_to_num(data.as_matrix()[indices][:, -1].astype(bool))\n",
    "\n",
    "        subject = crowdastro.data.db.radio_subjects.find_one({'_id': bson.objectid.ObjectId(subject_id.decode('ascii'))})\n",
    "        radio = crowdastro.data.get_radio(subject, size='5x5')\n",
    "\n",
    "        radio_patches = numpy.zeros((len(potential_hosts), 1, radius * 2, radius * 2))\n",
    "        gaussian_features = numpy.zeros((len(potential_hosts),))\n",
    "        for index, (x, y, *astro) in enumerate(potential_hosts):\n",
    "            patch = radio[x - radius + padding : x + radius + padding, y - radius + padding : y + radius + padding]\n",
    "            radio_patches[index, 0, :] = patch\n",
    "            gaussian_features[index] = numpy.exp(-((x - 100) ** 2 / (2 * 50 ** 2) + (y - 100) ** 2 / (2 * 50 ** 2)))\n",
    "\n",
    "        radio_features = cnn.predict(radio_patches) @ pca.T\n",
    "        astro_features = potential_hosts[:, 2:]\n",
    "        features = numpy.hstack([radio_features, astro_features, gaussian_features.reshape(-1, 1)])\n",
    "\n",
    "        scores = lr.predict_proba(features)[:, 1].reshape(-1)\n",
    "        predicted_host = scores.argmax()\n",
    "        if labels[predicted_host]:\n",
    "            hits += 1\n",
    "        attempts += 1\n",
    "    \n",
    "    assert lr.coef_.shape[1] == 161\n",
    "    print('Linear distance weight:', lr.coef_[0, -1])\n",
    "\n",
    "    print('Problem accuracy: {:.02%}'.format(hits / attempts))\n",
    "\n",
    "test(features, labels, gaussian_distances)"
   ]
  },
  {
   "cell_type": "markdown",
   "metadata": {},
   "source": [
    "So it seems that linear and Gaussian distance are both useful, and linear is more useful."
   ]
  },
  {
   "cell_type": "code",
   "execution_count": null,
   "metadata": {
    "collapsed": true
   },
   "outputs": [],
   "source": []
  }
 ],
 "metadata": {
  "kernelspec": {
   "display_name": "Python 3",
   "language": "python",
   "name": "python3"
  },
  "language_info": {
   "codemirror_mode": {
    "name": "ipython",
    "version": 3
   },
   "file_extension": ".py",
   "mimetype": "text/x-python",
   "name": "python",
   "nbconvert_exporter": "python",
   "pygments_lexer": "ipython3",
   "version": "3.5.1"
  }
 },
 "nbformat": 4,
 "nbformat_minor": 0
}
