{
 "cells": [
  {
   "cell_type": "markdown",
   "metadata": {},
   "source": [
    "# Testing Yan et al. (2010, 2011) on the Radio Galaxy Zoo\n",
    "\n",
    "Let's run the crowd learning algorithm on the Radio Galaxy Zoo."
   ]
  },
  {
   "cell_type": "code",
   "execution_count": 1,
   "metadata": {
    "collapsed": false
   },
   "outputs": [],
   "source": [
    "import sys\n",
    "\n",
    "import h5py\n",
    "import numpy\n",
    "import sklearn.neighbors\n",
    "\n",
    "sys.path.insert(1, '..')\n",
    "import crowdastro.active_learning.active_crowd as active_crowd\n",
    "import crowdastro.active_learning.passive_crowd as passive_crowd\n",
    "\n",
    "CROWDASTRO_H5_PATH = '../data/crowdastro.h5'\n",
    "TRAINING_H5_PATH = '../data/training.h5'"
   ]
  },
  {
   "cell_type": "markdown",
   "metadata": {},
   "source": [
    "## How many annotators do we have? How many labels are anonymously contributed?\n",
    "\n",
    "At the moment, I can only use the algorithm for non-anonymous users. How many are there?"
   ]
  },
  {
   "cell_type": "code",
   "execution_count": 2,
   "metadata": {
    "collapsed": false
   },
   "outputs": [
    {
     "name": "stdout",
     "output_type": "stream",
     "text": [
      "0.14638396747022944\n"
     ]
    }
   ],
   "source": [
    "with h5py.File(CROWDASTRO_H5_PATH) as f_h5:\n",
    "    print(sum(1 for i in f_h5['/atlas/cdfs/']['classification_usernames'] if not i)\n",
    "          / len(f_h5['/atlas/cdfs/']['classification_usernames']))"
   ]
  },
  {
   "cell_type": "markdown",
   "metadata": {},
   "source": [
    "Only 15% of labels are contributed by anonymous users! That's great for the algorithm. How many users are there?"
   ]
  },
  {
   "cell_type": "code",
   "execution_count": 3,
   "metadata": {
    "collapsed": false
   },
   "outputs": [
    {
     "name": "stdout",
     "output_type": "stream",
     "text": [
      "1193\n"
     ]
    }
   ],
   "source": [
    "with h5py.File(CROWDASTRO_H5_PATH) as f_h5:\n",
    "    print(len({i for i in f_h5['/atlas/cdfs/']['classification_usernames'] if i}))"
   ]
  },
  {
   "cell_type": "markdown",
   "metadata": {},
   "source": [
    "There are 1193 labellers. That's big but hopefully my code can handle it (and if not I'll have to change my methodology a bit)."
   ]
  },
  {
   "cell_type": "markdown",
   "metadata": {},
   "source": [
    "## Retrieving labels"
   ]
  },
  {
   "cell_type": "markdown",
   "metadata": {},
   "source": [
    " Let's pull out some labels. This involves matching each IR object to a label for each annotator. If a IR object never appears in a subject that the annotator has labelled, then it should be masked."
   ]
  },
  {
   "cell_type": "code",
   "execution_count": 4,
   "metadata": {
    "collapsed": false
   },
   "outputs": [],
   "source": [
    "with h5py.File(CROWDASTRO_H5_PATH) as f_h5:\n",
    "    annotators = sorted({i for i in f_h5['/atlas/cdfs/classification_usernames'] if i})\n",
    "    n_annotators = len(annotators)\n",
    "    annotator_to_index = {j:i for i, j in enumerate(annotators)}\n",
    "    \n",
    "    n_examples = f_h5['/wise/cdfs/numeric'].shape[0]\n",
    "    \n",
    "    ir_tree = sklearn.neighbors.KDTree(f_h5['/wise/cdfs/numeric'][:, :2], metric='chebyshev')"
   ]
  },
  {
   "cell_type": "code",
   "execution_count": 5,
   "metadata": {
    "collapsed": false
   },
   "outputs": [],
   "source": [
    "with h5py.File(CROWDASTRO_H5_PATH) as f_h5:\n",
    "    labels = numpy.ma.MaskedArray(numpy.zeros((n_annotators, n_examples)),\n",
    "                                  mask=numpy.ones((n_annotators, n_examples)))\n",
    "    \n",
    "    for (atlas_idx, ra, dec), c_user in zip(\n",
    "            f_h5['/atlas/cdfs/classification_positions'],\n",
    "            f_h5['/atlas/cdfs/classification_usernames'],\n",
    "    ):\n",
    "        if not c_user:\n",
    "            continue\n",
    "\n",
    "        t = annotator_to_index[c_user]\n",
    "        \n",
    "        atlas_ra, atlas_dec = f_h5['/atlas/cdfs/numeric'][atlas_idx, :2]\n",
    "        \n",
    "        # t has seen this ATLAS subject, so unmask everything within 1' Chebyshev distance (the radius of an RGZ subject).\n",
    "        nearby = ir_tree.query_radius([[atlas_ra, atlas_dec]], 1 / 60)[0]\n",
    "        labels.mask[t, nearby] = 0\n",
    "\n",
    "        # Label the point nearest the classification as 1.\n",
    "        # (The others are 0 by default.)\n",
    "        if numpy.isnan(ra) or numpy.isnan(dec):\n",
    "            continue\n",
    "\n",
    "        point = ir_tree.query([[ra, dec]], return_distance=False)[0]\n",
    "        labels[t, point] = 1"
   ]
  },
  {
   "cell_type": "code",
   "execution_count": 6,
   "metadata": {
    "collapsed": false
   },
   "outputs": [
    {
     "data": {
      "text/plain": [
       "<matplotlib.text.Text at 0x15c555c35c0>"
      ]
     },
     "execution_count": 6,
     "metadata": {},
     "output_type": "execute_result"
    },
    {
     "data": {
      "image/png": "[encoded data removed]",
      "text/plain": [
       "<matplotlib.figure.Figure at 0x15c45068208>"
      ]
     },
     "metadata": {},
     "output_type": "display_data"
    }
   ],
   "source": [
    "import matplotlib.pyplot as plt\n",
    "%matplotlib inline\n",
    "plt.figure(figsize=(15, 10))\n",
    "plt.subplot(1, 2, 1)\n",
    "plt.hist((~labels.mask).sum(axis=0))\n",
    "plt.xlabel('Number of viewings')\n",
    "plt.ylabel('IR objects')\n",
    "plt.subplot(1, 2, 2)\n",
    "plt.hist((~labels.mask).sum(axis=1), bins=numpy.linspace(0, 25000, 200))\n",
    "plt.xlim((0, 1000))\n",
    "plt.xlabel('Number of annotations')\n",
    "plt.ylabel('Annotators')"
   ]
  },
  {
   "cell_type": "markdown",
   "metadata": {},
   "source": [
    "## Running the algorithm\n",
    "\n",
    "Let's throw it in and see how it goes. First, I'll downsample the negative examples. I'll count a \"negative\" example as anything that doesn't have any positive classifications."
   ]
  },
  {
   "cell_type": "code",
   "execution_count": 45,
   "metadata": {
    "collapsed": false
   },
   "outputs": [],
   "source": [
    "non_negative_bool = numpy.any(labels, axis=0)\n",
    "non_negatives = numpy.arange(labels.shape[1])[non_negative_bool]\n",
    "negatives = numpy.arange(labels.shape[1])[~non_negative_bool]\n",
    "\n",
    "numpy.random.shuffle(negatives)\n",
    "negatives = negatives[:non_negatives.shape[0]]"
   ]
  },
  {
   "cell_type": "code",
   "execution_count": 47,
   "metadata": {
    "collapsed": false
   },
   "outputs": [],
   "source": [
    "assert negatives.shape == non_negatives.shape\n",
    "\n",
    "downsampled = numpy.hstack([non_negatives, negatives])\n",
    "downsampled.sort()"
   ]
  },
  {
   "cell_type": "markdown",
   "metadata": {},
   "source": [
    "Now I can run the algorithm."
   ]
  },
  {
   "cell_type": "code",
   "execution_count": 58,
   "metadata": {
    "collapsed": false
   },
   "outputs": [
    {
     "name": "stderr",
     "output_type": "stream",
     "text": [
      "..\\crowdastro\\active_learning\\active_crowd.py:46: RuntimeWarning: divide by zero encountered in log\n",
      "  numpy.log((1 - posts)), posteriors_0)\n",
      "..\\crowdastro\\active_learning\\active_crowd.py:47: RuntimeWarning: invalid value encountered in log\n",
      "  expectation += numpy.ma.sum(numpy.ma.dot(numpy.log(annos), posteriors))\n",
      "..\\crowdastro\\active_learning\\active_crowd.py:48: RuntimeWarning: invalid value encountered in log\n",
      "  expectation += numpy.ma.sum(numpy.ma.dot(numpy.log(annos_0), posteriors_0))\n"
     ]
    }
   ],
   "source": [
    "import logging\n",
    "logging.getLogger('active_crowd').setLevel(logging.INFO)\n",
    "\n",
    "with h5py.File(TRAINING_H5_PATH) as f_h5:\n",
    "    x = f_h5['features'][downsampled, :]\n",
    "    res = active_crowd.train(x, labels.astype(bool)[:, downsampled], lr_init=True)"
   ]
  },
  {
   "cell_type": "code",
   "execution_count": 59,
   "metadata": {
    "collapsed": false
   },
   "outputs": [
    {
     "name": "stdout",
     "output_type": "stream",
     "text": [
      "0.906752278376\n",
      "[[21883     0]\n",
      " [ 2251     6]]\n"
     ]
    }
   ],
   "source": [
    "import sklearn.metrics\n",
    "\n",
    "with h5py.File(TRAINING_H5_PATH) as f_h5:\n",
    "    x = f_h5['features']\n",
    "    pred = passive_crowd.predict(res[0], res[1], x)\n",
    "    print(sklearn.metrics.accuracy_score(f_h5['labels'].value, pred, normalize=True))\n",
    "    cm = sklearn.metrics.confusion_matrix(f_h5['labels'].value, pred)\n",
    "    print(cm)"
   ]
  },
  {
   "cell_type": "code",
   "execution_count": null,
   "metadata": {
    "collapsed": true
   },
   "outputs": [],
   "source": []
  }
 ],
 "metadata": {
  "kernelspec": {
   "display_name": "Python 3",
   "language": "python",
   "name": "python3"
  },
  "language_info": {
   "codemirror_mode": {
    "name": "ipython",
    "version": 3
   },
   "file_extension": ".py",
   "mimetype": "text/x-python",
   "name": "python",
   "nbconvert_exporter": "python",
   "pygments_lexer": "ipython3",
   "version": "3.5.1"
  }
 },
 "nbformat": 4,
 "nbformat_minor": 0
}
