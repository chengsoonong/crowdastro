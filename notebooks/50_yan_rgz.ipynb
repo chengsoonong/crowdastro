{
 "cells": [
  {
   "cell_type": "markdown",
   "metadata": {},
   "source": [
    "# Testing Yan et al. (2010, 2011) on the Radio Galaxy Zoo\n",
    "\n",
    "Let's run the crowd learning algorithm on the Radio Galaxy Zoo."
   ]
  },
  {
   "cell_type": "code",
   "execution_count": 1,
   "metadata": {
    "collapsed": false
   },
   "outputs": [],
   "source": [
    "from pprint import pprint\n",
    "import sys\n",
    "\n",
    "from astropy.coordinates import SkyCoord\n",
    "import h5py\n",
    "import numpy\n",
    "import sklearn.neighbors\n",
    "import seaborn\n",
    "\n",
    "sys.path.insert(1, '..')\n",
    "import crowdastro.active_learning.active_crowd as active_crowd\n",
    "import crowdastro.active_learning.passive_crowd as passive_crowd\n",
    "import crowdastro.active_learning.active_crowd_scalar as active_crowd_scalar\n",
    "\n",
    "CROWDASTRO_H5_PATH = '../data/crowdastro.h5'\n",
    "TRAINING_H5_PATH = '../data/training.h5'\n",
    "NORRIS_DAT_PATH = '../data/norris_2006_atlas_classifications_ra_dec_only.dat'\n",
    "\n",
    "# Load Norris labels.\n",
    "with h5py.File(TRAINING_H5_PATH, 'r') as training_f:\n",
    "    ir_positions = training_f['positions'].value\n",
    "ir_tree = sklearn.neighbors.KDTree(ir_positions)\n",
    "\n",
    "with open(NORRIS_DAT_PATH, 'r') as norris_dat:\n",
    "    norris_coords = [r.strip().split('|') for r in norris_dat]\n",
    "\n",
    "norris_labels = numpy.zeros((len(ir_positions)))\n",
    "for ra, dec in norris_coords:\n",
    "    # Find a neighbour.\n",
    "    skycoord = SkyCoord(ra=ra, dec=dec, unit=('hourangle', 'deg'))\n",
    "    ra = skycoord.ra.degree\n",
    "    dec = skycoord.dec.degree\n",
    "    ((dist,),), ((ir,),) = ir_tree.query([(ra, dec)])\n",
    "    if dist < 0.1:\n",
    "        norris_labels[ir] = 1"
   ]
  },
  {
   "cell_type": "markdown",
   "metadata": {},
   "source": [
    "## How many annotators do we have? How many labels are anonymously contributed?\n",
    "\n",
    "At the moment, I can only use the algorithm for non-anonymous users. How many are there?"
   ]
  },
  {
   "cell_type": "code",
   "execution_count": 2,
   "metadata": {
    "collapsed": false
   },
   "outputs": [
    {
     "name": "stdout",
     "output_type": "stream",
     "text": [
      "0.14638396747022944\n"
     ]
    }
   ],
   "source": [
    "with h5py.File(CROWDASTRO_H5_PATH) as f_h5:\n",
    "    print(sum(1 for i in f_h5['/atlas/cdfs/']['classification_usernames'] if not i)\n",
    "          / len(f_h5['/atlas/cdfs/']['classification_usernames']))"
   ]
  },
  {
   "cell_type": "markdown",
   "metadata": {},
   "source": [
    "Only 15% of labels are contributed by anonymous users! That's great for the algorithm. How many users are there?"
   ]
  },
  {
   "cell_type": "code",
   "execution_count": 3,
   "metadata": {
    "collapsed": false
   },
   "outputs": [
    {
     "name": "stdout",
     "output_type": "stream",
     "text": [
      "1193\n"
     ]
    }
   ],
   "source": [
    "with h5py.File(CROWDASTRO_H5_PATH) as f_h5:\n",
    "    print(len({i for i in f_h5['/atlas/cdfs/']['classification_usernames'] if i}))"
   ]
  },
  {
   "cell_type": "markdown",
   "metadata": {},
   "source": [
    "There are 1193 labellers. That's big but hopefully my code can handle it (and if not I'll have to change my methodology a bit)."
   ]
  },
  {
   "cell_type": "markdown",
   "metadata": {},
   "source": [
    "## Retrieving labels"
   ]
  },
  {
   "cell_type": "markdown",
   "metadata": {},
   "source": [
    " Let's pull out some labels. This involves matching each IR object to a label for each annotator. If a IR object never appears in a subject that the annotator has labelled, then it should be masked."
   ]
  },
  {
   "cell_type": "code",
   "execution_count": 4,
   "metadata": {
    "collapsed": false
   },
   "outputs": [],
   "source": [
    "with h5py.File(CROWDASTRO_H5_PATH) as f_h5:\n",
    "    annotators = sorted({i for i in f_h5['/atlas/cdfs/classification_usernames'] if i})\n",
    "    n_annotators = len(annotators)\n",
    "    annotator_to_index = {j:i for i, j in enumerate(annotators)}\n",
    "    \n",
    "    n_examples = f_h5['/wise/cdfs/numeric'].shape[0]\n",
    "    \n",
    "    ir_tree = sklearn.neighbors.KDTree(f_h5['/wise/cdfs/numeric'][:, :2], metric='chebyshev')"
   ]
  },
  {
   "cell_type": "code",
   "execution_count": 5,
   "metadata": {
    "collapsed": false
   },
   "outputs": [],
   "source": [
    "with h5py.File(CROWDASTRO_H5_PATH) as f_h5:\n",
    "    labels = numpy.ma.MaskedArray(numpy.zeros((n_annotators, n_examples)),\n",
    "                                  mask=numpy.ones((n_annotators, n_examples)))\n",
    "    \n",
    "    for (atlas_idx, ra, dec), c_user in zip(\n",
    "            f_h5['/atlas/cdfs/classification_positions'],\n",
    "            f_h5['/atlas/cdfs/classification_usernames'],\n",
    "    ):\n",
    "        if not c_user:\n",
    "            continue\n",
    "\n",
    "        t = annotator_to_index[c_user]\n",
    "        \n",
    "        atlas_ra, atlas_dec = f_h5['/atlas/cdfs/numeric'][atlas_idx, :2]\n",
    "        \n",
    "        # t has seen this ATLAS subject, so unmask everything within 1' Chebyshev distance (the radius of an RGZ subject).\n",
    "        nearby = ir_tree.query_radius([[atlas_ra, atlas_dec]], 1 / 60)[0]\n",
    "        labels.mask[t, nearby] = 0\n",
    "\n",
    "        # Label the point nearest the classification as 1.\n",
    "        # (The others are 0 by default.)\n",
    "        if numpy.isnan(ra) or numpy.isnan(dec):\n",
    "            continue\n",
    "\n",
    "        point = ir_tree.query([[ra, dec]], return_distance=False)[0]\n",
    "        labels[t, point] = 1"
   ]
  },
  {
   "cell_type": "code",
   "execution_count": 6,
   "metadata": {
    "collapsed": false
   },
   "outputs": [
    {
     "data": {
      "text/plain": [
       "<matplotlib.text.Text at 0x2274b83a748>"
      ]
     },
     "execution_count": 6,
     "metadata": {},
     "output_type": "execute_result"
    },
    {
     "data": {
      "image/png": "[encoded data removed]",
      "text/plain": [
       "<matplotlib.figure.Figure at 0x2273c01e908>"
      ]
     },
     "metadata": {},
     "output_type": "display_data"
    }
   ],
   "source": [
    "import matplotlib.pyplot as plt\n",
    "%matplotlib inline\n",
    "plt.figure(figsize=(15, 10))\n",
    "plt.subplot(1, 2, 1)\n",
    "plt.hist((~labels.mask).sum(axis=0))\n",
    "plt.xlabel('Number of viewings')\n",
    "plt.ylabel('IR objects')\n",
    "plt.subplot(1, 2, 2)\n",
    "plt.hist((~labels.mask).sum(axis=1), bins=numpy.linspace(0, 25000, 200))\n",
    "plt.xlim((0, 1000))\n",
    "plt.xlabel('Number of annotations')\n",
    "plt.ylabel('Annotators')"
   ]
  },
  {
   "cell_type": "markdown",
   "metadata": {},
   "source": [
    "## How good are the annotators? [#127](https://github.com/chengsoonong/crowdastro/issues/127)\n",
    "\n",
    "What is the distribution of balanced accuracies for each annotator? Can we estimate $p(y_i^{(t)} | x_i, z_i)$?"
   ]
  },
  {
   "cell_type": "code",
   "execution_count": 7,
   "metadata": {
    "collapsed": false
   },
   "outputs": [
    {
     "name": "stdout",
     "output_type": "stream",
     "text": [
      "74.27% of labellers have a balanced accuracy.\n"
     ]
    }
   ],
   "source": [
    "import sklearn.metrics\n",
    "\n",
    "accuracies = []\n",
    "annotator_to_accuracy = {}\n",
    "for t in range(n_annotators):\n",
    "    mask = labels[t].mask\n",
    "    cm = sklearn.metrics.confusion_matrix(norris_labels[~mask], labels[t, ~mask]).astype(float)\n",
    "    if cm.shape == (1, 1):\n",
    "        continue\n",
    "\n",
    "    tp = cm[1, 1]\n",
    "    n, p = cm.sum(axis=1)\n",
    "    tn = cm[0, 0]\n",
    "    if not (n and p):\n",
    "        continue\n",
    "\n",
    "    ba = (tp / p + tn / n) / 2\n",
    "    accuracies.append(ba)\n",
    "    annotator_to_accuracy[t] = ba\n",
    "\n",
    "print('{:.02%} of labellers have a balanced accuracy.'.format(len(accuracies) / n_annotators))"
   ]
  },
  {
   "cell_type": "code",
   "execution_count": 8,
   "metadata": {
    "collapsed": false
   },
   "outputs": [
    {
     "data": {
      "image/png": "[encoded data removed]",
      "text/plain": [
       "<matplotlib.figure.Figure at 0x2274bafffd0>"
      ]
     },
     "metadata": {},
     "output_type": "display_data"
    },
    {
     "name": "stdout",
     "output_type": "stream",
     "text": [
      "Average: (71.03 +- 18.29)%\n"
     ]
    }
   ],
   "source": [
    "plt.hist(accuracies, color='grey', bins=20)\n",
    "plt.xlabel('Balanced accuracy')\n",
    "plt.ylabel('Number of annotators')\n",
    "plt.show()\n",
    "\n",
    "print('Average: ({:.02f} +- {:.02f})%'.format(numpy.mean(accuracies) * 100, numpy.std(accuracies) * 100))"
   ]
  },
  {
   "cell_type": "markdown",
   "metadata": {},
   "source": [
    "## How many annotators are experts?"
   ]
  },
  {
   "cell_type": "code",
   "execution_count": 9,
   "metadata": {
    "collapsed": false
   },
   "outputs": [
    {
     "name": "stdout",
     "output_type": "stream",
     "text": [
      "['KWillett']\n"
     ]
    }
   ],
   "source": [
    "experts = (\"42jkb\", \"ivywong\", \"stasmanian\", \"klmasters\", \"Kevin\",\n",
    "           \"akapinska\", \"enno.middelberg\", \"xDocR\", \"DocR\", \"vrooje\", \"KWillett\")\n",
    "print([expert for expert in experts if expert.encode('ascii') in annotators])"
   ]
  },
  {
   "cell_type": "markdown",
   "metadata": {},
   "source": [
    "## How many positive examples have the top 10 annotators labelled?"
   ]
  },
  {
   "cell_type": "code",
   "execution_count": 10,
   "metadata": {
    "collapsed": false
   },
   "outputs": [
    {
     "name": "stdout",
     "output_type": "stream",
     "text": [
      "[(0.75797582455910884, 1169, 519),\n",
      " (0.75699271733750673, 135, 683),\n",
      " (0.75924796624019708, 64, 962),\n",
      " (0.69394703116773282, 314, 1500),\n",
      " (0.7682293723857847, 662, 1893),\n",
      " (0.77407966065131606, 1062, 1916),\n",
      " (0.80921568705428282, 604, 1967),\n",
      " (0.81688934170995275, 1051, 1970),\n",
      " (0.82859181461409082, 978, 2006),\n",
      " (0.83511567214955051, 490, 2233)]\n"
     ]
    }
   ],
   "source": [
    "counts = [(numpy.ma.sum(labels[t] == 1), t) for t in range(n_annotators)]\n",
    "counts.sort()\n",
    "pprint([(annotator_to_accuracy[t], t, count) for count, t in counts[-10:]])\n",
    "\n",
    "top_10 = sorted([t for _, t in counts[-10:]])"
   ]
  },
  {
   "cell_type": "code",
   "execution_count": 11,
   "metadata": {
    "collapsed": false
   },
   "outputs": [
    {
     "name": "stdout",
     "output_type": "stream",
     "text": [
      "antikodon \t 2233\n",
      "planetari7 \t 2006\n",
      "sisifolibre \t 1970\n",
      "csunjoto \t 1967\n",
      "snowysky \t 1916\n",
      "equidad1 \t 1893\n",
      "PattyD \t 1500\n",
      "ChaMei \t 962\n",
      "Explorer15 \t 683\n",
      "willy71 \t 519\n",
      "cripple85 \t 506\n",
      "JeanTate \t 430\n",
      "Mitch56 \t 427\n",
      "Mimocarino \t 398\n",
      "HelmutU \t 358\n",
      "Dolorous Edd \t 337\n",
      "ControlledChaos \t 268\n",
      "arianna99 \t 260\n",
      "shocko61 \t 219\n",
      "Shade017@umn.edu \t 205\n",
      "rm3082 \t 196\n",
      "tbrockhaus \t 179\n",
      "ChrisMolloy \t 172\n",
      "graham d \t 171\n",
      "pamelaann \t 165\n",
      "G.Costalunga \t 137\n",
      "brandon.mariano \t 126\n",
      "Weissoniq \t 124\n",
      "1001G \t 118\n",
      "flecmm03 \t 116\n",
      "parkerm126 \t 115\n",
      "ruprechtludwig \t 113\n",
      "ashleysuzanne \t 105\n",
      "kobo123 \t 102\n",
      "Gary Michael \t 100\n",
      "tom324232 \t 99\n",
      "Prothon \t 95\n",
      "romulous_ErrorDupUsername \t 93\n",
      "bobk47 \t 92\n",
      "alinejojo \t 91\n",
      "mixu74 \t 90\n",
      "Rock Beauty \t 86\n",
      "Jimg3d \t 84\n",
      "Swann2501 \t 83\n",
      "fiskmannen \t 76\n",
      "gavinrider \t 70\n",
      "WizardHowl \t 67\n",
      "WEBs in space \t 65\n",
      "armybro1 \t 64\n",
      "Engel1587 \t 62\n",
      "dhiana \t 60\n",
      "chiliking \t 60\n",
      "area53 \t 59\n",
      "legacyhardware \t 58\n",
      "gwallingford \t 58\n",
      "Missybee35 \t 58\n",
      "olbo \t 57\n",
      "ehinterm \t 57\n",
      "radek45 \t 56\n",
      "spaceygeek \t 55\n",
      "Codo \t 54\n",
      "Vic7or \t 52\n",
      "cjunco \t 51\n",
      "ruthparker \t 50\n",
      "Ashlynn123 \t 50\n",
      "star-light@cox.net \t 48\n",
      "LeCorndog \t 47\n",
      "lemisiak \t 46\n",
      "honeyeyedchild \t 46\n",
      "Rilo \t 46\n",
      "victorialepp \t 45\n",
      "j317182123 \t 45\n",
      "FRA1MSP \t 45\n",
      "scmorris \t 43\n",
      "anncopal \t 40\n",
      "Shill2008 \t 40\n",
      "rylas007 \t 39\n",
      "orionsam1 \t 38\n",
      "jennifer bjornstrom \t 38\n",
      "paweltluscik \t 37\n",
      "McMeeps \t 37\n",
      "Jordan.Botta \t 37\n",
      "steve giess \t 34\n",
      "nico775 \t 34\n",
      "cosmonaut42 \t 33\n",
      "Wald86 \t 33\n",
      "eddaw \t 32\n",
      "alphaxpress \t 32\n",
      "Flatlegs \t 32\n",
      "Chouchou Bidou \t 32\n",
      "alycerethmann \t 31\n",
      "SPevely \t 31\n",
      "starquake \t 29\n",
      "rcmills1707@gmail.com \t 29\n",
      "fernandoitri \t 29\n",
      "called2serve249 \t 29\n",
      "davestringer \t 28\n",
      "chairgaf \t 28\n",
      "skysmyzer \t 27\n",
      "peterw143 \t 27\n",
      "namla \t 27\n",
      "marcostudios \t 27\n",
      "m161014 \t 27\n",
      "dylantowers \t 27\n",
      "abnaxusofvenar \t 27\n",
      "DEP \t 27\n",
      "blueOrion \t 26\n",
      "a_rusin \t 26\n",
      "PetM \t 26\n",
      "papitanovana \t 25\n",
      "chester_ltp \t 25\n",
      "burtonpl \t 25\n",
      "Nightowl1955 \t 25\n",
      "graham_d \t 24\n",
      "cokeomo \t 24\n",
      "RobMatMar \t 24\n",
      "Jessielucas \t 24\n",
      "vargajiri \t 23\n",
      "meus \t 23\n",
      "avaughan \t 23\n",
      "Kira7940 \t 23\n",
      "suzyq0810 \t 22\n",
      "seeingdublin2 \t 22\n",
      "dbrockwa \t 22\n",
      "Loulouuse \t 22\n",
      "jeffsluggett \t 21\n",
      "b.umberto \t 21\n",
      "aussiegoodstuff \t 21\n",
      "Tonya_Kiissah_Nox \t 21\n",
      "Kavaec94 \t 21\n",
      "titaNium2 \t 20\n",
      "Griff2142 \t 20\n",
      "ElisabethB \t 20\n",
      "lilbethfay \t 19\n",
      "ebanuelos9 \t 19\n",
      "dresslikeice \t 19\n",
      "Selaene \t 19\n",
      "JSeim \t 19\n",
      "Angelocieco \t 19\n",
      "Dolorous_Edd \t 18\n",
      "Chezburgar7300 \t 18\n",
      "Alpha-Orionis \t 18\n",
      "gsullivan4 \t 17\n",
      "gfitzs321 \t 17\n",
      "alanalas \t 17\n",
      "Wizardlord \t 17\n",
      "Ptd \t 17\n",
      "Heffy \t 17\n",
      "Andy_Arg \t 17\n",
      "voidstar \t 16\n",
      "matt234pm \t 16\n",
      "N5bz \t 16\n",
      "DANIEL_GARCIA \t 16\n",
      "stargazer375 \t 15\n",
      "randymcvey77 \t 15\n",
      "paris.antonio \t 15\n",
      "jojoba \t 15\n",
      "despertaferro \t 15\n",
      "btaraybill \t 15\n",
      "alexthepink95 \t 15\n",
      "PRivate_pAuLa \t 15\n",
      "Fenja \t 15\n",
      "EdGi \t 15\n",
      "tjones3 \t 14\n",
      "soretim \t 14\n",
      "robynet \t 14\n",
      "nerilldp \t 14\n",
      "maxpra99 \t 14\n",
      "letsfaceit \t 14\n",
      "giazira \t 14\n",
      "chris_sasaurus \t 14\n",
      "adamovichsv \t 14\n",
      "Woko69 \t 14\n",
      "Skydiver33 \t 14\n",
      "vigliottac \t 13\n",
      "jmarinelli \t 13\n",
      "eperozzi \t 13\n",
      "ba12003127 \t 13\n",
      "Zwolf20 \t 13\n",
      "Slice0matic \t 13\n",
      "Krannin \t 13\n",
      "JoeCool \t 13\n",
      "CrystalFigueroa05 \t 13\n",
      "snowflakesarewhite \t 12\n",
      "siasac \t 12\n",
      "lwd630 \t 12\n",
      "jaimevictoria \t 12\n",
      "Sollieboy \t 12\n",
      "MarcinKlimczewski \t 12\n",
      "Hotpepperz \t 12\n",
      "Heheherbata \t 12\n",
      "Bwalk2121 \t 12\n",
      "Ariaiyc \t 12\n",
      "Alex_Chekh \t 12\n",
      "AZooKeeper0001 \t 12\n",
      "stellatami \t 11\n",
      "kaylamariee_13 \t 11\n",
      "iamme.cy@gmail.com \t 11\n",
      "firejuggler \t 11\n",
      "eylovesoccer \t 11\n",
      "debbiethetruong \t 11\n",
      "choplen \t 11\n",
      "c196948 \t 11\n",
      "beccavasaurus \t 11\n",
      "awinfrey \t 11\n",
      "avivgoll \t 11\n",
      "ariana22c \t 11\n",
      "Torrencrack \t 11\n",
      "Tommyedlobster \t 11\n",
      "ColormaticLlama \t 11\n",
      "Amaranta09 \t 11\n",
      "Alegria25 \t 11\n",
      "tomhinde \t 10\n",
      "stam8 \t 10\n",
      "mandi1978 \t 10\n",
      "hbriggs@uwo.ca \t 10\n",
      "genghiskhen \t 10\n",
      "arerainingcats \t 10\n",
      "aomeara1 \t 10\n",
      "Vatilass \t 10\n",
      "Teo9 \t 10\n",
      "Monkeyscript \t 10\n",
      "Maroon2790 \t 10\n",
      "Gopach \t 10\n",
      "DeamCole \t 10\n",
      "DTSULLY \t 10\n",
      "Artur Korshak \t 10\n",
      "wtaskew \t 9\n",
      "true_Nic \t 9\n",
      "thundercough \t 9\n",
      "speakeasysky \t 9\n",
      "markbakovic \t 9\n",
      "lreadtan@uwo.ca \t 9\n",
      "jarmo \t 9\n",
      "jaredk \t 9\n",
      "enderwigout \t 9\n",
      "eclements1980 \t 9\n",
      "aspro82 \t 9\n",
      "abhargava \t 9\n",
      "Werner  \t 9\n",
      "TheTallestPurple \t 9\n",
      "RedDawn84 \t 9\n",
      "J3300918 \t 9\n",
      "HighDry \t 9\n",
      "wenson91 \t 8\n",
      "vtenhunen \t 8\n",
      "vmax3000 \t 8\n",
      "moonbasealpha \t 8\n",
      "martakot227 \t 8\n",
      "gr357435 \t 8\n",
      "dcm2324 \t 8\n",
      "cserfalvi \t 8\n",
      "coreyfrey \t 8\n",
      "aquitanian \t 8\n",
      "alphamoonbase \t 8\n",
      "WesleyPeters \t 8\n",
      "Vendrov \t 8\n",
      "Ryzasia \t 8\n",
      "Rcdyson987 \t 8\n",
      "Ravno \t 8\n",
      "Papertigers \t 8\n",
      "Mario1967 \t 8\n",
      "Kristie14 \t 8\n",
      "Incarlina \t 8\n",
      "Hoff810 \t 8\n",
      "GalacticChemist3 \t 8\n",
      "Edeac \t 8\n",
      "Dougaluk \t 8\n",
      "Dave_Reynolds \t 8\n",
      "zorkin.denis \t 7\n",
      "wstengrasmcke \t 7\n",
      "toxic0 \t 7\n",
      "strikerusrus \t 7\n",
      "starchildjuss \t 7\n",
      "ssh \t 7\n",
      "smorga45@uwo.ca \t 7\n",
      "mrmiloslav \t 7\n",
      "metalmania \t 7\n",
      "markoramiusiii \t 7\n",
      "marielouisedonohoe \t 7\n",
      "lexistirman \t 7\n",
      "jimfite \t 7\n",
      "itsfullofstars \t 7\n",
      "irgendwaslanges \t 7\n",
      "gartral \t 7\n",
      "dr. schlau \t 7\n",
      "dennispattensr \t 7\n",
      "davilaelijah \t 7\n",
      "brentdmorris \t 7\n",
      "avoigt \t 7\n",
      "antsaa79 \t 7\n",
      "akbaker1 \t 7\n",
      "acisco0006 \t 7\n",
      "Ushiromiya Xyrius \t 7\n",
      "User3110 \t 7\n",
      "Stooth \t 7\n",
      "SpaceHuntress \t 7\n",
      "Sharkounet \t 7\n",
      "Romulous \t 7\n",
      "NicoleFayK \t 7\n",
      "Mspinelli91 \t 7\n",
      "MisterToughWhite \t 7\n",
      "MisBi \t 7\n",
      "Mike Beer \t 7\n",
      "Mht \t 7\n",
      "FairyRed \t 7\n",
      "Ewert Strmberg \t 7\n",
      "Ellery \t 7\n",
      "Colmena \t 7\n",
      "Cautator \t 7\n",
      "Alien Rast \t 7\n",
      "zwanenburg \t 6\n",
      "zoolodjee \t 6\n",
      "zabbott2 \t 6\n",
      "xvnopill \t 6\n",
      "wgoltz \t 6\n",
      "tvirian \t 6\n",
      "trackrat148 \t 6\n",
      "themoffitt \t 6\n",
      "taras mykytyuk \t 6\n",
      "stella stasinopoulou \t 6\n",
      "sparfyonova@gmail.com \t 6\n",
      "scara \t 6\n",
      "rangers1221 \t 6\n",
      "micfly25 \t 6\n",
      "mforkin \t 6\n",
      "metastrophe \t 6\n",
      "mbabiera@uwo.ca \t 6\n",
      "mary.e.savage \t 6\n",
      "lnbradsh@asu.edu \t 6\n",
      "kopec705 \t 6\n",
      "khafak \t 6\n",
      "kernewe@uwo.ca \t 6\n",
      "irene.mp \t 6\n",
      "hjmedrud \t 6\n",
      "hardan \t 6\n",
      "griever41269 \t 6\n",
      "gleffeer \t 6\n",
      "genogenie \t 6\n",
      "foxxravin \t 6\n",
      "eaglefire \t 6\n",
      "dazzle34 \t 6\n",
      "cyannn \t 6\n",
      "bhowidi@uwo.ca \t 6\n",
      "ameliaharkins \t 6\n",
      "achedore@uwo.ca \t 6\n",
      "Zeladra \t 6\n",
      "Trs8682 \t 6\n",
      "Tanzo \t 6\n",
      "Smkm724 \t 6\n",
      "Shairlyn \t 6\n",
      "Scienceprof \t 6\n",
      "PsyberDave \t 6\n",
      "Mietek62 \t 6\n",
      "Mars_to_earth \t 6\n",
      "Kieran Davies \t 6\n",
      "Jeb Kerman \t 6\n",
      "Intestereo \t 6\n",
      "Hoganwpearson \t 6\n",
      "Fuzzie47 \t 6\n",
      "Evilshrimp \t 6\n",
      "Dumortier \t 6\n",
      "BigRed1 \t 6\n",
      "Amy Marie \t 6\n",
      "waprior \t 5\n",
      "wakaleo \t 5\n",
      "therealstarwars \t 5\n",
      "szymondrag \t 5\n",
      "szheng86 \t 5\n",
      "sk10071609 \t 5\n",
      "sandra pilkington \t 5\n",
      "robinstratford \t 5\n",
      "pppb \t 5\n",
      "mwitteri \t 5\n",
      "mli627@uwo.ca \t 5\n",
      "meyeusername \t 5\n",
      "mckbenbow \t 5\n",
      "mauromarussi \t 5\n",
      "logantbowhay \t 5\n",
      "lena3rika \t 5\n",
      "krobe46@uwo.ca \t 5\n",
      "kedems29 \t 5\n",
      "kb969676 \t 5\n",
      "jmacph2@uwo.ca \t 5\n",
      "jferre7@uwo.ca \t 5\n",
      "jcoulth2@uwo.ca \t 5\n",
      "jackalsnight \t 5\n",
      "ian hodgson \t 5\n",
      "frq \t 5\n",
      "fido2 \t 5\n",
      "dontus \t 5\n",
      "deubeuliou \t 5\n",
      "ashleyrenee13 \t 5\n",
      "ap1101 \t 5\n",
      "ann_otlivanovaa \t 5\n",
      "anastasija \t 5\n",
      "Radioastro \t 5\n",
      "Qlex \t 5\n",
      "Omega Goon \t 5\n",
      "Nique_2005 \t 5\n",
      "NeilDeGrassTyson \t 5\n",
      "KWillett \t 5\n",
      "JuliaIaniro \t 5\n",
      "Josh Bosh \t 5\n",
      "John De Rouck \t 5\n",
      "JanaW \t 5\n",
      "Jamiejson \t 5\n",
      "JRod1994 \t 5\n",
      "Frostman1187 \t 5\n",
      "Foraldo \t 5\n",
      "Craig_Sour \t 5\n",
      "Chinabob \t 5\n",
      "ArtValenti \t 5\n",
      "AndyDaley \t 5\n",
      "wabuswell \t 4\n",
      "tjohns94@uwo.ca \t 4\n",
      "sthaler \t 4\n",
      "sidneyarham \t 4\n",
      "shood1 \t 4\n",
      "sergiompereira \t 4\n",
      "sarahvalentin86 \t 4\n",
      "sarah_ash9 \t 4\n",
      "rreilly@uwo.ca \t 4\n",
      "rmounce \t 4\n",
      "rfdomingos \t 4\n",
      "realcarolineb \t 4\n",
      "rbhatna4 \t 4\n",
      "pytolsky \t 4\n",
      "pvjones \t 4\n",
      "pontifex \t 4\n",
      "phlogos \t 4\n",
      "nilium \t 4\n",
      "mnowy \t 4\n",
      "mind123 \t 4\n",
      "mewking \t 4\n",
      "martymacs \t 4\n",
      "kmarskel@uwo.ca \t 4\n",
      "kekkyojin \t 4\n",
      "kayleehairel \t 4\n",
      "karpitto \t 4\n",
      "jriccion \t 4\n",
      "josefajardo \t 4\n",
      "jlesarg2@uwo.ca \t 4\n",
      "jeffrey_c_schneider@yahoo.com \t 4\n",
      "jddavis007 \t 4\n",
      "jchromcz \t 4\n",
      "hgolden95 \t 4\n",
      "dileo3081 \t 4\n",
      "cnygaard08 \t 4\n",
      "cmacd48 \t 4\n",
      "bluerigel314 \t 4\n",
      "billlaw \t 4\n",
      "bedginto \t 4\n",
      "bdomingues \t 4\n",
      "astronomas \t 4\n",
      "arvvie \t 4\n",
      "amiltenb@uwo.ca \t 4\n",
      "akil hashim \t 4\n",
      "agartland \t 4\n",
      "aaudette@uwo.ca \t 4\n",
      "Zliu423@uwo.ca \t 4\n",
      "Zenstar \t 4\n",
      "Xito \t 4\n",
      "Wilfred-Cackowski \t 4\n",
      "Tulsiqt \t 4\n",
      "ThePolyscope \t 4\n",
      "TFurby \t 4\n",
      "Suddenlybears \t 4\n",
      "SpaceMonkeyMafia \t 4\n",
      "Smashrock \t 4\n",
      "SingMeToSleep \t 4\n",
      "SMCCOR26 \t 4\n",
      "Praetot6554 \t 4\n",
      "Ozosorio \t 4\n",
      "Nggoodlet \t 4\n",
      "Neri_Riker \t 4\n",
      "MatthewLaj \t 4\n",
      "Maridan \t 4\n",
      "MIke Stephen \t 4\n",
      "Lord Crc \t 4\n",
      "Lightningfrog \t 4\n",
      "Leverd01 \t 4\n",
      "KristinaStrelchenko \t 4\n",
      "Jenniferq32 \t 4\n",
      "Jdesrosier8204025 \t 4\n",
      "Isajah \t 4\n",
      "Hruk \t 4\n",
      "Heliosiah \t 4\n",
      "DocSki2010 \t 4\n",
      "Destice \t 4\n",
      "DaFaja \t 4\n",
      "Captain_Shepard \t 4\n",
      "Baptiste81 \t 4\n",
      "B4sti4n \t 4\n",
      "Anne1954 \t 4\n",
      "zombig \t 3\n",
      "zoliveir@uwo.ca \t 3\n",
      "wr355509 \t 3\n",
      "wouterburs \t 3\n",
      "websmith77 \t 3\n",
      "tete29999 \t 3\n",
      "tdw1203 \t 3\n",
      "tayal \t 3\n",
      "stump17jcw \t 3\n",
      "stargazerqa \t 3\n",
      "srinivasanranjani \t 3\n",
      "spencercoffey12 \t 3\n",
      "spacenavy90 \t 3\n",
      "soallard \t 3\n",
      "slam255@uwo.ca \t 3\n",
      "sienzala \t 3\n",
      "sfenix \t 3\n",
      "serenity613 \t 3\n",
      "saxonturnbuckle \t 3\n",
      "rws \t 3\n",
      "rwicken \t 3\n",
      "rff \t 3\n",
      "philou92 \t 3\n",
      "pashley108 \t 3\n",
      "pamigo \t 3\n",
      "ozark576 \t 3\n",
      "nojabr'88 \t 3\n",
      "nijssen \t 3\n",
      "niascott \t 3\n",
      "mwong533@uwo.ca \t 3\n",
      "mscalley03 \t 3\n",
      "mrpaulcromwell \t 3\n",
      "mlab81 \t 3\n",
      "mercness \t 3\n",
      "mcv1 \t 3\n",
      "mandy93 \t 3\n",
      "lme \t 3\n",
      "likyanny \t 3\n",
      "lecrop \t 3\n",
      "ladyt \t 3\n",
      "kukker \t 3\n",
      "kskok@uwo.ca \t 3\n",
      "kfontaine \t 3\n",
      "keev \t 3\n",
      "keepsie \t 3\n",
      "kakiszn \t 3\n",
      "kaelee \t 3\n",
      "jrich58 \t 3\n",
      "jmarin8@uwo.ca \t 3\n",
      "jayzz \t 3\n",
      "jacksonccm \t 3\n",
      "insaini007 \t 3\n",
      "impossibleiseasy \t 3\n",
      "homeoflostcauses \t 3\n",
      "hbrough2 \t 3\n",
      "halorazer \t 3\n",
      "gigidudu \t 3\n",
      "gdhill6@uwo.ca \t 3\n",
      "gbear605 \t 3\n",
      "gapper301 \t 3\n",
      "fredpl \t 3\n",
      "evaneerd \t 3\n",
      "emptylica \t 3\n",
      "dtorresglez \t 3\n",
      "dspanier \t 3\n",
      "dramji \t 3\n",
      "dnbaumgartner \t 3\n",
      "dgrupultsnik \t 3\n",
      "deepbhusal \t 3\n",
      "davevenne \t 3\n",
      "davest \t 3\n",
      "cupoftea222 \t 3\n",
      "col281 \t 3\n",
      "codyaaron3 \t 3\n",
      "chrisawesomewright \t 3\n",
      "cell- \t 3\n",
      "broseli \t 3\n",
      "bpa4bes \t 3\n",
      "blubkeks \t 3\n",
      "bkn21 \t 3\n",
      "bicanovsky \t 3\n",
      "astronomicom1 \t 3\n",
      "amahjour@uwo.ca \t 3\n",
      "alwarren56 \t 3\n",
      "adamack \t 3\n",
      "Wandering_Recluse \t 3\n",
      "Stewart Walker \t 3\n",
      "StellaFrost \t 3\n",
      "Steckles \t 3\n",
      "Stained_Spoon \t 3\n",
      "SorAzolam \t 3\n",
      "RumblesNZ \t 3\n",
      "RoyalOcean \t 3\n",
      "REYNACE \t 3\n",
      "PlanetMira \t 3\n",
      "Notri \t 3\n",
      "Northrop \t 3\n",
      "Montexes \t 3\n",
      "MaxKa \t 3\n",
      "Makc21 \t 3\n",
      "Lynzw \t 3\n",
      "Junior Guide \t 3\n",
      "Jagdeep9 \t 3\n",
      "IOAsclepiusOI \t 3\n",
      "HHMI183 \t 3\n",
      "Gurmatonk \t 3\n",
      "Guildmaster84 \t 3\n",
      "GrantAR \t 3\n",
      "Gibas \t 3\n",
      "Flying_J \t 3\n",
      "EcceruElme \t 3\n",
      "Dr_Fra \t 3\n",
      "Dounat \t 3\n",
      "Derinox \t 3\n",
      "Demian Wright \t 3\n",
      "Dclow \t 3\n",
      "Daniel222 \t 3\n",
      "Daisy_of_Doom \t 3\n",
      "Clefairy131 \t 3\n",
      "Chocoholic_Jedi \t 3\n",
      "Aphelion94 \t 3\n",
      "AngusGeorge \t 3\n",
      "AlexRaycon \t 3\n",
      "Aitor Robleto \t 3\n",
      "ARThompson \t 3\n",
      "25gabo \t 3\n",
      "zextriqs \t 2\n",
      "zardoz99 \t 2\n",
      "ysrivast@uwo.ca \t 2\n",
      "wmouhtou@uwo.ca \t 2\n",
      "weegreenblobbie \t 2\n",
      "vineetp \t 2\n",
      "vcheun33@uwo.ca \t 2\n",
      "vanrenter \t 2\n",
      "vacomano \t 2\n",
      "uwfshane \t 2\n",
      "urbanart \t 2\n",
      "trinicy \t 2\n",
      "tomssmot \t 2\n",
      "tokoivun \t 2\n",
      "tmt2018 \t 2\n",
      "tmccreight25 \t 2\n",
      "titus28 \t 2\n",
      "theodoros71 \t 2\n",
      "theisis \t 2\n",
      "the wwwyzzerdd \t 2\n",
      "teufelabgott \t 2\n",
      "stephen.peace4 \t 2\n",
      "steenz \t 2\n",
      "starchitect \t 2\n",
      "smoreng \t 2\n",
      "sloboje \t 2\n",
      "silkwire \t 2\n",
      "seralupin \t 2\n",
      "scottv \t 2\n",
      "schhabr7 \t 2\n",
      "sagely06 \t 2\n",
      "rtuttle@uwo.ca \t 2\n",
      "rocketj9000 \t 2\n",
      "rmz4160 \t 2\n",
      "rmcfry \t 2\n",
      "rhearen \t 2\n",
      "rezoloot \t 2\n",
      "rcowan5@uwo.ca \t 2\n",
      "pmrab \t 2\n",
      "peterooch \t 2\n",
      "paulbistr \t 2\n",
      "paulbelluscio \t 2\n",
      "pauetegalopa \t 2\n",
      "otinokyad \t 2\n",
      "offshoremike \t 2\n",
      "nmcawthorne \t 2\n",
      "nirgut \t 2\n",
      "naythe \t 2\n",
      "nakman123 \t 2\n",
      "nakke \t 2\n",
      "msulli49 \t 2\n",
      "mprange4 \t 2\n",
      "mooreorless \t 2\n",
      "mjunge \t 2\n",
      "mgal \t 2\n",
      "mediafashion \t 2\n",
      "mdelic \t 2\n",
      "mcosmo \t 2\n",
      "mbrow346 \t 2\n",
      "martinpgilson \t 2\n",
      "martin.kyngas \t 2\n",
      "madisonparker \t 2\n",
      "lucilleg1 \t 2\n",
      "lionni \t 2\n",
      "kfung82 \t 2\n",
      "kennyallau \t 2\n",
      "jukkamc \t 2\n",
      "jrb4 \t 2\n",
      "joecag91 \t 2\n",
      "jmacle54@uwo.ca \t 2\n",
      "jlam323 \t 2\n",
      "jebediah-MTCQ \t 2\n",
      "jack9761 \t 2\n",
      "ivonameow \t 2\n",
      "hspring28 \t 2\n",
      "hgojmera \t 2\n",
      "helicity \t 2\n",
      "gonzalezdececiliaana \t 2\n",
      "gly2@uwo.ca \t 2\n",
      "gguizzo@uwo.ca \t 2\n",
      "geekess \t 2\n",
      "fr667 \t 2\n",
      "flipit4u \t 2\n",
      "ericcrozier \t 2\n",
      "elshek \t 2\n",
      "electriclemons \t 2\n",
      "eikwar \t 2\n",
      "dudemanppl \t 2\n",
      "drewcifer90 \t 2\n",
      "donquasar \t 2\n",
      "dnm2189 \t 2\n",
      "dlppld \t 2\n",
      "dhruvbhatia1234 \t 2\n",
      "dbalmada \t 2\n",
      "darkened \t 2\n",
      "cuttlefish25 \t 2\n",
      "curlcollector \t 2\n",
      "craigflynn \t 2\n",
      "cpchandler \t 2\n",
      "copups \t 2\n",
      "clloyd \t 2\n",
      "chasecharlebois \t 2\n",
      "charlottepingu \t 2\n",
      "ceyberg \t 2\n",
      "celticlord88 \t 2\n",
      "cedelong \t 2\n",
      "cberg \t 2\n",
      "catelyn \t 2\n",
      "carolinebowers \t 2\n",
      "calebfewell \t 2\n",
      "cLeShEr \t 2\n",
      "brendamtz96 \t 2\n",
      "bogdanleon \t 2\n",
      "bharri48@uwo.ca \t 2\n",
      "berndiesel \t 2\n",
      "awasae \t 2\n",
      "avielord1 \t 2\n",
      "austinp9200 \t 2\n",
      "andreanr \t 2\n",
      "akanner \t 2\n",
      "agiagiar \t 2\n",
      "aanastac \t 2\n",
      "Zarkark \t 2\n",
      "Zanna640 \t 2\n",
      "Yana Kolba \t 2\n",
      "Yaksack \t 2\n",
      "Wonderholic \t 2\n",
      "Venomex \t 2\n",
      "VARF \t 2\n",
      "Uni2013a \t 2\n",
      "Tobias Heiligensetzer \t 2\n",
      "Themistocles17 \t 2\n",
      "ThE_jOKe \t 2\n",
      "Tepf \t 2\n",
      "TelmaVahey \t 2\n",
      "TMDG \t 2\n",
      "Storm610 \t 2\n",
      "Stevie_Ray \t 2\n",
      "Sonofartemis \t 2\n",
      "Sleepinbeauty \t 2\n",
      "Siihq \t 2\n",
      "Seshins \t 2\n",
      "Rymang \t 2\n",
      "RobHutch \t 2\n",
      "Ray42 \t 2\n",
      "R.i.p. \t 2\n",
      "Ps359064 \t 2\n",
      "PlaTinum1 \t 2\n",
      "Petrusperes \t 2\n",
      "Peterbrit \t 2\n",
      "Olly314 \t 2\n",
      "Nodr \t 2\n",
      "Mithridate Eupator \t 2\n",
      "Milbucell \t 2\n",
      "MichaelRosen \t 2\n",
      "MavericK75NL \t 2\n",
      "Mark10189 \t 2\n",
      "MarciAurila \t 2\n",
      "Madak13 \t 2\n",
      "Libithina \t 2\n",
      "LeeRy30 \t 2\n",
      "Kylemay15 \t 2\n",
      "Kadik \t 2\n",
      "KELO76 \t 2\n",
      "Junkieturtle \t 2\n",
      "JungleHyena \t 2\n",
      "Joshua_Greschler \t 2\n",
      "Joshjoshjosh490 \t 2\n",
      "John.obispo \t 2\n",
      "Isissea \t 2\n",
      "IronFossile \t 2\n",
      "Idler \t 2\n",
      "Icon77 \t 2\n",
      "Huskynator \t 2\n",
      "Gtar \t 2\n",
      "Greg the Jew \t 2\n",
      "GeXeS \t 2\n",
      "Forsooth \t 2\n",
      "FooBat \t 2\n",
      "Foliant \t 2\n",
      "Fatimajaber97 \t 2\n",
      "DeepWatch \t 2\n",
      "Dee-Moe \t 2\n",
      "DarylMusashi \t 2\n",
      "CzFool \t 2\n",
      "Crispin.S \t 2\n",
      "Clue4fun4 \t 2\n",
      "Bowchicawowzers \t 2\n",
      "Belgabor \t 2\n",
      "BaibaBond \t 2\n",
      "B??kitna Czarownica \t 2\n",
      "AthensHunter1 \t 2\n",
      "Andro1d \t 2\n",
      "AmadShizzle \t 2\n",
      "Alejandrohernandez \t 2\n",
      "2175204 \t 2\n",
      "10740011 \t 2\n",
      "zzzio \t 1\n",
      "zzutom \t 1\n",
      "yrawashd@uwo.ca \t 1\n",
      "yomec \t 1\n",
      "yellowpecora \t 1\n",
      "wintrymix \t 1\n",
      "willjohnboy \t 1\n",
      "vx100 \t 1\n",
      "vulgothiago \t 1\n",
      "vihareve \t 1\n",
      "vaschi \t 1\n",
      "varunzoo \t 1\n",
      "vaerth \t 1\n",
      "tyu93@uwo.ca \t 1\n",
      "tyonemit@uwo.ca \t 1\n",
      "turelli \t 1\n",
      "tprime2@uwo.ca \t 1\n",
      "tom2316 \t 1\n",
      "tmille55 \t 1\n",
      "tim.astronomy \t 1\n",
      "thezohar \t 1\n",
      "therealredwedge \t 1\n",
      "tess.mcdonald \t 1\n",
      "tenfiveoh \t 1\n",
      "swurmser \t 1\n",
      "susan pyne \t 1\n",
      "supcom \t 1\n",
      "stevepm \t 1\n",
      "sterngucker \t 1\n",
      "stella_diver \t 1\n",
      "stardustymd \t 1\n",
      "sstawins10 \t 1\n",
      "spencerw90 \t 1\n",
      "sonnybayy \t 1\n",
      "somekindofoctopus \t 1\n",
      "solarist \t 1\n",
      "skhan643@uwo.ca \t 1\n",
      "sjellifo@uwo.ca \t 1\n",
      "sirk.emerson \t 1\n",
      "sghahari@uwo.ca \t 1\n",
      "sbruzzone \t 1\n",
      "sawman \t 1\n",
      "sat666/leg \t 1\n",
      "saradrml \t 1\n",
      "salmarutha \t 1\n",
      "sHinE9Y \t 1\n",
      "ruali12 \t 1\n",
      "rosche2000 \t 1\n",
      "romane954 \t 1\n",
      "rollingronnie \t 1\n",
      "robtkorb \t 1\n",
      "rlohman@uwo.ca \t 1\n",
      "rebeccajane \t 1\n",
      "rdxts \t 1\n",
      "pwilling \t 1\n",
      "ptimlick \t 1\n",
      "psi22 \t 1\n",
      "pokoirl \t 1\n",
      "paradyne \t 1\n",
      "oosime \t 1\n",
      "omicronCeti \t 1\n",
      "npettes \t 1\n",
      "nkapfere@uwo.ca \t 1\n",
      "njmeluch \t 1\n",
      "niffe \t 1\n",
      "nicholastrode \t 1\n",
      "nicholascross \t 1\n",
      "ndadams \t 1\n",
      "nbarth0516 \t 1\n",
      "nbarret6@uwo.ca \t 1\n",
      "myamar \t 1\n",
      "mwhitle@uwo.ca \t 1\n",
      "mudkip201 \t 1\n",
      "msk1711 \t 1\n",
      "mr_seeker \t 1\n",
      "mlgd \t 1\n",
      "mlewis69 \t 1\n",
      "mjedm6 \t 1\n",
      "mirandavirabeth \t 1\n",
      "mgouws \t 1\n",
      "mdesche2 \t 1\n",
      "mattwj8907 \t 1\n",
      "masamunecyrus \t 1\n",
      "martmeos \t 1\n",
      "lupechales \t 1\n",
      "lmokgeth@uwo.ca \t 1\n",
      "littletofu \t 1\n",
      "lindzdeal812 \t 1\n",
      "lindek \t 1\n",
      "lexagons \t 1\n",
      "leeatschool \t 1\n",
      "lechaussette \t 1\n",
      "lawrence281192 \t 1\n",
      "kpostlet@uwo.ca \t 1\n",
      "kleineguzzista \t 1\n",
      "klapushnizza \t 1\n",
      "kirish2@uwo.ca \t 1\n",
      "kidbrejo \t 1\n",
      "kheperas \t 1\n",
      "katmos \t 1\n",
      "katayfaya \t 1\n",
      "kamdeno333 \t 1\n",
      "justmelissa \t 1\n",
      "justinbronze \t 1\n",
      "juliapot11 \t 1\n",
      "jturns28 \t 1\n",
      "jstol@uwo.ca \t 1\n",
      "jruddoc@uwo.ca \t 1\n",
      "jpdurham \t 1\n",
      "jononeill82 \t 1\n",
      "jones.joshua \t 1\n",
      "jonbark \t 1\n",
      "jonathanstcroix \t 1\n",
      "jojohase \t 1\n",
      "johnv2 \t 1\n",
      "johanger \t 1\n",
      "jo-luc \t 1\n",
      "jntingler \t 1\n",
      "jmills224 \t 1\n",
      "jmccab2@uwo.ca \t 1\n",
      "jlfqam \t 1\n",
      "jferna29@uwo.ca \t 1\n",
      "jeray \t 1\n",
      "jarphys \t 1\n",
      "jaroslavp \t 1\n",
      "jande63 \t 1\n",
      "jamesjantw \t 1\n",
      "jake99340 \t 1\n",
      "isra26 \t 1\n",
      "isabelledechabannes \t 1\n",
      "irishfury \t 1\n",
      "insta \t 1\n",
      "ic5152 \t 1\n",
      "iakey \t 1\n",
      "i find secrets \t 1\n",
      "hummel \t 1\n",
      "hufanean \t 1\n",
      "harshy \t 1\n",
      "harlock1970 \t 1\n",
      "haleyh2211 \t 1\n",
      "hacketju \t 1\n",
      "gthethi@uwo.ca \t 1\n",
      "gregwolf824  \t 1\n",
      "got_milk \t 1\n",
      "glupia \t 1\n",
      "ghostBiologist \t 1\n",
      "galaxies00 \t 1\n",
      "fratchergirl \t 1\n",
      "fractalvibes \t 1\n",
      "forrana \t 1\n",
      "fermat24 \t 1\n",
      "fenrisulf75 \t 1\n",
      "fengist \t 1\n",
      "fajarbudhi17 \t 1\n",
      "emil169 \t 1\n",
      "elre233 \t 1\n",
      "ellu87 \t 1\n",
      "eleri5 \t 1\n",
      "dominikabulat \t 1\n",
      "d.gonsior \t 1\n",
      "curtevans \t 1\n",
      "csulli27@uwo.ca \t 1\n",
      "cplummerabb \t 1\n",
      "cosminman \t 1\n",
      "collaudo \t 1\n",
      "clinton1 \t 1\n",
      "cchoi73 \t 1\n",
      "calfaroc \t 1\n",
      "bschuckenbrock \t 1\n",
      "breezyplatypus \t 1\n",
      "bibliophile4 \t 1\n",
      "bgamble7 \t 1\n",
      "bfrink \t 1\n",
      "bevalorous \t 1\n",
      "bdodd@uwo.ca \t 1\n",
      "bc2callhome \t 1\n",
      "baskus64 \t 1\n",
      "b0409d \t 1\n",
      "aussieneptune \t 1\n",
      "auld \t 1\n",
      "atayl82@uwo.ca \t 1\n",
      "astroscientist42 \t 1\n",
      "astrophysicist2215 \t 1\n",
      "aransom@uwo.ca \t 1\n",
      "apeng5@uwo.ca \t 1\n",
      "aomiotek \t 1\n",
      "annals \t 1\n",
      "andreeags \t 1\n",
      "andiparis \t 1\n",
      "ambsnyder \t 1\n",
      "alucardvladis \t 1\n",
      "alan1001 \t 1\n",
      "akocher2112 \t 1\n",
      "ajohn343@uwo.ca \t 1\n",
      "airbears \t 1\n",
      "agnanase \t 1\n",
      "aglista \t 1\n",
      "afinkbe@uwo.ca \t 1\n",
      "adi dinu \t 1\n",
      "aclev \t 1\n",
      "ZachWilliams \t 1\n",
      "YakupTopal \t 1\n",
      "Whoandwhatitis \t 1\n",
      "TomSun \t 1\n",
      "Thomas Toml \t 1\n",
      "TheStentley \t 1\n",
      "TheLegend55 \t 1\n",
      "Taylanokan \t 1\n",
      "Stof52 \t 1\n",
      "Steven127 \t 1\n",
      "Stefandist \t 1\n",
      "St0mper \t 1\n",
      "Spotter55 \t 1\n",
      "Sophie37 \t 1\n",
      "Somau5 \t 1\n",
      "Sniwa \t 1\n",
      "Sizow \t 1\n",
      "Silver Cat \t 1\n",
      "SIRTFkid \t 1\n",
      "Rogerht \t 1\n",
      "RocketPoweredTennisBall \t 1\n",
      "Robillard \t 1\n",
      "RipperSB \t 1\n",
      "ROE_OpenDays \t 1\n",
      "Peter Dzwig \t 1\n",
      "Paymygasbill77 \t 1\n",
      "Paulus1962 \t 1\n",
      "PILIRANO \t 1\n",
      "P.Schutte \t 1\n",
      "OooortCloud \t 1\n",
      "OmK \t 1\n",
      "ObrienDave \t 1\n",
      "Nrodrigo777 \t 1\n",
      "Noctiferix \t 1\n",
      "Nik05 \t 1\n",
      "NicholasR \t 1\n",
      "Neo99 \t 1\n",
      "Nemesis38s \t 1\n",
      "Neha Palekar \t 1\n",
      "NGXalpha \t 1\n",
      "NGC48100 \t 1\n",
      "NASAFinder \t 1\n",
      "MrMWallace \t 1\n",
      "Montag46 \t 1\n",
      "Milenn \t 1\n",
      "MikeWain \t 1\n",
      "Michael Doll \t 1\n",
      "Mel751 \t 1\n",
      "MarieTran \t 1\n",
      "MJSuperstar \t 1\n",
      "MD27 \t 1\n",
      "Liz217 \t 1\n",
      "LauraGuenthner \t 1\n",
      "LEpauli \t 1\n",
      "KhalilaRedBird \t 1\n",
      "Jonathanmoreno \t 1\n",
      "Johnthewig \t 1\n",
      "Johnarmysf  \t 1\n",
      "Joanne Kennedy \t 1\n",
      "Jahei09 \t 1\n",
      "JT03_X \t 1\n",
      "JRonca \t 1\n",
      "JMuller \t 1\n",
      "Isotronic \t 1\n",
      "IsaacGuasp \t 1\n",
      "ILikeYourGenes \t 1\n",
      "HeatherAH \t 1\n",
      "Gl0rphoid \t 1\n",
      "Gigapants \t 1\n",
      "GalacticSKL \t 1\n",
      "FromKepler186f \t 1\n",
      "Freebird714 \t 1\n",
      "Felix93300 \t 1\n",
      "Elaine  \t 1\n",
      "Ekukhta \t 1\n",
      "Edwige_Nlassa \t 1\n",
      "Ectoplasm \t 1\n",
      "Dugg44 \t 1\n",
      "DrewsK \t 1\n",
      "DoveLove \t 1\n",
      "DeepPastry \t 1\n",
      "DeathDealer315 \t 1\n",
      "DaynanCrull \t 1\n",
      "DavidCurren \t 1\n",
      "DarkStillWater \t 1\n",
      "DanFrench2012 \t 1\n",
      "Cybrspin \t 1\n",
      "Courtneym128 \t 1\n",
      "Corcaroli \t 1\n",
      "ConnorPickett \t 1\n",
      "Colloid \t 1\n",
      "Cicero84 \t 1\n",
      "ChunkPlanet \t 1\n",
      "ChrisRogue \t 1\n",
      "Chibbs \t 1\n",
      "Chappers34 \t 1\n",
      "Cferreri \t 1\n",
      "Ccolvin968 \t 1\n",
      "CavassuarY \t 1\n",
      "CaptAirhead \t 1\n",
      "Bryanlynch \t 1\n",
      "BrokenFibula \t 1\n",
      "Blonglor \t 1\n",
      "Bioman94 \t 1\n",
      "Binsh \t 1\n",
      "Barbalbero \t 1\n",
      "Bally34 \t 1\n",
      "Baccha \t 1\n",
      "BOSSNESS \t 1\n",
      "Ashar83 \t 1\n",
      "Arthemis \t 1\n",
      "Anindita.Nandy \t 1\n",
      "Andrecompadre \t 1\n",
      "Anderson_Blake \t 1\n",
      "Algar \t 1\n",
      "Alecs92 \t 1\n",
      "Aaron101 \t 1\n",
      "12walch \t 1\n",
      " Aleks \t 1\n",
      "ztzanete@uwo.ca \t 0\n",
      "winniechan7 \t 0\n",
      "wguan6 \t 0\n",
      "vbkk3000 \t 0\n",
      "spittma2@uwo.ca \t 0\n",
      "snaki \t 0\n",
      "reese.amber \t 0\n",
      "pbroseme@uwo.ca \t 0\n",
      "pastafarian14 \t 0\n",
      "ogrocks12 \t 0\n",
      "niedzwiedzlebiedz \t 0\n",
      "nbrown89@uwo.ca \t 0\n",
      "naumenko.pavlik65 \t 0\n",
      "mraitt \t 0\n",
      "mobile \t 0\n",
      "miertje \t 0\n",
      "lavalob@uwo.ca \t 0\n",
      "jrutsobe \t 0\n",
      "jlalani2 \t 0\n",
      "jfriend4@uwo.ca \t 0\n",
      "jfoxton@uwo.ca \t 0\n",
      "jbarr29@uwo.ca \t 0\n",
      "jamethon \t 0\n",
      "ilham.mammadov \t 0\n",
      "gkim233@uwo.ca \t 0\n",
      "fmacgill \t 0\n",
      "flucia@uwo.ca \t 0\n",
      "firecatstef \t 0\n",
      "emhcul \t 0\n",
      "deedee123 \t 0\n",
      "dcampb93@uwo.ca \t 0\n",
      "cxie26@uwo.ca \t 0\n",
      "crobi22 \t 0\n",
      "cptak4@uwo.ca \t 0\n",
      "cosler@uwo.ca \t 0\n",
      "bpearson \t 0\n",
      "bluesonthru \t 0\n",
      "betelgeuse1960 \t 0\n",
      "bert willard \t 0\n",
      "awong575@uwo.ca \t 0\n",
      "anucum \t 0\n",
      "anthriscus \t 0\n",
      "acrawf29@uwo.ca \t 0\n",
      "WedoOx \t 0\n",
      "Valdez Johan \t 0\n",
      "VBLANC \t 0\n",
      "MistyArt \t 0\n",
      "Maxsam \t 0\n",
      "MasonHaynes \t 0\n",
      "Joe Darcy \t 0\n",
      "Fezman92 \t 0\n",
      "Erik Israel \t 0\n",
      "Darkskinmale \t 0\n",
      "AtomixSpace \t 0\n",
      "Astroboy98 \t 0\n",
      "Alisonglockzin \t 0\n"
     ]
    }
   ],
   "source": [
    "for annotator, count in [(annotators[t], count) for count, t in reversed(counts)]:\n",
    "    print(annotator.decode('utf-8'), '\\t', count)"
   ]
  },
  {
   "cell_type": "markdown",
   "metadata": {},
   "source": [
    "## Running the algorithm on the top 10 annotators\n",
    "\n",
    "Let's throw in just the top 10 annotators [#126](https://github.com/chengsoonong/crowdastro/issues/126) and see how it goes. First, I'll upsample the positive examples. I'll count a \"negative\" example as anything that doesn't have any positive classifications."
   ]
  },
  {
   "cell_type": "code",
   "execution_count": 33,
   "metadata": {
    "collapsed": false
   },
   "outputs": [],
   "source": [
    "top_labels = labels[top_10]\n",
    "\n",
    "positive_bool = numpy.any(top_labels, axis=0)\n",
    "positives = numpy.arange(top_labels.shape[1])[positive_bool]\n",
    "non_positives = numpy.arange(top_labels.shape[1])[~positive_bool]\n",
    "\n",
    "while positives.shape[0] < non_positives.shape[0]:\n",
    "    new_positives = positives[:]\n",
    "    numpy.random.shuffle(new_positives)\n",
    "    positives = numpy.concatenate([positives, new_positives])\n",
    "\n",
    "positives = positives[:non_positives.shape[0]]\n",
    "\n",
    "upsampled = numpy.concatenate([positives, non_positives])\n",
    "upsampled.sort()"
   ]
  },
  {
   "cell_type": "code",
   "execution_count": 34,
   "metadata": {
    "collapsed": true
   },
   "outputs": [],
   "source": [
    "upsampled_train, upsampled_test = sklearn.cross_validation.train_test_split(downsampled)\n",
    "upsampled_train.sort()\n",
    "upsampled_test.sort()"
   ]
  },
  {
   "cell_type": "markdown",
   "metadata": {},
   "source": [
    "Now I can run the algorithm."
   ]
  },
  {
   "cell_type": "code",
   "execution_count": 35,
   "metadata": {
    "collapsed": false
   },
   "outputs": [
    {
     "name": "stdout",
     "output_type": "stream",
     "text": [
      "(5229,) (1743,)\n"
     ]
    },
    {
     "name": "stderr",
     "output_type": "stream",
     "text": [
      "K:\\Languages\\Python35_64\\lib\\site-packages\\numpy\\ma\\core.py:4139: UserWarning: Warning: converting a masked element to nan.\n",
      "  warnings.warn(\"Warning: converting a masked element to nan.\")\n"
     ]
    }
   ],
   "source": [
    "print(upsampled_train.shape, upsampled_test.shape)\n",
    "\n",
    "with h5py.File(TRAINING_H5_PATH) as f_h5:\n",
    "    x = f_h5['features'][upsampled_train, :]\n",
    "    res = passive_crowd.train(x, top_labels.astype(bool)[:, upsampled_train], lr_init=True)"
   ]
  },
  {
   "cell_type": "code",
   "execution_count": 40,
   "metadata": {
    "collapsed": false,
    "scrolled": true
   },
   "outputs": [
    {
     "name": "stdout",
     "output_type": "stream",
     "text": [
      "0.640485951405\n",
      "[[1518   88]\n",
      " [  91   46]]\n"
     ]
    }
   ],
   "source": [
    "import sklearn.metrics\n",
    "\n",
    "with h5py.File(TRAINING_H5_PATH) as f_h5:\n",
    "    x = f_h5['features']\n",
    "    pred = passive_crowd.predict(res[0], res[1], x[upsampled_test, :])\n",
    "    cm = sklearn.metrics.confusion_matrix(norris_labels[upsampled_test], pred)\n",
    "    \n",
    "    tp = cm[1, 1]\n",
    "    n, p = cm.sum(axis=1)\n",
    "    tn = cm[0, 0]\n",
    "\n",
    "    ba = (tp / p + tn / n) / 2\n",
    "    print(ba)\n",
    "    print(cm)"
   ]
  },
  {
   "cell_type": "code",
   "execution_count": 39,
   "metadata": {
    "collapsed": false
   },
   "outputs": [
    {
     "data": {
      "image/png": "[encoded data removed]",
      "text/plain": [
       "<matplotlib.figure.Figure at 0x22755252cc0>"
      ]
     },
     "metadata": {},
     "output_type": "display_data"
    }
   ],
   "source": [
    "import seaborn, matplotlib.pyplot as plt\n",
    "%matplotlib inline\n",
    "\n",
    "with h5py.File(TRAINING_H5_PATH) as f_h5:\n",
    "    x = f_h5['features']\n",
    "    pred = passive_crowd.logistic_regression(res[0], res[1], x[upsampled_test, :])\n",
    "    pos_pred = pred[norris_labels[upsampled_test] == 1]\n",
    "    neg_pred = pred[norris_labels[upsampled_test] == 0]\n",
    "    assert pos_pred.shape[0] + neg_pred.shape[0] == pred.shape[0]\n",
    "    plt.figure(figsize=(10, 5))\n",
    "    seaborn.distplot(pos_pred, rug=True, hist=False, color='green', rug_kws={'alpha': 0.1})\n",
    "    seaborn.distplot(neg_pred, rug=True, hist=False, color='red', rug_kws={'alpha': 0.1})\n",
    "    plt.xlim((0, 1))\n",
    "    plt.show()"
   ]
  },
  {
   "cell_type": "markdown",
   "metadata": {
    "collapsed": true
   },
   "source": [
    "## Running the algorithm on simulated labellers, no noise\n",
    "\n",
    "I'll use the Norris labels to generate true labels for a fully observed crowd labelling scenario. "
   ]
  },
  {
   "cell_type": "code",
   "execution_count": 41,
   "metadata": {
    "collapsed": false
   },
   "outputs": [],
   "source": [
    "simulated_norris_labels = numpy.ma.MaskedArray(numpy.tile(norris_labels, (2, 1)), False)\n",
    "#                                                mask=numpy.random.binomial(1, 0.5, size=(5, 24140)))"
   ]
  },
  {
   "cell_type": "code",
   "execution_count": 42,
   "metadata": {
    "collapsed": false
   },
   "outputs": [],
   "source": [
    "with h5py.File(TRAINING_H5_PATH) as f_h5:\n",
    "    x = f_h5['features'][upsampled_train, :]\n",
    "    res = passive_crowd.train(x, simulated_norris_labels.astype(bool)[:, upsampled_train], lr_init=True)"
   ]
  },
  {
   "cell_type": "code",
   "execution_count": 43,
   "metadata": {
    "collapsed": false
   },
   "outputs": [
    {
     "name": "stdout",
     "output_type": "stream",
     "text": [
      "0.250440865004\n",
      "[[  19 1587]\n",
      " [  70   67]]\n"
     ]
    }
   ],
   "source": [
    "with h5py.File(TRAINING_H5_PATH) as f_h5:\n",
    "    x = f_h5['features']\n",
    "    pred = passive_crowd.predict(res[0], res[1], x[upsampled_test, :])\n",
    "    cm = sklearn.metrics.confusion_matrix(norris_labels[upsampled_test], pred)\n",
    "    \n",
    "    tp = cm[1, 1]\n",
    "    n, p = cm.sum(axis=1)\n",
    "    tn = cm[0, 0]\n",
    "\n",
    "    ba = (tp / p + tn / n) / 2\n",
    "    print(ba)\n",
    "    print(cm)"
   ]
  },
  {
   "cell_type": "code",
   "execution_count": 44,
   "metadata": {
    "collapsed": false
   },
   "outputs": [
    {
     "data": {
      "image/png": "[encoded data removed]",
      "text/plain": [
       "<matplotlib.figure.Figure at 0x227549b9d68>"
      ]
     },
     "metadata": {},
     "output_type": "display_data"
    }
   ],
   "source": [
    "with h5py.File(TRAINING_H5_PATH) as f_h5:\n",
    "    x = f_h5['features']\n",
    "    score = res[0].dot(x[upsampled_test, :].T) + res[1]\n",
    "    pos_score = score[norris_labels[upsampled_test] == 1]\n",
    "    neg_score = score[norris_labels[upsampled_test] == 0]\n",
    "    assert pos_score.shape[0] + neg_score.shape[0] == score.shape[0]\n",
    "    plt.figure(figsize=(10, 5))\n",
    "    seaborn.distplot(pos_score, rug=True, hist=False, color='green', rug_kws={'alpha': 0.1})\n",
    "    seaborn.distplot(neg_score, rug=True, hist=False, color='red', rug_kws={'alpha': 0.1})\n",
    "    plt.show()"
   ]
  },
  {
   "cell_type": "code",
   "execution_count": 45,
   "metadata": {
    "collapsed": false
   },
   "outputs": [
    {
     "data": {
      "image/png": "[encoded data removed]",
      "text/plain": [
       "<matplotlib.figure.Figure at 0x22756a617f0>"
      ]
     },
     "metadata": {},
     "output_type": "display_data"
    }
   ],
   "source": [
    "with h5py.File(TRAINING_H5_PATH) as f_h5:\n",
    "    x = f_h5['features']\n",
    "    score = res[0].dot(x[upsampled_train, :].T) + res[1]\n",
    "    pos_score = score[norris_labels[upsampled_train] == 1]\n",
    "    neg_score = score[norris_labels[upsampled_train] == 0]\n",
    "    assert pos_score.shape[0] + neg_score.shape[0] == score.shape[0]\n",
    "    plt.figure(figsize=(10, 5))\n",
    "    seaborn.distplot(pos_score, rug=True, hist=False, color='green', rug_kws={'alpha': 0.1})\n",
    "    seaborn.distplot(neg_score, rug=True, hist=False, color='red', rug_kws={'alpha': 0.1})\n",
    "    plt.xlim((-10, 25))\n",
    "    plt.show()"
   ]
  },
  {
   "cell_type": "markdown",
   "metadata": {},
   "source": [
    "## Norris Baseline\n",
    "\n",
    "Just a quick comparison with the Norris labels, fully observed and one annotator."
   ]
  },
  {
   "cell_type": "code",
   "execution_count": 26,
   "metadata": {
    "collapsed": false
   },
   "outputs": [],
   "source": [
    "import sklearn.linear_model\n",
    "\n",
    "lr = sklearn.linear_model.LogisticRegression(C=100)\n",
    "with h5py.File(TRAINING_H5_PATH) as f_h5:\n",
    "    x = f_h5['features']\n",
    "    lr.fit(x[downsampled_train, :], norris_labels[downsampled_train])"
   ]
  },
  {
   "cell_type": "code",
   "execution_count": 27,
   "metadata": {
    "collapsed": false
   },
   "outputs": [
    {
     "name": "stdout",
     "output_type": "stream",
     "text": [
      "0.698217910746\n",
      "[[1580   12]\n",
      " [  90   61]]\n"
     ]
    }
   ],
   "source": [
    "with h5py.File(TRAINING_H5_PATH) as f_h5:\n",
    "    x = f_h5['features']\n",
    "    pred = lr.predict(x[downsampled_test, :])\n",
    "    cm = sklearn.metrics.confusion_matrix(norris_labels[downsampled_test], pred)\n",
    "    \n",
    "    tp = cm[1, 1]\n",
    "    n, p = cm.sum(axis=1)\n",
    "    tn = cm[0, 0]\n",
    "\n",
    "    ba = (tp / p + tn / n) / 2\n",
    "    print(ba)\n",
    "    print(cm)"
   ]
  },
  {
   "cell_type": "code",
   "execution_count": 28,
   "metadata": {
    "collapsed": false
   },
   "outputs": [
    {
     "data": {
      "image/png": "[encoded data removed]",
      "text/plain": [
       "<matplotlib.figure.Figure at 0x22755929860>"
      ]
     },
     "metadata": {},
     "output_type": "display_data"
    }
   ],
   "source": [
    "with h5py.File(TRAINING_H5_PATH) as f_h5:\n",
    "    x = f_h5['features']\n",
    "    score = lr.decision_function(x[downsampled_test, :])\n",
    "    pos_score = score[norris_labels[downsampled_test] == 1]\n",
    "    neg_score = score[norris_labels[downsampled_test] == 0]\n",
    "    assert pos_score.shape[0] + neg_score.shape[0] == score.shape[0]\n",
    "    plt.figure(figsize=(10, 5))\n",
    "    seaborn.distplot(pos_score, rug=True, hist=False, color='green', rug_kws={'alpha': 0.1})\n",
    "    seaborn.distplot(neg_score, rug=True, hist=False, color='red', rug_kws={'alpha': 0.1})\n",
    "    plt.show()"
   ]
  },
  {
   "cell_type": "code",
   "execution_count": 29,
   "metadata": {
    "collapsed": false
   },
   "outputs": [
    {
     "data": {
      "image/png": "[encoded data removed]",
      "text/plain": [
       "<matplotlib.figure.Figure at 0x2274c3a7c88>"
      ]
     },
     "metadata": {},
     "output_type": "display_data"
    }
   ],
   "source": [
    "with h5py.File(TRAINING_H5_PATH) as f_h5:\n",
    "    x = f_h5['features']\n",
    "    score = lr.decision_function(x[downsampled_train, :])\n",
    "    pos_score = score[norris_labels[downsampled_train] == 1]\n",
    "    neg_score = score[norris_labels[downsampled_train] == 0]\n",
    "    assert pos_score.shape[0] + neg_score.shape[0] == score.shape[0]\n",
    "    plt.figure(figsize=(10, 5))\n",
    "    seaborn.distplot(pos_score, rug=True, hist=False, color='green', rug_kws={'alpha': 0.1})\n",
    "    seaborn.distplot(neg_score, rug=True, hist=False, color='red', rug_kws={'alpha': 0.1})\n",
    "    plt.show()"
   ]
  },
  {
   "cell_type": "markdown",
   "metadata": {},
   "source": [
    "## Top 10 annotators with scalar $\\eta_t$"
   ]
  },
  {
   "cell_type": "code",
   "execution_count": 88,
   "metadata": {
    "collapsed": false
   },
   "outputs": [
    {
     "name": "stderr",
     "output_type": "stream",
     "text": [
      "K:\\Languages\\Python35_64\\lib\\site-packages\\numpy\\ma\\core.py:4139: UserWarning: Warning: converting a masked element to nan.\n",
      "  warnings.warn(\"Warning: converting a masked element to nan.\")\n"
     ]
    }
   ],
   "source": [
    "with h5py.File(TRAINING_H5_PATH) as f_h5:\n",
    "    x = f_h5['features'][downsampled_train, :]\n",
    "    res = active_crowd_scalar.train(x, top_labels.astype(bool)[:, downsampled_train], lr_init=True)"
   ]
  },
  {
   "cell_type": "code",
   "execution_count": 89,
   "metadata": {
    "collapsed": false
   },
   "outputs": [
    {
     "name": "stdout",
     "output_type": "stream",
     "text": [
      "0.718941748346\n",
      "[[1440  162]\n",
      " [  65   76]]\n"
     ]
    }
   ],
   "source": [
    "with h5py.File(TRAINING_H5_PATH) as f_h5:\n",
    "    x = f_h5['features']\n",
    "    pred = passive_crowd.predict(res[0], res[1], x[downsampled_test, :])\n",
    "    cm = sklearn.metrics.confusion_matrix(norris_labels[downsampled_test], pred)\n",
    "    \n",
    "    tp = cm[1, 1]\n",
    "    n, p = cm.sum(axis=1)\n",
    "    tn = cm[0, 0]\n",
    "\n",
    "    ba = (tp / p + tn / n) / 2\n",
    "    print(ba)\n",
    "    print(cm)"
   ]
  },
  {
   "cell_type": "code",
   "execution_count": 98,
   "metadata": {
    "collapsed": false
   },
   "outputs": [
    {
     "data": {
      "image/png": "[encoded data removed]",
      "text/plain": [
       "<matplotlib.figure.Figure at 0x268835bc128>"
      ]
     },
     "metadata": {},
     "output_type": "display_data"
    }
   ],
   "source": [
    "with h5py.File(TRAINING_H5_PATH) as f_h5:\n",
    "    x = f_h5['features']\n",
    "    score = res[0].dot(x[downsampled_test, :].T) + res[1]\n",
    "    pos_score = score[norris_labels[downsampled_test] == 1]\n",
    "    neg_score = score[norris_labels[downsampled_test] == 0]\n",
    "    assert pos_score.shape[0] + neg_score.shape[0] == score.shape[0]\n",
    "    plt.figure(figsize=(10, 5))\n",
    "    seaborn.distplot(pos_score, rug=True, hist=False, color='green', rug_kws={'alpha': 0.1})\n",
    "    seaborn.distplot(neg_score, rug=True, hist=False, color='red', rug_kws={'alpha': 0.1})\n",
    "    plt.xlim((-20, 20))\n",
    "    plt.show()"
   ]
  },
  {
   "cell_type": "code",
   "execution_count": 97,
   "metadata": {
    "collapsed": false
   },
   "outputs": [
    {
     "data": {
      "image/png": "[encoded data removed]",
      "text/plain": [
       "<matplotlib.figure.Figure at 0x26882e72fd0>"
      ]
     },
     "metadata": {},
     "output_type": "display_data"
    }
   ],
   "source": [
    "with h5py.File(TRAINING_H5_PATH) as f_h5:\n",
    "    x = f_h5['features']\n",
    "    score = res[0].dot(x[downsampled_train, :].T) + res[1]\n",
    "    pos_score = score[norris_labels[downsampled_train] == 1]\n",
    "    neg_score = score[norris_labels[downsampled_train] == 0]\n",
    "    assert pos_score.shape[0] + neg_score.shape[0] == score.shape[0]\n",
    "    plt.figure(figsize=(10, 5))\n",
    "    seaborn.distplot(pos_score, rug=True, hist=False, color='green', rug_kws={'alpha': 0.1})\n",
    "    seaborn.distplot(neg_score, rug=True, hist=False, color='red', rug_kws={'alpha': 0.1})\n",
    "    plt.xlim((-20, 20))\n",
    "    plt.show()"
   ]
  },
  {
   "cell_type": "code",
   "execution_count": 92,
   "metadata": {
    "collapsed": false
   },
   "outputs": [
    {
     "data": {
      "text/plain": [
       "array([ 0.13664592,  0.37203094,  0.2565089 ,  0.74780762,  0.02890832,\n",
       "        0.81651655,  0.12864316,  0.02816478,  0.16995135,  0.3093587 ])"
      ]
     },
     "execution_count": 92,
     "metadata": {},
     "output_type": "execute_result"
    }
   ],
   "source": [
    "res[2]"
   ]
  },
  {
   "cell_type": "markdown",
   "metadata": {
    "collapsed": false
   },
   "source": [
    "## Clustering annotators"
   ]
  },
  {
   "cell_type": "markdown",
   "metadata": {
    "collapsed": true
   },
   "source": [
    "First, let's make a covariance matrix."
   ]
  },
  {
   "cell_type": "code",
   "execution_count": 17,
   "metadata": {
    "collapsed": false
   },
   "outputs": [
    {
     "name": "stdout",
     "output_type": "stream",
     "text": [
      "[[0.06666666666666668 0.06666666666666667 -- ..., -- -- --]\n",
      " [0.06666666666666667 0.05500511951244607 0.03833333333333335 ..., --\n",
      "  -9.912705577010326e-19 --]\n",
      " [-- 0.03833333333333335 0.07666666666666666 ..., -- -- --]\n",
      " ..., \n",
      " [-- -- -- ..., 0.06495589414595031 -- --]\n",
      " [-- -9.912705577010326e-19 -- ..., -- 0.125 --]\n",
      " [-- -- -- ..., -- -- 0.06666666666666668]] (1193, 1193)\n"
     ]
    }
   ],
   "source": [
    "cov = numpy.ma.cov(labels)\n",
    "print(cov, cov.shape)"
   ]
  },
  {
   "cell_type": "code",
   "execution_count": 18,
   "metadata": {
    "collapsed": false
   },
   "outputs": [
    {
     "data": {
      "text/plain": [
       "<matplotlib.image.AxesImage at 0x24180002f60>"
      ]
     },
     "execution_count": 18,
     "metadata": {},
     "output_type": "execute_result"
    },
    {
     "data": {
      "image/png": "[encoded data removed]",
      "text/plain": [
       "<matplotlib.figure.Figure at 0x241e5eca208>"
      ]
     },
     "metadata": {},
     "output_type": "display_data"
    }
   ],
   "source": [
    "plt.imshow(cov, interpolation='None')"
   ]
  },
  {
   "cell_type": "markdown",
   "metadata": {},
   "source": [
    "As expected, lots of unknowns. We'll press on nevertheless!"
   ]
  },
  {
   "cell_type": "code",
   "execution_count": 34,
   "metadata": {
    "collapsed": true
   },
   "outputs": [],
   "source": [
    "import sklearn.cluster, collections"
   ]
  },
  {
   "cell_type": "code",
   "execution_count": 29,
   "metadata": {
    "collapsed": false
   },
   "outputs": [
    {
     "data": {
      "text/plain": [
       "KMeans(copy_x=True, init='k-means++', max_iter=300, n_clusters=5, n_init=10,\n",
       "    n_jobs=1, precompute_distances='auto', random_state=None, tol=0.0001,\n",
       "    verbose=0)"
      ]
     },
     "execution_count": 29,
     "metadata": {},
     "output_type": "execute_result"
    }
   ],
   "source": [
    "kmc = sklearn.cluster.KMeans(5)\n",
    "kmc.fit(cov)"
   ]
  },
  {
   "cell_type": "code",
   "execution_count": 33,
   "metadata": {
    "collapsed": false
   },
   "outputs": [],
   "source": [
    "clusters = kmc.predict(cov)"
   ]
  },
  {
   "cell_type": "markdown",
   "metadata": {},
   "source": [
    "Now, we'll do a majority vote over these clusters."
   ]
  },
  {
   "cell_type": "code",
   "execution_count": 37,
   "metadata": {
    "collapsed": false
   },
   "outputs": [],
   "source": [
    "cluster_labels = numpy.ma.MaskedArray(numpy.zeros((5, labels.shape[1])), mask=numpy.zeros((5, labels.shape[1])))\n",
    "for c in range(5):\n",
    "    for i in range(labels.shape[1]):\n",
    "        this_cluster_labels = labels[clusters == c, i]\n",
    "        # Compute the majority vote.\n",
    "        counter = collections.Counter(this_cluster_labels[~this_cluster_labels.mask])\n",
    "        if counter:\n",
    "            cluster_labels[c, i] = max(counter, key=counter.get)\n",
    "        else:\n",
    "            cluster_labels.mask[c, i] = True"
   ]
  },
  {
   "cell_type": "markdown",
   "metadata": {},
   "source": [
    "Now let's try a basic logistic regression on each of them."
   ]
  },
  {
   "cell_type": "code",
   "execution_count": 59,
   "metadata": {
    "collapsed": true
   },
   "outputs": [],
   "source": [
    "def balanced_accuracy(y_true, y_pred):\n",
    "    try:\n",
    "        cm = sklearn.metrics.confusion_matrix(y_true[~y_pred.mask], y_pred[~y_pred.mask])\n",
    "    except AttributeError:\n",
    "        cm = sklearn.metrics.confusion_matrix(y_true, y_pred)\n",
    "    \n",
    "    tp = cm[1, 1]\n",
    "    n, p = cm.sum(axis=1)\n",
    "    tn = cm[0, 0]\n",
    "\n",
    "    ba = (tp / p + tn / n) / 2\n",
    "    return ba"
   ]
  },
  {
   "cell_type": "code",
   "execution_count": 52,
   "metadata": {
    "collapsed": false
   },
   "outputs": [
    {
     "name": "stdout",
     "output_type": "stream",
     "text": [
      "0.727235774647\n",
      "0.715165678675\n",
      "0.754294782614\n",
      "0.723188656146\n",
      "0.5\n"
     ]
    }
   ],
   "source": [
    "i_tr, i_te = sklearn.cross_validation.train_test_split(numpy.arange(labels.shape[1]))\n",
    "\n",
    "with h5py.File(TRAINING_H5_PATH) as f_h5:\n",
    "    features = f_h5['features'].value\n",
    "    for c in range(5):\n",
    "        labels_ = cluster_labels[c]\n",
    "        lr = sklearn.linear_model.LogisticRegression(class_weight='balanced')\n",
    "        lr.fit(features[i_tr], labels_[i_tr])\n",
    "        print(balanced_accuracy(norris_labels[i_te], lr.predict(features[i_te])))"
   ]
  },
  {
   "cell_type": "markdown",
   "metadata": {},
   "source": [
    "Next, we'll put it into the scalar $\\eta_t$ implementation."
   ]
  },
  {
   "cell_type": "code",
   "execution_count": 57,
   "metadata": {
    "collapsed": false
   },
   "outputs": [
    {
     "name": "stderr",
     "output_type": "stream",
     "text": [
      "K:\\Languages\\Python35_64\\lib\\site-packages\\numpy\\ma\\core.py:4139: UserWarning: Warning: converting a masked element to nan.\n",
      "  warnings.warn(\"Warning: converting a masked element to nan.\")\n",
      "K:\\Languages\\Python35_64\\lib\\site-packages\\numpy\\ma\\core.py:827: RuntimeWarning: invalid value encountered in less_equal\n",
      "  return umath.less_equal(x, self.critical_value)\n"
     ]
    }
   ],
   "source": [
    "with h5py.File(TRAINING_H5_PATH) as f_h5:\n",
    "    x = f_h5['features'][downsampled_train, :]\n",
    "    res = active_crowd_scalar.train(x, cluster_labels.astype(bool)[:, downsampled_train], lr_init=True)"
   ]
  },
  {
   "cell_type": "code",
   "execution_count": 60,
   "metadata": {
    "collapsed": false
   },
   "outputs": [
    {
     "name": "stdout",
     "output_type": "stream",
     "text": [
      "[[1568   21]\n",
      " [ 121   33]]\n",
      "0.600534927627\n"
     ]
    }
   ],
   "source": [
    "with h5py.File(TRAINING_H5_PATH) as f_h5:\n",
    "    x = f_h5['features']\n",
    "    pred = passive_crowd.predict(res[0], res[1], x[downsampled_test, :])\n",
    "    cm = sklearn.metrics.confusion_matrix(norris_labels[downsampled_test], pred)\n",
    "    ba = balanced_accuracy(norris_labels[downsampled_test], pred)\n",
    "    print(cm)\n",
    "    print(ba)"
   ]
  },
  {
   "cell_type": "code",
   "execution_count": 63,
   "metadata": {
    "collapsed": false
   },
   "outputs": [
    {
     "data": {
      "image/png": "[encoded data removed]",
      "text/plain": [
       "<matplotlib.figure.Figure at 0x24186d75358>"
      ]
     },
     "metadata": {},
     "output_type": "display_data"
    }
   ],
   "source": [
    "with h5py.File(TRAINING_H5_PATH) as f_h5:\n",
    "    x = f_h5['features']\n",
    "    score = res[0].dot(x[downsampled_test, :].T) + res[1]\n",
    "    pos_score = score[norris_labels[downsampled_test] == 1]\n",
    "    neg_score = score[norris_labels[downsampled_test] == 0]\n",
    "    assert pos_score.shape[0] + neg_score.shape[0] == score.shape[0]\n",
    "    plt.figure(figsize=(10, 5))\n",
    "    seaborn.distplot(pos_score, rug=True, hist=False, color='green', rug_kws={'alpha': 0.1})\n",
    "    seaborn.distplot(neg_score, rug=True, hist=False, color='red', rug_kws={'alpha': 0.1})\n",
    "    plt.xlim((-20, 20))\n",
    "    plt.show()"
   ]
  },
  {
   "cell_type": "markdown",
   "metadata": {},
   "source": [
    "Now let's try the full algorithm."
   ]
  },
  {
   "cell_type": "code",
   "execution_count": 67,
   "metadata": {
    "collapsed": false
   },
   "outputs": [
    {
     "name": "stderr",
     "output_type": "stream",
     "text": [
      "K:\\Languages\\Python35_64\\lib\\site-packages\\numpy\\ma\\core.py:4139: UserWarning: Warning: converting a masked element to nan.\n",
      "  warnings.warn(\"Warning: converting a masked element to nan.\")\n"
     ]
    }
   ],
   "source": [
    "with h5py.File(TRAINING_H5_PATH) as f_h5:\n",
    "    x = f_h5['features'][downsampled_train, :]\n",
    "    res = active_crowd.train(x, cluster_labels.astype(bool)[:, downsampled_train], lr_init=True)"
   ]
  },
  {
   "cell_type": "code",
   "execution_count": 68,
   "metadata": {
    "collapsed": false
   },
   "outputs": [
    {
     "name": "stdout",
     "output_type": "stream",
     "text": [
      "[[   0 1589]\n",
      " [   1  153]]\n",
      "0.496753246753\n"
     ]
    }
   ],
   "source": [
    "with h5py.File(TRAINING_H5_PATH) as f_h5:\n",
    "    x = f_h5['features']\n",
    "    pred = passive_crowd.predict(res[0], res[1], x[downsampled_test, :])\n",
    "    cm = sklearn.metrics.confusion_matrix(norris_labels[downsampled_test], pred)\n",
    "    ba = balanced_accuracy(norris_labels[downsampled_test], pred)\n",
    "    print(cm)\n",
    "    print(ba)"
   ]
  },
  {
   "cell_type": "code",
   "execution_count": 78,
   "metadata": {
    "collapsed": false
   },
   "outputs": [
    {
     "data": {
      "text/plain": [
       "<matplotlib.legend.Legend at 0x2419867d4a8>"
      ]
     },
     "execution_count": 78,
     "metadata": {},
     "output_type": "execute_result"
    },
    {
     "data": {
      "image/png": "[encoded data removed]",
      "text/plain": [
       "<matplotlib.figure.Figure at 0x24198643978>"
      ]
     },
     "metadata": {},
     "output_type": "display_data"
    }
   ],
   "source": [
    "plt.plot(res[2].T)\n",
    "plt.xscale('log')\n",
    "plt.legend(range(5))"
   ]
  },
  {
   "cell_type": "code",
   "execution_count": 79,
   "metadata": {
    "collapsed": false
   },
   "outputs": [
    {
     "name": "stdout",
     "output_type": "stream",
     "text": [
      "[ -206.06684877  -995.36668545 -1651.16336611 -1076.5866288    -48.6273634 ]\n"
     ]
    }
   ],
   "source": [
    "print(res[3])"
   ]
  },
  {
   "cell_type": "markdown",
   "metadata": {
    "collapsed": true
   },
   "source": [
    "## PCA on $X$?"
   ]
  },
  {
   "cell_type": "code",
   "execution_count": 94,
   "metadata": {
    "collapsed": true
   },
   "outputs": [],
   "source": [
    "import sklearn.decomposition\n",
    "\n",
    "pca = sklearn.decomposition.PCA(n_components=10)"
   ]
  },
  {
   "cell_type": "code",
   "execution_count": 95,
   "metadata": {
    "collapsed": false
   },
   "outputs": [],
   "source": [
    "with h5py.File(TRAINING_H5_PATH) as f_h5:\n",
    "    x = f_h5['features'][downsampled_train, :]\n",
    "    pca.fit(x)"
   ]
  },
  {
   "cell_type": "code",
   "execution_count": 96,
   "metadata": {
    "collapsed": true
   },
   "outputs": [],
   "source": [
    "with h5py.File(TRAINING_H5_PATH) as f_h5:\n",
    "    x = f_h5['features'][downsampled_train, :]\n",
    "    res = active_crowd.train(pca.transform(x), labels.astype(bool)[:, downsampled_train], lr_init=True)"
   ]
  },
  {
   "cell_type": "code",
   "execution_count": 108,
   "metadata": {
    "collapsed": false
   },
   "outputs": [
    {
     "data": {
      "text/plain": [
       "<matplotlib.axes._subplots.AxesSubplot at 0x24198158ba8>"
      ]
     },
     "execution_count": 108,
     "metadata": {},
     "output_type": "execute_result"
    },
    {
     "data": {
      "image/png": "[encoded data removed]",
      "text/plain": [
       "<matplotlib.figure.Figure at 0x2419aaf37f0>"
      ]
     },
     "metadata": {},
     "output_type": "display_data"
    }
   ],
   "source": [
    "seaborn.distplot(res[3])"
   ]
  },
  {
   "cell_type": "code",
   "execution_count": 109,
   "metadata": {
    "collapsed": false
   },
   "outputs": [
    {
     "name": "stdout",
     "output_type": "stream",
     "text": [
      "[[1396  193]\n",
      " [  47  107]]\n",
      "0.786672578523\n"
     ]
    }
   ],
   "source": [
    "with h5py.File(TRAINING_H5_PATH) as f_h5:\n",
    "    x = f_h5['features']\n",
    "    pred = passive_crowd.predict(res[0], res[1], pca.transform(x[downsampled_test, :]))\n",
    "    cm = sklearn.metrics.confusion_matrix(norris_labels[downsampled_test], pred)\n",
    "    ba = balanced_accuracy(norris_labels[downsampled_test], pred)\n",
    "    print(cm)\n",
    "    print(ba)"
   ]
  },
  {
   "cell_type": "code",
   "execution_count": 112,
   "metadata": {
    "collapsed": false
   },
   "outputs": [
    {
     "data": {
      "image/png": "[encoded data removed]",
      "text/plain": [
       "<matplotlib.figure.Figure at 0x24198307128>"
      ]
     },
     "metadata": {},
     "output_type": "display_data"
    }
   ],
   "source": [
    "with h5py.File(TRAINING_H5_PATH) as f_h5:\n",
    "    x = f_h5['features']\n",
    "    score = res[0].dot(pca.transform(x[downsampled_test, :]).T) + res[1]\n",
    "    pos_score = score[norris_labels[downsampled_test] == 1]\n",
    "    neg_score = score[norris_labels[downsampled_test] == 0]\n",
    "    assert pos_score.shape[0] + neg_score.shape[0] == score.shape[0]\n",
    "    plt.figure(figsize=(10, 5))\n",
    "    seaborn.distplot(pos_score, rug=True, hist=False, color='green', rug_kws={'alpha': 0.1})\n",
    "    seaborn.distplot(neg_score, rug=True, hist=False, color='red', rug_kws={'alpha': 0.1})\n",
    "    plt.xlim((-100, 100))\n",
    "    plt.show()"
   ]
  },
  {
   "cell_type": "code",
   "execution_count": null,
   "metadata": {
    "collapsed": true
   },
   "outputs": [],
   "source": []
  }
 ],
 "metadata": {
  "kernelspec": {
   "display_name": "Python 3",
   "language": "python",
   "name": "python3"
  },
  "language_info": {
   "codemirror_mode": {
    "name": "ipython",
    "version": 3
   },
   "file_extension": ".py",
   "mimetype": "text/x-python",
   "name": "python",
   "nbconvert_exporter": "python",
   "pygments_lexer": "ipython3",
   "version": "3.5.1"
  }
 },
 "nbformat": 4,
 "nbformat_minor": 0
}
