{
 "cells": [
  {
   "cell_type": "markdown",
   "metadata": {},
   "source": [
    "# RBF Gamma\n",
    "\n",
    "This notebook tries to find the standard deviation, and hence the $\\gamma$, for RBF kernels on the RGZ dataset."
   ]
  },
  {
   "cell_type": "code",
   "execution_count": 12,
   "metadata": {
    "collapsed": true
   },
   "outputs": [],
   "source": [
    "import h5py, numpy, sklearn.metrics.pairwise, sklearn.cross_validation\n",
    "\n",
    "TRAINING_H5 = '../training.h5'"
   ]
  },
  {
   "cell_type": "code",
   "execution_count": 21,
   "metadata": {
    "collapsed": false
   },
   "outputs": [],
   "source": [
    "with h5py.File(TRAINING_H5, 'r') as f:\n",
    "    features = numpy.hstack([f['astro'], f['cnn_outputs']])\n",
    "    features, _ = sklearn.cross_validation.train_test_split(features, train_size=0.4, stratify=f['labels'])\n",
    "    distances = sklearn.metrics.pairwise.pairwise_distances(features, n_jobs=-1)\n",
    "    sq_distances = (distances**2).reshape((-1,))\n",
    "    low, med, up = numpy.percentile(sq_distances, [25, 50, 75])"
   ]
  },
  {
   "cell_type": "code",
   "execution_count": 22,
   "metadata": {
    "collapsed": false
   },
   "outputs": [
    {
     "data": {
      "text/plain": [
       "(9.1663069780085295e-05, 2.2006164003589744e-05, 2.5167104710154812e-06)"
      ]
     },
     "execution_count": 22,
     "metadata": {},
     "output_type": "execute_result"
    }
   ],
   "source": [
    "1/low, 1/med, 1/up"
   ]
  },
  {
   "cell_type": "code",
   "execution_count": 20,
   "metadata": {
    "collapsed": false
   },
   "outputs": [
    {
     "data": {
      "text/plain": [
       "9.3046119711918889e-05"
      ]
     },
     "execution_count": 20,
     "metadata": {},
     "output_type": "execute_result"
    }
   ],
   "source": [
    "1/low"
   ]
  },
  {
   "cell_type": "code",
   "execution_count": null,
   "metadata": {
    "collapsed": true
   },
   "outputs": [],
   "source": []
  }
 ],
 "metadata": {
  "kernelspec": {
   "display_name": "Python 3",
   "language": "python",
   "name": "python3"
  },
  "language_info": {
   "codemirror_mode": {
    "name": "ipython",
    "version": 3
   },
   "file_extension": ".py",
   "mimetype": "text/x-python",
   "name": "python",
   "nbconvert_exporter": "python",
   "pygments_lexer": "ipython3",
   "version": "3.5.1"
  }
 },
 "nbformat": 4,
 "nbformat_minor": 0
}
