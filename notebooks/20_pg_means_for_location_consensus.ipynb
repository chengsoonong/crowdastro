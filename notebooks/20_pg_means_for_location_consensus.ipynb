{
 "cells": [
  {
   "cell_type": "markdown",
   "metadata": {},
   "source": [
    "# PG-means for Location Consensus\n",
    "\n",
    "In this notebook, I compare my method of finding the location consensus (henceforth \"PG-means consensus\") to Radio Galaxy Zoo's method of finding location consensus (henceforth \"KDE consensus\"). In particular, I'm interested in\n",
    "\n",
    "- speed difference between the methods\n",
    "- robustness difference between the methods\n",
    "- agreement between the methods\n",
    "\n",
    "I also want to get some diagrams and plots I can use for a write-up, so I'll be trying to distill these points into diagrams and plots."
   ]
  },
  {
   "cell_type": "markdown",
   "metadata": {},
   "source": [
    "## Setup"
   ]
  },
  {
   "cell_type": "code",
   "execution_count": 58,
   "metadata": {
    "collapsed": false
   },
   "outputs": [],
   "source": [
    "import collections\n",
    "import functools\n",
    "import logging\n",
    "import operator\n",
    "import sys\n",
    "\n",
    "import matplotlib.pyplot\n",
    "import numpy\n",
    "import scipy.stats\n",
    "import sklearn.mixture\n",
    "\n",
    "matplotlib.pyplot.set_cmap('hot')\n",
    "\n",
    "sys.path.insert(1, '..')\n",
    "import crowdastro.config\n",
    "import crowdastro.data\n",
    "import crowdastro.labels\n",
    "import crowdastro.rgz_analysis.consensus\n",
    "import crowdastro.show\n",
    "\n",
    "%matplotlib inline"
   ]
  },
  {
   "cell_type": "markdown",
   "metadata": {},
   "source": [
    "Note that there are two sections to a consensus. These are the radio component consensus, and the location consensus. I only want to test the latter, so the radio component consensus code should be the same. However, KDE consensus is interwoven with a method of finding the radio component consensus, so I will have to use that method and adapt my code to work with it."
   ]
  },
  {
   "cell_type": "code",
   "execution_count": 19,
   "metadata": {
    "collapsed": true
   },
   "outputs": [],
   "source": [
    "def get_subject_consensus(subject, significance=0.02):\n",
    "    \"\"\"Finds the volunteer consensus for radio combination and source location.\n",
    "    \n",
    "    This is adapted from crowdastro.labels.get_subject_consensus, using Kyle Willett's\n",
    "    radio consensus method instead of my own.\n",
    "\n",
    "    subject: RGZ subject dict.\n",
    "    significance: Optional. Significance level for splitting consensus coords.\n",
    "    -> dict mapping radio signatures to ((x, y) NumPy arrays, or None).\n",
    "    \"\"\"\n",
    "\n",
    "    classifications = crowdastro.data.get_subject_classifications(subject)\n",
    "    if not classifications:\n",
    "        return {}\n",
    "    \n",
    "    ## Kyle's code begins here.\n",
    "    cdict = {}\n",
    "    unique_users = set()\n",
    "    clist_all = []\n",
    "    listcount = []\n",
    "    clen_start = 0\n",
    "    for c in classifications:\n",
    "        clist_all.append(c)\n",
    "        clen_start += 1\n",
    "        try:\n",
    "            user_name = c['user_name']\n",
    "        except KeyError:\n",
    "            user_name = 'Anonymous'\n",
    "        \n",
    "        if user_name not in unique_users or user_name is 'Anonymous':\n",
    "            unique_users.add(user_name)\n",
    "            listcount.append(True)\n",
    "            \n",
    "            # List of checksums over all possible combinations.\n",
    "            sumlist = []\n",
    "            \n",
    "            # Skip metadata.\n",
    "            goodann = [x for x in c['annotations']\n",
    "                       if (list(x.keys())[0] not in {\n",
    "                            'finished_at', 'started_at', 'user_agent', 'lang', 'pending'})]\n",
    "            n_galaxies = len(goodann)\n",
    "            \n",
    "            if n_galaxies:\n",
    "                for idx, ann in enumerate(goodann):\n",
    "                    xmaxlist = []\n",
    "                    try:\n",
    "                        radio_comps = ann['radio']\n",
    "                        \n",
    "                        # Loop over radio components.\n",
    "                        if radio_comps != 'No Contours':\n",
    "                            for rc in radio_comps:\n",
    "                                xmaxlist.append(float(radio_comps[rc]['xmax']))\n",
    "                        else:\n",
    "                            # No contours.\n",
    "                            xmaxlist.append(-99)\n",
    "                    except KeyError:\n",
    "                        xmaxlist.append(-99)\n",
    "                    \n",
    "                    # Unique ID.\n",
    "                    product = functools.reduce(operator.mul, xmaxlist, 1)\n",
    "                    sumlist.append(round(product, 3))\n",
    "                \n",
    "                checksum = sum(sumlist)\n",
    "            else:\n",
    "                checksum = -99\n",
    "            \n",
    "            c['checksum'] = checksum\n",
    "            \n",
    "            # Insert checksum into dictionary with number of galaxies as index.\n",
    "            if n_galaxies in cdict:\n",
    "                cdict[n_galaxies].append(checksum)\n",
    "            else:\n",
    "                cdict[n_galaxies] = [checksum]\n",
    "            \n",
    "        else:\n",
    "            listcount.append(False)\n",
    "    \n",
    "    # Remove duplicates and no object classifications.\n",
    "    clist = [\n",
    "        c for lc, c in zip(\n",
    "            listcount,\n",
    "            clist_all)\n",
    "        if lc and c['checksum'] != -99\n",
    "    ]\n",
    "    \n",
    "    clen_diff = clen_start - len(clist)\n",
    "    \n",
    "    maxval = 0\n",
    "    mc_checksum = 0\n",
    "    \n",
    "    # Find the radio consensus.\n",
    "    \n",
    "    for k, v in cdict.items():\n",
    "        mc = collections.Counter(v).most_common()\n",
    "        # Check if most common selection was for no radio.\n",
    "        if mc[0][0] == -99.0:\n",
    "            if len(mc) > 1:\n",
    "                # Yes, take selection with next-highest.\n",
    "                mc_best = mc[1]\n",
    "            else:\n",
    "                continue\n",
    "        else:\n",
    "            mc_best = mc[0]\n",
    "        \n",
    "        # If the new selection has more counts, choose it as the best match.\n",
    "        if mc_best[1] > maxval:\n",
    "            maxval = mc_best[1]\n",
    "            mc_checksum = mc_best[0]\n",
    "        \n",
    "    # Find a galaxy that matches the checksum.\n",
    "    try:\n",
    "        cmatch = next(i for i in clist if i['checksum'] == mc_checksum)\n",
    "    except StopIteration:\n",
    "        return {}\n",
    "    \n",
    "    # Find the annotations for the checksummed galaxies.\n",
    "    goodann = [x for x in cmatch['annotations']\n",
    "               if list(x.keys())[0] not in {\n",
    "                    'finished_at', 'started_at', 'user_agent', 'lang', 'pending'}]\n",
    "    \n",
    "    ## End Kyle's code.\n",
    "    \n",
    "    # Now, I need to tie together Kyle's interface with mine.\n",
    "    # I expect a dict mapping radio IDs to a list of (x, y) locations.\n",
    "    \n",
    "    radio_consensus_classifications = collections.defaultdict(list)\n",
    "\n",
    "    for c in clist:\n",
    "        if c['checksum'] == mc_checksum:\n",
    "            for a in c['annotations']:\n",
    "                if 'radio' not in a:\n",
    "                    continue\n",
    "                # Get product of xmaxes to use as radio ID.\n",
    "                rid = functools.reduce(operator.mul,\n",
    "                        [float(r['xmax']) for r in a['radio'].values()], 1)\n",
    "                if a['ir'] == 'No Sources':\n",
    "                    radio_consensus_classifications[rid].append((None, None))\n",
    "                else:\n",
    "                    radio_consensus_classifications[rid].append(\n",
    "                        (float(a['ir']['0']['x']), float(a['ir']['0']['y']))\n",
    "                    )\n",
    "    \n",
    "    consensus = {}  # Maps radio signatures to (x, y) NumPy arrays.\n",
    "    gmms = {}  # Maps radio signatures to GMMs.\n",
    "    c_points = {}  # Maps radio signatures to clicks.\n",
    "    for radio_signature in radio_consensus_classifications:\n",
    "        n_no_source = 0  # Number of people who think there is no source.\n",
    "        xs = []\n",
    "        ys = []\n",
    "        for c in radio_consensus_classifications[radio_signature]:\n",
    "            if c[0] is None or c[1] is None:\n",
    "                # No source.\n",
    "                n_no_source += 1\n",
    "                continue\n",
    "            \n",
    "            # Normally we convert to FITS coordinates, but we should use the same\n",
    "            # coordinates as Kyle's code. These are scaled by 500 / 424.\n",
    "            x = c[0] * 500 / 424  # * crowdastro.config.get('click_to_fits_x')\n",
    "            y = c[1] * 500 / 424  # * crowdastro.config.get('click_to_fits_y')\n",
    "            xs.append(x)\n",
    "            ys.append(y)\n",
    "\n",
    "        if (n_no_source >\n",
    "                len(radio_consensus_classifications[radio_signature]) // 2):\n",
    "            # Majority think that there is no source.\n",
    "            # Note that if half of people think there is no source and half\n",
    "            # think that there is a source, we'll assume there is a source.\n",
    "            consensus[radio_signature] = numpy.array([None, None])\n",
    "            continue\n",
    "\n",
    "        # Find the consensus source.\n",
    "        points = numpy.vstack([xs, ys])\n",
    "        c_points[radio_signature] = points\n",
    "        gmm = crowdastro.labels.pg_means(points.T, significance=significance, projections=24)\n",
    "\n",
    "        if gmm is None:\n",
    "            # In case of no agreement, assume we have no source.\n",
    "            logging.warning('No consensus for %s but non-zero classifications.',\n",
    "                            subject['zooniverse_id'])\n",
    "            consensus[radio_signature] = numpy.array([None, None])\n",
    "        else:\n",
    "            consensus[radio_signature] = gmm.means_[gmm.weights_.argmax()]\n",
    "        \n",
    "        gmms[radio_signature] = gmm\n",
    "\n",
    "    return consensus, gmms, c_points"
   ]
  },
  {
   "cell_type": "code",
   "execution_count": 20,
   "metadata": {
    "collapsed": false
   },
   "outputs": [],
   "source": [
    "subject = crowdastro.data.db.radio_subjects.find_one(\n",
    "        {'metadata.survey': 'atlas', 'state': 'complete'})\n",
    "# crowdastro.show.subject(subject)"
   ]
  },
  {
   "cell_type": "code",
   "execution_count": 21,
   "metadata": {
    "collapsed": false
   },
   "outputs": [
    {
     "data": {
      "text/plain": [
       "({121.7565906430343: array([ 249.63213813,  247.00717206]),\n",
       "  126.4391877329964: array([None, None], dtype=object)},\n",
       " {121.7565906430343: GMM(covariance_type='diag', init_params='wmc', min_covar=0.001,\n",
       "    n_components=1, n_init=1, n_iter=100, params='wmc', random_state=None,\n",
       "    thresh=None, tol=0.001, verbose=0)},\n",
       " {121.7565906430343: array([[ 248.23113208,  247.05188679,  248.23113208,  251.76886792,\n",
       "           251.76886792,  244.96477955,  250.91308018,  254.12735849],\n",
       "         [ 252.35849057,  245.28301887,  253.53773585,  250.        ,\n",
       "           252.35849057,  220.30447114,  247.49818838,  254.71698113]])})"
      ]
     },
     "execution_count": 21,
     "metadata": {},
     "output_type": "execute_result"
    }
   ],
   "source": [
    "get_subject_consensus(subject)"
   ]
  },
  {
   "cell_type": "code",
   "execution_count": 22,
   "metadata": {
    "collapsed": false
   },
   "outputs": [
    {
     "data": {
      "text/plain": [
       "{'answer': {121.757: {'bbox': [('121.7565906430343',\n",
       "     '158.85337033885054',\n",
       "     '82.07730463613342',\n",
       "     '59.63945198384692')],\n",
       "   'ind': 0,\n",
       "   'ir_peak': (252.0, 251.0),\n",
       "   'ir_x': [248.23113207547172,\n",
       "    247.05188679245285,\n",
       "    248.23113207547172,\n",
       "    251.7688679245283,\n",
       "    251.7688679245283,\n",
       "    244.96477954792527,\n",
       "    250.91308017946642,\n",
       "    254.12735849056605],\n",
       "   'ir_y': [252.35849056603774,\n",
       "    245.28301886792454,\n",
       "    253.53773584905662,\n",
       "    250.00000000000003,\n",
       "    252.35849056603774,\n",
       "    220.30447114188718,\n",
       "    247.49818837867593,\n",
       "    254.7169811320755],\n",
       "   'peak_data': {'X': array([[   1.,    1.,    1., ...,    1.,    1.,    1.],\n",
       "           [   2.,    2.,    2., ...,    2.,    2.,    2.],\n",
       "           [   3.,    3.,    3., ...,    3.,    3.,    3.],\n",
       "           ..., \n",
       "           [ 497.,  497.,  497., ...,  497.,  497.,  497.],\n",
       "           [ 498.,  498.,  498., ...,  498.,  498.,  498.],\n",
       "           [ 499.,  499.,  499., ...,  499.,  499.,  499.]]),\n",
       "    'Y': array([[   1.,    2.,    3., ...,  497.,  498.,  499.],\n",
       "           [   1.,    2.,    3., ...,  497.,  498.,  499.],\n",
       "           [   1.,    2.,    3., ...,  497.,  498.,  499.],\n",
       "           ..., \n",
       "           [   1.,    2.,    3., ...,  497.,  498.,  499.],\n",
       "           [   1.,    2.,    3., ...,  497.,  498.,  499.],\n",
       "           [   1.,    2.,    3., ...,  497.,  498.,  499.]]),\n",
       "    'Z': array([[ 0.,  0.,  0., ...,  0.,  0.,  0.],\n",
       "           [ 0.,  0.,  0., ...,  0.,  0.,  0.],\n",
       "           [ 0.,  0.,  0., ...,  0.,  0.,  0.],\n",
       "           ..., \n",
       "           [ 0.,  0.,  0., ...,  0.,  0.,  0.],\n",
       "           [ 0.,  0.,  0., ...,  0.,  0.,  0.],\n",
       "           [ 0.,  0.,  0., ...,  0.,  0.,  0.]]),\n",
       "    'npeaks': 2},\n",
       "   'xmax': [121.7565906430343]},\n",
       "  126.439: {'bbox': [('126.4391877329964',\n",
       "     '60.26833839421603',\n",
       "     '118.96630142128373',\n",
       "     '40.69775954610628')],\n",
       "   'ind': 1,\n",
       "   'ir': (308.372641509434, 130.89622641509436),\n",
       "   'xmax': [126.4391877329964]}},\n",
       " 'n_total': 19,\n",
       " 'n_users': 8,\n",
       " 'source': 'CI0002',\n",
       " 'zid': 'ARG0003r17'}"
      ]
     },
     "execution_count": 22,
     "metadata": {},
     "output_type": "execute_result"
    }
   ],
   "source": [
    "crowdastro.rgz_analysis.consensus.consensus(subject['zooniverse_id'])"
   ]
  },
  {
   "cell_type": "markdown",
   "metadata": {},
   "source": [
    "## Robustness\n",
    "\n",
    "I know that KDE consensus sometimes finds a very large number of potential locations when there are not that many potential locations in the data. This is one of the motivating reasons for implementing PG-means consensus. I'll have a look at one of these cases and see how PG-means consensus handles it."
   ]
  },
  {
   "cell_type": "code",
   "execution_count": 23,
   "metadata": {
    "collapsed": false
   },
   "outputs": [],
   "source": [
    "max_peaks = 0\n",
    "max_subject = None\n",
    "for subject in crowdastro.data.get_all_subjects(atlas=True).limit(200):\n",
    "    consensus = crowdastro.rgz_analysis.consensus.consensus(subject['zooniverse_id'])\n",
    "    for answer in consensus['answer'].values():\n",
    "        if 'peak_data' in answer:\n",
    "            n_peaks = answer['peak_data']['npeaks']\n",
    "            if n_peaks > max_peaks:\n",
    "                max_peaks = n_peaks\n",
    "                max_subject = subject"
   ]
  },
  {
   "cell_type": "code",
   "execution_count": 24,
   "metadata": {
    "collapsed": false
   },
   "outputs": [
    {
     "name": "stdout",
     "output_type": "stream",
     "text": [
      "34\n"
     ]
    },
    {
     "data": {
      "image/png": "[encoded data removed]",
      "text/plain": [
       "<matplotlib.figure.Figure at 0x1b8e459f828>"
      ]
     },
     "metadata": {},
     "output_type": "display_data"
    }
   ],
   "source": [
    "print(max_peaks)\n",
    "consensus = crowdastro.rgz_analysis.consensus.consensus(max_subject['zooniverse_id'])\n",
    "cxs, cys = [], []\n",
    "for c in crowdastro.data.get_subject_classifications(max_subject):\n",
    "    for annotation in c['annotations']:\n",
    "        if 'ir' in annotation and annotation['ir'] != 'No Sources':\n",
    "            cxs.append(float(annotation['ir']['0']['x']) * 500 / 424)\n",
    "            cys.append(float(annotation['ir']['0']['y']) * 500 / 424)\n",
    "for answer in consensus['answer'].values():\n",
    "    if 'peak_data' in answer:\n",
    "        matplotlib.pyplot.pcolormesh(answer['peak_data']['X'],\n",
    "                                     answer['peak_data']['Y'],\n",
    "                                     answer['peak_data']['Z'])\n",
    "        matplotlib.pyplot.axis('off')\n",
    "        matplotlib.pyplot.scatter(cxs, cys, marker='+', c='green')\n",
    "        matplotlib.pyplot.title('A tricky case for KDE consensus')\n",
    "        matplotlib.pyplot.show()"
   ]
  },
  {
   "cell_type": "markdown",
   "metadata": {},
   "source": [
    "Let's compare this to PG-means consensus."
   ]
  },
  {
   "cell_type": "code",
   "execution_count": 31,
   "metadata": {
    "collapsed": false
   },
   "outputs": [
    {
     "data": {
      "image/png": "[encoded data removed]",
      "text/plain": [
       "<matplotlib.figure.Figure at 0x1b8e71913c8>"
      ]
     },
     "metadata": {},
     "output_type": "display_data"
    }
   ],
   "source": [
    "consensus_locs, consensus_gmms, consensus_points = get_subject_consensus(max_subject)\n",
    "for loc, gmm, points in zip(consensus_locs.values(), consensus_gmms.values(), consensus_points.values()):\n",
    "    xs, ys = numpy.meshgrid(numpy.linspace(0, 500, 100), numpy.linspace(0, 500, 100))\n",
    "    for weight, mean, covar in zip(gmm.weights_, gmm.means_, gmm.covars_):\n",
    "        zs = weight * numpy.exp(-(covar[0, 0] * (xs - mean[0])**2/\n",
    "                                - 2 * covar[0, 1] * (xs - mean[0]) * (ys - mean[1])\n",
    "                                + covar[1, 1] * (ys - mean[1])**2))\n",
    "    \n",
    "        matplotlib.pyplot.pcolormesh(xs, ys, zs)\n",
    "        matplotlib.pyplot.scatter(points[0, :], points[1, :])\n",
    "        matplotlib.pyplot.show()"
   ]
  },
  {
   "cell_type": "markdown",
   "metadata": {},
   "source": [
    "Interestingly, this looks to be a hard problem for PG-means too!\n",
    "\n",
    "How do we handle cases where there isn't enough points to get a good agreement? Kyle's original code just averages them in this case, which feels like a bad solution. How often does this happen?"
   ]
  },
  {
   "cell_type": "markdown",
   "metadata": {},
   "source": [
    "## Agreement\n",
    "\n",
    "In this section, I will run PG-means consensus and KDE consensus over 200 random ATLAS subjects and compare the locations found, as well as the number of potential locations found.\n"
   ]
  },
  {
   "cell_type": "code",
   "execution_count": 59,
   "metadata": {
    "collapsed": false
   },
   "outputs": [
    {
     "name": "stdout",
     "output_type": "stream",
     "text": [
      "67.66%\n"
     ]
    }
   ],
   "source": [
    "n_agree = 0\n",
    "n_total = 0\n",
    "\n",
    "for subject in crowdastro.data.get_all_subjects(atlas=True).limit(200):\n",
    "    kde_consensus = crowdastro.rgz_analysis.consensus.consensus(subject['zooniverse_id'])\n",
    "    pg_consensus = get_subject_consensus(subject)\n",
    "    \n",
    "    # Get the KDE consensus locations for each radio ID.\n",
    "    kde_locations = {}\n",
    "    for rid, answer in kde_consensus['answer'].items():\n",
    "        kde_locations[round(rid)] = answer.get('ir_peak', answer.get('ir', None))\n",
    "    pg_locations = {}\n",
    "    for rid, answer in pg_consensus[0].items():\n",
    "        pg_locations[round(rid)] = tuple(answer)\n",
    "\n",
    "    for rid in kde_locations:\n",
    "        n_total += 1\n",
    "        try:\n",
    "            if ((kde_locations[rid] is None or kde_locations[rid][0] is None) and\n",
    "                (pg_locations[rid] is None or pg_locations[rid][0] is None)):\n",
    "                n_agree += 1\n",
    "                continue\n",
    "            if ((kde_locations[rid] is None or kde_locations[rid][0] is None) or\n",
    "                (pg_locations[rid] is None or pg_locations[rid][0] is None)):\n",
    "                continue\n",
    "            if (numpy.isclose(kde_locations[rid][0], pg_locations[rid][0], atol=5) and\n",
    "                numpy.isclose(kde_locations[rid][1], pg_locations[rid][1], atol=5)):\n",
    "                n_agree += 1\n",
    "        except KeyError:\n",
    "            continue\n",
    "\n",
    "print('{:.02%}'.format(n_agree / n_total))"
   ]
  },
  {
   "cell_type": "markdown",
   "metadata": {},
   "source": [
    "This is *okay* but not ideal. I will have to investigate this further at a later date (and use KDE for now)."
   ]
  },
  {
   "cell_type": "code",
   "execution_count": null,
   "metadata": {
    "collapsed": true
   },
   "outputs": [],
   "source": []
  }
 ],
 "metadata": {
  "kernelspec": {
   "display_name": "Python 3",
   "language": "python",
   "name": "python3"
  },
  "language_info": {
   "codemirror_mode": {
    "name": "ipython",
    "version": 3
   },
   "file_extension": ".py",
   "mimetype": "text/x-python",
   "name": "python",
   "nbconvert_exporter": "python",
   "pygments_lexer": "ipython3",
   "version": "3.5.1"
  }
 },
 "nbformat": 4,
 "nbformat_minor": 0
}
