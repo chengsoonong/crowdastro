{
 "cells": [
  {
   "cell_type": "code",
   "execution_count": 22,
   "metadata": {
    "collapsed": true
   },
   "outputs": [],
   "source": [
    "import h5py, numpy, sklearn.linear_model, sklearn.cross_validation, sklearn.metrics"
   ]
  },
  {
   "cell_type": "code",
   "execution_count": 35,
   "metadata": {
    "collapsed": false
   },
   "outputs": [],
   "source": [
    "with h5py.File('../data/dataset.h5') as f:\n",
    "    raw_astro_features = f['features'][:, :4]\n",
    "    dist_features = f['features'][:, 4]\n",
    "    image_features = f['features'][:, 5:]\n",
    "    \n",
    "    w1_w2 = raw_astro_features[:, 0] - raw_astro_features[:, 1]\n",
    "    w2_w3 = raw_astro_features[:, 1] - raw_astro_features[:, 2]\n",
    "    lrblob = numpy.hypot(w2_w3 - 4.5, w1_w2 - 0.5)\n",
    "    urblob = numpy.hypot(w2_w3 - 3.0, w1_w2 - 1.2)\n",
    "    \n",
    "    features_linear = f['features'][:]\n",
    "    features_nonlinear = numpy.hstack([\n",
    "            raw_astro_features,\n",
    "            dist_features.reshape((-1, 1)),\n",
    "            w1_w2.reshape((-1, 1)),\n",
    "            w2_w3.reshape((-1, 1)),\n",
    "            lrblob.reshape((-1, 1)),\n",
    "            urblob.reshape((-1, 1)),\n",
    "            image_features,\n",
    "    ])\n",
    "    labels = f['labels'].value"
   ]
  },
  {
   "cell_type": "code",
   "execution_count": 31,
   "metadata": {
    "collapsed": false
   },
   "outputs": [],
   "source": [
    "x_train, x_test, t_train, t_test = sklearn.cross_validation.train_test_split(\n",
    "        numpy.arange(features.shape[0]), labels, test_size=0.2)"
   ]
  },
  {
   "cell_type": "code",
   "execution_count": 33,
   "metadata": {
    "collapsed": false
   },
   "outputs": [
    {
     "name": "stdout",
     "output_type": "stream",
     "text": [
      "Linear features, balanced accuracy: 91.58%\n"
     ]
    }
   ],
   "source": [
    "lr = sklearn.linear_model.LogisticRegression(C=100.0, class_weight='balanced')\n",
    "lr.fit(features_linear[x_train], t_train)\n",
    "cm = sklearn.metrics.confusion_matrix(t_test, lr.predict(features_linear[x_test]))\n",
    "tp = cm[1, 1]\n",
    "n, p = cm.sum(axis=1)\n",
    "tn = cm[0, 0]\n",
    "ba = (tp / p + tn / n) / 2\n",
    "print('Linear features, balanced accuracy: {:.02%}'.format(ba))"
   ]
  },
  {
   "cell_type": "code",
   "execution_count": 37,
   "metadata": {
    "collapsed": false
   },
   "outputs": [
    {
     "name": "stdout",
     "output_type": "stream",
     "text": [
      "Nonlinear features, balanced accuracy: 91.32%\n",
      "[[3953  416]\n",
      " [  36  423]]\n"
     ]
    }
   ],
   "source": [
    "lrnl = sklearn.linear_model.LogisticRegression(C=100.0, class_weight='balanced')\n",
    "lrnl.fit(features_nonlinear[x_train], t_train)\n",
    "cm = sklearn.metrics.confusion_matrix(t_test, lrnl.predict(features_nonlinear[x_test]))\n",
    "tp = cm[1, 1]\n",
    "n, p = cm.sum(axis=1)\n",
    "tn = cm[0, 0]\n",
    "ba = (tp / p + tn / n) / 2\n",
    "print('Nonlinear features, balanced accuracy: {:.02%}'.format(ba))\n",
    "print(cm)"
   ]
  },
  {
   "cell_type": "code",
   "execution_count": null,
   "metadata": {
    "collapsed": true
   },
   "outputs": [],
   "source": []
  }
 ],
 "metadata": {
  "kernelspec": {
   "display_name": "Python 3",
   "language": "python",
   "name": "python3"
  },
  "language_info": {
   "codemirror_mode": {
    "name": "ipython",
    "version": 3
   },
   "file_extension": ".py",
   "mimetype": "text/x-python",
   "name": "python",
   "nbconvert_exporter": "python",
   "pygments_lexer": "ipython3",
   "version": "3.5.1"
  }
 },
 "nbformat": 4,
 "nbformat_minor": 0
}
