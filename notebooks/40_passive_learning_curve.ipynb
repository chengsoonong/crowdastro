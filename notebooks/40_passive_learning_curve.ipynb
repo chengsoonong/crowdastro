{
 "cells": [
  {
   "cell_type": "markdown",
   "metadata": {},
   "source": [
    "# Passive Learning Curve\n",
    "\n",
    "In this notebook, I will train logistic regression for different amounts of training data and plot the resulting accuracy on the Norris et al. labels."
   ]
  },
  {
   "cell_type": "code",
   "execution_count": 29,
   "metadata": {
    "collapsed": true
   },
   "outputs": [],
   "source": [
    "import sys\n",
    "\n",
    "import h5py, numpy, sklearn.neighbors\n",
    "from astropy.coordinates import SkyCoord\n",
    "import matplotlib.pyplot as plt\n",
    "\n",
    "sys.path.insert(1, '..')\n",
    "import crowdastro.train, crowdastro.test\n",
    "\n",
    "TRAINING_H5_PATH = '../training.h5'\n",
    "CROWDASTRO_H5_PATH = '../crowdastro.h5'\n",
    "NORRIS_DAT_PATH = '../data/norris_2006_atlas_classifications_ra_dec_only.dat'\n",
    "CLASSIFIER_OUT_PATH = '../classifier.pkl'\n",
    "ASTRO_TRANSFORMER_OUT_PATH = '../astro_transformer.pkl'\n",
    "IMAGE_TRANSFORMER_OUT_PATH = '../image_transformer.pkl'\n",
    "IMAGE_SIZE = 200 * 200\n",
    "ARCMIN = 1 / 60\n",
    "N_JOBS = 8\n",
    "\n",
    "%matplotlib inline"
   ]
  },
  {
   "cell_type": "code",
   "execution_count": 20,
   "metadata": {
    "collapsed": false
   },
   "outputs": [],
   "source": [
    "# Load labels.\n",
    "with h5py.File(TRAINING_H5_PATH, 'r') as training_h5:\n",
    "    crowdsourced_labels = training_h5['labels'].value\n",
    "\n",
    "with h5py.File(CROWDASTRO_H5_PATH, 'r') as crowdastro_h5:\n",
    "    ir_names = crowdastro_h5['/wise/cdfs/string'].value\n",
    "    ir_positions = crowdastro_h5['/wise/cdfs/numeric'].value[:, :2]\n",
    "ir_tree = sklearn.neighbors.KDTree(ir_positions)\n",
    "\n",
    "with open(NORRIS_DAT_PATH, 'r') as norris_dat:\n",
    "    norris_coords = [r.strip().split('|') for r in norris_dat]\n",
    "\n",
    "norris_labels = numpy.zeros((len(ir_positions)))\n",
    "for ra, dec in norris_coords:\n",
    "    # Find a neighbour.\n",
    "    skycoord = SkyCoord(ra=ra, dec=dec, unit=('hourangle', 'deg'))\n",
    "    ra = skycoord.ra.degree\n",
    "    dec = skycoord.dec.degree\n",
    "    ((dist,),), ((ir,),) = ir_tree.query([(ra, dec)])\n",
    "    if dist < 0.1:\n",
    "        norris_labels[ir] = 1"
   ]
  },
  {
   "cell_type": "code",
   "execution_count": 41,
   "metadata": {
    "collapsed": false
   },
   "outputs": [],
   "source": [
    "def train_and_test(fraction):\n",
    "    with h5py.File(TRAINING_H5_PATH, 'r') as training_h5, h5py.File(CROWDASTRO_H5_PATH, 'r') as crowdastro_h5:\n",
    "        n_static = 5 if training_h5.attrs['ir_survey'] == 'wise' else 6\n",
    "        train_indices = training_h5['is_ir_train'].value\n",
    "        \n",
    "        # Downsample training indices to match the fraction.\n",
    "        # This effectively means regenerating the training indices.\n",
    "        # Start by downsampling the ATLAS training indices.\n",
    "        atlas_train_indices = training_h5['is_atlas_train'].value.nonzero()[0]\n",
    "        n_indices = len(atlas_train_indices)\n",
    "        numpy.random.shuffle(atlas_train_indices)\n",
    "        atlas_not_train_indices = atlas_train_indices[int(n_indices * fraction):]\n",
    "        # Remove all IR objects near removed ATLAS objects.\n",
    "        for atlas_index in atlas_not_train_indices:\n",
    "            ir = crowdastro_h5['/atlas/cdfs/numeric'][atlas_index, n_static + IMAGE_SIZE:]\n",
    "            nearby = (ir < ARCMIN).nonzero()[0]\n",
    "            for ir_index in nearby:\n",
    "                train_indices[ir_index] = 0\n",
    "        \n",
    "        # We can now proceed as usual with training/testing.\n",
    "\n",
    "        outputs = training_h5['labels'].value[train_indices]\n",
    "        n = len(outputs)\n",
    "\n",
    "        astro_inputs = numpy.minimum(\n",
    "                training_h5['features'][train_indices, :n_static], 1500)\n",
    "        image_inputs = training_h5['features'].value[train_indices, n_static:]\n",
    "\n",
    "        astro_transformer = sklearn.pipeline.Pipeline([\n",
    "                ('normalise', sklearn.preprocessing.Normalizer()),\n",
    "                ('scale', sklearn.preprocessing.StandardScaler()),\n",
    "        ])\n",
    "        image_transformer = sklearn.pipeline.Pipeline([\n",
    "                ('normalise', sklearn.preprocessing.Normalizer()),\n",
    "        ])\n",
    "\n",
    "        features = []\n",
    "        features.append(astro_transformer.fit_transform(astro_inputs))\n",
    "        features.append(image_transformer.fit_transform(image_inputs))\n",
    "        inputs = numpy.hstack(features)\n",
    "\n",
    "        classifier = sklearn.linear_model.LogisticRegression(\n",
    "                class_weight='balanced', n_jobs=N_JOBS)\n",
    "        classifier.fit(inputs, outputs)\n",
    "\n",
    "        test_indices = training_h5['is_atlas_test'].value\n",
    "        numeric_subjects = crowdastro_h5['/atlas/cdfs/numeric'][test_indices, :]\n",
    "\n",
    "        n_norris_agree = 0\n",
    "        n_crowdsourced_agree = 0\n",
    "        n_all_agree = 0\n",
    "        n_either_agree = 0\n",
    "        n_no_host = 0\n",
    "        n_total = 0\n",
    "        for subject in numeric_subjects:\n",
    "            swire = subject[2 + IMAGE_SIZE:]\n",
    "            nearby = swire < ARCMIN\n",
    "            astro_inputs = numpy.minimum(training_h5['features'][nearby, :n_static],\n",
    "                                         1500)\n",
    "            image_inputs = training_h5['features'][nearby, n_static:]\n",
    "\n",
    "            features = []\n",
    "            features.append(astro_transformer.transform(astro_inputs))\n",
    "            features.append(image_transformer.transform(image_inputs))\n",
    "            inputs = numpy.hstack(features)\n",
    "\n",
    "            crowdsourced_outputs = crowdsourced_labels[nearby]\n",
    "            norris_outputs = norris_labels[nearby]\n",
    "\n",
    "            if sum(crowdsourced_outputs) < 1 or sum(norris_outputs) < 1:\n",
    "                # No hosts!\n",
    "                n_no_host += 1\n",
    "                continue\n",
    "\n",
    "            selection = classifier.predict_proba(inputs)[:, 1].argmax()\n",
    "            n_norris_agree += norris_outputs[selection]\n",
    "            n_crowdsourced_agree += crowdsourced_outputs[selection]\n",
    "            n_all_agree += norris_outputs[selection] * crowdsourced_outputs[selection]\n",
    "            n_either_agree += norris_outputs[selection] or crowdsourced_outputs[selection]\n",
    "            n_total += 1\n",
    "    return (n_norris_agree / n_total, n_crowdsourced_agree / n_total,\n",
    "            n_all_agree / n_total, n_either_agree / n_total)"
   ]
  },
  {
   "cell_type": "code",
   "execution_count": 42,
   "metadata": {
    "collapsed": false
   },
   "outputs": [],
   "source": [
    "fractions = numpy.linspace(0.05, 1.0, 20)\n",
    "results = numpy.array([train_and_test(f) for f in fractions])"
   ]
  },
  {
   "cell_type": "code",
   "execution_count": 43,
   "metadata": {
    "collapsed": false
   },
   "outputs": [
    {
     "data": {
      "text/plain": [
       "<matplotlib.legend.Legend at 0x1a002209da0>"
      ]
     },
     "execution_count": 43,
     "metadata": {},
     "output_type": "execute_result"
    },
    {
     "data": {
      "image/png": "[encoded data removed]",
      "text/plain": [
       "<matplotlib.figure.Figure at 0x1a0024c1a90>"
      ]
     },
     "metadata": {},
     "output_type": "display_data"
    }
   ],
   "source": [
    "plt.plot(fractions, results[:, 0])\n",
    "plt.plot(fractions, results[:, 1])\n",
    "plt.plot(fractions, results[:, 2])\n",
    "plt.plot(fractions, results[:, 3])\n",
    "plt.xlabel('Fraction of training data presented')\n",
    "plt.ylabel('Accuracy')\n",
    "plt.legend(['Against Norris', 'Against RGZ', 'Against both', 'Against either'], loc='lower right')"
   ]
  },
  {
   "cell_type": "code",
   "execution_count": null,
   "metadata": {
    "collapsed": true
   },
   "outputs": [],
   "source": []
  }
 ],
 "metadata": {
  "kernelspec": {
   "display_name": "Python 3",
   "language": "python",
   "name": "python3"
  },
  "language_info": {
   "codemirror_mode": {
    "name": "ipython",
    "version": 3
   },
   "file_extension": ".py",
   "mimetype": "text/x-python",
   "name": "python",
   "nbconvert_exporter": "python",
   "pygments_lexer": "ipython3",
   "version": "3.5.1"
  }
 },
 "nbformat": 4,
 "nbformat_minor": 0
}
