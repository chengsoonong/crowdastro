{
 "cells": [
  {
   "cell_type": "markdown",
   "metadata": {},
   "source": [
    "# Norris Labels\n",
    "\n",
    "In this notebook, I will compare the Norris et al. (2006) labels to a) the crowdsourced labels, and b) the classifier outputs for logistic regression and random forests."
   ]
  },
  {
   "cell_type": "code",
   "execution_count": 20,
   "metadata": {
    "collapsed": true
   },
   "outputs": [],
   "source": [
    "import sys\n",
    "\n",
    "import h5py, numpy, sklearn.neighbors\n",
    "from astropy.coordinates import SkyCoord\n",
    "\n",
    "sys.path.insert(1, '..')\n",
    "import crowdastro.train, crowdastro.test\n",
    "\n",
    "TRAINING_H5_PATH = '../training.h5'\n",
    "CROWDASTRO_H5_PATH = '../crowdastro.h5'\n",
    "NORRIS_DAT_PATH = '../data/norris_2006_atlas_classifications_ra_dec_only.dat'\n",
    "CLASSIFIER_OUT_PATH = '../classifier.pkl'\n",
    "ASTRO_TRANSFORMER_OUT_PATH = '../astro_transformer.pkl'\n",
    "IMAGE_TRANSFORMER_OUT_PATH = '../image_transformer.pkl'\n",
    "IMAGE_SIZE = 200 * 200\n",
    "ARCMIN = 1 / 60\n",
    "N_ASTRO = 5"
   ]
  },
  {
   "cell_type": "markdown",
   "metadata": {},
   "source": [
    "## Crowdsourced label comparison"
   ]
  },
  {
   "cell_type": "code",
   "execution_count": 2,
   "metadata": {
    "collapsed": false
   },
   "outputs": [],
   "source": [
    "with h5py.File(TRAINING_H5_PATH, 'r') as training_h5:\n",
    "    crowdsourced_labels = training_h5['labels'].value\n",
    "\n",
    "with h5py.File(CROWDASTRO_H5_PATH, 'r') as crowdastro_h5:\n",
    "    swire_names = crowdastro_h5['/wise/cdfs/string'].value\n",
    "    swire_positions = crowdastro_h5['/wise/cdfs/numeric'].value[:, :2]\n",
    "\n",
    "assert len(crowdsourced_labels) == len(swire_names)\n",
    "swire_tree = sklearn.neighbors.KDTree(swire_positions)"
   ]
  },
  {
   "cell_type": "markdown",
   "metadata": {},
   "source": [
    "Norris et al. used a different set of SWIRE objects to us, so we need to do a nearest neighbour search."
   ]
  },
  {
   "cell_type": "code",
   "execution_count": 3,
   "metadata": {
    "collapsed": false
   },
   "outputs": [],
   "source": [
    "with open(NORRIS_DAT_PATH, 'r') as norris_dat:\n",
    "    norris_coords = [r.strip().split('|') for r in norris_dat]"
   ]
  },
  {
   "cell_type": "code",
   "execution_count": 4,
   "metadata": {
    "collapsed": false
   },
   "outputs": [],
   "source": [
    "norris_labels = numpy.zeros(crowdsourced_labels.shape)\n",
    "for ra, dec in norris_coords:\n",
    "    # Find a neighbour.\n",
    "    skycoord = SkyCoord(ra=ra, dec=dec, unit=('hourangle', 'deg'))\n",
    "    ra = skycoord.ra.degree\n",
    "    dec = skycoord.dec.degree\n",
    "    ((dist,),), ((swire,),) = swire_tree.query([(ra, dec)])\n",
    "    if dist < 0.1:\n",
    "        norris_labels[swire] = 1"
   ]
  },
  {
   "cell_type": "code",
   "execution_count": 5,
   "metadata": {
    "collapsed": false
   },
   "outputs": [
    {
     "data": {
      "text/plain": [
       "0.70496453900709222"
      ]
     },
     "execution_count": 5,
     "metadata": {},
     "output_type": "execute_result"
    }
   ],
   "source": [
    "(numpy.logical_and(norris_labels == crowdsourced_labels, crowdsourced_labels == 1)).sum() / norris_labels.sum()"
   ]
  },
  {
   "cell_type": "markdown",
   "metadata": {},
   "source": [
    "So there's about 62% agreement with volunteers for SWIRE, and 70% for WISE."
   ]
  },
  {
   "cell_type": "markdown",
   "metadata": {},
   "source": [
    "## Classifier label comparison"
   ]
  },
  {
   "cell_type": "code",
   "execution_count": 21,
   "metadata": {
    "collapsed": false
   },
   "outputs": [],
   "source": [
    "with h5py.File(TRAINING_H5_PATH, 'r') as training_h5:\n",
    "    classifier, astro_transformer, image_transformer = crowdastro.train.train(\n",
    "        training_h5, CLASSIFIER_OUT_PATH, ASTRO_TRANSFORMER_OUT_PATH,\n",
    "        IMAGE_TRANSFORMER_OUT_PATH, classifier='lr', use_astro=True,\n",
    "        use_cnn=True, n_jobs=-1)"
   ]
  },
  {
   "cell_type": "code",
   "execution_count": 22,
   "metadata": {
    "collapsed": false
   },
   "outputs": [],
   "source": [
    "with h5py.File(TRAINING_H5_PATH, 'r') as training_h5:\n",
    "    with h5py.File(CROWDASTRO_H5_PATH, 'r') as crowdastro_h5:\n",
    "        test_indices = training_h5['is_atlas_test'].value\n",
    "        numeric_subjects = crowdastro_h5['/atlas/cdfs/numeric'][test_indices, :]\n",
    "\n",
    "        n_norris_agree = 0\n",
    "        n_crowdsourced_agree = 0\n",
    "        n_all_agree = 0\n",
    "        n_either_agree = 0\n",
    "        n_no_host = 0\n",
    "        n_total = 0\n",
    "        for subject in numeric_subjects:\n",
    "            swire = subject[2 + IMAGE_SIZE:]\n",
    "            nearby = swire < ARCMIN\n",
    "            astro_inputs = numpy.minimum(training_h5['features'][nearby, :N_ASTRO],\n",
    "                                         1500)\n",
    "            image_inputs = training_h5['features'][nearby, N_ASTRO:]\n",
    "\n",
    "            features = []\n",
    "            features.append(astro_transformer.transform(astro_inputs))\n",
    "            features.append(image_transformer.transform(image_inputs))\n",
    "            inputs = numpy.hstack(features)\n",
    "\n",
    "            crowdsourced_outputs = crowdsourced_labels[nearby]\n",
    "            norris_outputs = norris_labels[nearby]\n",
    "            \n",
    "            if sum(crowdsourced_outputs) < 1 or sum(norris_outputs) < 1:\n",
    "                # No hosts!\n",
    "                n_no_host += 1\n",
    "                continue\n",
    "\n",
    "            selection = classifier.predict_proba(inputs)[:, 1].argmax()\n",
    "            n_norris_agree += norris_outputs[selection]\n",
    "            n_crowdsourced_agree += crowdsourced_outputs[selection]\n",
    "            n_all_agree += norris_outputs[selection] * crowdsourced_outputs[selection]\n",
    "            n_either_agree += norris_outputs[selection] or crowdsourced_outputs[selection]\n",
    "            n_total += 1"
   ]
  },
  {
   "cell_type": "code",
   "execution_count": 23,
   "metadata": {
    "collapsed": false
   },
   "outputs": [
    {
     "name": "stdout",
     "output_type": "stream",
     "text": [
      "LR agreement with RGZ: 85.88%\n",
      "LR agreement with Norris: 82.49%\n",
      "LR agreement with both: 76.84%\n",
      "LR agreement with either: 91.53%\n",
      "LR subjects with no Norris or RGZ host: 275\n"
     ]
    }
   ],
   "source": [
    "print('LR agreement with RGZ: {:.02%}'.format(n_crowdsourced_agree / n_total))\n",
    "print('LR agreement with Norris: {:.02%}'.format(n_norris_agree / n_total))\n",
    "print('LR agreement with both: {:.02%}'.format(n_all_agree / n_total))\n",
    "print('LR agreement with either: {:.02%}'.format(n_either_agree / n_total))\n",
    "print('LR subjects with no Norris or RGZ host: {}'.format(n_no_host))"
   ]
  },
  {
   "cell_type": "code",
   "execution_count": 25,
   "metadata": {
    "collapsed": false
   },
   "outputs": [],
   "source": [
    "rgz_agreements = []\n",
    "norris_agreements = []\n",
    "all_agreements = []\n",
    "either_agreements = []\n",
    "for _ in range(1):\n",
    "    with h5py.File(TRAINING_H5_PATH, 'r') as training_h5:\n",
    "        classifier, astro_transformer, image_transformer = crowdastro.train.train(\n",
    "            training_h5, CLASSIFIER_OUT_PATH, ASTRO_TRANSFORMER_OUT_PATH,\n",
    "            IMAGE_TRANSFORMER_OUT_PATH, classifier='rf', use_astro=True,\n",
    "            use_cnn=True, n_jobs=-1)\n",
    "\n",
    "    with h5py.File(TRAINING_H5_PATH, 'r') as training_h5:\n",
    "        with h5py.File(CROWDASTRO_H5_PATH, 'r') as crowdastro_h5:\n",
    "            test_indices = training_h5['is_atlas_test'].value\n",
    "            numeric_subjects = crowdastro_h5['/atlas/cdfs/numeric'][test_indices, :]\n",
    "\n",
    "            n_norris_agree = 0\n",
    "            n_crowdsourced_agree = 0\n",
    "            n_all_agree = 0\n",
    "            n_either_agree = 0\n",
    "            n_no_host = 0\n",
    "            n_total = 0\n",
    "            for subject in numeric_subjects:\n",
    "                swire = subject[2 + IMAGE_SIZE:]\n",
    "                nearby = swire < ARCMIN\n",
    "                astro_inputs = numpy.minimum(training_h5['features'][nearby, :N_ASTRO],\n",
    "                                             1500)\n",
    "                image_inputs = training_h5['features'][nearby, N_ASTRO:]\n",
    "\n",
    "                features = []\n",
    "                features.append(astro_transformer.transform(astro_inputs))\n",
    "                features.append(image_transformer.transform(image_inputs))\n",
    "                inputs = numpy.hstack(features)\n",
    "\n",
    "                crowdsourced_outputs = crowdsourced_labels[nearby]\n",
    "                norris_outputs = norris_labels[nearby]\n",
    "\n",
    "                if sum(crowdsourced_outputs) < 1 or sum(norris_outputs) < 1:\n",
    "                    # No hosts!\n",
    "                    n_no_host += 1\n",
    "                    continue\n",
    "\n",
    "                selection = classifier.predict_proba(inputs)[:, 1].argmax()\n",
    "                n_norris_agree += norris_outputs[selection]\n",
    "                n_crowdsourced_agree += crowdsourced_outputs[selection]\n",
    "                n_all_agree += norris_outputs[selection] * crowdsourced_outputs[selection]\n",
    "                n_either_agree += norris_outputs[selection] or crowdsourced_outputs[selection]\n",
    "                n_total += 1\n",
    "    rgz_agreements.append(n_crowdsourced_agree / n_total)\n",
    "    norris_agreements.append(n_norris_agree / n_total)\n",
    "    all_agreements.append(n_all_agree / n_total)\n",
    "    either_agreements.append(n_either_agree / n_total)"
   ]
  },
  {
   "cell_type": "code",
   "execution_count": 26,
   "metadata": {
    "collapsed": false
   },
   "outputs": [
    {
     "name": "stdout",
     "output_type": "stream",
     "text": [
      "Average RGZ agreement: (0.94 +- 0.0)%\n",
      "Average Norris agreement: (0.73 +- 0.0)%\n",
      "Average both agreement: (0.7 +- 0.0)%\n",
      "Average either agreement: (0.97 +- 0.0)%\n"
     ]
    }
   ],
   "source": [
    "print('Average RGZ agreement: ({:.02} +- {:.02})%'.format(numpy.mean(rgz_agreements), numpy.std(rgz_agreements)))\n",
    "print('Average Norris agreement: ({:.02} +- {:.02})%'.format(numpy.mean(norris_agreements), numpy.std(norris_agreements)))\n",
    "print('Average both agreement: ({:.02} +- {:.02})%'.format(numpy.mean(all_agreements), numpy.std(all_agreements)))\n",
    "print('Average either agreement: ({:.02} +- {:.02})%'.format(numpy.mean(either_agreements), numpy.std(either_agreements)))"
   ]
  },
  {
   "cell_type": "code",
   "execution_count": null,
   "metadata": {
    "collapsed": true
   },
   "outputs": [],
   "source": []
  }
 ],
 "metadata": {
  "kernelspec": {
   "display_name": "Python 3",
   "language": "python",
   "name": "python3"
  },
  "language_info": {
   "codemirror_mode": {
    "name": "ipython",
    "version": 3
   },
   "file_extension": ".py",
   "mimetype": "text/x-python",
   "name": "python",
   "nbconvert_exporter": "python",
   "pygments_lexer": "ipython3",
   "version": "3.5.1"
  }
 },
 "nbformat": 4,
 "nbformat_minor": 0
}
