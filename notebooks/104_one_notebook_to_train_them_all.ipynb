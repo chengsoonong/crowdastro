{
 "cells": [
  {
   "cell_type": "markdown",
   "metadata": {},
   "source": [
    "[#242](https://github.com/chengsoonong/crowdastro/issues/242)"
   ]
  },
  {
   "cell_type": "code",
   "execution_count": 1,
   "metadata": {
    "collapsed": true
   },
   "outputs": [],
   "source": [
    "# Some setup.\n",
    "import h5py, numpy, matplotlib.pyplot as plt, astropy.io.ascii as asc, scipy.spatial, sklearn.model_selection\n",
    "import crowdastro.crowd.util, sklearn.linear_model, sklearn.ensemble\n",
    "%matplotlib inline"
   ]
  },
  {
   "cell_type": "code",
   "execution_count": 19,
   "metadata": {},
   "outputs": [],
   "source": [
    "with h5py.File('/Users/alger/data/Crowdastro/swire.h5', 'r') as f:\n",
    "    swire_features = f['features'].value\n",
    "with h5py.File('/Users/alger/data/Crowdastro/crowdastro-swire.h5', 'r') as f:\n",
    "    swire_coords = f['/swire/cdfs/numeric'][:, :2]\n",
    "    swire_names = [i.decode('ascii') for i in f['/swire/cdfs/string'].value]\n",
    "table = asc.read('/Users/alger/data/Crowdastro/one-table-to-rule-them-all.tbl')\n",
    "swire_tree = scipy.spatial.KDTree(swire_coords)\n",
    "labels = asc.read('/Users/alger/data/SWIRE/all_labels.csv')\n",
    "atlas_coords = numpy.array([(r['Component RA (Franzen)'], r['Component DEC (Franzen)']) for r in table\n",
    "                            if r['Component RA (Franzen)']])"
   ]
  },
  {
   "cell_type": "markdown",
   "metadata": {},
   "source": [
    "## Generate training sets\n",
    "\n",
    "We are looking for five different training sets for each subset of the ATLAS-CDFS data:\n",
    "\n",
    "- RGZ & Norris & compact (the \"clean\" set)\n",
    "- RGZ & Norris & resolved\n",
    "- RGZ & Norris\n",
    "- RGZ compact\n",
    "- RGZ resolved\n",
    "- RGZ\n",
    "\n",
    "First, let's have a function that takes a set of ATLAS objects and returns five sets of SWIRE objects."
   ]
  },
  {
   "cell_type": "code",
   "execution_count": 10,
   "metadata": {
    "collapsed": true
   },
   "outputs": [],
   "source": [
    "def atlas_to_swire(atlas: list, radius: float=1 / 60) -> list:\n",
    "    # atlas is a list of table Keys.\n",
    "    # Look up the coordinates of the ATLAS objects.\n",
    "    atlas = set(atlas)\n",
    "    ras = [r['Component RA (Franzen)'] for r in table if r['Key'] in atlas]\n",
    "    decs = [r['Component DEC (Franzen)'] for r in table if r['Key'] in atlas]\n",
    "    coords = numpy.vstack([ras, decs]).T\n",
    "    nearby = sorted({int(i)\n",
    "                     for i in numpy.concatenate(swire_tree.query_ball_point(coords, radius))})\n",
    "    return nearby"
   ]
  },
  {
   "cell_type": "markdown",
   "metadata": {},
   "source": [
    "Next, we'll split ATLAS into three (overlapping) subsets:\n",
    "\n",
    "- RGZ\n",
    "- Norris\n",
    "- Compact\n",
    "\n",
    "From these we can compute all subsets we want to train on."
   ]
  },
  {
   "cell_type": "code",
   "execution_count": 11,
   "metadata": {
    "collapsed": true
   },
   "outputs": [],
   "source": [
    "rgz = {r['Key'] for r in table if r['Component Zooniverse ID (RGZ)'] and\n",
    "                                         r['Component ID (Franzen)'] == r['Primary Component ID (RGZ)'] and\n",
    "                                  r['Component ID (Franzen)']}\n",
    "norris = {r['Key'] for r in table if r['Component # (Norris)'] and r['Component ID (Franzen)']}\n",
    "compact = {r['Key'] for r in table if r['Component ID (Franzen)'] and\n",
    "                                             r['Component S (Franzen)'] / r['Component Sp (Franzen)'] <= 1}"
   ]
  },
  {
   "cell_type": "markdown",
   "metadata": {},
   "source": [
    "We can now compute the training sets. We will split CDFS in four. Let's start by finding the min/max RA/dec to get our dividing lines."
   ]
  },
  {
   "cell_type": "code",
   "execution_count": 12,
   "metadata": {
    "collapsed": true
   },
   "outputs": [],
   "source": [
    "middle = (numpy.median(atlas_coords[:, 0]), numpy.median(atlas_coords[:, 1]))\n",
    "middle = (52.8, -28.1)"
   ]
  },
  {
   "cell_type": "code",
   "execution_count": 13,
   "metadata": {
    "collapsed": true
   },
   "outputs": [],
   "source": [
    "subsets = [\n",
    "    ('RGZ & Norris & compact', rgz & norris & compact),\n",
    "    ('RGZ & Norris & resolved', rgz & norris - compact),\n",
    "    ('RGZ & Norris', rgz & norris),\n",
    "    ('RGZ & compact', rgz & compact),\n",
    "    ('RGZ & resolved', rgz - compact),\n",
    "    ('RGZ', rgz),\n",
    "]"
   ]
  },
  {
   "cell_type": "code",
   "execution_count": 14,
   "metadata": {},
   "outputs": [
    {
     "name": "stdout",
     "output_type": "stream",
     "text": [
      "RGZ & Norris & compact 244 143\n",
      "RGZ & Norris & compact 294 93\n",
      "RGZ & Norris & compact 329 58\n",
      "RGZ & Norris & compact 294 93\n",
      "RGZ & Norris & resolved 123 35\n",
      "RGZ & Norris & resolved 113 45\n",
      "RGZ & Norris & resolved 120 38\n",
      "RGZ & Norris & resolved 118 40\n",
      "RGZ & Norris 367 178\n",
      "RGZ & Norris 407 138\n",
      "RGZ & Norris 449 96\n",
      "RGZ & Norris 412 133\n",
      "RGZ & compact 1786 398\n",
      "RGZ & compact 1547 637\n",
      "RGZ & compact 1642 542\n",
      "RGZ & compact 1577 607\n",
      "RGZ & resolved 221 55\n",
      "RGZ & resolved 200 76\n",
      "RGZ & resolved 206 70\n",
      "RGZ & resolved 201 75\n",
      "RGZ 2007 453\n",
      "RGZ 1747 713\n",
      "RGZ 1848 612\n",
      "RGZ 1778 682\n"
     ]
    }
   ],
   "source": [
    "training_testing_atlas_sets = {s:[] for s, _ in subsets}  # Maps subset string -> [(train, test)]\n",
    "\n",
    "def filter_subset(subset: set, q: int) -> set:\n",
    "    \"\"\"Filters subset to just include indices of ATLAS objects in a given quadrant.\"\"\"\n",
    "    subset_ = set()\n",
    "    for s in subset:\n",
    "        row = table[table['Key'] == s][0]\n",
    "        coords = row['Component RA (Franzen)'], row['Component DEC (Franzen)']\n",
    "\n",
    "        if (\n",
    "                (q == 0 and coords[0] >= middle[0] and coords[1] >= middle[1]) or\n",
    "                (q == 1 and coords[0] < middle[0] and coords[1] >= middle[1]) or\n",
    "                (q == 2 and coords[0] < middle[0] and coords[1] < middle[1]) or\n",
    "                (q == 3 and coords[0] >= middle[0] and coords[1] < middle[1])):\n",
    "            subset_.add(s)\n",
    "    return subset_\n",
    "\n",
    "for subset_str, subset_set in subsets:\n",
    "    for q in range(4):  # Quadrants.\n",
    "        test = filter_subset(subset_set, q)\n",
    "        train = {i for i in subset_set if i not in test}\n",
    "        print(subset_str, len(train), len(test))\n",
    "        training_testing_atlas_sets[subset_str].append((train, test))"
   ]
  },
  {
   "cell_type": "markdown",
   "metadata": {},
   "source": [
    "These can be converted into SWIRE sets."
   ]
  },
  {
   "cell_type": "code",
   "execution_count": 16,
   "metadata": {
    "scrolled": false
   },
   "outputs": [
    {
     "name": "stdout",
     "output_type": "stream",
     "text": [
      "RGZ & Norris & compact 0 out of 3064 overlap\n",
      "RGZ & Norris & compact 0 out of 2154 overlap\n",
      "RGZ & Norris & compact 15 out of 1468 overlap\n",
      "RGZ & Norris & compact 15 out of 2152 overlap\n",
      "RGZ & Norris & resolved 0 out of 927 overlap\n",
      "RGZ & Norris & resolved 0 out of 1079 overlap\n",
      "RGZ & Norris & resolved 0 out of 1074 overlap\n",
      "RGZ & Norris & resolved 0 out of 1075 overlap\n",
      "RGZ & Norris 0 out of 3880 overlap\n",
      "RGZ & Norris 8 out of 3110 overlap\n",
      "RGZ & Norris 23 out of 2435 overlap\n",
      "RGZ & Norris 15 out of 3107 overlap\n",
      "RGZ & compact 33 out of 7301 overlap\n",
      "RGZ & compact 84 out of 10877 overlap\n",
      "RGZ & compact 129 out of 9123 overlap\n",
      "RGZ & compact 78 out of 10897 overlap\n",
      "RGZ & resolved 0 out of 1414 overlap\n",
      "RGZ & resolved 0 out of 1760 overlap\n",
      "RGZ & resolved 0 out of 1804 overlap\n",
      "RGZ & resolved 0 out of 1900 overlap\n",
      "RGZ 65 out of 8317 overlap\n",
      "RGZ 143 out of 11913 overlap\n",
      "RGZ 188 out of 10299 overlap\n",
      "RGZ 110 out of 11976 overlap\n"
     ]
    }
   ],
   "source": [
    "training_testing_swire_sets = {s:[] for s, _ in subsets}  # Maps subset string -> [(train, test)]\n",
    "\n",
    "for subset_str, subset_set in subsets:\n",
    "    for train, test in training_testing_atlas_sets[subset_str]:\n",
    "        train = atlas_to_swire(train)\n",
    "        test = atlas_to_swire(test)\n",
    "        print(subset_str, len(set(train) & set(test)), 'out of', len(set(test)), 'overlap')\n",
    "        train = sorted(set(train) - set(test))\n",
    "        training_testing_swire_sets[subset_str].append((train, test))"
   ]
  },
  {
   "cell_type": "markdown",
   "metadata": {},
   "source": [
    "## Extracting labels"
   ]
  },
  {
   "cell_type": "code",
   "execution_count": 20,
   "metadata": {
    "scrolled": true
   },
   "outputs": [],
   "source": [
    "swire_name_to_rgz_label = {}\n",
    "swire_name_to_norris_label = {}\n",
    "for row in labels:\n",
    "    swire_name_to_norris_label[row['swire']] = bool(row['norris_label']) and row['norris_label'] == 'True'\n",
    "    swire_name_to_rgz_label[row['swire']] = bool(row['rgz_label']) and row['rgz_label'] == 'True'"
   ]
  },
  {
   "cell_type": "markdown",
   "metadata": {},
   "source": [
    "## Training LR with Norris labels\n",
    "\n",
    "We will now train logistic regression on the Norris label set. We will test on both RGZ and Norris, since there are objects that RGZ observes that Norris does not."
   ]
  },
  {
   "cell_type": "code",
   "execution_count": 32,
   "metadata": {},
   "outputs": [],
   "source": [
    "def test_on_sets(training_testing_swire_sets, name_to_label, Classifier):\n",
    "    for subset_str, splits in training_testing_swire_sets.items():\n",
    "        if 'Norris' not in subset_str:\n",
    "            continue\n",
    "\n",
    "        rgz_accuracies = []\n",
    "        norris_accuracies = []\n",
    "        for train, test in splits:\n",
    "            train_features = swire_features[train]\n",
    "            train_labels = [name_to_label[swire_names[i]] for i in train]\n",
    "\n",
    "            test_features = swire_features[test]\n",
    "\n",
    "            lr = Classifier()\n",
    "            lr.fit(train_features, train_labels)\n",
    "            \n",
    "            if 'Norris' in subset_str:\n",
    "                test_labels_norris = [swire_name_to_norris_label[swire_names[i]] for i in test]\n",
    "                norris_accuracies.append(\n",
    "                    crowdastro.crowd.util.balanced_accuracy(test_labels_norris, lr.predict(test_features)))\n",
    "            test_labels_rgz = [swire_name_to_rgz_label[swire_names[i]] for i in test]\n",
    "            rgz_accuracies.append(\n",
    "                crowdastro.crowd.util.balanced_accuracy(test_labels_rgz, lr.predict(test_features)))\n",
    "        yield subset_str, (rgz_accuracies, norris_accuracies)"
   ]
  },
  {
   "cell_type": "code",
   "execution_count": 33,
   "metadata": {},
   "outputs": [
    {
     "name": "stdout",
     "output_type": "stream",
     "text": [
      "RGZ & Norris & compact on RGZ: (77.63 +- 2.10)%\n",
      "RGZ & Norris & compact on Norris: (94.74 +- 1.40)%\n",
      "RGZ & Norris & resolved on RGZ: (82.43 +- 2.09)%\n",
      "RGZ & Norris & resolved on Norris: (89.85 +- 1.65)%\n",
      "RGZ & Norris on RGZ: (84.44 +- 0.62)%\n",
      "RGZ & Norris on Norris: (94.44 +- 1.46)%\n"
     ]
    }
   ],
   "source": [
    "for subset, (rgz_acc, norris_acc) in test_on_sets(\n",
    "        training_testing_swire_sets, swire_name_to_norris_label,\n",
    "        lambda: sklearn.linear_model.LogisticRegression(class_weight='balanced', penalty='l2', C=1e10)):\n",
    "    print('{} on RGZ: ({:.02f} +- {:.02f})%'.format(\n",
    "        subset, numpy.mean(rgz_acc) * 100, numpy.std(rgz_acc) * 100))\n",
    "    print('{} on Norris: ({:.02f} +- {:.02f})%'.format(\n",
    "        subset, numpy.mean(norris_acc) * 100, numpy.std(norris_acc) * 100))"
   ]
  },
  {
   "cell_type": "markdown",
   "metadata": {},
   "source": [
    "## Training RF with Norris labels"
   ]
  },
  {
   "cell_type": "code",
   "execution_count": 35,
   "metadata": {},
   "outputs": [
    {
     "name": "stdout",
     "output_type": "stream",
     "text": [
      "RGZ & Norris & compact on RGZ: (71.36 +- 3.11)%\n",
      "RGZ & Norris & compact on Norris: (88.16 +- 6.47)%\n",
      "RGZ & Norris & resolved on RGZ: (67.33 +- 1.36)%\n",
      "RGZ & Norris & resolved on Norris: (79.37 +- 4.33)%\n",
      "RGZ & Norris on RGZ: (70.96 +- 2.59)%\n",
      "RGZ & Norris on Norris: (87.51 +- 6.29)%\n"
     ]
    }
   ],
   "source": [
    "for subset, (rgz_acc, norris_acc) in test_on_sets(\n",
    "        training_testing_swire_sets, swire_name_to_norris_label,\n",
    "        lambda: sklearn.ensemble.RandomForestClassifier(class_weight='balanced')):\n",
    "    print('{} on RGZ: ({:.02f} +- {:.02f})%'.format(\n",
    "        subset, numpy.mean(rgz_acc) * 100, numpy.std(rgz_acc) * 100))\n",
    "    print('{} on Norris: ({:.02f} +- {:.02f})%'.format(\n",
    "        subset, numpy.mean(norris_acc) * 100, numpy.std(norris_acc) * 100))"
   ]
  },
  {
   "cell_type": "markdown",
   "metadata": {},
   "source": [
    "## Training LR with RGZ labels"
   ]
  },
  {
   "cell_type": "code",
   "execution_count": 36,
   "metadata": {},
   "outputs": [
    {
     "name": "stdout",
     "output_type": "stream",
     "text": [
      "RGZ & Norris & compact on RGZ: (86.95 +- 1.28)%\n",
      "RGZ & Norris & compact on Norris: (95.07 +- 0.68)%\n",
      "RGZ & Norris & resolved on RGZ: (81.74 +- 1.37)%\n",
      "RGZ & Norris & resolved on Norris: (87.84 +- 4.50)%\n",
      "RGZ & Norris on RGZ: (84.19 +- 0.42)%\n",
      "RGZ & Norris on Norris: (91.94 +- 1.09)%\n"
     ]
    }
   ],
   "source": [
    "for subset, (rgz_acc, norris_acc) in test_on_sets(\n",
    "        training_testing_swire_sets, swire_name_to_rgz_label,\n",
    "        lambda: sklearn.linear_model.LogisticRegression(class_weight='balanced', penalty='l2', C=1e10)):\n",
    "    print('{} on RGZ: ({:.02f} +- {:.02f})%'.format(\n",
    "        subset, numpy.mean(rgz_acc) * 100, numpy.std(rgz_acc) * 100))\n",
    "    print('{} on Norris: ({:.02f} +- {:.02f})%'.format(\n",
    "        subset, numpy.mean(norris_acc) * 100, numpy.std(norris_acc) * 100))"
   ]
  },
  {
   "cell_type": "markdown",
   "metadata": {},
   "source": [
    "## Training RF with RGZ labels"
   ]
  },
  {
   "cell_type": "code",
   "execution_count": 38,
   "metadata": {},
   "outputs": [
    {
     "name": "stdout",
     "output_type": "stream",
     "text": [
      "RGZ & Norris & compact on RGZ: (79.73 +- 4.20)%\n",
      "RGZ & Norris & compact on Norris: (88.78 +- 4.53)%\n",
      "RGZ & Norris & resolved on RGZ: (70.96 +- 8.17)%\n",
      "RGZ & Norris & resolved on Norris: (76.52 +- 12.86)%\n",
      "RGZ & Norris on RGZ: (78.45 +- 4.55)%\n",
      "RGZ & Norris on Norris: (86.07 +- 6.08)%\n"
     ]
    }
   ],
   "source": [
    "for subset, (rgz_acc, norris_acc) in test_on_sets(\n",
    "        training_testing_swire_sets, swire_name_to_rgz_label,\n",
    "        lambda: sklearn.ensemble.RandomForestClassifier(class_weight='balanced')):\n",
    "    print('{} on RGZ: ({:.02f} +- {:.02f})%'.format(\n",
    "        subset, numpy.mean(rgz_acc) * 100, numpy.std(rgz_acc) * 100))\n",
    "    print('{} on Norris: ({:.02f} +- {:.02f})%'.format(\n",
    "        subset, numpy.mean(norris_acc) * 100, numpy.std(norris_acc) * 100))"
   ]
  },
  {
   "cell_type": "code",
   "execution_count": null,
   "metadata": {
    "collapsed": true
   },
   "outputs": [],
   "source": []
  }
 ],
 "metadata": {
  "kernelspec": {
   "display_name": "Python 3",
   "language": "python",
   "name": "python3"
  },
  "language_info": {
   "codemirror_mode": {
    "name": "ipython",
    "version": 3
   },
   "file_extension": ".py",
   "mimetype": "text/x-python",
   "name": "python",
   "nbconvert_exporter": "python",
   "pygments_lexer": "ipython3",
   "version": "3.6.1"
  }
 },
 "nbformat": 4,
 "nbformat_minor": 2
}
