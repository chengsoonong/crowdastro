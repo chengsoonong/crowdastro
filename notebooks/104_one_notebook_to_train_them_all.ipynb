{
 "cells": [
  {
   "cell_type": "markdown",
   "metadata": {},
   "source": [
    "[#242](https://github.com/chengsoonong/crowdastro/issues/242)"
   ]
  },
  {
   "cell_type": "code",
   "execution_count": 129,
   "metadata": {
    "collapsed": true
   },
   "outputs": [],
   "source": [
    "# Some setup.\n",
    "import h5py, numpy, matplotlib.pyplot as plt, astropy.io.ascii as asc, scipy.spatial, sklearn.model_selection\n",
    "import crowdastro.crowd.util, sklearn.linear_model, sklearn.ensemble, astropy.table, collections\n",
    "%matplotlib inline"
   ]
  },
  {
   "cell_type": "code",
   "execution_count": 173,
   "metadata": {
    "collapsed": true
   },
   "outputs": [],
   "source": [
    "with h5py.File('/Users/alger/data/Crowdastro/swire.h5', 'r') as f:\n",
    "    swire_features = f['features'].value\n",
    "with h5py.File('/Users/alger/data/Crowdastro/crowdastro-swire.h5', 'r') as f:\n",
    "    swire_coords = f['/swire/cdfs/numeric'][:, :2]\n",
    "    swire_names = [i.decode('ascii') for i in f['/swire/cdfs/string'].value]\n",
    "table = asc.read('/Users/alger/data/Crowdastro/one-table-to-rule-them-all.tbl')\n",
    "swire_tree = scipy.spatial.KDTree(swire_coords)\n",
    "labels = asc.read('/Users/alger/data/SWIRE/all_labels.csv')\n",
    "atlas_coords = numpy.array([(r['Component RA (Franzen)'], r['Component DEC (Franzen)']) for r in table\n",
    "                            if r['Component RA (Franzen)']])\n",
    "rgz_catalogue = asc.read('/Users/alger/data/ATLAS/static_rgz_host_full.csv')"
   ]
  },
  {
   "cell_type": "markdown",
   "metadata": {},
   "source": [
    "## Generate training sets\n",
    "\n",
    "We are looking for five different training sets for each subset of the ATLAS-CDFS data:\n",
    "\n",
    "- RGZ & Norris & compact (the \"clean\" set)\n",
    "- RGZ & Norris & resolved\n",
    "- RGZ & Norris\n",
    "- RGZ compact\n",
    "- RGZ resolved\n",
    "- RGZ\n",
    "\n",
    "First, let's have a function that takes a set of ATLAS objects and returns five sets of SWIRE objects."
   ]
  },
  {
   "cell_type": "code",
   "execution_count": 10,
   "metadata": {
    "collapsed": true
   },
   "outputs": [],
   "source": [
    "def atlas_to_swire(atlas: list, radius: float=1 / 60) -> list:\n",
    "    # atlas is a list of table Keys.\n",
    "    # Look up the coordinates of the ATLAS objects.\n",
    "    atlas = set(atlas)\n",
    "    ras = [r['Component RA (Franzen)'] for r in table if r['Key'] in atlas]\n",
    "    decs = [r['Component DEC (Franzen)'] for r in table if r['Key'] in atlas]\n",
    "    coords = numpy.vstack([ras, decs]).T\n",
    "    nearby = sorted({int(i)\n",
    "                     for i in numpy.concatenate(swire_tree.query_ball_point(coords, radius))})\n",
    "    return nearby"
   ]
  },
  {
   "cell_type": "markdown",
   "metadata": {},
   "source": [
    "Next, we'll split ATLAS into three (overlapping) subsets:\n",
    "\n",
    "- RGZ\n",
    "- Norris\n",
    "- Compact\n",
    "\n",
    "From these we can compute all subsets we want to train on."
   ]
  },
  {
   "cell_type": "code",
   "execution_count": 11,
   "metadata": {
    "collapsed": true
   },
   "outputs": [],
   "source": [
    "rgz = {r['Key'] for r in table if r['Component Zooniverse ID (RGZ)'] and\n",
    "                                         r['Component ID (Franzen)'] == r['Primary Component ID (RGZ)'] and\n",
    "                                  r['Component ID (Franzen)']}\n",
    "norris = {r['Key'] for r in table if r['Component # (Norris)'] and r['Component ID (Franzen)']}\n",
    "compact = {r['Key'] for r in table if r['Component ID (Franzen)'] and\n",
    "                                             r['Component S (Franzen)'] / r['Component Sp (Franzen)'] <= 1}"
   ]
  },
  {
   "cell_type": "markdown",
   "metadata": {},
   "source": [
    "We can now compute the training sets. We will split CDFS in four. Let's start by finding the min/max RA/dec to get our dividing lines."
   ]
  },
  {
   "cell_type": "code",
   "execution_count": 12,
   "metadata": {
    "collapsed": true
   },
   "outputs": [],
   "source": [
    "middle = (numpy.median(atlas_coords[:, 0]), numpy.median(atlas_coords[:, 1]))\n",
    "middle = (52.8, -28.1)"
   ]
  },
  {
   "cell_type": "code",
   "execution_count": 13,
   "metadata": {
    "collapsed": true
   },
   "outputs": [],
   "source": [
    "subsets = [\n",
    "    ('RGZ & Norris & compact', rgz & norris & compact),\n",
    "    ('RGZ & Norris & resolved', rgz & norris - compact),\n",
    "    ('RGZ & Norris', rgz & norris),\n",
    "    ('RGZ & compact', rgz & compact),\n",
    "    ('RGZ & resolved', rgz - compact),\n",
    "    ('RGZ', rgz),\n",
    "]"
   ]
  },
  {
   "cell_type": "code",
   "execution_count": 14,
   "metadata": {},
   "outputs": [
    {
     "name": "stdout",
     "output_type": "stream",
     "text": [
      "RGZ & Norris & compact 244 143\n",
      "RGZ & Norris & compact 294 93\n",
      "RGZ & Norris & compact 329 58\n",
      "RGZ & Norris & compact 294 93\n",
      "RGZ & Norris & resolved 123 35\n",
      "RGZ & Norris & resolved 113 45\n",
      "RGZ & Norris & resolved 120 38\n",
      "RGZ & Norris & resolved 118 40\n",
      "RGZ & Norris 367 178\n",
      "RGZ & Norris 407 138\n",
      "RGZ & Norris 449 96\n",
      "RGZ & Norris 412 133\n",
      "RGZ & compact 1786 398\n",
      "RGZ & compact 1547 637\n",
      "RGZ & compact 1642 542\n",
      "RGZ & compact 1577 607\n",
      "RGZ & resolved 221 55\n",
      "RGZ & resolved 200 76\n",
      "RGZ & resolved 206 70\n",
      "RGZ & resolved 201 75\n",
      "RGZ 2007 453\n",
      "RGZ 1747 713\n",
      "RGZ 1848 612\n",
      "RGZ 1778 682\n"
     ]
    }
   ],
   "source": [
    "training_testing_atlas_sets = {s:[] for s, _ in subsets}  # Maps subset string -> [(train, test)]\n",
    "\n",
    "def filter_subset(subset: set, q: int) -> set:\n",
    "    \"\"\"Filters subset to just include indices of ATLAS objects in a given quadrant.\"\"\"\n",
    "    subset_ = set()\n",
    "    for s in subset:\n",
    "        row = table[table['Key'] == s][0]\n",
    "        coords = row['Component RA (Franzen)'], row['Component DEC (Franzen)']\n",
    "\n",
    "        if (\n",
    "                (q == 0 and coords[0] >= middle[0] and coords[1] >= middle[1]) or\n",
    "                (q == 1 and coords[0] < middle[0] and coords[1] >= middle[1]) or\n",
    "                (q == 2 and coords[0] < middle[0] and coords[1] < middle[1]) or\n",
    "                (q == 3 and coords[0] >= middle[0] and coords[1] < middle[1])):\n",
    "            subset_.add(s)\n",
    "    return subset_\n",
    "\n",
    "for subset_str, subset_set in subsets:\n",
    "    for q in range(4):  # Quadrants.\n",
    "        test = filter_subset(subset_set, q)\n",
    "        train = {i for i in subset_set if i not in test}\n",
    "        print(subset_str, len(train), len(test))\n",
    "        training_testing_atlas_sets[subset_str].append((train, test))"
   ]
  },
  {
   "cell_type": "markdown",
   "metadata": {},
   "source": [
    "These can be converted into SWIRE sets."
   ]
  },
  {
   "cell_type": "code",
   "execution_count": 16,
   "metadata": {
    "scrolled": false
   },
   "outputs": [
    {
     "name": "stdout",
     "output_type": "stream",
     "text": [
      "RGZ & Norris & compact 0 out of 3064 overlap\n",
      "RGZ & Norris & compact 0 out of 2154 overlap\n",
      "RGZ & Norris & compact 15 out of 1468 overlap\n",
      "RGZ & Norris & compact 15 out of 2152 overlap\n",
      "RGZ & Norris & resolved 0 out of 927 overlap\n",
      "RGZ & Norris & resolved 0 out of 1079 overlap\n",
      "RGZ & Norris & resolved 0 out of 1074 overlap\n",
      "RGZ & Norris & resolved 0 out of 1075 overlap\n",
      "RGZ & Norris 0 out of 3880 overlap\n",
      "RGZ & Norris 8 out of 3110 overlap\n",
      "RGZ & Norris 23 out of 2435 overlap\n",
      "RGZ & Norris 15 out of 3107 overlap\n",
      "RGZ & compact 33 out of 7301 overlap\n",
      "RGZ & compact 84 out of 10877 overlap\n",
      "RGZ & compact 129 out of 9123 overlap\n",
      "RGZ & compact 78 out of 10897 overlap\n",
      "RGZ & resolved 0 out of 1414 overlap\n",
      "RGZ & resolved 0 out of 1760 overlap\n",
      "RGZ & resolved 0 out of 1804 overlap\n",
      "RGZ & resolved 0 out of 1900 overlap\n",
      "RGZ 65 out of 8317 overlap\n",
      "RGZ 143 out of 11913 overlap\n",
      "RGZ 188 out of 10299 overlap\n",
      "RGZ 110 out of 11976 overlap\n"
     ]
    }
   ],
   "source": [
    "training_testing_swire_sets = {s:[] for s, _ in subsets}  # Maps subset string -> [(train, test)]\n",
    "\n",
    "for subset_str, subset_set in subsets:\n",
    "    for train, test in training_testing_atlas_sets[subset_str]:\n",
    "        train = atlas_to_swire(train)\n",
    "        test = atlas_to_swire(test)\n",
    "        print(subset_str, len(set(train) & set(test)), 'out of', len(set(test)), 'overlap')\n",
    "        train = sorted(set(train) - set(test))\n",
    "        training_testing_swire_sets[subset_str].append((train, test))"
   ]
  },
  {
   "cell_type": "markdown",
   "metadata": {},
   "source": [
    "## Extracting labels"
   ]
  },
  {
   "cell_type": "code",
   "execution_count": 20,
   "metadata": {
    "collapsed": true,
    "scrolled": true
   },
   "outputs": [],
   "source": [
    "swire_name_to_rgz_label = {}\n",
    "swire_name_to_norris_label = {}\n",
    "for row in labels:\n",
    "    swire_name_to_norris_label[row['swire']] = bool(row['norris_label']) and row['norris_label'] == 'True'\n",
    "    swire_name_to_rgz_label[row['swire']] = bool(row['rgz_label']) and row['rgz_label'] == 'True'"
   ]
  },
  {
   "cell_type": "markdown",
   "metadata": {},
   "source": [
    "## Training LR with Norris labels\n",
    "\n",
    "We will now train logistic regression on the Norris label set. We will test on both RGZ and Norris, since there are objects that RGZ observes that Norris does not."
   ]
  },
  {
   "cell_type": "code",
   "execution_count": 124,
   "metadata": {
    "collapsed": true
   },
   "outputs": [],
   "source": [
    "def test_on_sets(training_testing_swire_sets, name_to_label, Classifier):\n",
    "    for subset_str, splits in training_testing_swire_sets.items():\n",
    "        if 'Norris' not in subset_str:\n",
    "            continue\n",
    "\n",
    "        rgz_accuracies = []\n",
    "        norris_accuracies = []\n",
    "        predictions = []\n",
    "        for train, test in splits:\n",
    "            train_features = swire_features[train]\n",
    "            train_labels = [name_to_label[swire_names[i]] for i in train]\n",
    "\n",
    "            test_features = swire_features[test]\n",
    "\n",
    "            lr = Classifier()\n",
    "            lr.fit(train_features, train_labels)\n",
    "            \n",
    "            preds = lr.predict(test_features)\n",
    "            predictions.append(dict(zip([swire_names[i] for i in test], lr.predict_proba(test_features))))\n",
    "\n",
    "            if 'Norris' in subset_str:\n",
    "                test_labels_norris = [swire_name_to_norris_label[swire_names[i]] for i in test]\n",
    "                norris_accuracies.append(\n",
    "                    crowdastro.crowd.util.balanced_accuracy(test_labels_norris, preds))\n",
    "            test_labels_rgz = [swire_name_to_rgz_label[swire_names[i]] for i in test]\n",
    "            rgz_accuracies.append(\n",
    "                crowdastro.crowd.util.balanced_accuracy(test_labels_rgz, preds))\n",
    "        yield subset_str, (rgz_accuracies, norris_accuracies), predictions"
   ]
  },
  {
   "cell_type": "code",
   "execution_count": 125,
   "metadata": {},
   "outputs": [
    {
     "name": "stderr",
     "output_type": "stream",
     "text": [
      "/usr/local/lib/python3.6/site-packages/sklearn/linear_model/base.py:352: RuntimeWarning: overflow encountered in exp\n",
      "  np.exp(prob, prob)\n"
     ]
    },
    {
     "name": "stdout",
     "output_type": "stream",
     "text": [
      "RGZ & Norris & compact on RGZ: (77.63 +- 2.10)%\n",
      "RGZ & Norris & compact on Norris: (94.74 +- 1.40)%\n",
      "RGZ & Norris & resolved on RGZ: (82.43 +- 2.09)%\n",
      "RGZ & Norris & resolved on Norris: (89.85 +- 1.65)%\n",
      "RGZ & Norris on RGZ: (84.44 +- 0.62)%\n",
      "RGZ & Norris on Norris: (94.44 +- 1.46)%\n"
     ]
    }
   ],
   "source": [
    "norris_lr_results = list(test_on_sets(\n",
    "        training_testing_swire_sets, swire_name_to_norris_label,\n",
    "        lambda: sklearn.linear_model.LogisticRegression(class_weight='balanced', penalty='l2', C=1e10)))\n",
    "for subset, (rgz_acc, norris_acc), _ in norris_lr_results:\n",
    "    print('{} on RGZ: ({:.02f} +- {:.02f})%'.format(\n",
    "        subset, numpy.mean(rgz_acc) * 100, numpy.std(rgz_acc) * 100))\n",
    "    print('{} on Norris: ({:.02f} +- {:.02f})%'.format(\n",
    "        subset, numpy.mean(norris_acc) * 100, numpy.std(norris_acc) * 100))"
   ]
  },
  {
   "cell_type": "markdown",
   "metadata": {},
   "source": [
    "## Training RF with Norris labels"
   ]
  },
  {
   "cell_type": "code",
   "execution_count": 126,
   "metadata": {},
   "outputs": [
    {
     "name": "stdout",
     "output_type": "stream",
     "text": [
      "RGZ & Norris & compact on RGZ: (70.73 +- 2.78)%\n",
      "RGZ & Norris & compact on Norris: (87.68 +- 6.69)%\n",
      "RGZ & Norris & resolved on RGZ: (67.35 +- 3.18)%\n",
      "RGZ & Norris & resolved on Norris: (80.42 +- 5.62)%\n",
      "RGZ & Norris on RGZ: (70.95 +- 2.45)%\n",
      "RGZ & Norris on Norris: (86.49 +- 5.82)%\n"
     ]
    }
   ],
   "source": [
    "norris_rf_results = list(test_on_sets(\n",
    "        training_testing_swire_sets, swire_name_to_norris_label,\n",
    "        lambda: sklearn.ensemble.RandomForestClassifier(class_weight='balanced')))\n",
    "\n",
    "for subset, (rgz_acc, norris_acc), _ in norris_rf_results:\n",
    "    print('{} on RGZ: ({:.02f} +- {:.02f})%'.format(\n",
    "        subset, numpy.mean(rgz_acc) * 100, numpy.std(rgz_acc) * 100))\n",
    "    print('{} on Norris: ({:.02f} +- {:.02f})%'.format(\n",
    "        subset, numpy.mean(norris_acc) * 100, numpy.std(norris_acc) * 100))"
   ]
  },
  {
   "cell_type": "markdown",
   "metadata": {},
   "source": [
    "## Training LR with RGZ labels"
   ]
  },
  {
   "cell_type": "code",
   "execution_count": 127,
   "metadata": {},
   "outputs": [
    {
     "name": "stdout",
     "output_type": "stream",
     "text": [
      "RGZ & Norris & compact on RGZ: (86.95 +- 1.28)%\n",
      "RGZ & Norris & compact on Norris: (95.07 +- 0.68)%\n",
      "RGZ & Norris & resolved on RGZ: (81.74 +- 1.37)%\n",
      "RGZ & Norris & resolved on Norris: (87.84 +- 4.50)%\n",
      "RGZ & Norris on RGZ: (84.19 +- 0.42)%\n",
      "RGZ & Norris on Norris: (91.94 +- 1.09)%\n"
     ]
    }
   ],
   "source": [
    "rgz_lr_results = list(test_on_sets(\n",
    "        training_testing_swire_sets, swire_name_to_rgz_label,\n",
    "        lambda: sklearn.linear_model.LogisticRegression(class_weight='balanced', penalty='l2', C=1e10)))\n",
    "for subset, (rgz_acc, norris_acc), _ in rgz_lr_results:\n",
    "    print('{} on RGZ: ({:.02f} +- {:.02f})%'.format(\n",
    "        subset, numpy.mean(rgz_acc) * 100, numpy.std(rgz_acc) * 100))\n",
    "    print('{} on Norris: ({:.02f} +- {:.02f})%'.format(\n",
    "        subset, numpy.mean(norris_acc) * 100, numpy.std(norris_acc) * 100))"
   ]
  },
  {
   "cell_type": "markdown",
   "metadata": {},
   "source": [
    "## Training RF with RGZ labels"
   ]
  },
  {
   "cell_type": "code",
   "execution_count": 128,
   "metadata": {},
   "outputs": [
    {
     "name": "stdout",
     "output_type": "stream",
     "text": [
      "RGZ & Norris & compact on RGZ: (80.11 +- 4.50)%\n",
      "RGZ & Norris & compact on Norris: (90.06 +- 4.86)%\n",
      "RGZ & Norris & resolved on RGZ: (71.20 +- 7.32)%\n",
      "RGZ & Norris & resolved on Norris: (77.40 +- 12.52)%\n",
      "RGZ & Norris on RGZ: (79.31 +- 4.16)%\n",
      "RGZ & Norris on Norris: (87.96 +- 6.17)%\n"
     ]
    }
   ],
   "source": [
    "rgz_rf_results = list(test_on_sets(\n",
    "        training_testing_swire_sets, swire_name_to_rgz_label,\n",
    "        lambda: sklearn.ensemble.RandomForestClassifier(class_weight='balanced')))\n",
    "for subset, (rgz_acc, norris_acc), _ in rgz_rf_results:\n",
    "    print('{} on RGZ: ({:.02f} +- {:.02f})%'.format(\n",
    "        subset, numpy.mean(rgz_acc) * 100, numpy.std(rgz_acc) * 100))\n",
    "    print('{} on Norris: ({:.02f} +- {:.02f})%'.format(\n",
    "        subset, numpy.mean(norris_acc) * 100, numpy.std(norris_acc) * 100))"
   ]
  },
  {
   "cell_type": "code",
   "execution_count": 103,
   "metadata": {},
   "outputs": [
    {
     "data": {
      "image/png": "[encoded data removed]",
      "text/plain": [
       "<matplotlib.figure.Figure at 0x1107dca90>"
      ]
     },
     "metadata": {},
     "output_type": "display_data"
    }
   ],
   "source": [
    "plt.figure(figsize=(10, 4))\n",
    "for i, (subset_str, _) in enumerate(subsets[:3]):\n",
    "    plt.subplot(1, 3, i + 1)\n",
    "    plt.title(subset_str.replace('&', '$\\\\cap$'))\n",
    "    plt.xticks([0, 1, 2, 3], ['LR(RGZ)', 'LR(Norris)', 'RF(RGZ)', 'RF(Norris)'], rotation='vertical')\n",
    "    plt.grid(axis='y', which='major', color='lightgrey', linestyle='-')\n",
    "    plt.ylim((50, 100))\n",
    "    plt.xlim((-1, 4))\n",
    "    \n",
    "    if i == 1:\n",
    "        plt.xlabel('Classifier(Training set)', labelpad=20)\n",
    "    if i == 0:\n",
    "        plt.ylabel('Balanced accuracy (%)')\n",
    "\n",
    "    lr_rgz_acc, lr_norris_acc = [numpy.array(res) * 100 for sstr, res, _ in rgz_lr_results if sstr == subset_str][0]\n",
    "    rf_rgz_acc, rf_norris_acc = [numpy.array(res) * 100 for sstr, res, _ in rgz_rf_results if sstr == subset_str][0]\n",
    "    xs = [i for j in range(4) for i in [j] * 4]\n",
    "    ys = list(lr_rgz_acc) + list(lr_norris_acc) + list(rf_rgz_acc) + list(rf_norris_acc)\n",
    "    plt.scatter(xs, ys, marker='x')\n",
    "plt.subplots_adjust(wspace=0.4, bottom=0.3)\n",
    "plt.savefig('/Users/alger/Documents/writing/atlas-ml-ba.pdf')\n",
    "plt.show()"
   ]
  },
  {
   "cell_type": "markdown",
   "metadata": {},
   "source": [
    "## Table of predictions\n",
    "\n",
    "We now want to generate a table of predictions. We will first generate a table of SWIRE-based predictions. Each SWIRE object will be assigned a label from each of two classifiers:\n",
    "\n",
    "- LR(Norris)\n",
    "- LR(RGZ)\n",
    "\n",
    "These are trained on all data points in the training set, i.e., not splitting on compact/resolved. We report the labels from when the given SWIRE object was in a testing quadrant."
   ]
  },
  {
   "cell_type": "code",
   "execution_count": 130,
   "metadata": {
    "collapsed": true
   },
   "outputs": [],
   "source": [
    "swire_name_to_rgz_lr_pred = collections.defaultdict(list)\n",
    "swire_name_to_norris_lr_pred = collections.defaultdict(list)\n",
    "\n",
    "for subset_str, _, preds in rgz_lr_results:\n",
    "    for preds_ in preds:\n",
    "        for name, pred in preds_.items():\n",
    "            swire_name_to_rgz_lr_pred[name].append(pred)\n",
    "\n",
    "for subset_str, _, preds in norris_lr_results:\n",
    "    for preds_ in preds:\n",
    "        for name, pred in preds_.items():\n",
    "            swire_name_to_norris_lr_pred[name].append(pred)"
   ]
  },
  {
   "cell_type": "code",
   "execution_count": 145,
   "metadata": {},
   "outputs": [
    {
     "name": "stderr",
     "output_type": "stream",
     "text": [
      "WARNING: AstropyDeprecationWarning: /Users/alger/data/Crowdastro/predicted_swire_table.csv already exists. Automatically overwriting ASCII files is deprecated. Use the argument 'overwrite=True' in the future. [astropy.io.ascii.ui]\n",
      "WARNING: AstropyDeprecationWarning: /Users/alger/repos/crowdastro-projects/ATLAS-CDFS/predicted_swire_table.tex already exists. Automatically overwriting ASCII files is deprecated. Use the argument 'overwrite=True' in the future. [astropy.io.ascii.ui]\n"
     ]
    },
    {
     "data": {
      "text/html": [
       "&lt;Table length=12509&gt;\n",
       "<table id=\"table4634733368\" class=\"table-striped table-bordered table-condensed\">\n",
       "<thead><tr><th>swire</th><th>lr(rgz)</th><th>lr(norris)</th></tr></thead>\n",
       "<thead><tr><th>str26</th><th>float64</th><th>float64</th></tr></thead>\n",
       "<tr><td>SWIRE3_J032559.15-284724.2</td><td>0.0341784863105</td><td>0.015480243078</td></tr>\n",
       "<tr><td>SWIRE3_J032559.91-284728.9</td><td>0.278541709304</td><td>0.020090942017</td></tr>\n",
       "<tr><td>SWIRE3_J032600.02-284736.9</td><td>0.245365593177</td><td>0.014413236572</td></tr>\n",
       "<tr><td>SWIRE3_J032600.13-284637.5</td><td>0.0813282413296</td><td>0.0208829692218</td></tr>\n",
       "<tr><td>SWIRE3_J032600.13-284715.7</td><td>0.387394784166</td><td>0.0343210418749</td></tr>\n",
       "<tr><td>SWIRE3_J032600.98-284705.4</td><td>0.145593835335</td><td>0.0658117444017</td></tr>\n",
       "<tr><td>SWIRE3_J032601.03-284711.6</td><td>0.677611173993</td><td>0.131620806718</td></tr>\n",
       "<tr><td>SWIRE3_J032601.75-284614.5</td><td>0.134551589362</td><td>0.0131522724495</td></tr>\n",
       "<tr><td>SWIRE3_J032602.08-284713.1</td><td>0.741262952211</td><td>0.565229482364</td></tr>\n",
       "<tr><td>SWIRE3_J032602.36-284711.5</td><td>0.841813239579</td><td>0.662743188333</td></tr>\n",
       "<tr><td>...</td><td>...</td><td>...</td></tr>\n",
       "<tr><td>SWIRE3_J033555.99-272756.9</td><td>0.244750358962</td><td>0.0638627972445</td></tr>\n",
       "<tr><td>SWIRE3_J033556.19-280911.1</td><td>0.0383539469003</td><td>0.00148850418955</td></tr>\n",
       "<tr><td>SWIRE3_J033556.25-272734.7</td><td>0.112999085965</td><td>0.0106697897064</td></tr>\n",
       "<tr><td>SWIRE3_J033556.36-272701.2</td><td>0.0185437803239</td><td>0.00511133221299</td></tr>\n",
       "<tr><td>SWIRE3_J033556.36-272701.3</td><td>0.0152086941824</td><td>0.00465888263543</td></tr>\n",
       "<tr><td>SWIRE3_J033556.51-280917.5</td><td>0.0560263610318</td><td>0.00308873904893</td></tr>\n",
       "<tr><td>SWIRE3_J033556.63-272759.9</td><td>0.0254186902628</td><td>0.00851659258412</td></tr>\n",
       "<tr><td>SWIRE3_J033556.71-272753.0</td><td>0.24852616466</td><td>0.0154985169269</td></tr>\n",
       "<tr><td>SWIRE3_J033556.85-272804.3</td><td>0.0348747001869</td><td>0.0125462374052</td></tr>\n",
       "<tr><td>SWIRE3_J033557.13-280957.4</td><td>0.337516439342</td><td>0.0160348483991</td></tr>\n",
       "</table>"
      ],
      "text/plain": [
       "<Table length=12509>\n",
       "          swire                lr(rgz)        lr(norris)   \n",
       "          str26                float64         float64     \n",
       "-------------------------- --------------- ----------------\n",
       "SWIRE3_J032559.15-284724.2 0.0341784863105   0.015480243078\n",
       "SWIRE3_J032559.91-284728.9  0.278541709304   0.020090942017\n",
       "SWIRE3_J032600.02-284736.9  0.245365593177   0.014413236572\n",
       "SWIRE3_J032600.13-284637.5 0.0813282413296  0.0208829692218\n",
       "SWIRE3_J032600.13-284715.7  0.387394784166  0.0343210418749\n",
       "SWIRE3_J032600.98-284705.4  0.145593835335  0.0658117444017\n",
       "SWIRE3_J032601.03-284711.6  0.677611173993   0.131620806718\n",
       "SWIRE3_J032601.75-284614.5  0.134551589362  0.0131522724495\n",
       "SWIRE3_J032602.08-284713.1  0.741262952211   0.565229482364\n",
       "SWIRE3_J032602.36-284711.5  0.841813239579   0.662743188333\n",
       "                       ...             ...              ...\n",
       "SWIRE3_J033555.99-272756.9  0.244750358962  0.0638627972445\n",
       "SWIRE3_J033556.19-280911.1 0.0383539469003 0.00148850418955\n",
       "SWIRE3_J033556.25-272734.7  0.112999085965  0.0106697897064\n",
       "SWIRE3_J033556.36-272701.2 0.0185437803239 0.00511133221299\n",
       "SWIRE3_J033556.36-272701.3 0.0152086941824 0.00465888263543\n",
       "SWIRE3_J033556.51-280917.5 0.0560263610318 0.00308873904893\n",
       "SWIRE3_J033556.63-272759.9 0.0254186902628 0.00851659258412\n",
       "SWIRE3_J033556.71-272753.0   0.24852616466  0.0154985169269\n",
       "SWIRE3_J033556.85-272804.3 0.0348747001869  0.0125462374052\n",
       "SWIRE3_J033557.13-280957.4  0.337516439342  0.0160348483991"
      ]
     },
     "execution_count": 145,
     "metadata": {},
     "output_type": "execute_result"
    }
   ],
   "source": [
    "import astropy.table\n",
    "names_ = []\n",
    "rgz_preds_ = []\n",
    "norris_preds_ = []\n",
    "for name in swire_names:\n",
    "    if name not in swire_name_to_rgz_lr_pred:\n",
    "        continue\n",
    "\n",
    "    names_.append(name)\n",
    "    rgz_ = numpy.mean([i[1] for i in swire_name_to_rgz_lr_pred[name]])\n",
    "    norris_ = numpy.mean([i[1] for i in swire_name_to_norris_lr_pred[name]])\n",
    "    rgz_preds_.append(rgz_)\n",
    "    norris_preds_.append(norris_)\n",
    "predicted_swire_table = astropy.table.Table(data=[names_, rgz_preds_, norris_preds_],\n",
    "                                            names=['swire', 'lr(rgz)', 'lr(norris)'])\n",
    "predicted_swire_table.write('/Users/alger/data/Crowdastro/predicted_swire_table.csv', format='csv')\n",
    "predicted_swire_table.write('/Users/alger/repos/crowdastro-projects/ATLAS-CDFS/predicted_swire_table.tex',\n",
    "                            format='latex')\n",
    "predicted_swire_table"
   ]
  },
  {
   "cell_type": "markdown",
   "metadata": {},
   "source": [
    "## Table of cross-identifications\n",
    "\n",
    "Finally, we want to map these predictions back to the original task. Given an ATLAS object, get all SWIRE objects within 1' of that object. The highest probability host is then named as the host galaxy."
   ]
  },
  {
   "cell_type": "code",
   "execution_count": 182,
   "metadata": {
    "collapsed": true
   },
   "outputs": [],
   "source": [
    "# Map Zooniverse ID -> [SWIRE from RGZ]\n",
    "zid_to_rgz_consensus_swires = collections.defaultdict(list)\n",
    "zid_to_rgz_consensus_radio = {}\n",
    "zid_to_rgz_consensus_ir = collections.defaultdict(list)\n",
    "for row in rgz_catalogue:\n",
    "    zid_to_rgz_consensus_swires[row['zooniverse_id']].append(row['SWIRE.designation'])\n",
    "    zid_to_rgz_consensus_ir[row['zooniverse_id']].append(row['consensus.ir_level'])\n",
    "    zid_to_rgz_consensus_radio[row['zooniverse_id']] = row['consensus.radio_level']"
   ]
  },
  {
   "cell_type": "code",
   "execution_count": 192,
   "metadata": {
    "scrolled": false
   },
   "outputs": [
    {
     "name": "stdout",
     "output_type": "stream",
     "text": [
      "ARG0003spl not found\n"
     ]
    },
    {
     "name": "stderr",
     "output_type": "stream",
     "text": [
      "WARNING: AstropyDeprecationWarning: /Users/alger/data/Crowdastro/predicted_cross_ids_table.csv already exists. Automatically overwriting ASCII files is deprecated. Use the argument 'overwrite=True' in the future. [astropy.io.ascii.ui]\n"
     ]
    },
    {
     "data": {
      "text/html": [
       "&lt;Table length=544&gt;\n",
       "<table id=\"table4595884888\" class=\"table-striped table-bordered table-condensed\">\n",
       "<thead><tr><th>zooniverse_id</th><th>ra</th><th>dec</th><th>lr(rgz)_swire</th><th>lr(norris)_swire</th><th>rgz_swire</th><th>rgz_consensus_radio_level</th><th>rgz_consensus_ir_level</th></tr></thead>\n",
       "<thead><tr><th>str10</th><th>float64</th><th>float64</th><th>str26</th><th>str26</th><th>str188</th><th>object</th><th>str74</th></tr></thead>\n",
       "<tr><td>ARG0003rb2</td><td>51.511734</td><td>-28.785575</td><td>SWIRE3_J032602.36-284711.5</td><td>SWIRE3_J032602.36-284711.5</td><td>-99</td><td>0.4</td><td>0.333333333333</td></tr>\n",
       "<tr><td>ARG0003rfr</td><td>51.564555</td><td>-28.774847</td><td>SWIRE3_J032615.41-284630.7</td><td>SWIRE3_J032615.41-284630.7</td><td>SWIRE3_J032616.14-284552.9,SWIRE3_J032615.41-284630.7</td><td>0.3125</td><td>1.0,1.0</td></tr>\n",
       "<tr><td>ARG0003r8s</td><td>51.564799</td><td>-28.099955</td><td>SWIRE3_J032615.52-280559.8</td><td>SWIRE3_J032615.52-280559.8</td><td>SWIRE3_J032616.71-280538.6,SWIRE3_J032617.94-280648.2,SWIRE3_J032615.52-280559.8</td><td>0.484848484848</td><td>0.75,0.555555555556,0.8125</td></tr>\n",
       "<tr><td>ARG0003r2j</td><td>51.572279</td><td>-28.119491</td><td>SWIRE3_J032615.86-280628.8</td><td>SWIRE3_J032617.02-280638.9</td><td>SWIRE3_J032617.89-280707.2</td><td>0.421052631579</td><td>1.0</td></tr>\n",
       "<tr><td>ARG0003raz</td><td>51.604711</td><td>-28.152731</td><td>SWIRE3_J032625.19-280910.1</td><td>SWIRE3_J032625.19-280910.1</td><td>SWIRE3_J032624.80-280915.9</td><td>0.3</td><td>0.333333333333</td></tr>\n",
       "<tr><td>ARG0003ro4</td><td>51.621251</td><td>-28.113924</td><td>SWIRE3_J032629.13-280650.7</td><td>SWIRE3_J032629.13-280650.7</td><td>SWIRE3_J032629.13-280650.7,SWIRE3_J032626.74-280636.7</td><td>0.357142857143</td><td>0.8,1.0</td></tr>\n",
       "<tr><td>ARG0003r8e</td><td>51.623385</td><td>-28.681315</td><td>SWIRE3_J032629.54-284051.9</td><td>SWIRE3_J032629.54-284051.9</td><td>SWIRE3_J032629.54-284055.8</td><td>0.3</td><td>1.0</td></tr>\n",
       "<tr><td>ARG0003r3w</td><td>51.624653</td><td>-28.798195</td><td>SWIRE3_J032629.81-284754.4</td><td>SWIRE3_J032629.81-284754.4</td><td>SWIRE3_J032629.81-284754.4</td><td>1.0</td><td>0.666666666667</td></tr>\n",
       "<tr><td>ARG0003r55</td><td>51.62777</td><td>-28.615917</td><td>SWIRE3_J032630.64-283658.0</td><td>SWIRE3_J032630.64-283658.0</td><td>SWIRE3_J032630.64-283658.0,SWIRE3_J032628.56-283744.8</td><td>0.354838709677</td><td>1.0,0.727272727273</td></tr>\n",
       "<tr><td>ARG0003rj2</td><td>51.644117</td><td>-28.339678</td><td>SWIRE3_J032634.58-282022.8</td><td>SWIRE3_J032634.58-282022.8</td><td>SWIRE3_J032630.21-282025.5,SWIRE3_J032634.58-282022.8,SWIRE3_J032631.96-281941.0</td><td>0.59375</td><td>0.684210526316,0.947368421053,0.473684210526</td></tr>\n",
       "<tr><td>...</td><td>...</td><td>...</td><td>...</td><td>...</td><td>...</td><td>...</td><td>...</td></tr>\n",
       "<tr><td>ARG0003ra9</td><td>53.87272</td><td>-28.865327</td><td>SWIRE3_J033529.46-285154.5</td><td>SWIRE3_J033529.46-285154.5</td><td>SWIRE3_J033529.46-285154.5</td><td>0.421052631579</td><td>0.75</td></tr>\n",
       "<tr><td>ARG0003rbx</td><td>53.875955</td><td>-28.185517</td><td>SWIRE3_J033530.19-281108.5</td><td>SWIRE3_J033530.19-281108.5</td><td>SWIRE3_J033530.19-281108.5,SWIRE3_J033530.34-281025.5</td><td>0.638888888889</td><td>0.826086956522,1.0</td></tr>\n",
       "<tr><td>ARG0003r1v</td><td>53.879392</td><td>-27.450616</td><td>SWIRE3_J033534.30-272705.7</td><td>SWIRE3_J033531.45-272658.6</td><td>SWIRE3_J033529.12-272726.2</td><td>0.4375</td><td>0.285714285714</td></tr>\n",
       "<tr><td>ARG0003ra7</td><td>53.884153</td><td>-28.800544</td><td>SWIRE3_J033532.19-284801.1</td><td>SWIRE3_J033532.19-284801.1</td><td>SWIRE3_J033532.19-284801.1</td><td>0.222222222222</td><td>1.0</td></tr>\n",
       "<tr><td>ARG0003r59</td><td>53.891569</td><td>-27.553515</td><td>SWIRE3_J033533.90-273310.9</td><td>SWIRE3_J033533.90-273310.9</td><td>SWIRE3_J033533.90-273310.9,SWIRE3_J033530.61-273323.7</td><td>0.529411764706</td><td>0.777777777778,0.888888888889</td></tr>\n",
       "<tr><td>ARG0003r6f</td><td>53.904304</td><td>-27.575789</td><td>SWIRE3_J033537.03-273432.9</td><td>SWIRE3_J033537.03-273432.9</td><td>SWIRE3_J033537.03-273432.9,SWIRE3_J033532.80-273456.7</td><td>0.294117647059</td><td>1.0,1.0</td></tr>\n",
       "<tr><td>ARG0003rdx</td><td>53.911449</td><td>-28.50367</td><td>SWIRE3_J033538.73-283012.9</td><td>SWIRE3_J033538.73-283012.9</td><td>SWIRE3_J033538.73-283012.9</td><td>0.222222222222</td><td>1.0</td></tr>\n",
       "<tr><td>ARG0003r7g</td><td>53.94346</td><td>-28.634766</td><td>SWIRE3_J033546.39-283805.0</td><td>SWIRE3_J033546.39-283805.0</td><td>SWIRE3_J033549.55-283850.7,SWIRE3_J033546.39-283805.0</td><td>0.411764705882</td><td>1.0,0.857142857143</td></tr>\n",
       "<tr><td>ARG0003r1c</td><td>53.972284</td><td>-27.461299</td><td>SWIRE3_J033553.33-272740.4</td><td>SWIRE3_J033553.33-272740.4</td><td>SWIRE3_J033553.33-272740.4,SWIRE3_J033552.00-272650.6</td><td>0.777777777778</td><td>0.857142857143,1.0</td></tr>\n",
       "<tr><td>ARG0003rc9</td><td>53.973537</td><td>-28.165283</td><td>SWIRE3_J033553.56-280952.4</td><td>SWIRE3_J033553.56-280952.4</td><td>SWIRE3_J033553.56-280952.4,SWIRE3_J033556.74-280906.9,SWIRE3_J033550.25-281026.0</td><td>0.424242424242</td><td>1.0,1.0,1.0</td></tr>\n",
       "</table>"
      ],
      "text/plain": [
       "<Table length=544>\n",
       "zooniverse_id     ra    ...            rgz_consensus_ir_level           \n",
       "    str10      float64  ...                    str74                    \n",
       "------------- --------- ... --------------------------------------------\n",
       "   ARG0003rb2 51.511734 ...                               0.333333333333\n",
       "   ARG0003rfr 51.564555 ...                                      1.0,1.0\n",
       "   ARG0003r8s 51.564799 ...                   0.75,0.555555555556,0.8125\n",
       "   ARG0003r2j 51.572279 ...                                          1.0\n",
       "   ARG0003raz 51.604711 ...                               0.333333333333\n",
       "   ARG0003ro4 51.621251 ...                                      0.8,1.0\n",
       "   ARG0003r8e 51.623385 ...                                          1.0\n",
       "   ARG0003r3w 51.624653 ...                               0.666666666667\n",
       "   ARG0003r55  51.62777 ...                           1.0,0.727272727273\n",
       "   ARG0003rj2 51.644117 ... 0.684210526316,0.947368421053,0.473684210526\n",
       "          ...       ... ...                                          ...\n",
       "   ARG0003ra9  53.87272 ...                                         0.75\n",
       "   ARG0003rbx 53.875955 ...                           0.826086956522,1.0\n",
       "   ARG0003r1v 53.879392 ...                               0.285714285714\n",
       "   ARG0003ra7 53.884153 ...                                          1.0\n",
       "   ARG0003r59 53.891569 ...                0.777777777778,0.888888888889\n",
       "   ARG0003r6f 53.904304 ...                                      1.0,1.0\n",
       "   ARG0003rdx 53.911449 ...                                          1.0\n",
       "   ARG0003r7g  53.94346 ...                           1.0,0.857142857143\n",
       "   ARG0003r1c 53.972284 ...                           0.857142857143,1.0\n",
       "   ARG0003rc9 53.973537 ...                                  1.0,1.0,1.0"
      ]
     },
     "execution_count": 192,
     "metadata": {},
     "output_type": "execute_result"
    }
   ],
   "source": [
    "zids_ = []\n",
    "ras_ = []\n",
    "decs_ = []\n",
    "rgz_names_ = []\n",
    "norris_names_ = []\n",
    "rgz_consensuses_radio_level_ = []\n",
    "rgz_consensuses_ir_level_ = []\n",
    "rgz_consensuses_ = []\n",
    "for row in table:\n",
    "    if row['Key'] in rgz & norris:\n",
    "        zid = row['Component Zooniverse ID (RGZ)']\n",
    "        ra = row['Component RA (Franzen)']\n",
    "        dec = row['Component DEC (Franzen)']\n",
    "        nearby = swire_tree.query_ball_point([ra, dec], 1 / 60)\n",
    "        names = [swire_names[i] for i in nearby]\n",
    "        if not names:\n",
    "            print('{} not found'.format(zid))\n",
    "            continue\n",
    "        norris_probs = [numpy.mean([i[1] for i in swire_name_to_norris_lr_pred[name]]) for name in names]\n",
    "        norris_name = names[numpy.argmax(norris_probs)]\n",
    "        rgz_probs = [numpy.mean([i[1] for i in swire_name_to_rgz_lr_pred[name]]) for name in names]\n",
    "        rgz_name = names[numpy.argmax(rgz_probs)]\n",
    "        zids_.append(zid)\n",
    "        ras_.append(ra)\n",
    "        decs_.append(dec)\n",
    "        rgz_names_.append(rgz_name)\n",
    "        norris_names_.append(norris_name)\n",
    "        rgz_consensuses_.append(','.join(i for i in zid_to_rgz_consensus_swires.get(zid, [])))\n",
    "        rgz_consensuses_radio_level_.append(zid_to_rgz_consensus_radio.get(zid))\n",
    "        rgz_consensuses_ir_level_.append(','.join(str(i) for i in zid_to_rgz_consensus_ir.get(zid, [])))\n",
    "cross_id_table = astropy.table.Table(data=[zids_, ras_, decs_, rgz_names_, norris_names_,\n",
    "                                           rgz_consensuses_, rgz_consensuses_radio_level_, rgz_consensuses_ir_level_],\n",
    "                                     names=['zooniverse_id', 'ra', 'dec', 'lr(rgz)_swire', 'lr(norris)_swire',\n",
    "                                            'rgz_swire', 'rgz_consensus_radio_level', 'rgz_consensus_ir_level'])\n",
    "cross_id_table.write('/Users/alger/data/Crowdastro/predicted_cross_ids_table.csv', format='csv')\n",
    "cross_id_table.write('/Users/alger/repos/crowdastro-projects/ATLAS-CDFS/predicted_cross_ids_table.tex', format='latex')\n",
    "cross_id_table"
   ]
  },
  {
   "cell_type": "markdown",
   "metadata": {
    "collapsed": true
   },
   "source": [
    "## Export\n",
    "\n",
    "Finally, let's export all our ATLAS and SWIRE sets."
   ]
  },
  {
   "cell_type": "code",
   "execution_count": 198,
   "metadata": {},
   "outputs": [],
   "source": [
    "import pickle\n",
    "\n",
    "with open('/Users/alger/data/Crowdastro/sets_atlas.pkl', 'wb') as f:\n",
    "    pickle.dump(training_testing_atlas_sets, f)\n",
    "\n",
    "with open('/Users/alger/data/Crowdastro/sets_swire.pkl', 'wb') as f:\n",
    "    pickle.dump(training_testing_swire_sets, f)"
   ]
  },
  {
   "cell_type": "code",
   "execution_count": null,
   "metadata": {
    "collapsed": true
   },
   "outputs": [],
   "source": []
  }
 ],
 "metadata": {
  "kernelspec": {
   "display_name": "Python 3",
   "language": "python",
   "name": "python3"
  },
  "language_info": {
   "codemirror_mode": {
    "name": "ipython",
    "version": 3
   },
   "file_extension": ".py",
   "mimetype": "text/x-python",
   "name": "python",
   "nbconvert_exporter": "python",
   "pygments_lexer": "ipython3",
   "version": "3.6.1"
  }
 },
 "nbformat": 4,
 "nbformat_minor": 2
}
