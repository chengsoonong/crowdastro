{
 "cells": [
  {
   "cell_type": "markdown",
   "metadata": {},
   "source": [
    "[#242](https://github.com/chengsoonong/crowdastro/issues/242)"
   ]
  },
  {
   "cell_type": "code",
   "execution_count": 15,
   "metadata": {
    "collapsed": true
   },
   "outputs": [],
   "source": [
    "# Some setup.\n",
    "import h5py, numpy, matplotlib.pyplot as plt, astropy.io.ascii as asc, scipy.spatial, sklearn.model_selection\n",
    "import crowdastro.crowd.util, sklearn.linear_model, sklearn.ensemble, astropy.table, collections\n",
    "%matplotlib inline"
   ]
  },
  {
   "cell_type": "code",
   "execution_count": 64,
   "metadata": {
    "collapsed": true
   },
   "outputs": [],
   "source": [
    "with h5py.File('/Users/alger/data/Crowdastro/swire_11_05_17.h5', 'r') as f:\n",
    "    swire_features = f['features'].value\n",
    "with h5py.File('/Users/alger/data/Crowdastro/crowdastro-swire.h5', 'r') as f:\n",
    "    swire_coords = f['/swire/cdfs/numeric'][:, :2]\n",
    "    swire_names = [i.decode('ascii') for i in f['/swire/cdfs/string'].value]\n",
    "table = asc.read('/Users/alger/data/Crowdastro/one-table-to-rule-them-all.tbl')\n",
    "swire_tree = scipy.spatial.KDTree(swire_coords)\n",
    "labels = asc.read('/Users/alger/data/SWIRE/all_labels.csv')\n",
    "atlas_coords = numpy.array([(r['Component RA (Franzen)'], r['Component DEC (Franzen)']) for r in table\n",
    "                            if r['Component RA (Franzen)']])\n",
    "rgz_catalogue = asc.read('/Users/alger/data/ATLAS/static_rgz_host_full.csv')  # Overrides all_labels for RGZ."
   ]
  },
  {
   "cell_type": "markdown",
   "metadata": {},
   "source": [
    "## Generate training sets\n",
    "\n",
    "We are looking for five different training sets for each subset of the ATLAS-CDFS data:\n",
    "\n",
    "- RGZ & Norris & compact (the \"clean\" set)\n",
    "- RGZ & Norris & resolved\n",
    "- RGZ & Norris\n",
    "- RGZ compact\n",
    "- RGZ resolved\n",
    "- RGZ\n",
    "\n",
    "First, let's have a function that takes a set of ATLAS objects and returns five sets of SWIRE objects."
   ]
  },
  {
   "cell_type": "code",
   "execution_count": 32,
   "metadata": {
    "collapsed": true
   },
   "outputs": [],
   "source": [
    "def atlas_to_swire(atlas: list, radius: float=1 / 60) -> list:\n",
    "    # atlas is a list of table Keys.\n",
    "    # Look up the coordinates of the ATLAS objects.\n",
    "    atlas = set(atlas)\n",
    "    ras = [r['Component RA (Franzen)'] for r in table if r['Key'] in atlas]\n",
    "    decs = [r['Component DEC (Franzen)'] for r in table if r['Key'] in atlas]\n",
    "    coords = numpy.vstack([ras, decs]).T\n",
    "    nearby = sorted({int(i)\n",
    "                     for i in numpy.concatenate(swire_tree.query_ball_point(coords, radius))})\n",
    "    return nearby"
   ]
  },
  {
   "cell_type": "markdown",
   "metadata": {},
   "source": [
    "Next, we'll split ATLAS into three (overlapping) subsets:\n",
    "\n",
    "- RGZ\n",
    "- Norris\n",
    "- Compact\n",
    "\n",
    "From these we can compute all subsets we want to train on."
   ]
  },
  {
   "cell_type": "code",
   "execution_count": 40,
   "metadata": {
    "collapsed": true
   },
   "outputs": [],
   "source": [
    "def compact_test(r):\n",
    "    if not r['Component S (Franzen)']:  # Why does this happen?\n",
    "        return True\n",
    "\n",
    "    R = numpy.log(r['Component S (Franzen)'] / r['Component Sp (Franzen)'])\n",
    "    R_err = numpy.sqrt((r['Component S_ERR (Franzen)'] / r['Component S (Franzen)']) ** 2 +\n",
    "                       (r['Component Sp_ERR (Franzen)'] / r['Component Sp (Franzen)']) ** 2)\n",
    "    return R < 2 * R_err"
   ]
  },
  {
   "cell_type": "code",
   "execution_count": 41,
   "metadata": {
    "collapsed": true
   },
   "outputs": [],
   "source": [
    "rgz = {r['Key'] for r in table if r['Component Zooniverse ID (RGZ)'] and\n",
    "                                         r['Component ID (Franzen)'] == r['Primary Component ID (RGZ)'] and\n",
    "                                  r['Component ID (Franzen)']}\n",
    "norris = {r['Key'] for r in table if r['Component # (Norris)'] and r['Component ID (Franzen)']}\n",
    "compact = {r['Key'] for r in table if r['Component ID (Franzen)'] and\n",
    "                                        compact_test(r)}"
   ]
  },
  {
   "cell_type": "markdown",
   "metadata": {},
   "source": [
    "We can now compute the training sets. We will split CDFS in four. Let's start by finding the min/max RA/dec to get our dividing lines."
   ]
  },
  {
   "cell_type": "code",
   "execution_count": 42,
   "metadata": {
    "collapsed": true
   },
   "outputs": [],
   "source": [
    "middle = (numpy.median(atlas_coords[:, 0]), numpy.median(atlas_coords[:, 1]))\n",
    "middle = (52.8, -28.1)"
   ]
  },
  {
   "cell_type": "code",
   "execution_count": 43,
   "metadata": {
    "collapsed": true
   },
   "outputs": [],
   "source": [
    "subsets = [\n",
    "    ('RGZ & Norris & compact', rgz & norris & compact),\n",
    "    ('RGZ & Norris & resolved', rgz & norris - compact),\n",
    "    ('RGZ & Norris', rgz & norris),\n",
    "    ('RGZ & compact', rgz & compact),\n",
    "    ('RGZ & resolved', rgz - compact),\n",
    "    ('RGZ', rgz),\n",
    "]"
   ]
  },
  {
   "cell_type": "code",
   "execution_count": 44,
   "metadata": {},
   "outputs": [
    {
     "name": "stdout",
     "output_type": "stream",
     "text": [
      "RGZ & Norris & compact 298 151\n",
      "RGZ & Norris & compact 334 115\n",
      "RGZ & Norris & compact 378 71\n",
      "RGZ & Norris & compact 337 112\n",
      "RGZ & Norris & resolved 69 27\n",
      "RGZ & Norris & resolved 73 23\n",
      "RGZ & Norris & resolved 71 25\n",
      "RGZ & Norris & resolved 75 21\n",
      "RGZ & Norris 367 178\n",
      "RGZ & Norris 407 138\n",
      "RGZ & Norris 449 96\n",
      "RGZ & Norris 412 133\n",
      "RGZ & compact 1845 410\n",
      "RGZ & compact 1596 659\n",
      "RGZ & compact 1700 555\n",
      "RGZ & compact 1624 631\n",
      "RGZ & resolved 162 43\n",
      "RGZ & resolved 151 54\n",
      "RGZ & resolved 148 57\n",
      "RGZ & resolved 154 51\n",
      "RGZ 2007 453\n",
      "RGZ 1747 713\n",
      "RGZ 1848 612\n",
      "RGZ 1778 682\n"
     ]
    }
   ],
   "source": [
    "training_testing_atlas_sets = {s:[] for s, _ in subsets}  # Maps subset string -> [(train, test)]\n",
    "\n",
    "def filter_subset(subset: set, q: int) -> set:\n",
    "    \"\"\"Filters subset to just include indices of ATLAS objects in a given quadrant.\"\"\"\n",
    "    subset_ = set()\n",
    "    for s in subset:\n",
    "        row = table[table['Key'] == s][0]\n",
    "        coords = row['Component RA (Franzen)'], row['Component DEC (Franzen)']\n",
    "\n",
    "        if (\n",
    "                (q == 0 and coords[0] >= middle[0] and coords[1] >= middle[1]) or\n",
    "                (q == 1 and coords[0] < middle[0] and coords[1] >= middle[1]) or\n",
    "                (q == 2 and coords[0] < middle[0] and coords[1] < middle[1]) or\n",
    "                (q == 3 and coords[0] >= middle[0] and coords[1] < middle[1])):\n",
    "            subset_.add(s)\n",
    "    return subset_\n",
    "\n",
    "for subset_str, subset_set in subsets:\n",
    "    for q in range(4):  # Quadrants.\n",
    "        test = filter_subset(subset_set, q)\n",
    "        train = {i for i in subset_set if i not in test}\n",
    "        print(subset_str, len(train), len(test))\n",
    "        training_testing_atlas_sets[subset_str].append((train, test))"
   ]
  },
  {
   "cell_type": "markdown",
   "metadata": {},
   "source": [
    "These can be converted into SWIRE sets."
   ]
  },
  {
   "cell_type": "code",
   "execution_count": 45,
   "metadata": {
    "scrolled": false
   },
   "outputs": [
    {
     "name": "stdout",
     "output_type": "stream",
     "text": [
      "RGZ & Norris & compact 0 out of 3285 overlap\n",
      "RGZ & Norris & compact 0 out of 2602 overlap\n",
      "RGZ & Norris & compact 15 out of 1806 overlap\n",
      "RGZ & Norris & compact 15 out of 2561 overlap\n",
      "RGZ & Norris & resolved 0 out of 726 overlap\n",
      "RGZ & Norris & resolved 0 out of 582 overlap\n",
      "RGZ & Norris & resolved 0 out of 729 overlap\n",
      "RGZ & Norris & resolved 0 out of 592 overlap\n",
      "RGZ & Norris 0 out of 3880 overlap\n",
      "RGZ & Norris 8 out of 3110 overlap\n",
      "RGZ & Norris 23 out of 2435 overlap\n",
      "RGZ & Norris 15 out of 3107 overlap\n",
      "RGZ & compact 36 out of 7543 overlap\n",
      "RGZ & compact 87 out of 11188 overlap\n",
      "RGZ & compact 129 out of 9351 overlap\n",
      "RGZ & compact 78 out of 11260 overlap\n",
      "RGZ & resolved 0 out of 1128 overlap\n",
      "RGZ & resolved 0 out of 1269 overlap\n",
      "RGZ & resolved 0 out of 1478 overlap\n",
      "RGZ & resolved 0 out of 1316 overlap\n",
      "RGZ 65 out of 8317 overlap\n",
      "RGZ 143 out of 11913 overlap\n",
      "RGZ 188 out of 10299 overlap\n",
      "RGZ 110 out of 11976 overlap\n"
     ]
    }
   ],
   "source": [
    "training_testing_swire_sets = {s:[] for s, _ in subsets}  # Maps subset string -> [(train, test)]\n",
    "\n",
    "for subset_str, subset_set in subsets:\n",
    "    for train, test in training_testing_atlas_sets[subset_str]:\n",
    "        train = atlas_to_swire(train)\n",
    "        test = atlas_to_swire(test)\n",
    "        print(subset_str, len(set(train) & set(test)), 'out of', len(set(test)), 'overlap')\n",
    "        train = sorted(set(train) - set(test))\n",
    "        training_testing_swire_sets[subset_str].append((train, test))"
   ]
  },
  {
   "cell_type": "markdown",
   "metadata": {},
   "source": [
    "## Extracting labels"
   ]
  },
  {
   "cell_type": "code",
   "execution_count": 46,
   "metadata": {
    "collapsed": true,
    "scrolled": true
   },
   "outputs": [],
   "source": [
    "swire_name_to_rgz_label = {}\n",
    "swire_name_to_norris_label = {}\n",
    "for row in labels:\n",
    "    swire_name_to_norris_label[row['swire']] = bool(row['norris_label']) and row['norris_label'] == 'True'\n",
    "#     swire_name_to_rgz_label[row['swire']] = bool(row['rgz_label']) and row['rgz_label'] == 'True'\n",
    "for name in swire_names:\n",
    "    swire_name_to_rgz_label[name] = False\n",
    "for row in rgz_catalogue:\n",
    "    swire_name_to_rgz_label[row['SWIRE.designation']] = True"
   ]
  },
  {
   "cell_type": "markdown",
   "metadata": {},
   "source": [
    "## Training LR with Norris labels\n",
    "\n",
    "We will now train logistic regression on the Norris label set. We will test on both RGZ and Norris, since there are objects that RGZ observes that Norris does not."
   ]
  },
  {
   "cell_type": "code",
   "execution_count": 47,
   "metadata": {
    "collapsed": true
   },
   "outputs": [],
   "source": [
    "def test_on_sets(training_testing_swire_sets, name_to_label, Classifier):\n",
    "    for subset_str, splits in training_testing_swire_sets.items():\n",
    "        if 'Norris' not in subset_str:\n",
    "            continue\n",
    "\n",
    "        rgz_accuracies = []\n",
    "        norris_accuracies = []\n",
    "        predictions = []\n",
    "        for train, test in splits:\n",
    "            train_features = swire_features[train]\n",
    "            train_labels = [name_to_label[swire_names[i]] for i in train]\n",
    "\n",
    "            test_features = swire_features[test]\n",
    "\n",
    "            lr = Classifier()\n",
    "            lr.fit(train_features, train_labels)\n",
    "            \n",
    "            preds = lr.predict(test_features)\n",
    "            predictions.append(dict(zip([swire_names[i] for i in test], lr.predict_proba(test_features))))\n",
    "\n",
    "            if 'Norris' in subset_str:\n",
    "                test_labels_norris = [swire_name_to_norris_label[swire_names[i]] for i in test]\n",
    "                norris_accuracies.append(\n",
    "                    crowdastro.crowd.util.balanced_accuracy(test_labels_norris, preds))\n",
    "            test_labels_rgz = [swire_name_to_rgz_label[swire_names[i]] for i in test]\n",
    "            rgz_accuracies.append(\n",
    "                crowdastro.crowd.util.balanced_accuracy(test_labels_rgz, preds))\n",
    "        yield subset_str, (rgz_accuracies, norris_accuracies), predictions"
   ]
  },
  {
   "cell_type": "code",
   "execution_count": 48,
   "metadata": {},
   "outputs": [
    {
     "name": "stderr",
     "output_type": "stream",
     "text": [
      "/usr/local/lib/python3.6/site-packages/sklearn/linear_model/base.py:352: RuntimeWarning: overflow encountered in exp\n",
      "  np.exp(prob, prob)\n"
     ]
    },
    {
     "name": "stdout",
     "output_type": "stream",
     "text": [
      "RGZ & Norris & compact on RGZ: (83.95 +- 2.29)%\n",
      "RGZ & Norris & compact on Norris: (96.39 +- 1.22)%\n",
      "RGZ & Norris & resolved on RGZ: (80.95 +- 4.80)%\n",
      "RGZ & Norris & resolved on Norris: (89.59 +- 2.73)%\n",
      "RGZ & Norris on RGZ: (84.24 +- 1.02)%\n",
      "RGZ & Norris on Norris: (94.62 +- 1.41)%\n"
     ]
    }
   ],
   "source": [
    "norris_lr_results = list(test_on_sets(\n",
    "        training_testing_swire_sets, swire_name_to_norris_label,\n",
    "        lambda: sklearn.linear_model.LogisticRegression(class_weight='balanced', penalty='l2', C=1e10)))\n",
    "for subset, (rgz_acc, norris_acc), _ in norris_lr_results:\n",
    "    print('{} on RGZ: ({:.02f} +- {:.02f})%'.format(\n",
    "        subset, numpy.mean(rgz_acc) * 100, numpy.std(rgz_acc) * 100))\n",
    "    print('{} on Norris: ({:.02f} +- {:.02f})%'.format(\n",
    "        subset, numpy.mean(norris_acc) * 100, numpy.std(norris_acc) * 100))"
   ]
  },
  {
   "cell_type": "markdown",
   "metadata": {},
   "source": [
    "## Training RF with Norris labels"
   ]
  },
  {
   "cell_type": "code",
   "execution_count": 55,
   "metadata": {},
   "outputs": [
    {
     "name": "stdout",
     "output_type": "stream",
     "text": [
      "RGZ & Norris & compact on RGZ: (79.97 +- 0.21)%\n",
      "RGZ & Norris & compact on Norris: (97.08 +- 0.90)%\n",
      "RGZ & Norris & resolved on RGZ: (77.41 +- 4.14)%\n",
      "RGZ & Norris & resolved on Norris: (94.89 +- 2.00)%\n",
      "RGZ & Norris on RGZ: (78.43 +- 1.85)%\n",
      "RGZ & Norris on Norris: (95.77 +- 2.39)%\n"
     ]
    }
   ],
   "source": [
    "norris_rf_results = list(test_on_sets(\n",
    "        training_testing_swire_sets, swire_name_to_norris_label,\n",
    "        lambda: sklearn.ensemble.RandomForestClassifier(class_weight='balanced',\n",
    "                                                        criterion='entropy',\n",
    "                                                        min_samples_leaf=45)))\n",
    "\n",
    "for subset, (rgz_acc, norris_acc), _ in norris_rf_results:\n",
    "    print('{} on RGZ: ({:.02f} +- {:.02f})%'.format(\n",
    "        subset, numpy.mean(rgz_acc) * 100, numpy.std(rgz_acc) * 100))\n",
    "    print('{} on Norris: ({:.02f} +- {:.02f})%'.format(\n",
    "        subset, numpy.mean(norris_acc) * 100, numpy.std(norris_acc) * 100))"
   ]
  },
  {
   "cell_type": "markdown",
   "metadata": {},
   "source": [
    "## Training LR with RGZ labels"
   ]
  },
  {
   "cell_type": "code",
   "execution_count": 50,
   "metadata": {},
   "outputs": [
    {
     "name": "stdout",
     "output_type": "stream",
     "text": [
      "RGZ & Norris & compact on RGZ: (86.28 +- 1.70)%\n",
      "RGZ & Norris & compact on Norris: (94.22 +- 0.59)%\n",
      "RGZ & Norris & resolved on RGZ: (80.78 +- 3.95)%\n",
      "RGZ & Norris & resolved on Norris: (85.63 +- 4.33)%\n",
      "RGZ & Norris on RGZ: (85.97 +- 0.55)%\n",
      "RGZ & Norris on Norris: (92.52 +- 1.15)%\n"
     ]
    }
   ],
   "source": [
    "rgz_lr_results = list(test_on_sets(\n",
    "        training_testing_swire_sets, swire_name_to_rgz_label,\n",
    "        lambda: sklearn.linear_model.LogisticRegression(class_weight='balanced', penalty='l2', C=1e10)))\n",
    "for subset, (rgz_acc, norris_acc), _ in rgz_lr_results:\n",
    "    print('{} on RGZ: ({:.02f} +- {:.02f})%'.format(\n",
    "        subset, numpy.mean(rgz_acc) * 100, numpy.std(rgz_acc) * 100))\n",
    "    print('{} on Norris: ({:.02f} +- {:.02f})%'.format(\n",
    "        subset, numpy.mean(norris_acc) * 100, numpy.std(norris_acc) * 100))"
   ]
  },
  {
   "cell_type": "markdown",
   "metadata": {},
   "source": [
    "## Training RF with RGZ labels"
   ]
  },
  {
   "cell_type": "code",
   "execution_count": 54,
   "metadata": {},
   "outputs": [
    {
     "name": "stdout",
     "output_type": "stream",
     "text": [
      "RGZ & Norris & compact on RGZ: (92.39 +- 0.67)%\n",
      "RGZ & Norris & compact on Norris: (94.94 +- 0.37)%\n",
      "RGZ & Norris & resolved on RGZ: (88.16 +- 2.81)%\n",
      "RGZ & Norris & resolved on Norris: (92.06 +- 0.38)%\n",
      "RGZ & Norris on RGZ: (92.36 +- 0.74)%\n",
      "RGZ & Norris on Norris: (94.69 +- 0.57)%\n"
     ]
    }
   ],
   "source": [
    "rgz_rf_results = list(test_on_sets(\n",
    "        training_testing_swire_sets, swire_name_to_rgz_label,\n",
    "        lambda: sklearn.ensemble.RandomForestClassifier(class_weight='balanced',\n",
    "                                                        criterion='entropy',\n",
    "                                                        min_samples_leaf=45)))\n",
    "for subset, (rgz_acc, norris_acc), _ in rgz_rf_results:\n",
    "    print('{} on RGZ: ({:.02f} +- {:.02f})%'.format(\n",
    "        subset, numpy.mean(rgz_acc) * 100, numpy.std(rgz_acc) * 100))\n",
    "    print('{} on Norris: ({:.02f} +- {:.02f})%'.format(\n",
    "        subset, numpy.mean(norris_acc) * 100, numpy.std(norris_acc) * 100))"
   ]
  },
  {
   "cell_type": "code",
   "execution_count": 56,
   "metadata": {},
   "outputs": [
    {
     "data": {
      "image/png": "[encoded data removed]",
      "text/plain": [
       "<matplotlib.figure.Figure at 0x1136f1a20>"
      ]
     },
     "metadata": {},
     "output_type": "display_data"
    }
   ],
   "source": [
    "plt.figure(figsize=(10, 4))\n",
    "for i, (subset_str, _) in enumerate(subsets[:3]):\n",
    "    plt.subplot(1, 3, i + 1)\n",
    "    plt.title(subset_str.replace('&', '$\\\\cap$'))\n",
    "    plt.xticks([0, 1, 2, 3], ['LR(RGZ)', 'LR(Norris)', 'RF(RGZ)', 'RF(Norris)'], rotation='vertical')\n",
    "    plt.grid(axis='y', which='major', color='lightgrey', linestyle='-')\n",
    "    plt.ylim((50, 100))\n",
    "    plt.xlim((-1, 4))\n",
    "    \n",
    "    if i == 1:\n",
    "        plt.xlabel('Classifier(Training set)', labelpad=20)\n",
    "    if i == 0:\n",
    "        plt.ylabel('Balanced accuracy (%)')\n",
    "\n",
    "    lr_rgz_acc, lr_norris_acc = [numpy.array(res) * 100 for sstr, res, _ in rgz_lr_results if sstr == subset_str][0]\n",
    "    rf_rgz_acc, rf_norris_acc = [numpy.array(res) * 100 for sstr, res, _ in rgz_rf_results if sstr == subset_str][0]\n",
    "    xs = [i for j in range(4) for i in [j] * 4]\n",
    "    ys = list(lr_rgz_acc) + list(lr_norris_acc) + list(rf_rgz_acc) + list(rf_norris_acc)\n",
    "    plt.scatter(xs, ys, marker='x')\n",
    "plt.subplots_adjust(wspace=0.4, bottom=0.3)\n",
    "plt.savefig('/Users/alger/Documents/writing/atlas-ml-ba.pdf')\n",
    "plt.show()"
   ]
  },
  {
   "cell_type": "markdown",
   "metadata": {},
   "source": [
    "## Table of predictions\n",
    "\n",
    "We now want to generate a table of predictions. We will first generate a table of SWIRE-based predictions. Each SWIRE object will be assigned a label from each of two classifiers:\n",
    "\n",
    "- LR(Norris)\n",
    "- LR(RGZ)\n",
    "\n",
    "These are trained on all data points in the training set, i.e., not splitting on compact/resolved. We report the labels from when the given SWIRE object was in a testing quadrant."
   ]
  },
  {
   "cell_type": "code",
   "execution_count": 57,
   "metadata": {
    "collapsed": true
   },
   "outputs": [],
   "source": [
    "swire_name_to_rgz_lr_pred = collections.defaultdict(list)\n",
    "swire_name_to_norris_lr_pred = collections.defaultdict(list)\n",
    "\n",
    "for subset_str, _, preds in rgz_lr_results:\n",
    "    for preds_ in preds:\n",
    "        for name, pred in preds_.items():\n",
    "            swire_name_to_rgz_lr_pred[name].append(pred)\n",
    "\n",
    "for subset_str, _, preds in norris_lr_results:\n",
    "    for preds_ in preds:\n",
    "        for name, pred in preds_.items():\n",
    "            swire_name_to_norris_lr_pred[name].append(pred)"
   ]
  },
  {
   "cell_type": "code",
   "execution_count": 58,
   "metadata": {},
   "outputs": [
    {
     "data": {
      "text/html": [
       "&lt;Table length=12509&gt;\n",
       "<table id=\"table4618990144\" class=\"table-striped table-bordered table-condensed\">\n",
       "<thead><tr><th>swire</th><th>lr(rgz)</th><th>lr(norris)</th></tr></thead>\n",
       "<thead><tr><th>str26</th><th>float64</th><th>float64</th></tr></thead>\n",
       "<tr><td>SWIRE3_J032559.15-284724.2</td><td>0.0103425963105</td><td>0.0140876973827</td></tr>\n",
       "<tr><td>SWIRE3_J032559.91-284728.9</td><td>0.207774469321</td><td>0.0197342707073</td></tr>\n",
       "<tr><td>SWIRE3_J032600.02-284736.9</td><td>0.147822500615</td><td>0.0116599079929</td></tr>\n",
       "<tr><td>SWIRE3_J032600.13-284637.5</td><td>0.0609663955718</td><td>0.021059589621</td></tr>\n",
       "<tr><td>SWIRE3_J032600.13-284715.7</td><td>0.172903856593</td><td>0.0608948984168</td></tr>\n",
       "<tr><td>SWIRE3_J032600.98-284705.4</td><td>0.0556761387892</td><td>0.102366961283</td></tr>\n",
       "<tr><td>SWIRE3_J032601.03-284711.6</td><td>0.375365352403</td><td>0.168507910493</td></tr>\n",
       "<tr><td>SWIRE3_J032601.75-284614.5</td><td>0.276312390974</td><td>0.0449587530623</td></tr>\n",
       "<tr><td>SWIRE3_J032602.08-284713.1</td><td>0.651484553746</td><td>0.425380638918</td></tr>\n",
       "<tr><td>SWIRE3_J032602.36-284711.5</td><td>0.499084796642</td><td>0.550609670906</td></tr>\n",
       "<tr><td>...</td><td>...</td><td>...</td></tr>\n",
       "<tr><td>SWIRE3_J033555.99-272756.9</td><td>0.34616094925</td><td>0.00289945384979</td></tr>\n",
       "<tr><td>SWIRE3_J033556.19-280911.1</td><td>0.0368207688138</td><td>0.000416389336006</td></tr>\n",
       "<tr><td>SWIRE3_J033556.25-272734.7</td><td>0.0492726967733</td><td>0.000566468062323</td></tr>\n",
       "<tr><td>SWIRE3_J033556.36-272701.2</td><td>0.00800182412464</td><td>0.000117980019698</td></tr>\n",
       "<tr><td>SWIRE3_J033556.36-272701.3</td><td>0.00663881903206</td><td>0.000102254811687</td></tr>\n",
       "<tr><td>SWIRE3_J033556.51-280917.5</td><td>0.130037358638</td><td>0.000755857118439</td></tr>\n",
       "<tr><td>SWIRE3_J033556.63-272759.9</td><td>0.0144135431882</td><td>0.000263225031745</td></tr>\n",
       "<tr><td>SWIRE3_J033556.71-272753.0</td><td>0.108609448814</td><td>0.00081326735078</td></tr>\n",
       "<tr><td>SWIRE3_J033556.85-272804.3</td><td>0.0344172279338</td><td>0.000380044647789</td></tr>\n",
       "<tr><td>SWIRE3_J033557.13-280957.4</td><td>0.258034530119</td><td>0.00708681070039</td></tr>\n",
       "</table>"
      ],
      "text/plain": [
       "<Table length=12509>\n",
       "          swire                lr(rgz)          lr(norris)   \n",
       "          str26                float64           float64     \n",
       "-------------------------- ---------------- -----------------\n",
       "SWIRE3_J032559.15-284724.2  0.0103425963105   0.0140876973827\n",
       "SWIRE3_J032559.91-284728.9   0.207774469321   0.0197342707073\n",
       "SWIRE3_J032600.02-284736.9   0.147822500615   0.0116599079929\n",
       "SWIRE3_J032600.13-284637.5  0.0609663955718    0.021059589621\n",
       "SWIRE3_J032600.13-284715.7   0.172903856593   0.0608948984168\n",
       "SWIRE3_J032600.98-284705.4  0.0556761387892    0.102366961283\n",
       "SWIRE3_J032601.03-284711.6   0.375365352403    0.168507910493\n",
       "SWIRE3_J032601.75-284614.5   0.276312390974   0.0449587530623\n",
       "SWIRE3_J032602.08-284713.1   0.651484553746    0.425380638918\n",
       "SWIRE3_J032602.36-284711.5   0.499084796642    0.550609670906\n",
       "                       ...              ...               ...\n",
       "SWIRE3_J033555.99-272756.9    0.34616094925  0.00289945384979\n",
       "SWIRE3_J033556.19-280911.1  0.0368207688138 0.000416389336006\n",
       "SWIRE3_J033556.25-272734.7  0.0492726967733 0.000566468062323\n",
       "SWIRE3_J033556.36-272701.2 0.00800182412464 0.000117980019698\n",
       "SWIRE3_J033556.36-272701.3 0.00663881903206 0.000102254811687\n",
       "SWIRE3_J033556.51-280917.5   0.130037358638 0.000755857118439\n",
       "SWIRE3_J033556.63-272759.9  0.0144135431882 0.000263225031745\n",
       "SWIRE3_J033556.71-272753.0   0.108609448814  0.00081326735078\n",
       "SWIRE3_J033556.85-272804.3  0.0344172279338 0.000380044647789\n",
       "SWIRE3_J033557.13-280957.4   0.258034530119  0.00708681070039"
      ]
     },
     "execution_count": 58,
     "metadata": {},
     "output_type": "execute_result"
    }
   ],
   "source": [
    "import astropy.table\n",
    "names_ = []\n",
    "rgz_preds_ = []\n",
    "norris_preds_ = []\n",
    "for name in swire_names:\n",
    "    if name not in swire_name_to_rgz_lr_pred:\n",
    "        continue\n",
    "\n",
    "    names_.append(name)\n",
    "    rgz_ = numpy.mean([i[1] for i in swire_name_to_rgz_lr_pred[name]])\n",
    "    norris_ = numpy.mean([i[1] for i in swire_name_to_norris_lr_pred[name]])\n",
    "    rgz_preds_.append(rgz_)\n",
    "    norris_preds_.append(norris_)\n",
    "predicted_swire_table = astropy.table.Table(data=[names_, rgz_preds_, norris_preds_],\n",
    "                                            names=['swire', 'lr(rgz)', 'lr(norris)'])\n",
    "predicted_swire_table.write('/Users/alger/data/Crowdastro/predicted_swire_table_11_05_17.csv', format='csv')\n",
    "predicted_swire_table.write('/Users/alger/repos/crowdastro-projects/ATLAS-CDFS/predicted_swire_table_11_05_17.tex',\n",
    "                            format='latex')\n",
    "predicted_swire_table"
   ]
  },
  {
   "cell_type": "markdown",
   "metadata": {},
   "source": [
    "## Table of cross-identifications\n",
    "\n",
    "Finally, we want to map these predictions back to the original task. Given an ATLAS object, get all SWIRE objects within 1' of that object. The highest probability host is then named as the host galaxy."
   ]
  },
  {
   "cell_type": "code",
   "execution_count": 59,
   "metadata": {
    "collapsed": true
   },
   "outputs": [],
   "source": [
    "# Map Zooniverse ID -> [SWIRE from RGZ]\n",
    "zid_to_rgz_consensus_swires = collections.defaultdict(list)\n",
    "zid_to_rgz_consensus_radio = {}\n",
    "zid_to_rgz_consensus_ir = collections.defaultdict(list)\n",
    "for row in rgz_catalogue:\n",
    "    zid_to_rgz_consensus_swires[row['zooniverse_id']].append(row['SWIRE.designation'])\n",
    "    zid_to_rgz_consensus_ir[row['zooniverse_id']].append(row['consensus.ir_level'])\n",
    "    zid_to_rgz_consensus_radio[row['zooniverse_id']] = row['consensus.radio_level']"
   ]
  },
  {
   "cell_type": "code",
   "execution_count": 60,
   "metadata": {
    "scrolled": false
   },
   "outputs": [
    {
     "name": "stdout",
     "output_type": "stream",
     "text": [
      "ARG0003spl not found\n"
     ]
    },
    {
     "data": {
      "text/html": [
       "&lt;Table length=544&gt;\n",
       "<table id=\"table4597968008\" class=\"table-striped table-bordered table-condensed\">\n",
       "<thead><tr><th>zooniverse_id</th><th>ra</th><th>dec</th><th>lr(rgz)_swire</th><th>lr(norris)_swire</th><th>rgz_swire</th><th>rgz_consensus_radio_level</th><th>rgz_consensus_ir_level</th></tr></thead>\n",
       "<thead><tr><th>str10</th><th>float64</th><th>float64</th><th>str26</th><th>str26</th><th>str188</th><th>object</th><th>str74</th></tr></thead>\n",
       "<tr><td>ARG0003rb2</td><td>51.511734</td><td>-28.785575</td><td>SWIRE3_J032605.76-284711.8</td><td>SWIRE3_J032602.36-284711.5</td><td>-99</td><td>0.4</td><td>0.333333333333</td></tr>\n",
       "<tr><td>ARG0003rfr</td><td>51.564555</td><td>-28.774847</td><td>SWIRE3_J032615.41-284630.7</td><td>SWIRE3_J032615.41-284630.7</td><td>SWIRE3_J032616.14-284552.9,SWIRE3_J032615.41-284630.7</td><td>0.3125</td><td>1.0,1.0</td></tr>\n",
       "<tr><td>ARG0003r8s</td><td>51.564799</td><td>-28.099955</td><td>SWIRE3_J032615.52-280559.8</td><td>SWIRE3_J032615.52-280559.8</td><td>SWIRE3_J032616.71-280538.6,SWIRE3_J032617.94-280648.2,SWIRE3_J032615.52-280559.8</td><td>0.484848484848</td><td>0.75,0.555555555556,0.8125</td></tr>\n",
       "<tr><td>ARG0003r2j</td><td>51.572279</td><td>-28.119491</td><td>SWIRE3_J032615.86-280628.8</td><td>SWIRE3_J032617.02-280638.9</td><td>SWIRE3_J032617.89-280707.2</td><td>0.421052631579</td><td>1.0</td></tr>\n",
       "<tr><td>ARG0003raz</td><td>51.604711</td><td>-28.152731</td><td>SWIRE3_J032625.19-280910.1</td><td>SWIRE3_J032625.19-280910.1</td><td>SWIRE3_J032624.80-280915.9</td><td>0.3</td><td>0.333333333333</td></tr>\n",
       "<tr><td>ARG0003ro4</td><td>51.621251</td><td>-28.113924</td><td>SWIRE3_J032629.13-280650.7</td><td>SWIRE3_J032629.13-280650.7</td><td>SWIRE3_J032629.13-280650.7,SWIRE3_J032626.74-280636.7</td><td>0.357142857143</td><td>0.8,1.0</td></tr>\n",
       "<tr><td>ARG0003r8e</td><td>51.623385</td><td>-28.681315</td><td>SWIRE3_J032629.54-284055.8</td><td>SWIRE3_J032629.54-284055.8</td><td>SWIRE3_J032629.54-284055.8</td><td>0.3</td><td>1.0</td></tr>\n",
       "<tr><td>ARG0003r3w</td><td>51.624653</td><td>-28.798195</td><td>SWIRE3_J032630.12-284751.2</td><td>SWIRE3_J032629.81-284754.4</td><td>SWIRE3_J032629.81-284754.4</td><td>1.0</td><td>0.666666666667</td></tr>\n",
       "<tr><td>ARG0003r55</td><td>51.62777</td><td>-28.615917</td><td>SWIRE3_J032630.64-283658.0</td><td>SWIRE3_J032630.64-283658.0</td><td>SWIRE3_J032630.64-283658.0,SWIRE3_J032628.56-283744.8</td><td>0.354838709677</td><td>1.0,0.727272727273</td></tr>\n",
       "<tr><td>ARG0003rj2</td><td>51.644117</td><td>-28.339678</td><td>SWIRE3_J032631.96-281941.0</td><td>SWIRE3_J032634.58-282022.8</td><td>SWIRE3_J032630.21-282025.5,SWIRE3_J032634.58-282022.8,SWIRE3_J032631.96-281941.0</td><td>0.59375</td><td>0.684210526316,0.947368421053,0.473684210526</td></tr>\n",
       "<tr><td>...</td><td>...</td><td>...</td><td>...</td><td>...</td><td>...</td><td>...</td><td>...</td></tr>\n",
       "<tr><td>ARG0003ra9</td><td>53.87272</td><td>-28.865327</td><td>SWIRE3_J033529.46-285154.5</td><td>SWIRE3_J033529.46-285154.5</td><td>SWIRE3_J033529.46-285154.5</td><td>0.421052631579</td><td>0.75</td></tr>\n",
       "<tr><td>ARG0003rbx</td><td>53.875955</td><td>-28.185517</td><td>SWIRE3_J033530.19-281108.5</td><td>SWIRE3_J033530.19-281108.5</td><td>SWIRE3_J033530.19-281108.5,SWIRE3_J033530.34-281025.5</td><td>0.638888888889</td><td>0.826086956522,1.0</td></tr>\n",
       "<tr><td>ARG0003r1v</td><td>53.879392</td><td>-27.450616</td><td>SWIRE3_J033534.30-272705.7</td><td>SWIRE3_J033531.45-272658.6</td><td>SWIRE3_J033529.12-272726.2</td><td>0.4375</td><td>0.285714285714</td></tr>\n",
       "<tr><td>ARG0003ra7</td><td>53.884153</td><td>-28.800544</td><td>SWIRE3_J033532.19-284801.1</td><td>SWIRE3_J033532.19-284801.1</td><td>SWIRE3_J033532.19-284801.1</td><td>0.222222222222</td><td>1.0</td></tr>\n",
       "<tr><td>ARG0003r59</td><td>53.891569</td><td>-27.553515</td><td>SWIRE3_J033533.90-273310.9</td><td>SWIRE3_J033533.90-273310.9</td><td>SWIRE3_J033533.90-273310.9,SWIRE3_J033530.61-273323.7</td><td>0.529411764706</td><td>0.777777777778,0.888888888889</td></tr>\n",
       "<tr><td>ARG0003r6f</td><td>53.904304</td><td>-27.575789</td><td>SWIRE3_J033537.03-273432.9</td><td>SWIRE3_J033537.03-273432.9</td><td>SWIRE3_J033537.03-273432.9,SWIRE3_J033532.80-273456.7</td><td>0.294117647059</td><td>1.0,1.0</td></tr>\n",
       "<tr><td>ARG0003rdx</td><td>53.911449</td><td>-28.50367</td><td>SWIRE3_J033538.73-283012.9</td><td>SWIRE3_J033538.73-283012.9</td><td>SWIRE3_J033538.73-283012.9</td><td>0.222222222222</td><td>1.0</td></tr>\n",
       "<tr><td>ARG0003r7g</td><td>53.94346</td><td>-28.634766</td><td>SWIRE3_J033546.39-283805.0</td><td>SWIRE3_J033546.39-283805.0</td><td>SWIRE3_J033549.55-283850.7,SWIRE3_J033546.39-283805.0</td><td>0.411764705882</td><td>1.0,0.857142857143</td></tr>\n",
       "<tr><td>ARG0003r1c</td><td>53.972284</td><td>-27.461299</td><td>SWIRE3_J033553.33-272740.4</td><td>SWIRE3_J033553.33-272740.4</td><td>SWIRE3_J033553.33-272740.4,SWIRE3_J033552.00-272650.6</td><td>0.777777777778</td><td>0.857142857143,1.0</td></tr>\n",
       "<tr><td>ARG0003rc9</td><td>53.973537</td><td>-28.165283</td><td>SWIRE3_J033553.56-280952.4</td><td>SWIRE3_J033553.56-280952.4</td><td>SWIRE3_J033553.56-280952.4,SWIRE3_J033556.74-280906.9,SWIRE3_J033550.25-281026.0</td><td>0.424242424242</td><td>1.0,1.0,1.0</td></tr>\n",
       "</table>"
      ],
      "text/plain": [
       "<Table length=544>\n",
       "zooniverse_id     ra    ...            rgz_consensus_ir_level           \n",
       "    str10      float64  ...                    str74                    \n",
       "------------- --------- ... --------------------------------------------\n",
       "   ARG0003rb2 51.511734 ...                               0.333333333333\n",
       "   ARG0003rfr 51.564555 ...                                      1.0,1.0\n",
       "   ARG0003r8s 51.564799 ...                   0.75,0.555555555556,0.8125\n",
       "   ARG0003r2j 51.572279 ...                                          1.0\n",
       "   ARG0003raz 51.604711 ...                               0.333333333333\n",
       "   ARG0003ro4 51.621251 ...                                      0.8,1.0\n",
       "   ARG0003r8e 51.623385 ...                                          1.0\n",
       "   ARG0003r3w 51.624653 ...                               0.666666666667\n",
       "   ARG0003r55  51.62777 ...                           1.0,0.727272727273\n",
       "   ARG0003rj2 51.644117 ... 0.684210526316,0.947368421053,0.473684210526\n",
       "          ...       ... ...                                          ...\n",
       "   ARG0003ra9  53.87272 ...                                         0.75\n",
       "   ARG0003rbx 53.875955 ...                           0.826086956522,1.0\n",
       "   ARG0003r1v 53.879392 ...                               0.285714285714\n",
       "   ARG0003ra7 53.884153 ...                                          1.0\n",
       "   ARG0003r59 53.891569 ...                0.777777777778,0.888888888889\n",
       "   ARG0003r6f 53.904304 ...                                      1.0,1.0\n",
       "   ARG0003rdx 53.911449 ...                                          1.0\n",
       "   ARG0003r7g  53.94346 ...                           1.0,0.857142857143\n",
       "   ARG0003r1c 53.972284 ...                           0.857142857143,1.0\n",
       "   ARG0003rc9 53.973537 ...                                  1.0,1.0,1.0"
      ]
     },
     "execution_count": 60,
     "metadata": {},
     "output_type": "execute_result"
    }
   ],
   "source": [
    "zids_ = []\n",
    "ras_ = []\n",
    "decs_ = []\n",
    "rgz_names_ = []\n",
    "norris_names_ = []\n",
    "rgz_consensuses_radio_level_ = []\n",
    "rgz_consensuses_ir_level_ = []\n",
    "rgz_consensuses_ = []\n",
    "for row in table:\n",
    "    if row['Key'] in rgz & norris:\n",
    "        zid = row['Component Zooniverse ID (RGZ)']\n",
    "        ra = row['Component RA (Franzen)']\n",
    "        dec = row['Component DEC (Franzen)']\n",
    "        nearby = swire_tree.query_ball_point([ra, dec], 1 / 60)\n",
    "        names = [swire_names[i] for i in nearby]\n",
    "        if not names:\n",
    "            print('{} not found'.format(zid))\n",
    "            continue\n",
    "        norris_probs = [numpy.mean([i[1] for i in swire_name_to_norris_lr_pred[name]]) for name in names]\n",
    "        norris_name = names[numpy.argmax(norris_probs)]\n",
    "        rgz_probs = [numpy.mean([i[1] for i in swire_name_to_rgz_lr_pred[name]]) for name in names]\n",
    "        rgz_name = names[numpy.argmax(rgz_probs)]\n",
    "        zids_.append(zid)\n",
    "        ras_.append(ra)\n",
    "        decs_.append(dec)\n",
    "        rgz_names_.append(rgz_name)\n",
    "        norris_names_.append(norris_name)\n",
    "        rgz_consensuses_.append(','.join(i for i in zid_to_rgz_consensus_swires.get(zid, [])))\n",
    "        rgz_consensuses_radio_level_.append(zid_to_rgz_consensus_radio.get(zid))\n",
    "        rgz_consensuses_ir_level_.append(','.join(str(i) for i in zid_to_rgz_consensus_ir.get(zid, [])))\n",
    "cross_id_table = astropy.table.Table(data=[zids_, ras_, decs_, rgz_names_, norris_names_,\n",
    "                                           rgz_consensuses_, rgz_consensuses_radio_level_, rgz_consensuses_ir_level_],\n",
    "                                     names=['zooniverse_id', 'ra', 'dec', 'lr(rgz)_swire', 'lr(norris)_swire',\n",
    "                                            'rgz_swire', 'rgz_consensus_radio_level', 'rgz_consensus_ir_level'])\n",
    "cross_id_table.write('/Users/alger/data/Crowdastro/predicted_cross_ids_table_11_05_17.csv', format='csv')\n",
    "cross_id_table.write('/Users/alger/repos/crowdastro-projects/ATLAS-CDFS/predicted_cross_ids_table_11_05_17.tex', format='latex')\n",
    "cross_id_table"
   ]
  },
  {
   "cell_type": "markdown",
   "metadata": {
    "collapsed": true
   },
   "source": [
    "## Export\n",
    "\n",
    "Finally, let's export all our ATLAS and SWIRE sets."
   ]
  },
  {
   "cell_type": "code",
   "execution_count": 61,
   "metadata": {
    "collapsed": true
   },
   "outputs": [],
   "source": [
    "import pickle\n",
    "\n",
    "with open('/Users/alger/data/Crowdastro/sets_atlas_11_05_17.pkl', 'wb') as f:\n",
    "    pickle.dump(training_testing_atlas_sets, f)\n",
    "\n",
    "with open('/Users/alger/data/Crowdastro/sets_swire_11_05_17.pkl', 'wb') as f:\n",
    "    pickle.dump(training_testing_swire_sets, f)"
   ]
  },
  {
   "cell_type": "markdown",
   "metadata": {
    "collapsed": true
   },
   "source": [
    "## Export for Full Training\n",
    "\n",
    "We need to export the SWIRE features and labels. In principle we can reconstruct our features etc. later, so we don't need to export the names, but we will anyway."
   ]
  },
  {
   "cell_type": "code",
   "execution_count": 62,
   "metadata": {
    "collapsed": true
   },
   "outputs": [],
   "source": [
    "def export(training_testing_swire_sets, filename):\n",
    "    with h5py.File(filename, 'w') as f:\n",
    "        # Export features.\n",
    "        f.create_dataset('features', data=swire_features)\n",
    "        # Export names.\n",
    "        assert all(len(s) <= 26 for s in swire_names)\n",
    "        f.create_dataset('names', data=[i.encode('ascii') for i in swire_names], dtype='<S26')\n",
    "        # Export labels.\n",
    "        f.create_dataset('norris_labels', data=numpy.array([\n",
    "            swire_name_to_norris_label[n] for n in swire_names], dtype=bool))\n",
    "        f.create_dataset('rgz_labels', data=numpy.array([\n",
    "            swire_name_to_rgz_label[n] for n in swire_names], dtype=bool))\n",
    "        # Export train/test sets.\n",
    "        sets = f.create_group('sets')\n",
    "        for subset_str, splits in training_testing_swire_sets.items():\n",
    "            subset = sets.create_group(subset_str)\n",
    "            train_bool = numpy.zeros((len(splits), len(swire_names)), dtype=bool)\n",
    "            test_bool = numpy.zeros((len(splits), len(swire_names)), dtype=bool)\n",
    "            for i, (train, test) in enumerate(splits):\n",
    "                train_bool[i, train] = True\n",
    "                test_bool[i, test] = True\n",
    "            subset.create_dataset('train', data=train_bool)\n",
    "            subset.create_dataset('test', data=test_bool)"
   ]
  },
  {
   "cell_type": "code",
   "execution_count": 63,
   "metadata": {
    "collapsed": true
   },
   "outputs": [],
   "source": [
    "export(training_testing_swire_sets, '/Users/alger/data/Crowdastro/all_training_data_11_05_17.h5')"
   ]
  },
  {
   "cell_type": "code",
   "execution_count": 68,
   "metadata": {},
   "outputs": [
    {
     "data": {
      "text/plain": [
       "10"
      ]
     },
     "execution_count": 68,
     "metadata": {},
     "output_type": "execute_result"
    }
   ],
   "source": [
    "swire_features.shape[1] - 1024"
   ]
  },
  {
   "cell_type": "code",
   "execution_count": null,
   "metadata": {
    "collapsed": true
   },
   "outputs": [],
   "source": []
  }
 ],
 "metadata": {
  "kernelspec": {
   "display_name": "Python 3",
   "language": "python",
   "name": "python3"
  },
  "language_info": {
   "codemirror_mode": {
    "name": "ipython",
    "version": 3
   },
   "file_extension": ".py",
   "mimetype": "text/x-python",
   "name": "python",
   "nbconvert_exporter": "python",
   "pygments_lexer": "ipython3",
   "version": "3.6.1"
  }
 },
 "nbformat": 4,
 "nbformat_minor": 2
}
