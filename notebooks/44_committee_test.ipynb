{
 "cells": [
  {
   "cell_type": "markdown",
   "metadata": {},
   "source": [
    "# Committee Test\n",
    "\n",
    "Testing out `crowdastro.classifier.RGZCommittee` and `crowdastro.plot.plot_classifications_row`."
   ]
  },
  {
   "cell_type": "code",
   "execution_count": 11,
   "metadata": {
    "collapsed": false
   },
   "outputs": [],
   "source": [
    "import logging\n",
    "import sys\n",
    "\n",
    "import h5py\n",
    "import matplotlib.pyplot as plt\n",
    "import numpy\n",
    "\n",
    "sys.path.insert(1, '..')\n",
    "from crowdastro.classifier import RGZCommittee\n",
    "from crowdastro.plot import plot_classifications_row\n",
    "\n",
    "CROWDASTRO_H5_PATH = '../data/crowdastro.h5'\n",
    "TRAINING_H5_PATH = '../data/training.h5'\n",
    "N_ASTRO = 5  # SWIRE/WISE survey dependent\n",
    "\n",
    "logging.root.setLevel(logging.DEBUG)\n",
    "\n",
    "%matplotlib inline"
   ]
  },
  {
   "cell_type": "code",
   "execution_count": 17,
   "metadata": {
    "collapsed": false
   },
   "outputs": [],
   "source": [
    "with h5py.File(CROWDASTRO_H5_PATH, 'r') as f_h5, h5py.File(TRAINING_H5_PATH, 'r') as g_h5:\n",
    "    committee = RGZCommittee(10, f_h5['/wise/cdfs/numeric'], N_ASTRO, 0.2)\n",
    "    classifications = committee.k_fold_train_and_label(5, 0.9, f_h5['/atlas/cdfs/numeric'], g_h5['labels'].value)"
   ]
  },
  {
   "cell_type": "code",
   "execution_count": 18,
   "metadata": {
    "collapsed": false
   },
   "outputs": [
    {
     "name": "stderr",
     "output_type": "stream",
     "text": [
      "K:\\Languages\\Python35_64\\lib\\site-packages\\astropy\\io\\fits\\util.py:578: UserWarning: Could not find appropriate MS Visual C Runtime library or library is corrupt/misconfigured; cannot determine whether your file object was opened in append mode.  Please consider using a file object opened in write mode instead.\n",
      "  'Could not find appropriate MS Visual C Runtime '\n",
      "WARNING: FITSFixedWarning: 'celfix' made the change 'Success'. [astropy.wcs.wcs]\n",
      "WARNING: FITSFixedWarning: 'spcfix' made the change 'Changed CTYPE3 from 'FREQ-LSR' to 'FREQ''. [astropy.wcs.wcs]\n",
      "K:\\Languages\\Python35_64\\lib\\site-packages\\ipykernel\\__main__.py:11: VisibleDeprecationWarning: using a non-integer number instead of an integer will result in an error in the future\n",
      "..\\crowdastro\\plot.py:68: VisibleDeprecationWarning: using a non-integer number instead of an integer will result in an error in the future\n",
      "  ir_coords.extend([coords] * label)  # For label multiplicity.\n",
      "..\\crowdastro\\plot.py:68: VisibleDeprecationWarning: using a boolean instead of an integer will result in an error in the future\n",
      "  ir_coords.extend([coords] * label)  # For label multiplicity.\n"
     ]
    },
    {
     "data": {
      "image/png": "[encoded data removed]",
      "text/plain": [
       "<matplotlib.figure.Figure at 0x28bc7cfd9b0>"
      ]
     },
     "metadata": {},
     "output_type": "display_data"
    }
   ],
   "source": [
    "import importlib, crowdastro.plot\n",
    "importlib.reload(crowdastro.plot)\n",
    "plot_classifications_row = crowdastro.plot.plot_classifications_row\n",
    "\n",
    "with h5py.File(CROWDASTRO_H5_PATH, 'r') as f_h5, h5py.File(TRAINING_H5_PATH, 'r') as g_h5:\n",
    "    i = 250\n",
    "    vec = f_h5['/atlas/cdfs/numeric'][i, :]\n",
    "    mat = f_h5['/wise/cdfs/numeric']\n",
    "    labels = numpy.zeros((mat.shape[0],))\n",
    "    for classification in classifications[i]:\n",
    "        labels[classification] += 1\n",
    "        \n",
    "    plt.figure(figsize=(20, 10))\n",
    "    plot_classifications_row(vec, mat, labels, g_h5['labels'], f_h5['/wise/cdfs/norris_labels'], noise=True)\n",
    "    plt.show()"
   ]
  },
  {
   "cell_type": "markdown",
   "metadata": {},
   "source": [
    "Looks good! Now, let's take a look at how much diversity there is in those classifications."
   ]
  },
  {
   "cell_type": "code",
   "execution_count": 19,
   "metadata": {
    "collapsed": true
   },
   "outputs": [],
   "source": [
    "def compute_agreements(classifications):\n",
    "    agreements = []\n",
    "    for atlas_object_classifications in classifications:\n",
    "        majority = numpy.bincount(atlas_object_classifications.astype('int')).argmax()\n",
    "        eq = atlas_object_classifications == majority\n",
    "        agreement = eq.sum() / eq.shape[0]\n",
    "        agreements.append(agreement)\n",
    "    \n",
    "    return numpy.array(agreements)"
   ]
  },
  {
   "cell_type": "code",
   "execution_count": 20,
   "metadata": {
    "collapsed": true
   },
   "outputs": [],
   "source": [
    "agreements = compute_agreements(classifications)"
   ]
  },
  {
   "cell_type": "code",
   "execution_count": 21,
   "metadata": {
    "collapsed": false
   },
   "outputs": [
    {
     "data": {
      "image/png": "[encoded data removed]",
      "text/plain": [
       "<matplotlib.figure.Figure at 0x28bc9d66e80>"
      ]
     },
     "metadata": {},
     "output_type": "display_data"
    }
   ],
   "source": [
    "plt.hist(agreements)\n",
    "plt.show()"
   ]
  },
  {
   "cell_type": "code",
   "execution_count": 6,
   "metadata": {
    "collapsed": true
   },
   "outputs": [],
   "source": []
  },
  {
   "cell_type": "code",
   "execution_count": null,
   "metadata": {
    "collapsed": true
   },
   "outputs": [],
   "source": []
  }
 ],
 "metadata": {
  "kernelspec": {
   "display_name": "Python 3",
   "language": "python",
   "name": "python3"
  },
  "language_info": {
   "codemirror_mode": {
    "name": "ipython",
    "version": 3
   },
   "file_extension": ".py",
   "mimetype": "text/x-python",
   "name": "python",
   "nbconvert_exporter": "python",
   "pygments_lexer": "ipython3",
   "version": "3.5.1"
  }
 },
 "nbformat": 4,
 "nbformat_minor": 0
}
