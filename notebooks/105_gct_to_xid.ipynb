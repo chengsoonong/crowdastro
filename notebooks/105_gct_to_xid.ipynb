{
 "cells": [
  {
   "cell_type": "markdown",
   "metadata": {},
   "source": [
    "# GCT to X-ID\n",
    "\n",
    "What is the relationship between accuracy on the galaxy classification task (GCT) and accuracy on the cross-identification task?"
   ]
  },
  {
   "cell_type": "code",
   "execution_count": 43,
   "metadata": {},
   "outputs": [],
   "source": [
    "import pickle, h5py, astropy.io.ascii as asc\n",
    "\n",
    "with open('/Users/alger/data/Crowdastro/sets_atlas.pkl', 'rb') as f:\n",
    "    atlas_sets = pickle.load(f)['RGZ & Norris']\n",
    "with open('/Users/alger/data/Crowdastro/sets_swire.pkl', 'rb') as f:\n",
    "    swire_sets = pickle.load(f)['RGZ & Norris']\n",
    "with h5py.File('/Users/alger/data/Crowdastro/swire.h5') as f:\n",
    "    swire_features = f['features'].value\n",
    "with h5py.File('/Users/alger/data/Crowdastro/crowdastro-swire.h5') as f:\n",
    "    swire_names = [i.decode('ascii') for i in f['/swire/cdfs/string'].value]\n",
    "    swire_coords = f['/swire/cdfs/numeric'][:, :2]\n",
    "swire_labels = {i['swire']: i['norris_label'] for i in asc.read('/Users/alger/data/SWIRE/all_labels.csv')}\n",
    "table = asc.read('/Users/alger/data/Crowdastro/one-table-to-rule-them-all.tbl')"
   ]
  },
  {
   "cell_type": "code",
   "execution_count": 35,
   "metadata": {
    "collapsed": true
   },
   "outputs": [],
   "source": [
    "import scipy.spatial\n",
    "\n",
    "swire_tree = scipy.spatial.KDTree(swire_coords)"
   ]
  },
  {
   "cell_type": "code",
   "execution_count": 90,
   "metadata": {
    "collapsed": true
   },
   "outputs": [],
   "source": [
    "swire_name_to_index = {j:i for i, j in enumerate(swire_names)}"
   ]
  },
  {
   "cell_type": "code",
   "execution_count": 124,
   "metadata": {},
   "outputs": [
    {
     "name": "stdout",
     "output_type": "stream",
     "text": [
      "50\n"
     ]
    },
    {
     "name": "stderr",
     "output_type": "stream",
     "text": [
      "/usr/local/lib/python3.6/site-packages/sklearn/linear_model/base.py:352: RuntimeWarning: overflow encountered in exp\n",
      "  np.exp(prob, prob)\n"
     ]
    },
    {
     "name": "stdout",
     "output_type": "stream",
     "text": [
      "50\n",
      "50\n",
      "50\n",
      "50\n",
      "50\n",
      "50\n",
      "100\n",
      "100\n",
      "100\n",
      "100\n",
      "100\n",
      "200\n",
      "200\n",
      "200\n",
      "400\n",
      "600\n",
      "800\n",
      "1200\n"
     ]
    }
   ],
   "source": [
    "import sklearn.linear_model, random, crowdastro.crowd.util, numpy\n",
    "\n",
    "# Generate some classifiers and test them.\n",
    "\n",
    "accs_gct = []\n",
    "accs_xid = []\n",
    "distances = []\n",
    "for size in [50, 50, 50, 50, 50, 50, 50, 100, 100, 100, 100, 100, 200, 200, 200, 400, 600, 800, 1200]:\n",
    "    print(size)\n",
    "    for (train, test), (atlas_train, atlas_test) in zip(swire_sets, atlas_sets):\n",
    "        lr = sklearn.linear_model.LogisticRegression(C=1e10, class_weight='balanced')\n",
    "        # Choose a subset.\n",
    "        train = list(train)\n",
    "        random.shuffle(train)\n",
    "        while True not in {'True' == swire_labels[swire_names[n]] for n in train[:size]\n",
    "                              if swire_labels[swire_names[n]]}:\n",
    "            random.shuffle(train)\n",
    "        train = train[:size]\n",
    "        train_features = [swire_features[n] for n in train if swire_labels[swire_names[n]]]\n",
    "        train_labels = ['True' == swire_labels[swire_names[n]] for n in train if swire_labels[swire_names[n]]]\n",
    "        test_features = [swire_features[n] for n in test if swire_labels[swire_names[n]]]\n",
    "        test_labels = ['True' == swire_labels[swire_names[n]] for n in test if swire_labels[swire_names[n]]]\n",
    "        lr.fit(train_features, train_labels)\n",
    "        \n",
    "        # Test on SWIRE (GCT).\n",
    "        pred_labels = lr.predict(test_features)\n",
    "        ba = crowdastro.crowd.util.balanced_accuracy(test_labels, pred_labels)\n",
    "        accs_gct.append(ba)\n",
    "        \n",
    "        # Test on ATLAS (X-ID).\n",
    "        n_correct = 0\n",
    "        n_total = 0\n",
    "        distances_ = []\n",
    "        for atlas in atlas_test:\n",
    "            row = table[table['Key'] == atlas][0]\n",
    "            ra = row['Component RA (Franzen)']\n",
    "            dec = row['Component DEC (Franzen)']\n",
    "            swire = row['Source SWIRE (Norris)']\n",
    "            if not swire.startswith('SWIRE'):\n",
    "                continue\n",
    "            nearby = swire_tree.query_ball_point(numpy.array([ra, dec]), 1 / 60)\n",
    "            nearby_features = swire_features[nearby]\n",
    "            if not nearby:\n",
    "                continue\n",
    "            atpreds = lr.predict_proba(nearby_features)[:, 1]\n",
    "            names = [swire_names[n] for n in nearby]\n",
    "            name = names[numpy.argmax(atpreds)]\n",
    "            n_correct += name == swire\n",
    "            n_total += 1\n",
    "            true_coords = swire_coords[swire_name_to_index[swire]]\n",
    "            pred_coords = swire_coords[swire_name_to_index[name]]\n",
    "            distance = numpy.linalg.norm(true_coords - pred_coords)\n",
    "            distances_.append(distance)\n",
    "        distances.append(distances_)\n",
    "        accs_xid.append(n_correct / n_total)"
   ]
  },
  {
   "cell_type": "code",
   "execution_count": 125,
   "metadata": {
    "collapsed": true
   },
   "outputs": [],
   "source": [
    "import matplotlib.pyplot as plt\n",
    "%matplotlib inline"
   ]
  },
  {
   "cell_type": "code",
   "execution_count": 130,
   "metadata": {},
   "outputs": [
    {
     "data": {
      "image/png": "[encoded data removed]",
      "text/plain": [
       "<matplotlib.figure.Figure at 0x111ce4128>"
      ]
     },
     "metadata": {},
     "output_type": "display_data"
    }
   ],
   "source": [
    "plt.scatter(numpy.array(accs_gct) * 100, numpy.array(accs_xid) * 100, marker='o', alpha=0.7)\n",
    "plt.xlabel('GCT BA')\n",
    "plt.ylabel('X-ID Accuracy')\n",
    "plt.grid(color='lightgrey', axis='y')\n",
    "plt.savefig('/Users/alger/repos/crowdastro-projects/ATLAS-CDFS/gct-to-xid.pdf')"
   ]
  },
  {
   "cell_type": "code",
   "execution_count": 134,
   "metadata": {},
   "outputs": [
    {
     "data": {
      "image/png": "[encoded data removed]",
      "text/plain": [
       "<matplotlib.figure.Figure at 0x112889b00>"
      ]
     },
     "metadata": {},
     "output_type": "display_data"
    }
   ],
   "source": [
    "xs = []\n",
    "ys = []\n",
    "# yerr = []\n",
    "for acc, distances_ in zip(accs_gct, distances):\n",
    "    xs.append(acc)\n",
    "    ys.append(numpy.mean(distances_) * 60 * 60)\n",
    "#     yerr.append(numpy.std(distances_))\n",
    "plt.grid(axis='y', color='lightgrey')\n",
    "plt.scatter(xs, ys, marker='o', linestyle='None', linewidth=0.5, alpha=0.7)\n",
    "plt.ylim((0, 0.01 * 60 * 60))\n",
    "plt.ylabel('Mean error (arcsec)')\n",
    "plt.xlabel('GCT BA')\n",
    "plt.savefig('/Users/alger/repos/crowdastro-projects/ATLAS-CDFS/gct-to-arcsec-error.pdf')"
   ]
  },
  {
   "cell_type": "code",
   "execution_count": null,
   "metadata": {
    "collapsed": true
   },
   "outputs": [],
   "source": []
  }
 ],
 "metadata": {
  "kernelspec": {
   "display_name": "Python 3",
   "language": "python",
   "name": "python3"
  },
  "language_info": {
   "codemirror_mode": {
    "name": "ipython",
    "version": 3
   },
   "file_extension": ".py",
   "mimetype": "text/x-python",
   "name": "python",
   "nbconvert_exporter": "python",
   "pygments_lexer": "ipython3",
   "version": "3.6.1"
  }
 },
 "nbformat": 4,
 "nbformat_minor": 2
}
