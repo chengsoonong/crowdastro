{
 "cells": [
  {
   "cell_type": "markdown",
   "metadata": {},
   "source": [
    "# CNN vs Astro\n",
    "\n",
    "In this notebook, I'll compare the performance of logistic regression trained on CNN features to logistic regression trained on astronomy features."
   ]
  },
  {
   "cell_type": "code",
   "execution_count": 3,
   "metadata": {
    "collapsed": false
   },
   "outputs": [
    {
     "name": "stderr",
     "output_type": "stream",
     "text": [
      "K:\\Languages\\Anaconda3\\lib\\site-packages\\astropy\\io\\fits\\util.py:578: UserWarning: Could not find appropriate MS Visual C Runtime library or library is corrupt/misconfigured; cannot determine whether your file object was opened in append mode.  Please consider using a file object opened in write mode instead.\n",
      "  'Could not find appropriate MS Visual C Runtime '\n",
      "K:\\Languages\\Anaconda3\\lib\\site-packages\\ipykernel\\__main__.py:47: DeprecationWarning: using a non-integer number instead of an integer will result in an error in the future\n"
     ]
    }
   ],
   "source": [
    "# Setup taken from notebook 17.\n",
    "\n",
    "import itertools\n",
    "import sys\n",
    "\n",
    "import bson\n",
    "import h5py\n",
    "import keras.layers\n",
    "import keras.models\n",
    "import matplotlib.pyplot\n",
    "import numpy\n",
    "import pandas\n",
    "import sklearn.cross_validation\n",
    "import sklearn.dummy\n",
    "import sklearn.linear_model\n",
    "import sklearn.metrics\n",
    "\n",
    "sys.path.insert(1, '..')\n",
    "import crowdastro.data\n",
    "import crowdastro.show\n",
    "\n",
    "with pandas.HDFStore('crowdastro-data/training.h5') as store:\n",
    "    data = store['data']\n",
    "\n",
    "n = 5000\n",
    "\n",
    "# I'm gathering up the radio patches first so I can run them through the CNN at the same time\n",
    "# as one big matrix operation. In principle this would run on the GPU.\n",
    "radio_patches = numpy.zeros((n, 80, 80))\n",
    "labels = numpy.zeros((n,))\n",
    "linear_distances = numpy.zeros((n,))\n",
    "gaussian_distances = numpy.zeros((n,))\n",
    "\n",
    "radius = 40\n",
    "padding = 150\n",
    "\n",
    "for idx, row in data.head(n).iterrows():\n",
    "    sid = bson.objectid.ObjectId(row['subject_id'][0].decode('ascii'))\n",
    "    x = row['x'][0]\n",
    "    y = row['y'][0]\n",
    "    label = row['is_host'][0]\n",
    "    \n",
    "    labels[idx] = label\n",
    "    \n",
    "    subject = crowdastro.data.db.radio_subjects.find_one({'_id': sid})\n",
    "    radio = crowdastro.data.get_radio(subject, size='5x5')\n",
    "    patch = radio[x - radius + padding : x + radius + padding, y - radius + padding : y + radius + padding]\n",
    "    radio_patches[idx, :] = patch\n",
    "    \n",
    "    linear_distances[idx] = numpy.hypot(x - 100, y - 100)\n",
    "    gaussian_distances[idx] = numpy.exp(-((x - 100) ** 2 / (2 * 50 ** 2) + (y - 100) ** 2 / (2 * 50 ** 2)))\n",
    "\n",
    "# Load the CNN.\n",
    "\n",
    "with open('crowdastro-data/cnn_model_2.json', 'r') as f:\n",
    "    cnn = keras.models.model_from_json(f.read())\n",
    "\n",
    "cnn.load_weights('crowdastro-data/cnn_weights_2.h5')\n",
    "\n",
    "cnn.layers = cnn.layers[:5]  # Pop the layers after the second convolution's activation.\n",
    "cnn.add(keras.layers.Flatten())\n",
    "\n",
    "cnn.compile(optimizer='sgd', loss='mse')  # I don't actually care about the optimiser or loss.\n",
    "\n",
    "# Load the PCA.\n",
    "with h5py.File('crowdastro-data/pca.h5') as f:\n",
    "    pca = f['conv_2'][:]\n",
    "\n",
    "# Find the radio features.\n",
    "radio_features = cnn.predict(radio_patches.reshape(n, 1, 80, 80)) @ pca.T\n",
    "\n",
    "# Find the astronomy features.\n",
    "astro_features = data.ix[:n-1, 'flux_ap2_24':'flux_ap2_80'].as_matrix()"
   ]
  },
  {
   "cell_type": "code",
   "execution_count": 5,
   "metadata": {
    "collapsed": true
   },
   "outputs": [],
   "source": [
    "subject_ids = set()\n",
    "for idx, row in data.ix[n:n * 2].iterrows():\n",
    "    sid = row['subject_id'][0]\n",
    "    subject_ids.add(sid)"
   ]
  },
  {
   "cell_type": "markdown",
   "metadata": {},
   "source": [
    "## CNN features"
   ]
  },
  {
   "cell_type": "code",
   "execution_count": 6,
   "metadata": {
    "collapsed": false
   },
   "outputs": [
    {
     "name": "stdout",
     "output_type": "stream",
     "text": [
      "Classification accuracy: 88.90%\n",
      "Problem accuracy: 61.59%\n"
     ]
    },
    {
     "name": "stderr",
     "output_type": "stream",
     "text": [
      "K:\\Languages\\Anaconda3\\lib\\site-packages\\astropy\\io\\fits\\util.py:578: UserWarning: Could not find appropriate MS Visual C Runtime library or library is corrupt/misconfigured; cannot determine whether your file object was opened in append mode.  Please consider using a file object opened in write mode instead.\n",
      "  'Could not find appropriate MS Visual C Runtime '\n",
      "K:\\Languages\\Anaconda3\\lib\\site-packages\\ipykernel\\__main__.py:21: DeprecationWarning: using a non-integer number instead of an integer will result in an error in the future\n"
     ]
    }
   ],
   "source": [
    "def test(radio_features, labels):\n",
    "    xs_train, xs_test, ts_train, ts_test = sklearn.cross_validation.train_test_split(\n",
    "            radio_features, labels, test_size=0.2, random_state=0)\n",
    "    lr = sklearn.linear_model.LogisticRegression(class_weight='balanced')\n",
    "    lr.fit(xs_train, ts_train)\n",
    "    print('Classification accuracy: {:.02%}'.format(lr.score(xs_test, ts_test)))\n",
    "\n",
    "    hits = 0\n",
    "    attempts = 0\n",
    "\n",
    "    for subject_id in subject_ids:\n",
    "        indices = (data['subject_id'] == subject_id).as_matrix().reshape(-1)\n",
    "        potential_hosts = numpy.nan_to_num(data.as_matrix()[indices][:, 1:-1].astype(float))\n",
    "        labels = numpy.nan_to_num(data.as_matrix()[indices][:, -1].astype(bool))\n",
    "\n",
    "        subject = crowdastro.data.db.radio_subjects.find_one({'_id': bson.objectid.ObjectId(subject_id.decode('ascii'))})\n",
    "        radio = crowdastro.data.get_radio(subject, size='5x5')\n",
    "\n",
    "        radio_patches = numpy.zeros((len(potential_hosts), 1, radius * 2, radius * 2))\n",
    "        for index, (x, y, *astro) in enumerate(potential_hosts):\n",
    "            patch = radio[x - radius + padding : x + radius + padding, y - radius + padding : y + radius + padding]\n",
    "            radio_patches[index, 0, :] = patch\n",
    "\n",
    "        radio_features = cnn.predict(radio_patches) @ pca.T\n",
    "\n",
    "        scores = lr.predict_proba(radio_features)[:, 1].reshape(-1)\n",
    "        predicted_host = scores.argmax()\n",
    "        if labels[predicted_host]:\n",
    "            hits += 1\n",
    "        attempts += 1\n",
    "\n",
    "    print('Problem accuracy: {:.02%}'.format(hits / attempts))\n",
    "\n",
    "test(radio_features, labels)"
   ]
  },
  {
   "cell_type": "markdown",
   "metadata": {},
   "source": [
    "## Astro features"
   ]
  },
  {
   "cell_type": "code",
   "execution_count": 8,
   "metadata": {
    "collapsed": false
   },
   "outputs": [
    {
     "name": "stdout",
     "output_type": "stream",
     "text": [
      "Classification accuracy: 85.50%\n",
      "Problem accuracy: 25.36%\n"
     ]
    },
    {
     "name": "stderr",
     "output_type": "stream",
     "text": [
      "K:\\Languages\\Anaconda3\\lib\\site-packages\\astropy\\io\\fits\\util.py:578: UserWarning: Could not find appropriate MS Visual C Runtime library or library is corrupt/misconfigured; cannot determine whether your file object was opened in append mode.  Please consider using a file object opened in write mode instead.\n",
      "  'Could not find appropriate MS Visual C Runtime '\n",
      "K:\\Languages\\Anaconda3\\lib\\site-packages\\ipykernel\\__main__.py:21: DeprecationWarning: using a non-integer number instead of an integer will result in an error in the future\n"
     ]
    }
   ],
   "source": [
    "def test(astro_features, labels):\n",
    "    xs_train, xs_test, ts_train, ts_test = sklearn.cross_validation.train_test_split(\n",
    "            astro_features, labels, test_size=0.2, random_state=0)\n",
    "    lr = sklearn.linear_model.LogisticRegression(class_weight='balanced')\n",
    "    lr.fit(xs_train, ts_train)\n",
    "    print('Classification accuracy: {:.02%}'.format(lr.score(xs_test, ts_test)))\n",
    "\n",
    "    hits = 0\n",
    "    attempts = 0\n",
    "\n",
    "    for subject_id in subject_ids:\n",
    "        indices = (data['subject_id'] == subject_id).as_matrix().reshape(-1)\n",
    "        potential_hosts = numpy.nan_to_num(data.as_matrix()[indices][:, 1:-1].astype(float))\n",
    "        labels = numpy.nan_to_num(data.as_matrix()[indices][:, -1].astype(bool))\n",
    "\n",
    "        subject = crowdastro.data.db.radio_subjects.find_one({'_id': bson.objectid.ObjectId(subject_id.decode('ascii'))})\n",
    "        radio = crowdastro.data.get_radio(subject, size='5x5')\n",
    "\n",
    "        radio_patches = numpy.zeros((len(potential_hosts), 1, radius * 2, radius * 2))\n",
    "        for index, (x, y, *astro) in enumerate(potential_hosts):\n",
    "            patch = radio[x - radius + padding : x + radius + padding, y - radius + padding : y + radius + padding]\n",
    "            radio_patches[index, 0, :] = patch\n",
    "\n",
    "        radio_features = cnn.predict(radio_patches) @ pca.T\n",
    "        astro_features = potential_hosts[:, 2:]\n",
    "\n",
    "        scores = lr.predict_proba(astro_features)[:, 1].reshape(-1)\n",
    "        predicted_host = scores.argmax()\n",
    "        if labels[predicted_host]:\n",
    "            hits += 1\n",
    "        attempts += 1\n",
    "\n",
    "    print('Problem accuracy: {:.02%}'.format(hits / attempts))\n",
    "\n",
    "test(numpy.nan_to_num(astro_features), labels)"
   ]
  },
  {
   "cell_type": "code",
   "execution_count": null,
   "metadata": {
    "collapsed": true
   },
   "outputs": [],
   "source": []
  }
 ],
 "metadata": {
  "kernelspec": {
   "display_name": "Python 3",
   "language": "python",
   "name": "python3"
  },
  "language_info": {
   "codemirror_mode": {
    "name": "ipython",
    "version": 3
   },
   "file_extension": ".py",
   "mimetype": "text/x-python",
   "name": "python",
   "nbconvert_exporter": "python",
   "pygments_lexer": "ipython3",
   "version": "3.5.1"
  }
 },
 "nbformat": 4,
 "nbformat_minor": 0
}
