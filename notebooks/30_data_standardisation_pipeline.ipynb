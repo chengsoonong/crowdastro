{
 "cells": [
  {
   "cell_type": "markdown",
   "metadata": {},
   "source": [
    "# Data Standardisation Pipeline\n",
    "\n",
    "In this notebook, I detail the process of importing data into `crowdastro`."
   ]
  },
  {
   "cell_type": "markdown",
   "metadata": {},
   "source": [
    "## Input data sources\n",
    "\n",
    "The input data sources are:\n",
    "\n",
    "- Radio Galaxy Zoo\n",
    "    - Subjects (`radio_subjects.json`)\n",
    "    - Classifications (`radio_classifications.json`)\n",
    "- ATLAS\n",
    "    - Catalogue (`ATLASDR3_cmpcat_23July2015.dat`)\n",
    "    - FITS images of the radio sky (`cdfs` & `elais`)\n",
    "- SPITZER\n",
    "    - SWIRE Catalogue (`SWIRE3_CDFS_cat_IRAC24_21Dec05.tbl`)\n",
    "    - FITS images of the infrared sky (`cdfs` & `elais`)\n",
    "\n",
    "Paths to these should be specified in `crowdastro.json`. Radio Galaxy Zoo data should be imported into a database in MongoDB, specified by `radio_galaxy_zoo_db` in `crowdastro.json`. Following is an example `crowdastro.json`:\n",
    "\n",
    "```json\n",
    "{\n",
    "    \"data_sources\": {\n",
    "        \"atlas_catalogue\": \"data/ATLASDR3_cmpcat_23July2015.dat\",\n",
    "        \"cdfs_fits\": \"data/cdfs\",\n",
    "        \"elais_fits\": \"data/elais\",\n",
    "        \"radio_galaxy_zoo_db\": \"radio\",\n",
    "        \"swire_catalogue\": \"data/SWIRE3_CDFS_cat_IRAC24_21Dec05.tbl\"\n",
    "    },\n",
    "\n",
    "    \"mongo\": {\n",
    "        \"host\": \"localhost\",\n",
    "        \"port\": 27017\n",
    "    }\n",
    "}\n",
    "```"
   ]
  },
  {
   "cell_type": "code",
   "execution_count": null,
   "metadata": {
    "collapsed": true
   },
   "outputs": [],
   "source": []
  }
 ],
 "metadata": {
  "kernelspec": {
   "display_name": "Python 3",
   "language": "python",
   "name": "python3"
  },
  "language_info": {
   "codemirror_mode": {
    "name": "ipython",
    "version": 3
   },
   "file_extension": ".py",
   "mimetype": "text/x-python",
   "name": "python",
   "nbconvert_exporter": "python",
   "pygments_lexer": "ipython3",
   "version": "3.5.1"
  }
 },
 "nbformat": 4,
 "nbformat_minor": 0
}
