{
 "cells": [
  {
   "cell_type": "markdown",
   "metadata": {},
   "source": [
    "# Classifying Galaxies\n",
    "\n",
    "We want to classify each galaxy as either containing an AGN or not containing an AGN, assuming that all galaxies are independent."
   ]
  },
  {
   "cell_type": "code",
   "execution_count": 67,
   "metadata": {
    "collapsed": false
   },
   "outputs": [],
   "source": [
    "import sys\n",
    "\n",
    "from astropy.coordinates import SkyCoord\n",
    "import h5py\n",
    "import matplotlib.pyplot as plt\n",
    "import numpy\n",
    "import sklearn.linear_model\n",
    "import sklearn.ensemble\n",
    "import sklearn.metrics\n",
    "import sklearn.neighbors\n",
    "\n",
    "sys.path.insert(1, '..')\n",
    "import crowdastro\n",
    "\n",
    "NORRIS_DAT_PATH = '../data/norris_2006_atlas_classifications_ra_dec_only.dat'\n",
    "TRAINING_H5_PATH = '../data/training.h5'\n",
    "%matplotlib inline"
   ]
  },
  {
   "cell_type": "markdown",
   "metadata": {},
   "source": [
    "## How many infrared objects are there?"
   ]
  },
  {
   "cell_type": "code",
   "execution_count": 15,
   "metadata": {
    "collapsed": false
   },
   "outputs": [
    {
     "name": "stdout",
     "output_type": "stream",
     "text": [
      "Total: 24140\n",
      "Testing: 5922 (24.53%)\n",
      "Training: 18218 (75.47%)\n",
      "Testing: 452 (19.97%)\n",
      "Testing: 1811 (80.03%)\n"
     ]
    }
   ],
   "source": [
    "with h5py.File(TRAINING_H5_PATH) as training_f:\n",
    "    print('Total:', training_f['features'].shape[0])\n",
    "    print('Testing:', training_f['is_ir_test'].value.sum(),\n",
    "          '({:.02%})'.format(training_f['is_ir_test'].value.sum() / training_f['features'].shape[0]))\n",
    "    print('Training:', training_f['is_ir_train'].value.sum(),\n",
    "          '({:.02%})'.format(training_f['is_ir_train'].value.sum() / training_f['features'].shape[0]))\n",
    "\n",
    "    atlas_test = training_f['is_atlas_test'].value.sum()\n",
    "    atlas_train = training_f['is_atlas_train'].value.sum()\n",
    "    atlas_total = atlas_test + atlas_train\n",
    "    print('Testing:', atlas_test, '({:.02%})'.format(atlas_test / atlas_total))\n",
    "    print('Testing:', atlas_train, '({:.02%})'.format(atlas_train / atlas_total))"
   ]
  },
  {
   "cell_type": "markdown",
   "metadata": {},
   "source": [
    "## Training the classifier"
   ]
  },
  {
   "cell_type": "code",
   "execution_count": null,
   "metadata": {
    "collapsed": false
   },
   "outputs": [],
   "source": [
    "with h5py.File(TRAINING_H5_PATH) as training_f:\n",
    "    lr = sklearn.linear_model.LogisticRegression(n_jobs=-1, class_weight='balanced', C=100.0, penalty='l1')\n",
    "    x = training_f['features'][training_f['is_ir_train'].value, :]\n",
    "    y = training_f['labels'][training_f['is_ir_train'].value]\n",
    "    lr.fit(x, y)"
   ]
  },
  {
   "cell_type": "markdown",
   "metadata": {},
   "source": [
    "## Testing the classifier"
   ]
  },
  {
   "cell_type": "code",
   "execution_count": 79,
   "metadata": {
    "collapsed": false
   },
   "outputs": [],
   "source": [
    "# Load Norris labels.\n",
    "with h5py.File(TRAINING_H5_PATH, 'r') as training_f:\n",
    "    ir_positions = training_f['positions'].value\n",
    "ir_tree = sklearn.neighbors.KDTree(ir_positions)\n",
    "\n",
    "with open(NORRIS_DAT_PATH, 'r') as norris_dat:\n",
    "    norris_coords = [r.strip().split('|') for r in norris_dat]\n",
    "\n",
    "norris_labels = numpy.zeros((len(ir_positions)))\n",
    "for ra, dec in norris_coords:\n",
    "    # Find a neighbour.\n",
    "    skycoord = SkyCoord(ra=ra, dec=dec, unit=('hourangle', 'deg'))\n",
    "    ra = skycoord.ra.degree\n",
    "    dec = skycoord.dec.degree\n",
    "    ((dist,),), ((ir,),) = ir_tree.query([(ra, dec)])\n",
    "    if dist < 0.1:\n",
    "        norris_labels[ir] = 1"
   ]
  },
  {
   "cell_type": "code",
   "execution_count": null,
   "metadata": {
    "collapsed": true
   },
   "outputs": [],
   "source": [
    "# Predict.\n",
    "with h5py.File(TRAINING_H5_PATH) as training_f:\n",
    "    test_indices = training_f['is_ir_test'].value\n",
    "    x = training_f['features'][test_indices, :]\n",
    "    t = norris_labels[test_indices]\n",
    "    y = lr.predict(x)"
   ]
  },
  {
   "cell_type": "markdown",
   "metadata": {},
   "source": [
    "### Accuracy"
   ]
  },
  {
   "cell_type": "code",
   "execution_count": null,
   "metadata": {
    "collapsed": false,
    "scrolled": true
   },
   "outputs": [],
   "source": [
    "# Raw accuracy.\n",
    "sklearn.metrics.accuracy_score(t, y)"
   ]
  },
  {
   "cell_type": "code",
   "execution_count": null,
   "metadata": {
    "collapsed": false
   },
   "outputs": [],
   "source": [
    "# Balanced accuracy.\n",
    "cm = sklearn.metrics.confusion_matrix(t, y).astype(float)\n",
    "cm /= cm.sum(axis=1).reshape((-1, 1))\n",
    "cm.trace() / 2"
   ]
  },
  {
   "cell_type": "markdown",
   "metadata": {},
   "source": [
    "## "
   ]
  }
 ],
 "metadata": {
  "kernelspec": {
   "display_name": "Python 3",
   "language": "python",
   "name": "python3"
  },
  "language_info": {
   "codemirror_mode": {
    "name": "ipython",
    "version": 3
   },
   "file_extension": ".py",
   "mimetype": "text/x-python",
   "name": "python",
   "nbconvert_exporter": "python",
   "pygments_lexer": "ipython3",
   "version": "3.5.1"
  }
 },
 "nbformat": 4,
 "nbformat_minor": 0
}
