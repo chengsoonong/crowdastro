{
 "cells": [
  {
   "cell_type": "markdown",
   "metadata": {},
   "source": [
    "# Click Consensus Distribution\n",
    "\n",
    "Radio Galaxy Zoo volunteers may disagree on which potential host galaxy is *the* host galaxy for a given radio observation. However, I want to use the volunteers' choices as labels for supervised learning. How do we decide what to use as the \"true\" label? Can we just take the majority vote?\n",
    "\n",
    "This notebook will find some distributions of clicks across different objects, with the aim of trying to figure out whether majority vote is a good idea (and how often it is a good idea)."
   ]
  },
  {
   "cell_type": "code",
   "execution_count": 1,
   "metadata": {
    "collapsed": false
   },
   "outputs": [],
   "source": [
    "import collections\n",
    "import pprint\n",
    "import sys\n",
    "import timeit\n",
    "import warnings\n",
    "\n",
    "import matplotlib.pyplot\n",
    "import numpy\n",
    "import scipy.stats\n",
    "import sklearn.cluster\n",
    "import sklearn.mixture\n",
    "\n",
    "\n",
    "sys.path.insert(1, '..')\n",
    "import crowdastro.data\n",
    "import crowdastro.show\n",
    "import crowdastro.rgz_analysis.consensus\n",
    "\n",
    "%matplotlib inline\n",
    "warnings.simplefilter('ignore', UserWarning)  # astropy always raises warnings on Windows."
   ]
  },
  {
   "cell_type": "code",
   "execution_count": 15,
   "metadata": {
    "collapsed": true
   },
   "outputs": [],
   "source": [
    "# PG-means method for finding peaks (from click_consensus).\n",
    "def make_annotation_signature(annotation):\n",
    "    \"\"\"Generates the signature associated with an annotation.\"\"\"\n",
    "    if 'radio' not in annotation:\n",
    "        # Metadata (ignore this).\n",
    "        return None\n",
    "\n",
    "    # We want to turn the radio classifications into a unique signature. I can just take all the xmax's and ymax's\n",
    "    # and put them into some tuples (xmaxs, ymaxs).\n",
    "    \n",
    "    # Having no contours is a special case; () to avoid type errors (it's special but it's still valid!)\n",
    "    if annotation['radio'] == 'No Contours':\n",
    "        return ()\n",
    "\n",
    "    xmaxs = tuple(sorted([round(float(r['xmax']), 14) for r in annotation['radio'].values()]))\n",
    "    ymaxs = tuple(sorted([round(float(r['ymax']), 14) for r in annotation['radio'].values()]))\n",
    "    signature = (xmaxs, ymaxs)\n",
    "    return signature\n",
    "\n",
    "def make_classification_signature(classification):\n",
    "    \"\"\"Generates the signature associated with a radio classification.\"\"\"\n",
    "    classification_signature = []\n",
    "    for annotation in classification['annotations']:\n",
    "        annotation_signature = make_annotation_signature(annotation)\n",
    "        if annotation_signature is not None:\n",
    "            classification_signature.append(annotation_signature)\n",
    "\n",
    "    classification_signature = tuple(sorted(classification_signature))\n",
    "    return classification_signature\n",
    "\n",
    "def pg_means(points, significance=0.01, projections=12):\n",
    "    \"\"\"Cluster points with the PG-means algorithm.\"\"\"\n",
    "    k = 1\n",
    "    \n",
    "    while True:\n",
    "        # Fit a Gaussian mixture model with k components.\n",
    "        gmm = sklearn.mixture.GMM(n_components=k)\n",
    "        try:\n",
    "            gmm.fit(points)\n",
    "        except ValueError:\n",
    "            return None\n",
    "\n",
    "        \n",
    "        for _ in range(projections):\n",
    "            # Project the data to one dimension.\n",
    "            projection_vector = numpy.random.random(size=(2,))\n",
    "            projected_points = points @ projection_vector\n",
    "            # Project the model to one dimension.\n",
    "            # We need the CDF in one dimension, so we'll sample some data points and project them.\n",
    "            n_samples = 1000\n",
    "            samples = gmm.sample(n_samples) @ projection_vector\n",
    "            samples.sort()\n",
    "            \n",
    "            def cdf(x):\n",
    "                for sample, y in zip(samples, numpy.arange(n_samples) / n_samples):\n",
    "                    if sample >= x:\n",
    "                        break\n",
    "                return y\n",
    "            \n",
    "            _, p_value = scipy.stats.kstest(projected_points, numpy.vectorize(cdf))\n",
    "            if p_value < significance:\n",
    "                # Reject the null hypothesis.\n",
    "                break\n",
    "        else:\n",
    "            # Null hypothesis was not broken.\n",
    "            return gmm\n",
    "        \n",
    "        k += 1\n",
    "\n",
    "def find_plurality_radio_signature(subject):\n",
    "    n_signatures = collections.Counter()\n",
    "    \n",
    "    for classification in crowdastro.data.db.radio_classifications.find({'subject_ids': subject['_id']}):\n",
    "        classification_signature = make_classification_signature(classification)\n",
    "        n_signatures[classification_signature] += 1\n",
    "\n",
    "    plurality_radio_signature = max(n_signatures, key=n_signatures.get)\n",
    "    return plurality_radio_signature\n",
    "\n",
    "def subject_consensus(subject):\n",
    "    \"\"\"\n",
    "    Returns dict:\n",
    "        plurality_radio_signature: Unique signature of the plurality radio combination.\n",
    "        plurality_clicks: Map from radio signature to IR source identified by volunteers' clicks.\n",
    "        n_total: Total number of volunteers that classified this subject.\n",
    "        n_agree: Total number of volunteers that agree on both the radio combination and IR sources.\n",
    "        n_agree_radio: Total number of volunteers that agree on the radio combination, ignoring IR.\n",
    "    \"\"\"\n",
    "    n_total = 0\n",
    "    n_agree = 0\n",
    "    n_agree_radio = 0\n",
    "\n",
    "    plurality_radio_signature = find_plurality_radio_signature(subject)\n",
    "    \n",
    "    # Find how many volunteers agree on the radio combination.\n",
    "    # Separate clicks into which radio signature they are associated with.\n",
    "    # Only do this if the volunteer agrees on the radio classification.\n",
    "    signature_to_clicks = collections.defaultdict(list)\n",
    "    for classification in crowdastro.data.db.radio_classifications.find({'subject_ids': subject['_id']}):\n",
    "        n_total += 1\n",
    "\n",
    "        classification_signature = make_classification_signature(classification)\n",
    "        if classification_signature != plurality_radio_signature:\n",
    "            continue\n",
    "        \n",
    "        n_agree_radio += 1\n",
    "        \n",
    "        for annotation in classification['annotations']:\n",
    "            annotation_signature = make_annotation_signature(annotation)\n",
    "            if annotation_signature is None:\n",
    "                continue  # Skip metadata.\n",
    "            \n",
    "            # We ignore multiple clicks and instead just use the first click.\n",
    "            if annotation['ir'] == 'No Sources':\n",
    "                first_click = None\n",
    "            else:\n",
    "                first_click = float(annotation['ir']['0']['x']), float(annotation['ir']['0']['y'])\n",
    "            signature_to_clicks[annotation_signature].append(first_click)\n",
    "    \n",
    "    # For each radio signature, cluster the clicks and find the plurality click.\n",
    "    plurality_clicks = {}\n",
    "    signature_to_cluster = {}\n",
    "    signature_to_cluster_to_count = {}\n",
    "    signature_to_gmm = {}\n",
    "    for radio_signature, clicks in signature_to_clicks.items():\n",
    "        clicks = [click for click in clicks if click is not None]\n",
    "        gmm = pg_means(clicks)\n",
    "        if gmm is None:\n",
    "            continue\n",
    "\n",
    "        signature_to_gmm[radio_signature] = gmm\n",
    "        signature_to_cluster[radio_signature] = gmm.weights_.argmax()\n",
    "        signature_to_cluster_to_count[radio_signature] = collections.Counter()\n",
    "        plurality_clicks[radio_signature] = gmm.means_[gmm.weights_.argmax()]\n",
    "    \n",
    "    # Find how many volunteers agree with the plurality clicks *and* the plurality radio signature.\n",
    "    for classification in crowdastro.data.db.radio_classifications.find({'subject_ids': subject['_id']}):\n",
    "        classification_signature = make_classification_signature(classification)\n",
    "        if classification_signature != plurality_radio_signature:\n",
    "            continue\n",
    "        \n",
    "        for annotation in classification['annotations']:\n",
    "            annotation_signature = make_annotation_signature(annotation)\n",
    "            if annotation_signature is None:\n",
    "                continue  # Skip metadata.\n",
    "            \n",
    "            if annotation_signature not in signature_to_gmm:\n",
    "                continue # Skip overfits.\n",
    "            \n",
    "            if annotation['ir'] == 'No Sources':\n",
    "                first_click = None\n",
    "            else:\n",
    "                # TODO(MatthewJA): Don't ignore 'No Sources'!\n",
    "                first_click = float(annotation['ir']['0']['x']), float(annotation['ir']['0']['y'])\n",
    "                cluster = signature_to_gmm[annotation_signature].predict([first_click])[0]\n",
    "                signature_to_cluster_to_count[annotation_signature][cluster] += 1\n",
    "                if cluster != signature_to_cluster[annotation_signature]:\n",
    "                    break\n",
    "        else:\n",
    "            # All agreed!\n",
    "            n_agree += 1\n",
    "    \n",
    "    return {\n",
    "        'plurality_radio_signature': plurality_radio_signature,\n",
    "        'plurality_clicks': plurality_clicks,\n",
    "        'n_total': n_total,\n",
    "        'n_agree': n_agree,\n",
    "        'n_agree_radio': n_agree_radio,\n",
    "        'signature_to_gmm': signature_to_gmm,\n",
    "        'signature_to_cluster_to_count': signature_to_cluster_to_count,\n",
    "    }\n",
    "\n",
    "def get_clicks(subject):\n",
    "    clicks = []\n",
    "    for classification in crowdastro.data.db.radio_classifications.find({'subject_ids': subject['_id']}):\n",
    "        for annotation in classification['annotations']:\n",
    "            annotation_signature = make_annotation_signature(annotation)\n",
    "            if annotation_signature is None:\n",
    "                continue\n",
    "    \n",
    "            if annotation['ir'] == 'No Sources':\n",
    "                clicks.append(None)\n",
    "            else:\n",
    "                first_click = float(annotation['ir']['0']['x']), float(annotation['ir']['0']['y'])\n",
    "                clicks.append(first_click)\n",
    "    return numpy.array(clicks)\n",
    "\n",
    "# Potential host finding (from potential_host_counting).\n",
    "def potential_hosts(subject):\n",
    "    \"\"\"Finds potential hosts in a subject image.\n",
    "    \n",
    "    subject: Zooniverse subject.\n",
    "    -> (list of brightnesses, list of coordinates)\n",
    "    \"\"\"\n",
    "    neighborhood = numpy.ones((10, 10))\n",
    "    infrared = crowdastro.data.get_ir(subject)\n",
    "    blurred_infrared = scipy.ndimage.filters.gaussian_filter(infrared, 1)\n",
    "    local_max = scipy.ndimage.filters.maximum_filter(blurred_infrared, footprint=neighborhood) == blurred_infrared\n",
    "    region_labels, n_labels = scipy.ndimage.measurements.label(local_max)\n",
    "    maxima = numpy.array(\n",
    "                [numpy.array((region_labels == i + 1).nonzero()).T.mean(axis=0)\n",
    "                 for i in range(n_labels)]\n",
    "    )\n",
    "    maxima = maxima[numpy.logical_and(maxima[:, 1] != 0, maxima[:, 1] != 499)]\n",
    "    values = [infrared[tuple(m)] for m in maxima]\n",
    "    return values, maxima"
   ]
  },
  {
   "cell_type": "markdown",
   "metadata": {},
   "source": [
    "## Ratio of the most common choices\n",
    "\n",
    "Say that $n$ people chose one galaxy, and $0$ people chose another galaxy. Then, majority vote obviously works great: There is a very clear consensus. What if $n/2$ people chose one galaxy, and $n/2$ people chose another? Then, majority vote doesn't work well. Of course, if there are $k$ galaxies, the worst case scenario is that $n/k$ people chose each, but I'll start by just considering the top two galaxies.\n",
    "\n",
    "Denote the number of people who chose galaxy $i$ as $N_i$, where $i$ is ordered by the size of $N_i$ such that $N_1$ is the largest, and $N_k$ is the smallest. I want to find $1 - N_2/N_1$ for many examples and make a histogram. I'm using $N_2/N_1$ rather than the inverse because it's possible for $N_2$ to be $0$ (if all volunteers agree)."
   ]
  },
  {
   "cell_type": "code",
   "execution_count": 88,
   "metadata": {
    "collapsed": false
   },
   "outputs": [],
   "source": [
    "def most_common_ratios(subject):\n",
    "    consensus = subject_consensus(subject)\n",
    "    signature_cluster_counts = consensus['signature_to_cluster_to_count']\n",
    "    ratios = []\n",
    "    for clusters in signature_cluster_counts.values():\n",
    "        values = sorted(clusters.values(), reverse=True)\n",
    "        if len(values) == 0:\n",
    "            continue\n",
    "\n",
    "        if len(values) == 1:\n",
    "            ratios.append(1)\n",
    "            continue\n",
    "\n",
    "        ratios.append(1 - values[1] / values[0])\n",
    "    return ratios"
   ]
  },
  {
   "cell_type": "code",
   "execution_count": 93,
   "metadata": {
    "collapsed": false
   },
   "outputs": [],
   "source": [
    "ratios = []\n",
    "for subject in crowdastro.data.db.radio_subjects.find({'metadata.survey': 'atlas', 'state': 'complete'}).limit(10000):\n",
    "    ratios.extend(most_common_ratios(subject))"
   ]
  },
  {
   "cell_type": "code",
   "execution_count": 94,
   "metadata": {
    "collapsed": false
   },
   "outputs": [
    {
     "data": {
      "image/png": "[encoded data removed]",
      "text/plain": [
       "<matplotlib.figure.Figure at 0x218cdd8e160>"
      ]
     },
     "metadata": {},
     "output_type": "display_data"
    }
   ],
   "source": [
    "matplotlib.pyplot.hist(ratios)\n",
    "matplotlib.pyplot.title('Ratio of most common choices')\n",
    "matplotlib.pyplot.xlabel('$1 - N_2/N_1$')\n",
    "matplotlib.pyplot.ylabel('Count')\n",
    "matplotlib.pyplot.show()"
   ]
  },
  {
   "cell_type": "markdown",
   "metadata": {},
   "source": [
    "## Ratio of maximum clicks to rest of clicks"
   ]
  },
  {
   "cell_type": "code",
   "execution_count": 96,
   "metadata": {
    "collapsed": true
   },
   "outputs": [],
   "source": [
    "def max_click_ratios(subject):\n",
    "    consensus = subject_consensus(subject)\n",
    "    signature_cluster_counts = consensus['signature_to_cluster_to_count']\n",
    "    ratios = []\n",
    "    for clusters in signature_cluster_counts.values():\n",
    "        values = sorted(clusters.values(), reverse=True)\n",
    "        if len(values) == 0:\n",
    "            continue\n",
    "\n",
    "        if len(values) == 1:\n",
    "            ratios.append(1)\n",
    "            continue\n",
    "\n",
    "        ratios.append(1 - sum(values[1:]) / values[0])\n",
    "    return ratios"
   ]
  },
  {
   "cell_type": "code",
   "execution_count": 97,
   "metadata": {
    "collapsed": true
   },
   "outputs": [],
   "source": [
    "ratios = []\n",
    "for subject in crowdastro.data.db.radio_subjects.find({'metadata.survey': 'atlas', 'state': 'complete'}).limit(10000):\n",
    "    ratios.extend(max_click_ratios(subject))"
   ]
  },
  {
   "cell_type": "code",
   "execution_count": 98,
   "metadata": {
    "collapsed": false
   },
   "outputs": [
    {
     "data": {
      "image/png": "[encoded data removed]",
      "text/plain": [
       "<matplotlib.figure.Figure at 0x218cd867be0>"
      ]
     },
     "metadata": {},
     "output_type": "display_data"
    }
   ],
   "source": [
    "matplotlib.pyplot.hist(ratios)\n",
    "matplotlib.pyplot.title('Ratio of maximum clicks to rest of clicks')\n",
    "matplotlib.pyplot.xlabel('$1 - (\\sum_{i=2}^k N_i)/N_1$')\n",
    "matplotlib.pyplot.ylabel('Count')\n",
    "matplotlib.pyplot.show()"
   ]
  },
  {
   "cell_type": "markdown",
   "metadata": {},
   "source": [
    "It seems that everyone agreeing is the overwhelmingly majority of cases."
   ]
  },
  {
   "cell_type": "code",
   "execution_count": null,
   "metadata": {
    "collapsed": true
   },
   "outputs": [],
   "source": []
  }
 ],
 "metadata": {
  "kernelspec": {
   "display_name": "Python 3",
   "language": "python",
   "name": "python3"
  },
  "language_info": {
   "codemirror_mode": {
    "name": "ipython",
    "version": 3
   },
   "file_extension": ".py",
   "mimetype": "text/x-python",
   "name": "python",
   "nbconvert_exporter": "python",
   "pygments_lexer": "ipython3",
   "version": "3.5.1"
  }
 },
 "nbformat": 4,
 "nbformat_minor": 0
}
