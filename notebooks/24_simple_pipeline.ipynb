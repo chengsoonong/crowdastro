{
 "cells": [
  {
   "cell_type": "markdown",
   "metadata": {},
   "source": [
    "# Simple Pipeline\n",
    "\n",
    "This notebook contains the training pipeline for the simple (one-host) data set."
   ]
  },
  {
   "cell_type": "markdown",
   "metadata": {},
   "source": [
    "## Load training data"
   ]
  },
  {
   "cell_type": "code",
   "execution_count": null,
   "metadata": {
    "collapsed": true
   },
   "outputs": [],
   "source": [
    "## Imports.\n",
    "\n",
    "import sys\n",
    "\n",
    "import h5py\n",
    "import IPython.core.display\n",
    "import keras.backend\n",
    "import keras.models\n",
    "import numpy\n",
    "\n",
    "sys.path.insert(1, '..')\n",
    "import crowdastro.data\n",
    "\n",
    "## Constants.\n",
    "\n",
    "TRAINING_DATA_PATH = '../crowdastro-data/training_simple_flipped.h5'\n",
    "COLUMNS = ['zooniverse_id', 'source', 'x', 'y', 'flux24', 'flux36', 'flux45', 'flux58', 'flux80', 'label']\n",
    "N_DATA = 84298\n",
    "N_FEATURES = 160  # 155 (convolutional with PCA) + 5 (astro) dimensional.\n",
    "CNN_MODEL_PATH = '../crowdastro-data/cnn_model.json'\n",
    "CNN_WEIGHTS_PATH = '../crowdastro-data/my_cnn_weights.h5'\n",
    "PCA_PATH = '../crowdastro-data/pca.h5'\n",
    "RADIUS = 40  # 0.4'\n",
    "PADDING = 150  # (5' - 2') / 2\n",
    "GATOR_CACHE = 'gator_cache'\n",
    "DB_PATH = '../crowdastro-data/processed.db'"
   ]
  },
  {
   "cell_type": "code",
   "execution_count": null,
   "metadata": {
    "collapsed": false
   },
   "outputs": [],
   "source": [
    "## Load CNN and PCA.\n",
    "\n",
    "with open(CNN_MODEL_PATH) as f:\n",
    "    cnn = keras.models.model_from_json(f.read())\n",
    "cnn.load_weights(CNN_WEIGHTS_PATH)\n",
    "cnn.compile(optimizer='sgd', loss='mse')\n",
    "get_convolutional_features_ = keras.backend.function([cnn.layers[0].input], [cnn.layers[4].output])\n",
    "get_convolutional_features = lambda p: get_convolutional_features_([p])[0].reshape((1, -1))\n",
    "\n",
    "with h5py.File(PCA_PATH) as f:\n",
    "    pca = f['conv_2'][:]\n",
    "\n",
    "## Load training data.\n",
    "\n",
    "subjects = []\n",
    "xs = numpy.zeros((N_DATA, N_FEATURES))\n",
    "ts = numpy.zeros((N_DATA,))\n",
    "radio_patches = numpy.zeros((100, 1, RADIUS * 2, RADIUS * 2))  # Buffer.\n",
    "\n",
    "last_zid = None\n",
    "subject = None\n",
    "radio = None\n",
    "\n",
    "with h5py.File(TRAINING_DATA_PATH) as f:\n",
    "    data = f['data']\n",
    "    \n",
    "    for index, datapoint in enumerate(data):\n",
    "        if index % 100 == 0 and index > 0:\n",
    "            IPython.core.display.clear_output()\n",
    "            print('{:.02%}'.format((index + 1) / N_DATA))\n",
    "            \n",
    "            # Batch the features.\n",
    "            convolutional_features = numpy.dot(get_convolutional_features(radio_patches).reshape((100, -1)), pca.T)\n",
    "            xs[index - 100 : index, :-5] = convolutional_features\n",
    "\n",
    "        datapoint = tuple(datapoint)\n",
    "        zooniverse_id = datapoint[0].decode('ascii')\n",
    "        x = datapoint[2]\n",
    "        y = datapoint[3]\n",
    "        astro_features = datapoint[4:9]\n",
    "        label = datapoint[-1]\n",
    "        \n",
    "        # Fetch image patch.\n",
    "        if last_zid != zooniverse_id:\n",
    "            subject = crowdastro.data.db.radio_subjects.find_one({'zooniverse_id': zooniverse_id})\n",
    "            radio = crowdastro.data.get_radio(subject, size='5x5')\n",
    "            last_zid = zooniverse_id\n",
    "\n",
    "        patch = radio[x - RADIUS + PADDING : x + RADIUS + PADDING, y - RADIUS + PADDING : y + RADIUS + PADDING]\n",
    "        \n",
    "        # Store patch so we can get CNN features later.\n",
    "        radio_patches[index % 100, 0] = patch\n",
    "        \n",
    "        # Store astro features.\n",
    "        xs[index, -5:] = astro_features\n",
    "        \n",
    "        # Store label.\n",
    "        ts[index] = label"
   ]
  },
  {
   "cell_type": "code",
   "execution_count": null,
   "metadata": {
    "collapsed": false
   },
   "outputs": [],
   "source": [
    "# Can't just train_test_split - have to make sure we have training and testing *subjects*.\n",
    "# Assume xs/ts ordered by subject.\n",
    "# In future, should have separate test subjects!\n",
    "xs_train = numpy.vstack([xs[:N_DATA//4], xs[-N_DATA//4:]])\n",
    "xs_test = xs[N_DATA//4:-N_DATA//4]\n",
    "ts_train = numpy.hstack([ts[:N_DATA//4], ts[-N_DATA//4:]])\n",
    "ts_test = ts[N_DATA//4:-N_DATA//4]"
   ]
  },
  {
   "cell_type": "code",
   "execution_count": null,
   "metadata": {
    "collapsed": true
   },
   "outputs": [],
   "source": [
    "# Normalise and scale.\n",
    "import sklearn.preprocessing\n",
    "\n",
    "normaliser = sklearn.preprocessing.Normalizer()\n",
    "scaler = sklearn.preprocessing.StandardScaler().fit(normaliser.transform(xs_train[:, -5:]))\n",
    "xs_train = numpy.hstack([normaliser.transform(xs_train[:, :-5]),\n",
    "                         scaler.transform(normaliser.transform(xs_train[:, -5:]))])\n",
    "xs_test = numpy.hstack([normaliser.transform(xs_test[:, :-5]),\n",
    "                        scaler.transform(normaliser.transform(xs_test[:, -5:]))])"
   ]
  },
  {
   "cell_type": "markdown",
   "metadata": {},
   "source": [
    "## Testing framework"
   ]
  },
  {
   "cell_type": "code",
   "execution_count": null,
   "metadata": {
    "collapsed": true
   },
   "outputs": [],
   "source": [
    "from crowdastro.training_data import remove_nans\n",
    "import crowdastro.config\n",
    "\n",
    "def test_subject(subject, conn, classifier, stellarity_cutoff=1):\n",
    "    radio = crowdastro.data.get_radio(subject, size='5x5')\n",
    "    potential_hosts = crowdastro.data.get_potential_hosts(subject, GATOR_CACHE)\n",
    "    \n",
    "    potential_hosts = {i:j for i, j in potential_hosts.items() if j['stell_36'] < 0.75}\n",
    "    \n",
    "    cur = conn.cursor()\n",
    "    consensus = list(cur.execute('SELECT source_x, source_y FROM consensuses_kde WHERE zooniverse_id = ?'\n",
    "                                 'AND radio_agreement >= 0.5',\n",
    "                                 [subject['zooniverse_id']]))\n",
    "    if not consensus:\n",
    "        raise ValueError('Found null in data assumed sanitised.')\n",
    "    \n",
    "    ((cx, cy),) = consensus\n",
    "    if not cx or not cy:\n",
    "        raise ValueError('Found null in data assumed sanitised.')\n",
    "    # Consensuses are inverted vertically w.r.t. the potential hosts.\n",
    "    cy = crowdastro.config.get('fits_image_height') - cy\n",
    "\n",
    "    \n",
    "    n = len(potential_hosts)\n",
    "    xs = numpy.zeros((n, N_FEATURES))\n",
    "    radio_patches = numpy.zeros((n, 1, RADIUS * 2, RADIUS * 2))\n",
    "    ts = numpy.zeros((n,))\n",
    "    \n",
    "    points = []\n",
    "    \n",
    "    for index, ((x, y), data) in enumerate(potential_hosts.items()):\n",
    "        patch = radio[x - RADIUS + PADDING : x + RADIUS + PADDING, y - RADIUS + PADDING : y + RADIUS + PADDING]\n",
    "        radio_patches[index, 0] = patch\n",
    "        xs[index, -5] = remove_nans(data['flux_ap2_24'])\n",
    "        xs[index, -4] = remove_nans(data['flux_ap2_36'])\n",
    "        xs[index, -3] = remove_nans(data['flux_ap2_45'])\n",
    "        xs[index, -2] = remove_nans(data['flux_ap2_58'])\n",
    "        xs[index, -1] = remove_nans(data['flux_ap2_80'])\n",
    "\n",
    "        points.append((x, y))\n",
    "    \n",
    "    closest = min(enumerate(points), key=lambda z: numpy.hypot(z[1][0] - cx, z[1][1] - cy))\n",
    "    assert points[closest[0]] == closest[1]\n",
    "    \n",
    "    xs[:, :-5] = numpy.dot(get_convolutional_features(radio_patches).reshape((n, -1)), pca.T)\n",
    "    \n",
    "    xs = numpy.hstack([normaliser.transform(xs[:, :-5]),\n",
    "                       scaler.transform(normaliser.transform(xs[:, -5:]))])\n",
    "    \n",
    "    probs = classifier.predict_proba(xs)[:, 1]\n",
    "    selection = probs.argmax()\n",
    "    return selection, closest[0], probs, points"
   ]
  },
  {
   "cell_type": "markdown",
   "metadata": {},
   "source": [
    "## Train logistic regression"
   ]
  },
  {
   "cell_type": "code",
   "execution_count": null,
   "metadata": {
    "collapsed": false
   },
   "outputs": [],
   "source": [
    "import sklearn.linear_model\n",
    "\n",
    "lr = sklearn.linear_model.LogisticRegression(class_weight='balanced')\n",
    "lr.fit(xs_train, ts_train)"
   ]
  },
  {
   "cell_type": "code",
   "execution_count": null,
   "metadata": {
    "collapsed": false
   },
   "outputs": [],
   "source": [
    "lr.score(xs_test, ts_test)"
   ]
  },
  {
   "cell_type": "code",
   "execution_count": null,
   "metadata": {
    "collapsed": false,
    "scrolled": false
   },
   "outputs": [],
   "source": [
    "import sqlite3\n",
    "\n",
    "import matplotlib.pyplot\n",
    "%matplotlib inline\n",
    "\n",
    "import crowdastro.show\n",
    "\n",
    "def softmax(x):\n",
    "    exp = numpy.exp(x)\n",
    "    return exp / numpy.sum(exp, axis=0)\n",
    "\n",
    "with sqlite3.connect(DB_PATH) as conn:\n",
    "    cur = conn.cursor()\n",
    "    zooniverse_ids = list(cur.execute(\"\"\"SELECT zooniverse_id\n",
    "                                         FROM consensuses_kde\n",
    "                                         GROUP BY zooniverse_id\n",
    "                                         HAVING COUNT(zooniverse_id) = 1\"\"\"))\n",
    "    assert len(zooniverse_ids) in {1087, 1093}, len(zooniverse_ids)\n",
    "    n_correct = 0\n",
    "    n_total = 0\n",
    "    split_index = len(zooniverse_ids)//4\n",
    "    for index, (zooniverse_id,) in enumerate(zooniverse_ids[split_index:-split_index]):\n",
    "        subject = crowdastro.data.get_subject(zooniverse_id)\n",
    "        try:\n",
    "#             print(zooniverse_id)\n",
    "            guess, groundtruth, probs, points = test_subject(subject, conn, lr)\n",
    "#             print(points, guess, groundtruth)\n",
    "            n_correct += numpy.hypot(points[guess][0] - points[groundtruth][0],\n",
    "                                     points[guess][1] - points[groundtruth][1]) <= 5 # 5 px radius = 3''\n",
    "            n_total += 1\n",
    "#             print(sorted(points))\n",
    "            print('{:.02%} / {:.02%}'.format(index / (len(zooniverse_ids[split_index:-split_index])),\n",
    "                                             n_correct / n_total))\n",
    "            \n",
    "            if index < 50:\n",
    "                matplotlib.pyplot.figure(figsize=(20, 10))\n",
    "                print(zooniverse_id)\n",
    "                matplotlib.pyplot.subplot(1, 2, 1)\n",
    "                crowdastro.show.subject(subject)\n",
    "                matplotlib.pyplot.scatter(*zip(*points), c=softmax(probs), s=200, cmap='cool')\n",
    "                matplotlib.pyplot.axis('off')\n",
    "                matplotlib.pyplot.colorbar()\n",
    "                matplotlib.pyplot.scatter(points[guess][0], points[guess][1], c='green', s=200, marker='+')\n",
    "    #             print(points[groundtruth][0], 200-points[groundtruth][1])\n",
    "                matplotlib.pyplot.scatter(points[groundtruth][0], points[groundtruth][1], c='red', s=200, marker='x')\n",
    "                matplotlib.pyplot.subplot(1, 2, 2)\n",
    "                matplotlib.pyplot.scatter(range(len(probs)), sorted(softmax(probs)), marker='o', c=sorted(softmax(probs)),\n",
    "                                          cmap='cool', s=200)\n",
    "                matplotlib.pyplot.xlabel('Index')\n",
    "                matplotlib.pyplot.ylabel('Probability of being the true host')\n",
    "                matplotlib.pyplot.show()\n",
    "        except ValueError:\n",
    "            continue\n",
    "\n",
    "    print('{:.02%}'.format(n_correct / n_total))"
   ]
  },
  {
   "cell_type": "markdown",
   "metadata": {},
   "source": [
    "## Train random forest"
   ]
  },
  {
   "cell_type": "code",
   "execution_count": null,
   "metadata": {
    "collapsed": false
   },
   "outputs": [],
   "source": [
    "import sklearn.ensemble\n",
    "\n",
    "rf = sklearn.ensemble.RandomForestClassifier(class_weight='balanced')\n",
    "rf.fit(xs_train, ts_train)"
   ]
  },
  {
   "cell_type": "code",
   "execution_count": null,
   "metadata": {
    "collapsed": false
   },
   "outputs": [],
   "source": [
    "rf.score(xs_test, ts_test)"
   ]
  },
  {
   "cell_type": "code",
   "execution_count": null,
   "metadata": {
    "collapsed": false,
    "scrolled": false
   },
   "outputs": [],
   "source": [
    "with sqlite3.connect(DB_PATH) as conn:\n",
    "    cur = conn.cursor()\n",
    "    zooniverse_ids = list(cur.execute(\"\"\"SELECT zooniverse_id\n",
    "                                         FROM consensuses_kde\n",
    "                                         GROUP BY zooniverse_id\n",
    "                                         HAVING COUNT(zooniverse_id) = 1\"\"\"))\n",
    "    assert len(zooniverse_ids) in {1087, 1093}, len(zooniverse_ids)\n",
    "    n_correct = 0\n",
    "    n_total = 0\n",
    "    split_index = len(zooniverse_ids)//4\n",
    "    for index, (zooniverse_id,) in enumerate(zooniverse_ids[split_index:-split_index]):\n",
    "        subject = crowdastro.data.get_subject(zooniverse_id)\n",
    "        try:\n",
    "#             print(zooniverse_id)\n",
    "            guess, groundtruth, probs, points = test_subject(subject, conn, rf)\n",
    "            n_correct += numpy.hypot(points[guess][0] - points[groundtruth][0],\n",
    "                                     points[guess][1] - points[groundtruth][1]) <= 5 # 5 px radius = 3''\n",
    "            n_total += 1\n",
    "#             print(sorted(points))\n",
    "            print('{:.02%} / {:.02%}'.format(index / (len(zooniverse_ids[split_index:-split_index])),\n",
    "                                             n_correct / n_total))\n",
    "            \n",
    "            if index < 50:\n",
    "                matplotlib.pyplot.figure(figsize=(20, 10))\n",
    "                print(zooniverse_id)\n",
    "                matplotlib.pyplot.subplot(1, 2, 1)\n",
    "                crowdastro.show.subject(subject)\n",
    "                matplotlib.pyplot.scatter(*zip(*points), c=softmax(probs), s=200, cmap='cool')\n",
    "                matplotlib.pyplot.axis('off')\n",
    "                matplotlib.pyplot.colorbar()\n",
    "                matplotlib.pyplot.scatter(points[guess][0], points[guess][1], c='green', s=200, marker='+')\n",
    "    #             print(points[groundtruth][0], 200-points[groundtruth][1])\n",
    "                matplotlib.pyplot.scatter(points[groundtruth][0], points[groundtruth][1], c='red', s=200, marker='x')\n",
    "                matplotlib.pyplot.subplot(1, 2, 2)\n",
    "                matplotlib.pyplot.scatter(range(len(probs)), sorted(softmax(probs)), marker='o', c=sorted(softmax(probs)),\n",
    "                                          cmap='cool', s=200)\n",
    "                matplotlib.pyplot.xlabel('Index')\n",
    "                matplotlib.pyplot.ylabel('Probability of being the true host')\n",
    "                matplotlib.pyplot.show()\n",
    "        except ValueError:\n",
    "            continue\n",
    "\n",
    "    print('{:.02%}'.format(n_correct / n_total))"
   ]
  },
  {
   "cell_type": "code",
   "execution_count": null,
   "metadata": {
    "collapsed": false
   },
   "outputs": [],
   "source": [
    "rf.feature_importances_"
   ]
  },
  {
   "cell_type": "code",
   "execution_count": null,
   "metadata": {
    "collapsed": false
   },
   "outputs": [],
   "source": [
    "matplotlib.pyplot.figure(figsize=(15, 15))\n",
    "matplotlib.pyplot.xlabel('Feature index')\n",
    "matplotlib.pyplot.ylabel('Importance')\n",
    "matplotlib.pyplot.plot(numpy.abs(rf.feature_importances_ / numpy.max(rf.feature_importances_)), color='blue')\n",
    "matplotlib.pyplot.plot(numpy.abs(-lr.coef_[0] / numpy.min(lr.coef_)), color='red')\n",
    "matplotlib.pyplot.show()"
   ]
  },
  {
   "cell_type": "code",
   "execution_count": null,
   "metadata": {
    "collapsed": false
   },
   "outputs": [],
   "source": [
    "lr.coef_ / numpy.max(lr.coef_)"
   ]
  },
  {
   "cell_type": "code",
   "execution_count": null,
   "metadata": {
    "collapsed": true
   },
   "outputs": [],
   "source": []
  }
 ],
 "metadata": {
  "kernelspec": {
   "display_name": "Python 3",
   "language": "python",
   "name": "python3"
  },
  "language_info": {
   "codemirror_mode": {
    "name": "ipython",
    "version": 3
   },
   "file_extension": ".py",
   "mimetype": "text/x-python",
   "name": "python",
   "nbconvert_exporter": "python",
   "pygments_lexer": "ipython3",
   "version": "3.5.1"
  }
 },
 "nbformat": 4,
 "nbformat_minor": 0
}
