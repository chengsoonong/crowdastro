{
 "cells": [
  {
   "cell_type": "markdown",
   "metadata": {},
   "source": [
    "# Classification Experiments\n",
    "\n",
    "In this notebook, I will collate the code from the pipeline notebook in a more efficient way, and then use it to try some different classification methods and features.\n",
    "\n",
    "I'm taking a very naïve approach to trying different classifiers &mdash; I'm just going to use whatever the scikit-learn default is."
   ]
  },
  {
   "cell_type": "code",
   "execution_count": 99,
   "metadata": {
    "collapsed": false
   },
   "outputs": [],
   "source": [
    "import collections\n",
    "import itertools\n",
    "import logging\n",
    "import pprint\n",
    "import sys\n",
    "import warnings\n",
    "\n",
    "import matplotlib.pyplot\n",
    "import numpy\n",
    "import scipy.linalg\n",
    "import skimage.feature\n",
    "import sklearn.cross_validation\n",
    "import sklearn.decomposition\n",
    "import sklearn.ensemble\n",
    "import sklearn.linear_model\n",
    "import sklearn.metrics\n",
    "import sklearn.preprocessing\n",
    "import sklearn.svm\n",
    "\n",
    "sys.path.insert(1, '..')\n",
    "import crowdastro.data\n",
    "import crowdastro.rgz_analysis.consensus\n",
    "import crowdastro.show\n",
    "\n",
    "%matplotlib inline\n",
    "warnings.simplefilter('ignore', UserWarning)  # astropy always raises warnings on Windows."
   ]
  },
  {
   "cell_type": "code",
   "execution_count": 2,
   "metadata": {
    "collapsed": true
   },
   "outputs": [],
   "source": [
    "def make_annotation_signature(annotation):\n",
    "    \"\"\"Generates a unique signature from a single radio annotation.\"\"\"\n",
    "    if 'radio' not in annotation:\n",
    "        # Metadata (ignore this).\n",
    "        return None\n",
    "\n",
    "    # Having no contours is a special case; () to avoid type errors (it's special but it's still valid!)\n",
    "    if annotation['radio'] == 'No Contours':\n",
    "        return ()\n",
    "\n",
    "    # Round to fix floating point precision loss.\n",
    "    # Sort to make sure this is deterministic.\n",
    "    xmaxs = tuple(sorted([round(float(r['xmax']), 14) for r in annotation['radio'].values()]))\n",
    "    ymaxs = tuple(sorted([round(float(r['ymax']), 14) for r in annotation['radio'].values()]))\n",
    "    signature = (xmaxs, ymaxs)\n",
    "    return signature\n",
    "\n",
    "def make_classification_signature(classification):\n",
    "    \"\"\"Generates a unique signature from a complete radio classification.\"\"\"\n",
    "    classification_signature = []\n",
    "    for annotation in classification['annotations']:\n",
    "        annotation_signature = make_annotation_signature(annotation)\n",
    "        if annotation_signature is not None:\n",
    "            classification_signature.append(annotation_signature)\n",
    "\n",
    "    classification_signature = tuple(sorted(classification_signature))\n",
    "    return classification_signature\n",
    "\n",
    "def plurality_classification_signature(subject):\n",
    "    \"\"\"Finds the most-chosen radio classification signature for a subject.\"\"\"\n",
    "    n_signatures = collections.Counter()\n",
    "    \n",
    "    for classification in crowdastro.data.db.radio_classifications.find({'subject_ids': subject['_id']}):\n",
    "        classification_signature = make_classification_signature(classification)\n",
    "        n_signatures[classification_signature] += 1\n",
    "\n",
    "    return max(n_signatures, key=n_signatures.get)\n",
    "\n",
    "def number_of_radio_sources(subject):\n",
    "    \"\"\"Finds the number of radio sources in a subject, according to volunteers.\"\"\"\n",
    "    return len(plurality_classification_signature(subject))\n",
    "\n",
    "def filter_nice(subjects):\n",
    "    \"\"\"Yields nice subjects.\"\"\"\n",
    "    for subject in subjects:\n",
    "        if number_of_radio_sources(subject) == 1:\n",
    "            yield subject\n",
    "\n",
    "def atlas_subjects():\n",
    "    \"\"\"Yields complete ATLAS subjects.\"\"\"\n",
    "    return crowdastro.data.db.radio_subjects.find({'metadata.survey': 'atlas', 'state': 'complete'})\n",
    "\n",
    "def raw_training_data(subjects, radius=20):\n",
    "    \"\"\"Returns examples matrix X and targets matrix T.\n",
    "    \n",
    "    Each row of X is one example.\n",
    "    Each row of T is one target.\n",
    "    \"\"\"\n",
    "    xs = []\n",
    "    ts = []\n",
    "    \n",
    "    subjects = list(subjects)  # In case this is a generator.\n",
    "    \n",
    "    for subject in subjects:\n",
    "        # Find potential hosts.\n",
    "        ir = crowdastro.data.get_ir(subject)\n",
    "        blobs = skimage.feature.blob_log(ir/255, min_sigma=5, max_sigma=15, num_sigma=10, threshold=0.00002,\n",
    "                                         overlap=0.75, log_scale=False)\n",
    "        potential_hosts = numpy.fliplr(blobs[:, :2])\n",
    "        \n",
    "        # Find the label of each host.\n",
    "        consensus = crowdastro.rgz_analysis.consensus.consensus(subject['zooniverse_id'])\n",
    "        answers = list(consensus['answer'].values())\n",
    "        \n",
    "        classifications = numpy.zeros(potential_hosts.shape[0])\n",
    "        \n",
    "        if len(answers) != 1:\n",
    "            # My plurality radio combination differs from Kyle Willett's - odd, but does happen.\n",
    "            # Haven't solved this yet, so we'll take the noise hit for now and ignore the problem.\n",
    "            logging.warning('Ignoring a subject due to unexpected number of answers ({}).'.format(len(answers)))\n",
    "            continue\n",
    "\n",
    "        if 'ir_peak' in answers[0]:\n",
    "            true_host = numpy.array(answers[0]['ir_peak']) * 200 / 500  # Magic constant from web -> fits.\n",
    "            true_host[1] = crowdastro.config.get('fits_image_height') - true_host[1]  # Clicks are flipped vertically.\n",
    "            # Find the potential host closest to the true host. This is labelled 1; all else labelled 0.\n",
    "            classifications[numpy.array([numpy.linalg.norm(diff) for diff in potential_hosts - true_host]).argmin()] = 1\n",
    "        elif 'ir' in answers[0]:\n",
    "            true_host = numpy.array(answers[0]['ir']) * 200 / 500\n",
    "            true_host[1] = crowdastro.config.get('fits_image_height') - true_host[1]  # Clicks are flipped vertically.\n",
    "            classifications[numpy.array([numpy.linalg.norm(diff) for diff in potential_hosts - true_host]).argmin()] = 1\n",
    "        else:\n",
    "            logging.warning('No click peaks found.')\n",
    "        \n",
    "        # Fetch the large image - that way, we don't need to impose artificial restrictions\n",
    "        # on the edges of the image.\n",
    "        radio = crowdastro.data.get_radio(subject, size='5x5')\n",
    "\n",
    "        # Distance from edge of large image to edge of small image.\n",
    "        border_radius = (crowdastro.config.get('fits_image_width') * 5 // 2 -\n",
    "                         crowdastro.config.get('fits_image_width')) // 2\n",
    "\n",
    "        # Get neighbourhoods around each host.\n",
    "        for (host_x, host_y), label in zip(potential_hosts, classifications):\n",
    "            host_x, host_y = int(host_x), int(host_y)\n",
    "            neighbourhood = radio[border_radius + host_x - radius : border_radius + host_x + radius,\n",
    "                                  border_radius + host_y - radius : border_radius + host_y + radius]\n",
    "            xs.append(neighbourhood.flatten())\n",
    "            ts.append(label)\n",
    "    \n",
    "    return numpy.array(xs), numpy.array(ts)"
   ]
  },
  {
   "cell_type": "code",
   "execution_count": 59,
   "metadata": {
    "collapsed": false
   },
   "outputs": [
    {
     "name": "stderr",
     "output_type": "stream",
     "text": [
      "WARNING:root:Ignoring a subject due to unexpected number of answers (2).\n",
      "WARNING:root:Ignoring a subject due to unexpected number of answers (3).\n",
      "WARNING:root:Ignoring a subject due to unexpected number of answers (5).\n",
      "WARNING:root:Ignoring a subject due to unexpected number of answers (2).\n",
      "WARNING:root:Ignoring a subject due to unexpected number of answers (2).\n"
     ]
    }
   ],
   "source": [
    "N = 100  # This uses about 2.2 GB of memory. I should try and compress on-the-fly when I have some features.\n",
    "holdout = 100  # Skip + store the first holdout so we can test later on the full subjects.\n",
    "\n",
    "subjects = filter_nice(atlas_subjects())\n",
    "heldout = [s for _, s in zip(range(holdout), subjects)]\n",
    "X, T = raw_training_data(itertools.islice(subjects, N), radius=20)"
   ]
  },
  {
   "cell_type": "code",
   "execution_count": 60,
   "metadata": {
    "collapsed": true
   },
   "outputs": [],
   "source": [
    "X_train, X_test, T_train, T_test = sklearn.cross_validation.train_test_split(X, T, test_size=0.2, random_state=0)"
   ]
  },
  {
   "cell_type": "markdown",
   "metadata": {},
   "source": [
    "## Logistic regression\n",
    "I've already done logistic regression in the pipeline notebook, but I would like to use it as a benchmark, so I reproduce it here. I also want to see the effect of preprocessing the data with sklearn (e.g. to scale it)."
   ]
  },
  {
   "cell_type": "code",
   "execution_count": 61,
   "metadata": {
    "collapsed": false
   },
   "outputs": [
    {
     "data": {
      "text/plain": [
       "LogisticRegression(C=1.0, class_weight='balanced', dual=False,\n",
       "          fit_intercept=True, intercept_scaling=1, max_iter=100,\n",
       "          multi_class='ovr', n_jobs=1, penalty='l2', random_state=None,\n",
       "          solver='liblinear', tol=0.0001, verbose=0, warm_start=False)"
      ]
     },
     "execution_count": 61,
     "metadata": {},
     "output_type": "execute_result"
    }
   ],
   "source": [
    "lr = sklearn.linear_model.LogisticRegression(class_weight='balanced')\n",
    "lr.fit(X_train, T_train)"
   ]
  },
  {
   "cell_type": "code",
   "execution_count": 62,
   "metadata": {
    "collapsed": false
   },
   "outputs": [
    {
     "name": "stdout",
     "output_type": "stream",
     "text": [
      "array([[757, 119],\n",
      "       [  5,  11]])\n"
     ]
    }
   ],
   "source": [
    "# Raw confusion matrix.\n",
    "pprint.pprint(sklearn.metrics.confusion_matrix(T_test, lr.predict(X_test)))"
   ]
  },
  {
   "cell_type": "code",
   "execution_count": 77,
   "metadata": {
    "collapsed": true
   },
   "outputs": [],
   "source": [
    "# Perform the actual task, i.e., clicking the image in the right spot.\n",
    "\n",
    "radius = 20\n",
    "\n",
    "def predict(subject, lr, evaluate=False, preprocessor=None):\n",
    "    # Get input data.\n",
    "    xs = []\n",
    "    ir = crowdastro.data.get_ir(subject)\n",
    "    blobs = skimage.feature.blob_log(ir/255, min_sigma=5, max_sigma=15, num_sigma=10, threshold=0.00002,\n",
    "                                     overlap=0.75, log_scale=False)\n",
    "    potential_hosts = numpy.fliplr(blobs[:, :2])\n",
    "    radio = crowdastro.data.get_radio(subject, size='5x5')\n",
    "    border_radius = (crowdastro.config.get('fits_image_width') * 5 // 2 -\n",
    "                     crowdastro.config.get('fits_image_width')) // 2\n",
    "    for host_x, host_y in potential_hosts:\n",
    "        host_x, host_y = int(host_x), int(host_y)\n",
    "        neighbourhood = radio[border_radius + host_x - radius : border_radius + host_x + radius,\n",
    "                              border_radius + host_y - radius : border_radius + host_y + radius]\n",
    "        xs.append(neighbourhood.flatten())\n",
    "\n",
    "    xs = numpy.array(xs)\n",
    "    \n",
    "    if preprocessor is None:\n",
    "        ts = lr.predict_proba(xs)\n",
    "    else:\n",
    "        ts = lr.predict_proba(preprocessor.transform(xs))\n",
    "    predicted_host = potential_hosts[ts[:, 1].argmax()]\n",
    "    \n",
    "    if not evaluate:\n",
    "        return predicted_host\n",
    "\n",
    "    # Get actual label for evaluation.\n",
    "    consensus = crowdastro.rgz_analysis.consensus.consensus(subject['zooniverse_id'])\n",
    "    answers = list(consensus['answer'].values())\n",
    "    if len(answers) != 1:\n",
    "        raise ValueError('Unexpected number of answers ({}).'.format(len(answers)))\n",
    "    if 'ir_peak' in answers[0]:\n",
    "        true_host = numpy.array(answers[0]['ir_peak']) * 200 / 500  # Magic constant from web -> fits.\n",
    "        true_host[1] = crowdastro.config.get('fits_image_height') - true_host[1]  # Clicks are flipped vertically.\n",
    "        # Find the potential host closest to the true host. This is labelled 1; all else labelled 0.\n",
    "        closest = potential_hosts[numpy.array([numpy.linalg.norm(diff) for diff in potential_hosts - true_host]).argmin()]\n",
    "    elif 'ir' in answers[0]:\n",
    "        true_host = numpy.array(answers[0]['ir']) * 200 / 500\n",
    "        true_host[1] = crowdastro.config.get('fits_image_height') - true_host[1]  # Clicks are flipped vertically.\n",
    "        closest = potential_hosts[numpy.array([numpy.linalg.norm(diff) for diff in potential_hosts - true_host]).argmin()]\n",
    "    else:\n",
    "        closest = [-99, -99]\n",
    "        logging.warning('No click peaks found.')\n",
    "    return numpy.allclose(closest, predicted_host)"
   ]
  },
  {
   "cell_type": "code",
   "execution_count": 64,
   "metadata": {
    "collapsed": false
   },
   "outputs": [
    {
     "name": "stderr",
     "output_type": "stream",
     "text": [
      "WARNING:root:No click peaks found.\n"
     ]
    },
    {
     "name": "stdout",
     "output_type": "stream",
     "text": [
      "78.57%\n"
     ]
    }
   ],
   "source": [
    "n_correct = 0\n",
    "n_total = 0\n",
    "\n",
    "for subject in heldout:\n",
    "    try:\n",
    "        c = predict(subject, lr, evaluate=True)\n",
    "    except ValueError:\n",
    "        continue\n",
    "    \n",
    "    n_correct += c\n",
    "    n_total += 1\n",
    "    \n",
    "print('{:.02%}'.format(n_correct / n_total))"
   ]
  },
  {
   "cell_type": "markdown",
   "metadata": {},
   "source": [
    "### Scaling"
   ]
  },
  {
   "cell_type": "code",
   "execution_count": 66,
   "metadata": {
    "collapsed": false
   },
   "outputs": [
    {
     "name": "stdout",
     "output_type": "stream",
     "text": [
      "array([[600, 276],\n",
      "       [  2,  14]])\n"
     ]
    }
   ],
   "source": [
    "scaler = sklearn.preprocessing.StandardScaler().fit(X_train)\n",
    "lr = sklearn.linear_model.LogisticRegression(class_weight='balanced')\n",
    "lr.fit(scaler.transform(X_train), T_train)\n",
    "pprint.pprint(sklearn.metrics.confusion_matrix(T_test, lr.predict(X_test)))"
   ]
  },
  {
   "cell_type": "code",
   "execution_count": 78,
   "metadata": {
    "collapsed": false
   },
   "outputs": [
    {
     "name": "stderr",
     "output_type": "stream",
     "text": [
      "WARNING:root:No click peaks found.\n"
     ]
    },
    {
     "name": "stdout",
     "output_type": "stream",
     "text": [
      "73.47%\n"
     ]
    }
   ],
   "source": [
    "n_correct = 0\n",
    "n_total = 0\n",
    "\n",
    "for subject in heldout:\n",
    "    try:\n",
    "        c = predict(subject, lr, evaluate=True, preprocessor=scaler)\n",
    "    except ValueError:\n",
    "        continue\n",
    "    \n",
    "    n_correct += c\n",
    "    n_total += 1\n",
    "    \n",
    "print('{:.02%}'.format(n_correct / n_total))"
   ]
  },
  {
   "cell_type": "markdown",
   "metadata": {},
   "source": [
    "Interestingly, scaling seems to *reduce* performance. This may be due to the physical interpretation of each pixel (i.e., each pixel represents light)."
   ]
  },
  {
   "cell_type": "markdown",
   "metadata": {},
   "source": [
    "## SVM"
   ]
  },
  {
   "cell_type": "code",
   "execution_count": 74,
   "metadata": {
    "collapsed": false
   },
   "outputs": [
    {
     "data": {
      "text/plain": [
       "SVC(C=1.0, cache_size=200, class_weight='balanced', coef0=0.0,\n",
       "  decision_function_shape=None, degree=3, gamma='auto', kernel='rbf',\n",
       "  max_iter=-1, probability=True, random_state=None, shrinking=True,\n",
       "  tol=0.001, verbose=False)"
      ]
     },
     "execution_count": 74,
     "metadata": {},
     "output_type": "execute_result"
    }
   ],
   "source": [
    "svc = sklearn.svm.SVC(class_weight='balanced', probability=True)\n",
    "svc.fit(X_train, T_train)"
   ]
  },
  {
   "cell_type": "code",
   "execution_count": 75,
   "metadata": {
    "collapsed": false
   },
   "outputs": [
    {
     "name": "stderr",
     "output_type": "stream",
     "text": [
      "WARNING:root:No click peaks found.\n"
     ]
    },
    {
     "name": "stdout",
     "output_type": "stream",
     "text": [
      "13.27%\n"
     ]
    }
   ],
   "source": [
    "n_correct = 0\n",
    "n_total = 0\n",
    "\n",
    "for subject in heldout:\n",
    "    try:\n",
    "        c = predict(subject, svc, evaluate=True)\n",
    "    except ValueError:\n",
    "        continue\n",
    "    \n",
    "    n_correct += c\n",
    "    n_total += 1\n",
    "    \n",
    "print('{:.02%}'.format(n_correct / n_total))"
   ]
  },
  {
   "cell_type": "markdown",
   "metadata": {},
   "source": [
    "This is considerably worse than logistic regression. It's possible that this is due to the low number of data points, but I can't increase that at the moment &mdash; I need to reconsider how I handle the data so I can avoid MemoryErrors first."
   ]
  },
  {
   "cell_type": "markdown",
   "metadata": {},
   "source": [
    "## Logistic regression with dimensionality reduction"
   ]
  },
  {
   "cell_type": "code",
   "execution_count": 81,
   "metadata": {
    "collapsed": false
   },
   "outputs": [
    {
     "data": {
      "text/plain": [
       "LogisticRegression(C=1.0, class_weight='balanced', dual=False,\n",
       "          fit_intercept=True, intercept_scaling=1, max_iter=100,\n",
       "          multi_class='ovr', n_jobs=1, penalty='l2', random_state=None,\n",
       "          solver='liblinear', tol=0.0001, verbose=0, warm_start=False)"
      ]
     },
     "execution_count": 81,
     "metadata": {},
     "output_type": "execute_result"
    }
   ],
   "source": [
    "svd = sklearn.decomposition.TruncatedSVD(n_components=200)\n",
    "svd.fit(X_train)\n",
    "\n",
    "lr = sklearn.linear_model.LogisticRegression(class_weight='balanced')\n",
    "lr.fit(svd.transform(X_train), T_train)"
   ]
  },
  {
   "cell_type": "code",
   "execution_count": 82,
   "metadata": {
    "collapsed": false
   },
   "outputs": [
    {
     "name": "stderr",
     "output_type": "stream",
     "text": [
      "WARNING:root:No click peaks found.\n"
     ]
    },
    {
     "name": "stdout",
     "output_type": "stream",
     "text": [
      "75.51%\n"
     ]
    }
   ],
   "source": [
    "n_correct = 0\n",
    "n_total = 0\n",
    "\n",
    "for subject in heldout:\n",
    "    try:\n",
    "        c = predict(subject, lr, evaluate=True, preprocessor=svd)\n",
    "    except ValueError:\n",
    "        continue\n",
    "    \n",
    "    n_correct += c\n",
    "    n_total += 1\n",
    "    \n",
    "print('{:.02%}'.format(n_correct / n_total))"
   ]
  },
  {
   "cell_type": "markdown",
   "metadata": {},
   "source": [
    "That's not too bad, and the data are many, many times smaller. We should look at the singular values matrix to see a good place to cut it off (I chose 200 really arbitrarily)."
   ]
  },
  {
   "cell_type": "code",
   "execution_count": 94,
   "metadata": {
    "collapsed": false
   },
   "outputs": [
    {
     "data": {
      "image/png": "[encoded data removed]",
      "text/plain": [
       "<matplotlib.figure.Figure at 0x24aa6a64630>"
      ]
     },
     "metadata": {},
     "output_type": "display_data"
    }
   ],
   "source": [
    "svd = scipy.linalg.svd(X_train)\n",
    "U, S, V = svd\n",
    "S.sort()\n",
    "S = S[::-1]\n",
    "matplotlib.pyplot.plot(numpy.log(S))\n",
    "matplotlib.pyplot.xlabel('Number of singular values')\n",
    "matplotlib.pyplot.ylabel('Singular value')\n",
    "matplotlib.pyplot.show()"
   ]
  },
  {
   "cell_type": "markdown",
   "metadata": {},
   "source": [
    "Interestingly, it looks like 200 might be a good choice after all. Now I can use this information to go back and preprocess all my data &mdash; it'll be 8 times smaller, so I can fit 8 times as many data points in. But first, I'll use it to preprocess data for the polynomial kernel &mdash; I couldn't do this earlier as I would get a MemoryError."
   ]
  },
  {
   "cell_type": "markdown",
   "metadata": {},
   "source": [
    "## Logistic regression with dimensionality reduction and polynomial kernel"
   ]
  },
  {
   "cell_type": "code",
   "execution_count": 96,
   "metadata": {
    "collapsed": false
   },
   "outputs": [
    {
     "data": {
      "text/plain": [
       "LogisticRegression(C=1.0, class_weight='balanced', dual=False,\n",
       "          fit_intercept=True, intercept_scaling=1, max_iter=100,\n",
       "          multi_class='ovr', n_jobs=1, penalty='l2', random_state=None,\n",
       "          solver='liblinear', tol=0.0001, verbose=0, warm_start=False)"
      ]
     },
     "execution_count": 96,
     "metadata": {},
     "output_type": "execute_result"
    }
   ],
   "source": [
    "svd = sklearn.decomposition.TruncatedSVD(n_components=200)\n",
    "svd.fit(X_train)\n",
    "\n",
    "poly = sklearn.preprocessing.PolynomialFeatures(2)\n",
    "poly.fit(svd.transform(X_train))\n",
    "\n",
    "lr = sklearn.linear_model.LogisticRegression(class_weight='balanced')\n",
    "lr.fit(poly.transform(svd.transform(X_train)), T_train)"
   ]
  },
  {
   "cell_type": "code",
   "execution_count": 98,
   "metadata": {
    "collapsed": false
   },
   "outputs": [
    {
     "name": "stderr",
     "output_type": "stream",
     "text": [
      "WARNING:root:No click peaks found.\n"
     ]
    },
    {
     "name": "stdout",
     "output_type": "stream",
     "text": [
      "68.37%\n"
     ]
    }
   ],
   "source": [
    "n_correct = 0\n",
    "n_total = 0\n",
    "\n",
    "class PolySVD(object):\n",
    "    def transform(self, xs):\n",
    "        return poly.transform(svd.transform(xs))\n",
    "\n",
    "for subject in heldout:\n",
    "    try:\n",
    "        c = predict(subject, lr, evaluate=True, preprocessor=PolySVD())\n",
    "    except ValueError:\n",
    "        continue\n",
    "    \n",
    "    n_correct += c\n",
    "    n_total += 1\n",
    "    \n",
    "print('{:.02%}'.format(n_correct / n_total))"
   ]
  },
  {
   "cell_type": "markdown",
   "metadata": {},
   "source": [
    "This was pretty slow, and not better than linear."
   ]
  },
  {
   "cell_type": "markdown",
   "metadata": {},
   "source": [
    "## Random Forest"
   ]
  },
  {
   "cell_type": "code",
   "execution_count": 101,
   "metadata": {
    "collapsed": false
   },
   "outputs": [
    {
     "data": {
      "text/plain": [
       "RandomForestClassifier(bootstrap=True, class_weight=None, criterion='gini',\n",
       "            max_depth=None, max_features='auto', max_leaf_nodes=None,\n",
       "            min_samples_leaf=1, min_samples_split=2,\n",
       "            min_weight_fraction_leaf=0.0, n_estimators=10, n_jobs=1,\n",
       "            oob_score=False, random_state=None, verbose=0,\n",
       "            warm_start=False)"
      ]
     },
     "execution_count": 101,
     "metadata": {},
     "output_type": "execute_result"
    }
   ],
   "source": [
    "rfc = sklearn.ensemble.RandomForestClassifier()\n",
    "rfc.fit(X_train, T_train)"
   ]
  },
  {
   "cell_type": "code",
   "execution_count": 102,
   "metadata": {
    "collapsed": false
   },
   "outputs": [
    {
     "name": "stderr",
     "output_type": "stream",
     "text": [
      "WARNING:root:No click peaks found.\n"
     ]
    },
    {
     "name": "stdout",
     "output_type": "stream",
     "text": [
      "52.04%\n"
     ]
    }
   ],
   "source": [
    "n_correct = 0\n",
    "n_total = 0\n",
    "\n",
    "for subject in heldout:\n",
    "    try:\n",
    "        c = predict(subject, rfc, evaluate=True)\n",
    "    except ValueError:\n",
    "        continue\n",
    "    \n",
    "    n_correct += c\n",
    "    n_total += 1\n",
    "    \n",
    "print('{:.02%}'.format(n_correct / n_total))"
   ]
  },
  {
   "cell_type": "markdown",
   "metadata": {},
   "source": [
    "## SVM with dimensionality reduction\n",
    "\n",
    "To put more data points into SVM, I'll need to do dimensionality reduction while processing the training data &mdash; I can only hold about 100 data points in memory otherwise."
   ]
  },
  {
   "cell_type": "code",
   "execution_count": 112,
   "metadata": {
    "collapsed": false
   },
   "outputs": [],
   "source": [
    "def raw_training_data_svd(subjects, radius=20):\n",
    "    \"\"\"Returns examples matrix X and targets matrix T.\n",
    "    \n",
    "    Each row of X is one example.\n",
    "    Each row of T is one target.\n",
    "    \"\"\"\n",
    "    xs = []\n",
    "    ts = []\n",
    "    \n",
    "    subjects = list(subjects)  # In case this is a generator.\n",
    "    \n",
    "    for subject in subjects:\n",
    "        # Find potential hosts.\n",
    "        ir = crowdastro.data.get_ir(subject)\n",
    "        blobs = skimage.feature.blob_log(ir/255, min_sigma=5, max_sigma=15, num_sigma=10, threshold=0.00002,\n",
    "                                         overlap=0.75, log_scale=False)\n",
    "        potential_hosts = numpy.fliplr(blobs[:, :2])\n",
    "        \n",
    "        # Find the label of each host.\n",
    "        consensus = crowdastro.rgz_analysis.consensus.consensus(subject['zooniverse_id'])\n",
    "        answers = list(consensus['answer'].values())\n",
    "        \n",
    "        classifications = numpy.zeros(potential_hosts.shape[0])\n",
    "        \n",
    "        if len(answers) != 1:\n",
    "            # My plurality radio combination differs from Kyle Willett's - odd, but does happen.\n",
    "            # Haven't solved this yet, so we'll take the noise hit for now and ignore the problem.\n",
    "            logging.warning('Ignoring a subject due to unexpected number of answers ({}).'.format(len(answers)))\n",
    "            continue\n",
    "\n",
    "        if 'ir_peak' in answers[0]:\n",
    "            true_host = numpy.array(answers[0]['ir_peak']) * 200 / 500  # Magic constant from web -> fits.\n",
    "            true_host[1] = crowdastro.config.get('fits_image_height') - true_host[1]  # Clicks are flipped vertically.\n",
    "            # Find the potential host closest to the true host. This is labelled 1; all else labelled 0.\n",
    "            classifications[numpy.array([numpy.linalg.norm(diff) for diff in potential_hosts - true_host]).argmin()] = 1\n",
    "        elif 'ir' in answers[0]:\n",
    "            true_host = numpy.array(answers[0]['ir']) * 200 / 500\n",
    "            true_host[1] = crowdastro.config.get('fits_image_height') - true_host[1]  # Clicks are flipped vertically.\n",
    "            classifications[numpy.array([numpy.linalg.norm(diff) for diff in potential_hosts - true_host]).argmin()] = 1\n",
    "        else:\n",
    "            logging.warning('No click peaks found.')\n",
    "        \n",
    "        # Fetch the large image - that way, we don't need to impose artificial restrictions\n",
    "        # on the edges of the image.\n",
    "        radio = crowdastro.data.get_radio(subject, size='5x5')\n",
    "\n",
    "        # Distance from edge of large image to edge of small image.\n",
    "        border_radius = (crowdastro.config.get('fits_image_width') * 5 // 2 -\n",
    "                         crowdastro.config.get('fits_image_width')) // 2\n",
    "\n",
    "        # Get neighbourhoods around each host.\n",
    "        for (host_x, host_y), label in zip(potential_hosts, classifications):\n",
    "            host_x, host_y = int(host_x), int(host_y)\n",
    "            neighbourhood = radio[border_radius + host_x - radius : border_radius + host_x + radius,\n",
    "                                  border_radius + host_y - radius : border_radius + host_y + radius]\n",
    "            xs.append(svd.transform(numpy.array([neighbourhood.flatten()])))\n",
    "            ts.append(label)\n",
    "    \n",
    "    return numpy.array(xs), numpy.array(ts)"
   ]
  },
  {
   "cell_type": "code",
   "execution_count": 121,
   "metadata": {
    "collapsed": false
   },
   "outputs": [
    {
     "name": "stderr",
     "output_type": "stream",
     "text": [
      "WARNING:root:Ignoring a subject due to unexpected number of answers (3).\n",
      "WARNING:root:Ignoring a subject due to unexpected number of answers (5).\n",
      "WARNING:root:Ignoring a subject due to unexpected number of answers (2).\n",
      "WARNING:root:Ignoring a subject due to unexpected number of answers (2).\n",
      "WARNING:root:Ignoring a subject due to unexpected number of answers (7).\n",
      "WARNING:root:Ignoring a subject due to unexpected number of answers (4).\n",
      "WARNING:root:Ignoring a subject due to unexpected number of answers (2).\n",
      "WARNING:root:Ignoring a subject due to unexpected number of answers (3).\n",
      "WARNING:root:Ignoring a subject due to unexpected number of answers (5).\n",
      "WARNING:root:Ignoring a subject due to unexpected number of answers (6).\n",
      "WARNING:root:Ignoring a subject due to unexpected number of answers (3).\n",
      "WARNING:root:Ignoring a subject due to unexpected number of answers (3).\n",
      "WARNING:root:Ignoring a subject due to unexpected number of answers (6).\n",
      "WARNING:root:Ignoring a subject due to unexpected number of answers (3).\n",
      "WARNING:root:Ignoring a subject due to unexpected number of answers (4).\n",
      "WARNING:root:Ignoring a subject due to unexpected number of answers (5).\n",
      "WARNING:root:Ignoring a subject due to unexpected number of answers (3).\n",
      "WARNING:root:Ignoring a subject due to unexpected number of answers (7).\n",
      "WARNING:root:Ignoring a subject due to unexpected number of answers (2).\n",
      "WARNING:root:Ignoring a subject due to unexpected number of answers (2).\n",
      "WARNING:root:Ignoring a subject due to unexpected number of answers (6).\n",
      "WARNING:root:Ignoring a subject due to unexpected number of answers (4).\n",
      "WARNING:root:Ignoring a subject due to unexpected number of answers (3).\n",
      "WARNING:root:Ignoring a subject due to unexpected number of answers (3).\n",
      "WARNING:root:Ignoring a subject due to unexpected number of answers (2).\n"
     ]
    }
   ],
   "source": [
    "N = 546 * 3 // 4\n",
    "holdout = 546 // 4  # Skip + store the first holdout so we can test later on the full subjects.\n",
    "subjects = filter_nice(atlas_subjects())\n",
    "heldout = [s for _, s in zip(range(holdout), subjects)]\n",
    "X, T = raw_training_data_svd(itertools.islice(subjects, N), radius=20)"
   ]
  },
  {
   "cell_type": "code",
   "execution_count": 122,
   "metadata": {
    "collapsed": false
   },
   "outputs": [],
   "source": [
    "X_train, X_test, T_train, T_test = sklearn.cross_validation.train_test_split(X, T, test_size=0.2, random_state=0)"
   ]
  },
  {
   "cell_type": "code",
   "execution_count": 126,
   "metadata": {
    "collapsed": false
   },
   "outputs": [],
   "source": [
    "X_train = X_train.reshape((-1, 200))\n",
    "X_test = X_test.reshape((-1, 200))\n",
    "T_train = T_train.reshape((-1, 1))\n",
    "T_test = T_test.reshape((-1, 1))"
   ]
  },
  {
   "cell_type": "code",
   "execution_count": 127,
   "metadata": {
    "collapsed": false
   },
   "outputs": [
    {
     "data": {
      "text/plain": [
       "SVC(C=1.0, cache_size=200, class_weight='balanced', coef0=0.0,\n",
       "  decision_function_shape=None, degree=3, gamma='auto', kernel='rbf',\n",
       "  max_iter=-1, probability=True, random_state=None, shrinking=True,\n",
       "  tol=0.001, verbose=False)"
      ]
     },
     "execution_count": 127,
     "metadata": {},
     "output_type": "execute_result"
    }
   ],
   "source": [
    "svc = sklearn.svm.SVC(class_weight='balanced', probability=True)\n",
    "svc.fit(X_train, T_train)"
   ]
  },
  {
   "cell_type": "code",
   "execution_count": 133,
   "metadata": {
    "collapsed": false
   },
   "outputs": [
    {
     "name": "stderr",
     "output_type": "stream",
     "text": [
      "WARNING:root:No click peaks found.\n"
     ]
    },
    {
     "name": "stdout",
     "output_type": "stream",
     "text": [
      "3.01%\n"
     ]
    }
   ],
   "source": [
    "n_correct = 0\n",
    "n_total = 0\n",
    "\n",
    "for subject in heldout:\n",
    "    try:\n",
    "        c = predict(subject, svc, evaluate=True, preprocessor=svd)\n",
    "    except ValueError:\n",
    "        continue\n",
    "    \n",
    "    n_correct += c\n",
    "    n_total += 1\n",
    "    \n",
    "print('{:.02%}'.format(n_correct / n_total))"
   ]
  }
 ],
 "metadata": {
  "kernelspec": {
   "display_name": "Python 3",
   "language": "python",
   "name": "python3"
  },
  "language_info": {
   "codemirror_mode": {
    "name": "ipython",
    "version": 3
   },
   "file_extension": ".py",
   "mimetype": "text/x-python",
   "name": "python",
   "nbconvert_exporter": "python",
   "pygments_lexer": "ipython3",
   "version": "3.5.1"
  }
 },
 "nbformat": 4,
 "nbformat_minor": 0
}
