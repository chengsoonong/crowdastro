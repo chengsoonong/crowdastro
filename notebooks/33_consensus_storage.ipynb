{
 "cells": [
  {
   "cell_type": "markdown",
   "metadata": {},
   "source": [
    "# Consensus Storage\n",
    "\n",
    "In this notebook, I detail the structure of the HDF5 when storing consensuses."
   ]
  },
  {
   "cell_type": "markdown",
   "metadata": {},
   "source": [
    "## Input data format\n",
    "\n",
    "The input data are stored in `crowdastro.h5` and `crowdastro.csv` (v0.1.0):\n",
    "\n",
    "- `/`\n",
    "    - `atlas`\n",
    "        - `cdfs`\n",
    "            - *`images_2x2`*\n",
    "            - *`images_5x5`*\n",
    "            - *`classification_positions`*\n",
    "            - *`classification_combinations`*\n",
    "            - *`positions`*\n",
    "            - *`training_indices`*\n",
    "            - *`validation_indices`*\n",
    "            - *`testing_indices`*\n",
    "    - `swire`\n",
    "        - `cdfs`\n",
    "            - *`images_2x2`*\n",
    "            - *`images_5x5`*\n",
    "            - *`catalogue`*"
   ]
  },
  {
   "cell_type": "markdown",
   "metadata": {},
   "source": [
    "## Output data format\n",
    "\n",
    "- `/`\n",
    "    - `atlas`\n",
    "        - `cdfs`\n",
    "            - *`consensus_positions`*\n",
    "            - *`consensus_combinations`*\n",
    "\n",
    "All valid consensuses are stored in /atlas/cdfs/{consensus_positions,consensus_combinations} with the position of the classification and the corresponding radio combination respectively. These also contain the ATLAS index they are associated with."
   ]
  },
  {
   "cell_type": "code",
   "execution_count": null,
   "metadata": {
    "collapsed": true
   },
   "outputs": [],
   "source": []
  }
 ],
 "metadata": {
  "kernelspec": {
   "display_name": "Python 3",
   "language": "python",
   "name": "python3"
  },
  "language_info": {
   "codemirror_mode": {
    "name": "ipython",
    "version": 3
   },
   "file_extension": ".py",
   "mimetype": "text/x-python",
   "name": "python",
   "nbconvert_exporter": "python",
   "pygments_lexer": "ipython3",
   "version": "3.5.1"
  }
 },
 "nbformat": 4,
 "nbformat_minor": 0
}
