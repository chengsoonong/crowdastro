{
 "cells": [
  {
   "cell_type": "markdown",
   "metadata": {},
   "source": [
    "# Clean Dataset\n",
    "\n",
    "This notebook generates a table of whether Franzen ATLAS-CDFS objects are extended or compact."
   ]
  },
  {
   "cell_type": "code",
   "execution_count": 1,
   "metadata": {
    "collapsed": false
   },
   "outputs": [],
   "source": [
    "import astropy.io.ascii as asc, astropy.table, numpy\n",
    "table = asc.read('one-table-to-rule-them-all.tbl')"
   ]
  },
  {
   "cell_type": "code",
   "execution_count": 2,
   "metadata": {
    "collapsed": false
   },
   "outputs": [
    {
     "name": "stderr",
     "output_type": "stream",
     "text": [
      "WARNING: AstropyDeprecationWarning: clean-atlas.tbl already exists. Automatically overwriting ASCII files is deprecated. Use the argument 'overwrite=True' in the future. [astropy.io.ascii.ui]\n"
     ]
    },
    {
     "data": {
      "text/html": [
       "&lt;Table masked=True length=3155&gt;\n",
       "<table id=\"table4410448696\" class=\"table-striped table-bordered table-condensed\">\n",
       "<thead><tr><th>Key</th><th>Clean</th></tr></thead>\n",
       "<thead><tr><th>int64</th><th>int64</th></tr></thead>\n",
       "<tr><td>0</td><td>0</td></tr>\n",
       "<tr><td>1</td><td>0</td></tr>\n",
       "<tr><td>2</td><td>--</td></tr>\n",
       "<tr><td>3</td><td>--</td></tr>\n",
       "<tr><td>4</td><td>0</td></tr>\n",
       "<tr><td>5</td><td>--</td></tr>\n",
       "<tr><td>6</td><td>0</td></tr>\n",
       "<tr><td>7</td><td>1</td></tr>\n",
       "<tr><td>8</td><td>1</td></tr>\n",
       "<tr><td>9</td><td>--</td></tr>\n",
       "<tr><td>...</td><td>...</td></tr>\n",
       "<tr><td>3145</td><td>1</td></tr>\n",
       "<tr><td>3146</td><td>1</td></tr>\n",
       "<tr><td>3147</td><td>1</td></tr>\n",
       "<tr><td>3148</td><td>1</td></tr>\n",
       "<tr><td>3149</td><td>1</td></tr>\n",
       "<tr><td>3150</td><td>1</td></tr>\n",
       "<tr><td>3151</td><td>1</td></tr>\n",
       "<tr><td>3152</td><td>1</td></tr>\n",
       "<tr><td>3153</td><td>1</td></tr>\n",
       "<tr><td>3154</td><td>1</td></tr>\n",
       "</table>"
      ],
      "text/plain": [
       "<Table masked=True length=3155>\n",
       " Key  Clean\n",
       "int64 int64\n",
       "----- -----\n",
       "    0     0\n",
       "    1     0\n",
       "    2    --\n",
       "    3    --\n",
       "    4     0\n",
       "    5    --\n",
       "    6     0\n",
       "    7     1\n",
       "    8     1\n",
       "    9    --\n",
       "  ...   ...\n",
       " 3145     1\n",
       " 3146     1\n",
       " 3147     1\n",
       " 3148     1\n",
       " 3149     1\n",
       " 3150     1\n",
       " 3151     1\n",
       " 3152     1\n",
       " 3153     1\n",
       " 3154     1"
      ]
     },
     "execution_count": 2,
     "metadata": {},
     "output_type": "execute_result"
    }
   ],
   "source": [
    "sp = table['Component Sp (Franzen)']\n",
    "s = table['Component S (Franzen)']\n",
    "franzen_ratios = s / sp\n",
    "clean = astropy.table.Table(data=[table['Key'], franzen_ratios < 1], names=['Key', 'Clean'], dtype=[int, int])\n",
    "clean.write('clean-atlas.tbl', format='ascii')\n",
    "resolved = astropy.table.Table(data=[table['Key'], franzen_ratios > 1], names=['Key', 'Clean'], dtype=[int, int])\n",
    "resolved.write('resolved-atlas.tbl', format='ascii')\n",
    "clean"
   ]
  },
  {
   "cell_type": "code",
   "execution_count": 35,
   "metadata": {
    "collapsed": false
   },
   "outputs": [
    {
     "name": "stdout",
     "output_type": "stream",
     "text": [
      "Compact and Norris-labelled: 385\n",
      "Resolved and Norris-labelled: 223\n"
     ]
    }
   ],
   "source": [
    "# Analysis: How many of the clean objects have Norris labels?\n",
    "has_norris_label = [bool(i) and i.startswith('SWIRE') for i in table['Source SWIRE (Norris)']]\n",
    "print('Compact and Norris-labelled:', numpy.logical_and(franzen_ratios < 1, has_norris_label).sum())\n",
    "print('Resolved and Norris-labelled:', numpy.logical_and(franzen_ratios > 1, has_norris_label).sum())"
   ]
  },
  {
   "cell_type": "code",
   "execution_count": 36,
   "metadata": {
    "collapsed": false
   },
   "outputs": [
    {
     "name": "stdout",
     "output_type": "stream",
     "text": [
      "Compact and RGZ-labelled: 1986\n",
      "Resolved and RGZ-labelled: 380\n"
     ]
    }
   ],
   "source": [
    "# Analysis: How many of the clean objects have RGZ labels?\n",
    "has_rgz_label = [bool(i) for i in table['Source SWIRE Name (RGZ)']]\n",
    "print('Compact and RGZ-labelled:', numpy.logical_and(franzen_ratios < 1, has_rgz_label).sum())\n",
    "print('Resolved and RGZ-labelled:', numpy.logical_and(franzen_ratios > 1, has_rgz_label).sum())"
   ]
  },
  {
   "cell_type": "code",
   "execution_count": 38,
   "metadata": {
    "collapsed": false
   },
   "outputs": [
    {
     "name": "stdout",
     "output_type": "stream",
     "text": [
      "Compact and labelled: 332\n",
      "Resolved and labelled: 188\n"
     ]
    }
   ],
   "source": [
    "# Analysis: How many of the clean objects have both Norris and RGZ labels?\n",
    "has_both_label = numpy.logical_and(has_norris_label, has_rgz_label)\n",
    "print('Compact and labelled:', numpy.logical_and(franzen_ratios < 1, has_both_label).sum())\n",
    "print('Resolved and labelled:', numpy.logical_and(franzen_ratios > 1, has_both_label).sum())"
   ]
  },
  {
   "cell_type": "code",
   "execution_count": null,
   "metadata": {
    "collapsed": true
   },
   "outputs": [],
   "source": []
  }
 ],
 "metadata": {
  "kernelspec": {
   "display_name": "Python 3",
   "language": "python",
   "name": "python3"
  },
  "language_info": {
   "codemirror_mode": {
    "name": "ipython",
    "version": 3
   },
   "file_extension": ".py",
   "mimetype": "text/x-python",
   "name": "python",
   "nbconvert_exporter": "python",
   "pygments_lexer": "ipython3",
   "version": "3.6.0"
  }
 },
 "nbformat": 4,
 "nbformat_minor": 2
}
