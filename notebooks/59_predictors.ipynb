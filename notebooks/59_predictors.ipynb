{
 "cells": [
  {
   "cell_type": "markdown",
   "metadata": {},
   "source": [
    "# Predictors\n",
    "\n",
    "Now that we have our test sets, we can go ahead and train and test some predictors."
   ]
  },
  {
   "cell_type": "code",
   "execution_count": 9,
   "metadata": {
    "collapsed": false
   },
   "outputs": [],
   "source": [
    "from astropy.coordinates import SkyCoord\n",
    "import h5py\n",
    "import keras\n",
    "import numpy\n",
    "import sklearn.ensemble\n",
    "import sklearn.linear_model\n",
    "import sklearn.metrics\n",
    "import sklearn.neighbors"
   ]
  },
  {
   "cell_type": "code",
   "execution_count": 10,
   "metadata": {
    "collapsed": false
   },
   "outputs": [],
   "source": [
    "def balanced_accuracy(y_true, y_pred):\n",
    "    tp = (numpy.logical_and(y_true == y_pred, y_true == 1)).sum()\n",
    "    p = (y_true == 1).sum()\n",
    "    tn = (numpy.logical_and(y_true == y_pred, y_true == 0)).sum()\n",
    "    n = (y_true == 0).sum()\n",
    "    \n",
    "    return (tp / p + tn / n) / 2"
   ]
  },
  {
   "cell_type": "code",
   "execution_count": 11,
   "metadata": {
    "collapsed": true
   },
   "outputs": [],
   "source": [
    "C = 100.0"
   ]
  },
  {
   "cell_type": "markdown",
   "metadata": {},
   "source": [
    "## Label sets: Norris, Fan, RGZ MV"
   ]
  },
  {
   "cell_type": "code",
   "execution_count": 12,
   "metadata": {
    "collapsed": true
   },
   "outputs": [],
   "source": [
    "with h5py.File('../data/crowdastro.h5') as crowdastro_h5:\n",
    "    with h5py.File('../data/training.h5') as training_h5:\n",
    "        rgz_mv = training_h5['labels'].value\n",
    "        fan = crowdastro_h5['/wise/cdfs/fan_labels'].value\n",
    "        norris = crowdastro_h5['/wise/cdfs/norris_labels'].value\n",
    "        names = crowdastro_h5['/wise/cdfs/string'].value\n",
    "        test_sets = crowdastro_h5['/wise/cdfs/test_sets'].value\n",
    "        features = training_h5['features'].value"
   ]
  },
  {
   "cell_type": "markdown",
   "metadata": {},
   "source": [
    "### Testing"
   ]
  },
  {
   "cell_type": "code",
   "execution_count": 13,
   "metadata": {
    "collapsed": false
   },
   "outputs": [
    {
     "name": "stdout",
     "output_type": "stream",
     "text": [
      "Norris         \t100.00%\t100.00%\t100.00%\t100.00%\t100.00%\t\n",
      "Fan            \t100.00%\t100.00%\t100.00%\t100.00%\t100.00%\t\n",
      "RGZ MV         \t83.76%\t84.34%\t84.49%\t84.84%\t86.63%\t\n"
     ]
    }
   ],
   "source": [
    "for name, labels in (('Norris', norris), ('Fan', fan), ('RGZ MV', rgz_mv)):\n",
    "    print('{:<15}'.format(name), end='\\t')\n",
    "    for test_set in test_sets:\n",
    "        print('{:.02%}'.format(balanced_accuracy(norris[test_set], labels[test_set])), end='\\t')\n",
    "    print()"
   ]
  },
  {
   "cell_type": "markdown",
   "metadata": {},
   "source": [
    "## Logistic regression trained on the label sets"
   ]
  },
  {
   "cell_type": "code",
   "execution_count": 14,
   "metadata": {
    "collapsed": false
   },
   "outputs": [
    {
     "name": "stdout",
     "output_type": "stream",
     "text": [
      "LR(Norris)     \t86.73%\t86.87%\t86.46%\t86.34%\t88.13%\t\n",
      "LR(Fan)        \t87.28%\t86.55%\t86.82%\t87.13%\t88.70%\t\n",
      "LR(RGZ MV)     \t85.17%\t84.75%\t84.93%\t85.41%\t86.43%\t\n"
     ]
    }
   ],
   "source": [
    "for name, labels in (('LR(Norris)', norris), ('LR(Fan)', fan), ('LR(RGZ MV)', rgz_mv)):\n",
    "    print('{:<15}'.format(name), end='\\t')\n",
    "    for test_set in test_sets:\n",
    "        train_set = sorted(set(range(len(labels))) - set(test_set))\n",
    "        lr = sklearn.linear_model.LogisticRegression(C=C, class_weight='balanced')\n",
    "        lr.fit(features[train_set], labels[train_set])\n",
    "        print('{:.02%}'.format(balanced_accuracy(norris[test_set], lr.predict(features[test_set]))), end='\\t')\n",
    "    print()"
   ]
  },
  {
   "cell_type": "markdown",
   "metadata": {},
   "source": [
    "## Random forests trained on the label sets"
   ]
  },
  {
   "cell_type": "code",
   "execution_count": 18,
   "metadata": {
    "collapsed": false
   },
   "outputs": [
    {
     "name": "stdout",
     "output_type": "stream",
     "text": [
      "RF(Norris)     \t74.11%\t75.83%\t73.37%\t74.24%\t75.96%\t\n",
      "RF(Fan)        \t71.79%\t72.22%\t69.85%\t72.13%\t74.00%\t\n",
      "RF(RGZ MV)     \t80.05%\t78.04%\t78.70%\t81.30%\t80.94%\t\n"
     ]
    }
   ],
   "source": [
    "for name, labels in (('RF(Norris)', norris), ('RF(Fan)', fan), ('RF(RGZ MV)', rgz_mv)):\n",
    "    print('{:<15}'.format(name), end='\\t')\n",
    "    for test_set in test_sets:\n",
    "        train_set = sorted(set(range(len(labels))) - set(test_set))\n",
    "        rf = sklearn.ensemble.RandomForestClassifier(class_weight='balanced')\n",
    "        rf.fit(features[train_set], labels[train_set])\n",
    "        print('{:.02%}'.format(balanced_accuracy(norris[test_set], rf.predict(features[test_set]))), end='\\t')\n",
    "    print()"
   ]
  },
  {
   "cell_type": "markdown",
   "metadata": {},
   "source": [
    "## Logistic regression trained directly on crowd labels"
   ]
  },
  {
   "cell_type": "code",
   "execution_count": 66,
   "metadata": {
    "collapsed": false
   },
   "outputs": [],
   "source": [
    "with h5py.File('../data/crowdastro.h5') as crowdastro_h5:\n",
    "    classifications = crowdastro_h5['/atlas/cdfs/classification_positions'].value\n",
    "    ir_positions = crowdastro_h5['/wise/cdfs/numeric'][:, :2]\n",
    "    crowd_indices = []\n",
    "    crowd_labels = []\n",
    "    ir_tree = sklearn.neighbors.KDTree(ir_positions)\n",
    "    for atlas_index, ra, dec in classifications:\n",
    "        if numpy.isnan(ra) or numpy.isnan(dec):\n",
    "            continue\n",
    "\n",
    "        skycoord = SkyCoord(ra=ra, dec=dec, unit=('deg', 'deg'))\n",
    "        ra = skycoord.ra.degree\n",
    "        dec = skycoord.dec.degree\n",
    "        irs, dists = ir_tree.query_radius([(ra, dec)], 1 / 60, return_distance=True)\n",
    "        min_dists, min_irs = ir_tree.query([(ra, dec)])\n",
    "        if min_dists[0][0] > 1 / 60:\n",
    "            continue\n",
    "\n",
    "        selected = min_irs[0][0]\n",
    "        for ir in irs[0]:\n",
    "            crowd_indices.append(ir)\n",
    "            if ir == selected:\n",
    "                crowd_labels.append(1)\n",
    "            else:\n",
    "                crowd_labels.append(0)\n",
    "        \n",
    "    crowd_indices = numpy.array(crowd_indices)\n",
    "    crowd_labels = numpy.array(crowd_labels)"
   ]
  },
  {
   "cell_type": "code",
   "execution_count": 67,
   "metadata": {
    "collapsed": false
   },
   "outputs": [
    {
     "name": "stdout",
     "output_type": "stream",
     "text": [
      "LR(RGZ)        \t85.18%\t85.22%\t84.77%\t85.27%\t85.03%\t\n"
     ]
    }
   ],
   "source": [
    "print('{:<15}'.format('LR(RGZ)'), end='\\t')\n",
    "for test_set in test_sets:\n",
    "    test_set_set = set(test_set)\n",
    "    \n",
    "    train_features = []\n",
    "    train_labels = []\n",
    "    \n",
    "    for index, label in zip(crowd_indices, crowd_labels):\n",
    "        if index not in test_set_set:\n",
    "            train_features.append(features[index])\n",
    "            train_labels.append(label)\n",
    "    \n",
    "    lr = sklearn.linear_model.LogisticRegression(C=C, class_weight='balanced')\n",
    "    lr.fit(train_features, train_labels)\n",
    "\n",
    "    print('{:.02%}'.format(balanced_accuracy(norris[test_set], lr.predict(features[test_set]))), end='\\t')\n",
    "print()"
   ]
  },
  {
   "cell_type": "code",
   "execution_count": 68,
   "metadata": {
    "collapsed": false
   },
   "outputs": [
    {
     "name": "stdout",
     "output_type": "stream",
     "text": [
      "RF(RGZ)        \t83.37%\t83.67%\t84.46%\t85.53%\t85.40%\t\n"
     ]
    }
   ],
   "source": [
    "print('{:<15}'.format('RF(RGZ)'), end='\\t')\n",
    "for test_set in test_sets:\n",
    "    test_set_set = set(test_set)\n",
    "    \n",
    "    train_features = []\n",
    "    train_labels = []\n",
    "    \n",
    "    for index, label in zip(crowd_indices, crowd_labels):\n",
    "        if index not in test_set_set:\n",
    "            train_features.append(features[index])\n",
    "            train_labels.append(label)\n",
    "    \n",
    "    rf = sklearn.ensemble.RandomForestClassifier(class_weight='balanced')\n",
    "    rf.fit(train_features, train_labels)\n",
    "\n",
    "    print('{:.02%}'.format(balanced_accuracy(norris[test_set], rf.predict(features[test_set]))), end='\\t')\n",
    "print()"
   ]
  },
  {
   "cell_type": "markdown",
   "metadata": {
    "collapsed": true
   },
   "source": [
    "## Neural network trained on the label sets"
   ]
  },
  {
   "cell_type": "code",
   "execution_count": 33,
   "metadata": {
    "collapsed": false
   },
   "outputs": [],
   "source": [
    "model = keras.models.Sequential()\n",
    "model.add(keras.layers.core.Dense(256, input_shape=(features.shape[1],), activation='tanh'))\n",
    "model.add(keras.layers.core.Dense(128, activation='tanh'))\n",
    "model.add(keras.layers.core.Dense(64, activation='tanh'))\n",
    "model.add(keras.layers.core.Dense(1, activation='sigmoid'))"
   ]
  },
  {
   "cell_type": "code",
   "execution_count": 35,
   "metadata": {
    "collapsed": false,
    "scrolled": true
   },
   "outputs": [
    {
     "name": "stdout",
     "output_type": "stream",
     "text": [
      "NN(Norris)     \t73.56%\t77.62%\t76.08%\t78.63%\t76.13%\t\n",
      "NN(Fan)        \t75.83%\t75.76%\t75.75%\t75.69%\t77.28%\t\n",
      "NN(RGZ MV)     \t83.55%\t83.97%\t83.70%\t84.72%\t85.72%\t\n"
     ]
    }
   ],
   "source": [
    "for name, labels in (('NN(Norris)', norris), ('NN(Fan)', fan), ('NN(RGZ MV)', rgz_mv)):\n",
    "    print('{:<15}'.format(name), end='\\t')\n",
    "    for test_set in test_sets:\n",
    "        train_set = sorted(set(range(len(labels))) - set(test_set))\n",
    "        model.compile('adagrad', 'binary_crossentropy')\n",
    "        model.fit(features[train_set], labels[train_set], verbose=0, nb_epoch=100)\n",
    "        predictions = model.predict(features[test_set]).round().ravel()\n",
    "        print('{:.02%}'.format(balanced_accuracy(norris[test_set], predictions)), end='\\t')\n",
    "    print()"
   ]
  },
  {
   "cell_type": "code",
   "execution_count": null,
   "metadata": {
    "collapsed": true
   },
   "outputs": [],
   "source": []
  }
 ],
 "metadata": {
  "kernelspec": {
   "display_name": "Python 3",
   "language": "python",
   "name": "python3"
  },
  "language_info": {
   "codemirror_mode": {
    "name": "ipython",
    "version": 3
   },
   "file_extension": ".py",
   "mimetype": "text/x-python",
   "name": "python",
   "nbconvert_exporter": "python",
   "pygments_lexer": "ipython3",
   "version": "3.5.1"
  }
 },
 "nbformat": 4,
 "nbformat_minor": 0
}
