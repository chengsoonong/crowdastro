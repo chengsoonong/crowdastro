{
 "cells": [
  {
   "cell_type": "markdown",
   "metadata": {},
   "source": [
    "# Colour-Colour Features\n",
    "\n",
    "Are the other magnitude differences useful predictors?"
   ]
  },
  {
   "cell_type": "code",
   "execution_count": 1,
   "metadata": {
    "collapsed": true
   },
   "outputs": [],
   "source": [
    "import sklearn.linear_model, h5py, numpy, crowdastro.crowd.util"
   ]
  },
  {
   "cell_type": "code",
   "execution_count": 20,
   "metadata": {
    "collapsed": true
   },
   "outputs": [],
   "source": [
    "with h5py.File('/Users/alger/data/Crowdastro/all_training_data_01_05_17.h5', 'r') as f:\n",
    "    features = f['features'].value\n",
    "    labels = f['norris_labels'].value\n",
    "    train_sets = f['sets/RGZ & Norris/train'].value\n",
    "    test_sets = f['sets/RGZ & Norris/test'].value\n",
    "with h5py.File('/Users/alger/data/Crowdastro/crowdastro-swire.h5', 'r') as f:\n",
    "    swire_features = f['/swire/cdfs/numeric'][:, 2:2 + 5]\n",
    "\n",
    "SPITZER_SENSITIVITIES = {\n",
    "    36: 7.3,\n",
    "    45: 9.7,\n",
    "    58: 27.5,\n",
    "    80: 32.5,\n",
    "    24: 450,\n",
    "}\n",
    "swire_features[swire_features[:, 0] == -99, 0] = SPITZER_SENSITIVITIES[36]\n",
    "swire_features[swire_features[:, 1] == -99, 1] = SPITZER_SENSITIVITIES[45]\n",
    "swire_features[swire_features[:, 2] == -99, 2] = SPITZER_SENSITIVITIES[58]\n",
    "swire_features[swire_features[:, 2] == 0, 2] = SPITZER_SENSITIVITIES[58]\n",
    "swire_features[swire_features[:, 3] == -99, 3] = SPITZER_SENSITIVITIES[80]\n",
    "swire_features[swire_features[:, 3] == 0, 3] = SPITZER_SENSITIVITIES[80]\n",
    "swire_features[swire_features[:, 4] == -99, 4] = SPITZER_SENSITIVITIES[24]\n",
    "swire_features[swire_features[:, 4] == 0, 4] = SPITZER_SENSITIVITIES[24]\n",
    "colour_colour_36_45 = numpy.log10(swire_features[:, 0]) - numpy.log10(swire_features[:, 1])\n",
    "colour_colour_36_58 = numpy.log10(swire_features[:, 0]) - numpy.log10(swire_features[:, 2])\n",
    "colour_colour_36_80 = numpy.log10(swire_features[:, 0]) - numpy.log10(swire_features[:, 3])\n",
    "colour_colour_45_58 = numpy.log10(swire_features[:, 1]) - numpy.log10(swire_features[:, 2])\n",
    "colour_colour_45_80 = numpy.log10(swire_features[:, 1]) - numpy.log10(swire_features[:, 3])\n",
    "colour_colour_58_80 = numpy.log10(swire_features[:, 2]) - numpy.log10(swire_features[:, 3])"
   ]
  },
  {
   "cell_type": "code",
   "execution_count": 16,
   "metadata": {},
   "outputs": [
    {
     "name": "stdout",
     "output_type": "stream",
     "text": [
      "[-0.10719221  0.47285233 -0.2232971  ...,  0.03450133  0.07687134\n",
      "  0.04083214]\n",
      "[-0.12296261  0.38621728 -0.39697595 ..., -0.09677584 -0.0425222\n",
      " -0.03138334]\n",
      "[-0.10374743  0.51388107 -0.33630897 ..., -0.1169043  -0.0833884\n",
      " -0.17638748]\n",
      "[-0.10126773  0.41021902 -0.28329018 ..., -0.04553762 -0.02926188\n",
      " -0.02935066]\n",
      "0.944788992331 0.0141064182402\n"
     ]
    }
   ],
   "source": [
    "# Train LR on the 36-45 and 45-58 features.\n",
    "bas = []\n",
    "for train, test in zip(train_sets, test_sets):\n",
    "    lr = sklearn.linear_model.LogisticRegression(class_weight='balanced')\n",
    "    f = features\n",
    "    f -= f.mean(axis=0)\n",
    "    f /= f.std(axis=0)\n",
    "    lr.fit(f[train], labels[train])\n",
    "    p = lr.predict(f[test])\n",
    "    bas.append(crowdastro.crowd.util.balanced_accuracy(labels[test], p))\n",
    "print(numpy.mean(bas), numpy.std(bas))"
   ]
  },
  {
   "cell_type": "code",
   "execution_count": 21,
   "metadata": {},
   "outputs": [
    {
     "name": "stdout",
     "output_type": "stream",
     "text": [
      "(42252, 1035)\n",
      "(42252, 1035)\n",
      "(42252, 1035)\n",
      "(42252, 1035)\n",
      "0.945969430012 0.0171863151418\n"
     ]
    }
   ],
   "source": [
    "# Train LR on all flux ratio features.\n",
    "bas_all = []\n",
    "for train, test in zip(train_sets, test_sets):\n",
    "    lr = sklearn.linear_model.LogisticRegression(class_weight='balanced')\n",
    "    f = numpy.vstack([features.T, colour_colour_36_45, colour_colour_36_58,\n",
    "                      colour_colour_36_80, colour_colour_45_58, colour_colour_45_80,\n",
    "                      colour_colour_58_80]).T\n",
    "    f -= f.mean(axis=0)\n",
    "    f /= f.std(axis=0)\n",
    "    lr.fit(f[train], labels[train])\n",
    "    p = lr.predict(f[test])\n",
    "    bas_all.append(crowdastro.crowd.util.balanced_accuracy(labels[test], p))\n",
    "print(numpy.mean(bas_all), numpy.std(bas_all))"
   ]
  },
  {
   "cell_type": "code",
   "execution_count": 28,
   "metadata": {},
   "outputs": [
    {
     "data": {
      "text/plain": [
       "[0.20804105640636134,\n",
       " -0.21774015580042197,\n",
       " -0.35497569981104871,\n",
       " 0.13257619859275122,\n",
       " -2.4503358849367789,\n",
       " -0.4137405445307476,\n",
       " 0.19434280406804824,\n",
       " 0.042171695507318287,\n",
       " 0.43063967035838507,\n",
       " 0.21440396177362994,\n",
       " -0.2226582290557802]"
      ]
     },
     "execution_count": 28,
     "metadata": {},
     "output_type": "execute_result"
    }
   ],
   "source": [
    "list(lr.coef_.ravel()[:5]) + list(lr.coef_.ravel()[-6:])"
   ]
  },
  {
   "cell_type": "code",
   "execution_count": null,
   "metadata": {
    "collapsed": true
   },
   "outputs": [],
   "source": []
  }
 ],
 "metadata": {
  "kernelspec": {
   "display_name": "Python 3",
   "language": "python",
   "name": "python3"
  },
  "language_info": {
   "codemirror_mode": {
    "name": "ipython",
    "version": 3
   },
   "file_extension": ".py",
   "mimetype": "text/x-python",
   "name": "python",
   "nbconvert_exporter": "python",
   "pygments_lexer": "ipython3",
   "version": "3.6.1"
  }
 },
 "nbformat": 4,
 "nbformat_minor": 2
}
