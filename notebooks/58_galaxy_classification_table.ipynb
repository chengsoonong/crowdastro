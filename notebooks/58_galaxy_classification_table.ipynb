{
 "cells": [
  {
   "cell_type": "markdown",
   "metadata": {},
   "source": [
    "# Galaxy Classification Table\n",
    "\n",
    "This notebook generates a LaTeX of galaxy classifications, combining classifications from Norris et al. (2006), Fan et al. (2015), and unweighted Radio Galaxy Zoo majority votes. We will want to add some machine learning predictions, too."
   ]
  },
  {
   "cell_type": "code",
   "execution_count": 8,
   "metadata": {
    "collapsed": true
   },
   "outputs": [],
   "source": [
    "import itertools\n",
    "\n",
    "import h5py\n",
    "import numpy"
   ]
  },
  {
   "cell_type": "markdown",
   "metadata": {},
   "source": [
    "## Norris, Fan, RGZ majority vote\n",
    "\n",
    "In this section, we load the Norris, Fan, and RGZ majority vote (MV) labels."
   ]
  },
  {
   "cell_type": "code",
   "execution_count": 4,
   "metadata": {
    "collapsed": true
   },
   "outputs": [],
   "source": [
    "with h5py.File('../data/crowdastro.h5') as crowdastro_h5:\n",
    "    with h5py.File('../data/training.h5') as training_h5:\n",
    "        rgz_mv = training_h5['labels'].value\n",
    "        fan = crowdastro_h5['/wise/cdfs/fan_labels'].value\n",
    "        norris = crowdastro_h5['/wise/cdfs/norris_labels'].value\n",
    "        names = crowdastro_h5['/wise/cdfs/string'].value"
   ]
  },
  {
   "cell_type": "code",
   "execution_count": 5,
   "metadata": {
    "collapsed": true
   },
   "outputs": [],
   "source": [
    "assert len(norris) == len(fan) and len(fan) == len(rgz_mv) and len(rgz_mv) == len(names)"
   ]
  },
  {
   "cell_type": "code",
   "execution_count": 9,
   "metadata": {
    "collapsed": false
   },
   "outputs": [
    {
     "name": "stdout",
     "output_type": "stream",
     "text": [
      "\\begin{tabular}{l|lll}\n",
      "\\hline\\hline\n",
      "J032559.17-284724.3 & False & False & False\\\\\n",
      "J032559.98-284730.8 & False & False & False\\\\\n",
      "J032600.16-284637.7 & False & False & False\\\\\n",
      "J032600.18-284715.8 & False & False & False\\\\\n",
      "J032601.01-284709.8 & False & False & False\\\\\n",
      "J032601.28-284144.7 & False & False & False\\\\\n",
      "J032601.63-284130.7 & False & False & False\\\\\n",
      "J032601.78-284614.5 & False & False & False\\\\\n",
      "J032601.94-284734.7 & False & False & False\\\\\n",
      "J032602.02-284657.0 & False & False & False\\\\\n",
      "\\end{tabular}\n"
     ]
    }
   ],
   "source": [
    "print('\\\\begin{tabular}{l|lll}') \n",
    "print('\\\\hline\\\\hline')\n",
    "for name, nl, fl, rl in itertools.islice(zip(names, norris, fan, rgz_mv), 10):\n",
    "    print('{} & {} & {} & {}\\\\\\\\'.format(\n",
    "            name.decode('ascii'),\n",
    "            bool(nl),\n",
    "            bool(fl),\n",
    "            bool(rl)))\n",
    "print('\\\\end{tabular}')"
   ]
  },
  {
   "cell_type": "code",
   "execution_count": null,
   "metadata": {
    "collapsed": true
   },
   "outputs": [],
   "source": []
  }
 ],
 "metadata": {
  "kernelspec": {
   "display_name": "Python 3",
   "language": "python",
   "name": "python3"
  },
  "language_info": {
   "codemirror_mode": {
    "name": "ipython",
    "version": 3
   },
   "file_extension": ".py",
   "mimetype": "text/x-python",
   "name": "python",
   "nbconvert_exporter": "python",
   "pygments_lexer": "ipython3",
   "version": "3.5.1"
  }
 },
 "nbformat": 4,
 "nbformat_minor": 0
}
