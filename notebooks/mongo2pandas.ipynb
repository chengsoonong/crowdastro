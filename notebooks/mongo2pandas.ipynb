{
 "cells": [
  {
   "cell_type": "markdown",
   "metadata": {},
   "source": [
    "# Extracting MongoDB data with Pandas"
   ]
  },
  {
   "cell_type": "code",
   "execution_count": 2,
   "metadata": {
    "collapsed": true
   },
   "outputs": [],
   "source": [
    "import numpy as np\n",
    "import pandas as pd\n",
    "from monary import Monary"
   ]
  },
  {
   "cell_type": "code",
   "execution_count": 3,
   "metadata": {
    "collapsed": true
   },
   "outputs": [],
   "source": [
    "db_name = 'radio'"
   ]
  },
  {
   "cell_type": "code",
   "execution_count": 5,
   "metadata": {
    "collapsed": false
   },
   "outputs": [],
   "source": [
    "features = ['_id', 'activated_at', 'classification_count', 'coords', 'created_at',\n",
    "           'location', 'metadata', 'project_id', 'random', 'state', 'updated_at', 'workflow_ids', 'zooinverse_id']\n",
    "with Monary() as m:\n",
    "    data = m.query(db_name, 'radio_subjects', {}, ['classification_count', 'state'], ['uint8', 'string:10'])\n",
    "df = pd.DataFrame(np.ma.filled(data).T, columns=['classification_count', 'state'])"
   ]
  },
  {
   "cell_type": "code",
   "execution_count": 6,
   "metadata": {
    "collapsed": false
   },
   "outputs": [
    {
     "data": {
      "text/html": [
       "<div>\n",
       "<table border=\"1\" class=\"dataframe\">\n",
       "  <thead>\n",
       "    <tr style=\"text-align: right;\">\n",
       "      <th></th>\n",
       "      <th>classification_count</th>\n",
       "      <th>state</th>\n",
       "    </tr>\n",
       "  </thead>\n",
       "  <tbody>\n",
       "    <tr>\n",
       "      <th>0</th>\n",
       "      <td>b'20'</td>\n",
       "      <td>b'complete'</td>\n",
       "    </tr>\n",
       "    <tr>\n",
       "      <th>1</th>\n",
       "      <td>b'20'</td>\n",
       "      <td>b'complete'</td>\n",
       "    </tr>\n",
       "    <tr>\n",
       "      <th>2</th>\n",
       "      <td>b'21'</td>\n",
       "      <td>b'complete'</td>\n",
       "    </tr>\n",
       "    <tr>\n",
       "      <th>3</th>\n",
       "      <td>b'20'</td>\n",
       "      <td>b'complete'</td>\n",
       "    </tr>\n",
       "    <tr>\n",
       "      <th>4</th>\n",
       "      <td>b'20'</td>\n",
       "      <td>b'complete'</td>\n",
       "    </tr>\n",
       "  </tbody>\n",
       "</table>\n",
       "</div>"
      ],
      "text/plain": [
       "  classification_count        state\n",
       "0                b'20'  b'complete'\n",
       "1                b'20'  b'complete'\n",
       "2                b'21'  b'complete'\n",
       "3                b'20'  b'complete'\n",
       "4                b'20'  b'complete'"
      ]
     },
     "execution_count": 6,
     "metadata": {},
     "output_type": "execute_result"
    }
   ],
   "source": [
    "df.head()"
   ]
  },
  {
   "cell_type": "code",
   "execution_count": 7,
   "metadata": {
    "collapsed": false
   },
   "outputs": [
    {
     "data": {
      "text/plain": [
       "[masked_array(data = [20 20 21 ..., 0 20 9],\n",
       "              mask = [False False False ..., False False False],\n",
       "        fill_value = 999999),\n",
       " masked_array(data = [b'complete' b'complete' b'complete' ..., b'inactive' b'complete'\n",
       "  b'complete'],\n",
       "              mask = [False False False ..., False False False],\n",
       "        fill_value = N/A)]"
      ]
     },
     "execution_count": 7,
     "metadata": {},
     "output_type": "execute_result"
    }
   ],
   "source": [
    "data"
   ]
  },
  {
   "cell_type": "markdown",
   "metadata": {
    "collapsed": true
   },
   "source": [
    "{u'_id': ObjectId('52af7d53eb9a9b05ef000001'),\n",
    " u'activated_at': datetime.datetime(2013, 12, 17, 17, 45, 13, 844000),\n",
    " u'classification_count': 20,\n",
    " u'coords': [206.419375, 23.382361111111113],\n",
    " u'created_at': datetime.datetime(2013, 12, 17, 9, 16, 38, 435000),\n",
    " u'location': {u'contours': u'http://radio.galaxyzoo.org/subjects/contours/52af7d53eb9a9b05ef000001.json',\n",
    "               u'radio': u'http://radio.galaxyzoo.org/subjects/radio/52af7d53eb9a9b05ef000001.jpg',\n",
    "               u'standard': u'http://radio.galaxyzoo.org/subjects/standard/52af7d53eb9a9b05ef000001.jpg'},\n",
    " u'metadata': {u'dec_dms': u'23.0 22.0 56.5',\n",
    "               u'ra_hms': u'13.0 45.0 40.65',\n",
    "               u'rms': u'0.000178',\n",
    "               u'source': u'FIRSTJ134540.6+232256'},\n",
    " u'project_id': ObjectId('52afdb804d69636532000001'),\n",
    " u'random': 0.5988090089044151,\n",
    " u'state': u'complete',\n",
    " u'updated_at': datetime.datetime(2013, 12, 17, 9, 16, 38, 468000),\n",
    " u'workflow_ids': [ObjectId('52afdb804d69636532000002')],\n",
    " u'zooniverse_id': u'ARG000255t'}"
   ]
  }
 ],
 "metadata": {
  "kernelspec": {
   "display_name": "Python 3",
   "language": "python",
   "name": "python3"
  },
  "language_info": {
   "codemirror_mode": {
    "name": "ipython",
    "version": 3
   },
   "file_extension": ".py",
   "mimetype": "text/x-python",
   "name": "python",
   "nbconvert_exporter": "python",
   "pygments_lexer": "ipython3",
   "version": "3.4.3"
  }
 },
 "nbformat": 4,
 "nbformat_minor": 0
}
