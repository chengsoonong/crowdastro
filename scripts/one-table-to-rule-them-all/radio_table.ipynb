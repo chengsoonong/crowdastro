{
 "cells": [
  {
   "cell_type": "markdown",
   "metadata": {},
   "source": [
    "# One Table To Rule Them All: Radio\n",
    "\n",
    "This notebook generates a table of radio components in the CDFS and ELAIS-S1 fields, according to various incarnations of the ATLAS survey. To run it, you will need a MongoDB server with the RGZ database loaded. All other data is fetched from the internet.\n",
    "\n",
    "In the following cell, specify the MongoDB server details:"
   ]
  },
  {
   "cell_type": "code",
   "execution_count": 1,
   "metadata": {
    "collapsed": true
   },
   "outputs": [],
   "source": [
    "MONGO_HOST = 'localhost'\n",
    "MONGO_PORT = 27017"
   ]
  },
  {
   "cell_type": "markdown",
   "metadata": {},
   "source": [
    "In this cell, specify if you have access to a crowdastro output file (crowdastro.h5), and if so, where it is:"
   ]
  },
  {
   "cell_type": "code",
   "execution_count": 2,
   "metadata": {
    "collapsed": true
   },
   "outputs": [],
   "source": [
    "USING_CROWDASTRO = True\n",
    "CROWDASTRO_PATH = 'crowdastro-swire.h5'\n",
    "# To get this file, run `crowdastro import_data --ir swire`."
   ]
  },
  {
   "cell_type": "markdown",
   "metadata": {},
   "source": [
    "In this cell, specify if you have access to a CSV of the Fan et al. (2015) cross-identifications, and if so, where it is:"
   ]
  },
  {
   "cell_type": "code",
   "execution_count": 3,
   "metadata": {
    "collapsed": true
   },
   "outputs": [],
   "source": [
    "USING_FAN = True\n",
    "FAN_PATH = 'J:/repos/crowdastro/data/fan_2015.csv'"
   ]
  },
  {
   "cell_type": "markdown",
   "metadata": {},
   "source": [
    "Next, we will fetch the resources we need."
   ]
  },
  {
   "cell_type": "code",
   "execution_count": 4,
   "metadata": {
    "collapsed": true
   },
   "outputs": [],
   "source": [
    "NORRIS_COMPONENTS_URI = 'http://www.atnf.csiro.au/people/rnorris/papers/n202/tab4.txt'\n",
    "NORRIS_CROSS_IDENTIFICATIONS_URI = 'http://www.atnf.csiro.au/people/rnorris/papers/n202/tab6.txt'\n",
    "MIDDELBERG_COMPONENTS_URI = 'http://iopscience.iop.org/article/10.1086/508275/fulltext/datafile4.txt'\n",
    "MIDDELBERG_CROSS_IDENTIFICATIONS_URI = 'http://iopscience.iop.org/article/10.1086/508275/fulltext/datafile6.txt'"
   ]
  },
  {
   "cell_type": "code",
   "execution_count": 5,
   "metadata": {
    "collapsed": false,
    "scrolled": true
   },
   "outputs": [
    {
     "data": {
      "text/html": [
       "&lt;Table length=784&gt;\n",
       "<table id=\"table2487139635328\">\n",
       "<thead><tr><th>#</th><th>Name</th><th>Radio RA</th><th>Radio dec</th><th>err(RA)</th><th>err(dec)</th><th>Peak Flux</th><th>Int flux</th><th>Bmaj</th><th>Bmin</th><th>Bpa</th><th>rms</th></tr></thead>\n",
       "<thead><tr><th>str4</th><th>str26</th><th>str11</th><th>str11</th><th>float64</th><th>float64</th><th>float64</th><th>float64</th><th>float64</th><th>float64</th><th>float64</th><th>float64</th></tr></thead>\n",
       "<tr><td>C001</td><td>ATCDFS_J032602.78-284709.0</td><td>3:26:02.785</td><td>-28:47:09.0</td><td>0.78</td><td>0.73</td><td>0.7</td><td>1.38</td><td>8.3</td><td>2.6</td><td>60.8</td><td>79.3</td></tr>\n",
       "<tr><td>C002</td><td>ATCDFS_J032604.15-275659.3</td><td>3:26:04.152</td><td>-27:56:59.3</td><td>0.55</td><td>0.9</td><td>0.71</td><td>1.97</td><td>11.5</td><td>7.3</td><td>-17.0</td><td>71.9</td></tr>\n",
       "<tr><td>C003</td><td>ATCDFS_J032605.68-274734.4</td><td>3:26:05.685</td><td>-27:47:34.4</td><td>0.1</td><td>0.11</td><td>40.81</td><td>74.7</td><td>5.9</td><td>5.6</td><td>85.7</td><td>119.1</td></tr>\n",
       "<tr><td>C004</td><td>ATCDFS_J032606.95-275332.2</td><td>3:26:06.955</td><td>-27:53:32.2</td><td>0.52</td><td>1.19</td><td>0.41</td><td>0.43</td><td>0.0</td><td>0.0</td><td>-1.0</td><td>76.7</td></tr>\n",
       "<tr><td>C005</td><td>ATCDFS_J032611.47-273243.8</td><td>3:26:11.475</td><td>-27:32:43.8</td><td>0.1</td><td>0.1</td><td>69.65</td><td>110.9</td><td>5.3</td><td>3.3</td><td>89.6</td><td>156.3</td></tr>\n",
       "<tr><td>C006</td><td>ATCDFS_J032613.70-281717.7</td><td>3:26:13.701</td><td>-28:17:17.7</td><td>0.57</td><td>0.79</td><td>0.48</td><td>0.54</td><td>0.0</td><td>0.0</td><td>0.0</td><td>77.7</td></tr>\n",
       "<tr><td>C007</td><td>ATCDFS_J032615.48-284629.2</td><td>3:26:15.489</td><td>-28:46:29.2</td><td>0.34</td><td>0.36</td><td>0.45</td><td>0.71</td><td>0.0</td><td>0.0</td><td>0.0</td><td>66.0</td></tr>\n",
       "<tr><td>C008</td><td>ATCDFS_J032615.55-280601.0</td><td>3:26:15.557</td><td>-28:06:01.0</td><td>0.3</td><td>0.47</td><td>0.73</td><td>1.06</td><td>0.0</td><td>0.0</td><td>-1.0</td><td>56.9</td></tr>\n",
       "<tr><td>C009</td><td>ATCDFS_J032616.35-280014.6</td><td>3:26:16.353</td><td>-28:00:14.6</td><td>0.18</td><td>0.3</td><td>1.24</td><td>1.66</td><td>0.0</td><td>0.0</td><td>-1.0</td><td>60.1</td></tr>\n",
       "<tr><td>C010</td><td>ATCDFS_J032616.41-271621.1</td><td>3:26:16.419</td><td>-27:16:21.1</td><td>0.15</td><td>0.23</td><td>4.17</td><td>7.84</td><td>9.1</td><td>2.8</td><td>-40.0</td><td>90.2</td></tr>\n",
       "<tr><td>...</td><td>...</td><td>...</td><td>...</td><td>...</td><td>...</td><td>...</td><td>...</td><td>...</td><td>...</td><td>...</td><td>...</td></tr>\n",
       "<tr><td>C775</td><td>ATCDFS_J033544.32-274323.3</td><td>3:35:44.326</td><td>-27:43:23.3</td><td>0.48</td><td>0.98</td><td>1.36</td><td>2.81</td><td>9.5</td><td>5.4</td><td>3.6</td><td>73.1</td></tr>\n",
       "<tr><td>C776</td><td>ATCDFS_J033544.35-282050.9</td><td>3:35:44.350</td><td>-28:20:50.9</td><td>0.35</td><td>0.77</td><td>0.67</td><td>1.24</td><td>9.6</td><td>4.3</td><td>-9.5</td><td>70.4</td></tr>\n",
       "<tr><td>C777</td><td>ATCDFS_J033544.96-274308.0</td><td>3:35:44.960</td><td>-27:43:08.0</td><td>0.41</td><td>0.8</td><td>0.58</td><td>1.31</td><td>9.4</td><td>6.2</td><td>16.0</td><td>71.5</td></tr>\n",
       "<tr><td>C778</td><td>ATCDFS_J033546.38-283805.2</td><td>3:35:46.383</td><td>-28:38:05.2</td><td>0.33</td><td>0.56</td><td>0.98</td><td>1.55</td><td>5.5</td><td>3.9</td><td>54.2</td><td>66.9</td></tr>\n",
       "<tr><td>C779</td><td>ATCDFS_J033548.20-284402.3</td><td>3:35:48.204</td><td>-28:44:02.3</td><td>0.12</td><td>0.15</td><td>7.09</td><td>12.37</td><td>6.2</td><td>4.6</td><td>-48.8</td><td>76.4</td></tr>\n",
       "<tr><td>C780</td><td>ATCDFS_J033549.15-274918.5</td><td>3:35:49.152</td><td>-27:49:18.5</td><td>0.12</td><td>0.16</td><td>6.01</td><td>10.97</td><td>6.7</td><td>5.3</td><td>22.2</td><td>79.5</td></tr>\n",
       "<tr><td>C781</td><td>ATCDFS_J033553.33-272740.4</td><td>3:35:53.336</td><td>-27:27:40.4</td><td>0.1</td><td>0.1</td><td>73.88</td><td>126.9</td><td>6.0</td><td>3.6</td><td>71.9</td><td>149.7</td></tr>\n",
       "<tr><td>C782</td><td>ATCDFS_J033553.48-275510.9</td><td>3:35:53.480</td><td>-27:55:10.9</td><td>0.35</td><td>0.62</td><td>0.59</td><td>0.99</td><td>5.8</td><td>4.5</td><td>-43.6</td><td>73.5</td></tr>\n",
       "<tr><td>C783</td><td>ATCDFS_J033553.58-280956.8</td><td>3:35:53.589</td><td>-28:09:56.8</td><td>0.16</td><td>0.4</td><td>0.46</td><td>0.51</td><td>0.0</td><td>0.0</td><td>0.0</td><td>61.2</td></tr>\n",
       "<tr><td>C784</td><td>ATCDFS_J033553.63-282923.5</td><td>3:35:53.634</td><td>-28:29:23.5</td><td>0.64</td><td>0.96</td><td>0.53</td><td>1.17</td><td>7.4</td><td>6.6</td><td>-61.2</td><td>80.0</td></tr>\n",
       "</table>"
      ],
      "text/plain": [
       "<Table length=784>\n",
       " #              Name              Radio RA  ...   Bmin    Bpa     rms  \n",
       "str4           str26               str11    ... float64 float64 float64\n",
       "---- -------------------------- ----------- ... ------- ------- -------\n",
       "C001 ATCDFS_J032602.78-284709.0 3:26:02.785 ...     2.6    60.8    79.3\n",
       "C002 ATCDFS_J032604.15-275659.3 3:26:04.152 ...     7.3   -17.0    71.9\n",
       "C003 ATCDFS_J032605.68-274734.4 3:26:05.685 ...     5.6    85.7   119.1\n",
       "C004 ATCDFS_J032606.95-275332.2 3:26:06.955 ...     0.0    -1.0    76.7\n",
       "C005 ATCDFS_J032611.47-273243.8 3:26:11.475 ...     3.3    89.6   156.3\n",
       "C006 ATCDFS_J032613.70-281717.7 3:26:13.701 ...     0.0     0.0    77.7\n",
       "C007 ATCDFS_J032615.48-284629.2 3:26:15.489 ...     0.0     0.0    66.0\n",
       "C008 ATCDFS_J032615.55-280601.0 3:26:15.557 ...     0.0    -1.0    56.9\n",
       "C009 ATCDFS_J032616.35-280014.6 3:26:16.353 ...     0.0    -1.0    60.1\n",
       "C010 ATCDFS_J032616.41-271621.1 3:26:16.419 ...     2.8   -40.0    90.2\n",
       " ...                        ...         ... ...     ...     ...     ...\n",
       "C775 ATCDFS_J033544.32-274323.3 3:35:44.326 ...     5.4     3.6    73.1\n",
       "C776 ATCDFS_J033544.35-282050.9 3:35:44.350 ...     4.3    -9.5    70.4\n",
       "C777 ATCDFS_J033544.96-274308.0 3:35:44.960 ...     6.2    16.0    71.5\n",
       "C778 ATCDFS_J033546.38-283805.2 3:35:46.383 ...     3.9    54.2    66.9\n",
       "C779 ATCDFS_J033548.20-284402.3 3:35:48.204 ...     4.6   -48.8    76.4\n",
       "C780 ATCDFS_J033549.15-274918.5 3:35:49.152 ...     5.3    22.2    79.5\n",
       "C781 ATCDFS_J033553.33-272740.4 3:35:53.336 ...     3.6    71.9   149.7\n",
       "C782 ATCDFS_J033553.48-275510.9 3:35:53.480 ...     4.5   -43.6    73.5\n",
       "C783 ATCDFS_J033553.58-280956.8 3:35:53.589 ...     0.0     0.0    61.2\n",
       "C784 ATCDFS_J033553.63-282923.5 3:35:53.634 ...     6.6   -61.2    80.0"
      ]
     },
     "execution_count": 5,
     "metadata": {},
     "output_type": "execute_result"
    }
   ],
   "source": [
    "# Load Norris components.\n",
    "import requests, io, astropy.io.ascii as asc, astropy.table, pandas\n",
    "norris_components = astropy.table.Table.from_pandas(\n",
    "    pandas.read_fwf(\n",
    "        io.StringIO(\n",
    "            requests.get(NORRIS_COMPONENTS_URI).text\n",
    "        ),\n",
    "        skiprows=[0, 2],\n",
    "        header=0,\n",
    "        widths=map(len, [\n",
    "                '   # ',\n",
    "                'Name                       ',\n",
    "                'Radio RA     ',\n",
    "                'Radio dec  ',\n",
    "                'err(RA) ',\n",
    "                'err(dec) ',\n",
    "                'Peak Flux  ',\n",
    "                'Int flux   ',\n",
    "                'Bmaj   ',\n",
    "                'Bmin   ',\n",
    "                ' Bpa      ',\n",
    "                ' rms  ',\n",
    "            ])\n",
    "    )\n",
    ")\n",
    "norris_components"
   ]
  },
  {
   "cell_type": "code",
   "execution_count": 7,
   "metadata": {
    "collapsed": false,
    "scrolled": false
   },
   "outputs": [
    {
     "data": {
      "text/html": [
       "&lt;Table masked=True length=10&gt;\n",
       "<table id=\"table2487142384752\">\n",
       "<thead><tr><th>#</th><th>Name</th><th>Component</th><th>SWIRE</th><th>Radio RA</th><th>Radio dec</th><th>20cm</th><th>3.6µm</th><th>4.5µm</th><th>5.8µm</th><th>8.0µm</th><th>24µm</th><th>U</th><th>G</th><th>R</th><th>I</th><th>Z</th><th>z(sp)</th><th>ID</th><th>Class</th><th>Basis</th></tr></thead>\n",
       "<thead><tr><th>str4</th><th>str26</th><th>str19</th><th>str26</th><th>str11</th><th>str12</th><th>float64</th><th>float64</th><th>str8</th><th>str8</th><th>str8</th><th>float64</th><th>float64</th><th>float64</th><th>float64</th><th>float64</th><th>float64</th><th>float64</th><th>int64</th><th>str4</th><th>str3</th></tr></thead>\n",
       "<tr><td>S701</td><td>ATCDFS_J033529.42-285156.5</td><td>C753</td><td>SWIRE3_J033529.46-285154.5</td><td>3:35:29.424</td><td>-28:51:56.54</td><td>1.7</td><td>716.0</td><td>521.4</td><td>194.3</td><td>146.7</td><td>-1.0</td><td>20.6</td><td>18.8</td><td>17.5</td><td>16.7</td><td>16.4</td><td>--</td><td>3</td><td>--</td><td>--</td></tr>\n",
       "<tr><td>S702</td><td>ATCDFS_J033530.22-281108.4</td><td>C754</td><td>SWIRE3_J033530.19-281108.5</td><td>3:35:30.229</td><td>-28:11:08.45</td><td>0.8</td><td>32.2</td><td>38.5</td><td>-1.0</td><td>56.2</td><td>376.3</td><td>99.0</td><td>99.0</td><td>99.0</td><td>99.0</td><td>99.0</td><td>--</td><td>1</td><td>AGN</td><td>b</td></tr>\n",
       "<tr><td>S703</td><td>ATCDFS_J033531.02-272702.2</td><td>C755</td><td>--</td><td>3:35:31.025</td><td>-27:27:02.20</td><td>26.1</td><td>--</td><td>--</td><td>--</td><td>--</td><td>--</td><td>--</td><td>--</td><td>--</td><td>--</td><td>--</td><td>--</td><td>9</td><td>--</td><td>--</td></tr>\n",
       "<tr><td>S704</td><td>ATCDFS_J033532.11-274547.6</td><td>C756</td><td>SWIRE3_J033532.11-274545.2</td><td>3:35:32.115</td><td>-27:45:47.61</td><td>2.2</td><td>164.4</td><td>84.6</td><td>55.3</td><td>40.6</td><td>-1.0</td><td>--</td><td>--</td><td>--</td><td>--</td><td>--</td><td>--</td><td>3</td><td>--</td><td>--</td></tr>\n",
       "<tr><td>S705</td><td>ATCDFS_J033532.19-284801.0</td><td>C757</td><td>SWIRE3_J033532.19-284801.1</td><td>3:35:32.192</td><td>-28:48:01.08</td><td>0.9</td><td>222.5</td><td>417.8</td><td>1084.8</td><td>2999.4</td><td>10830.1</td><td>99.0</td><td>24.2</td><td>22.0</td><td>20.7</td><td>20.1</td><td>--</td><td>1</td><td>--</td><td>--</td></tr>\n",
       "<tr><td>S706</td><td>ATCDFS_J033533.22-280621.8</td><td>C758</td><td>--</td><td>3:35:33.224</td><td>-28:06:21.85</td><td>0.3</td><td>--</td><td>--</td><td>--</td><td>--</td><td>--</td><td>--</td><td>--</td><td>--</td><td>--</td><td>--</td><td>--</td><td>9</td><td>--</td><td>--</td></tr>\n",
       "<tr><td>S707</td><td>ATCDFS_J033533.96-273313.4</td><td>C759,C760,C761,C764</td><td>SWIRE3_J033533.90-273310.9</td><td>3:35:33.963</td><td>-27:33:13.46</td><td>9.4</td><td>451.6</td><td>512.5</td><td>724.7</td><td>966.6</td><td>2208.2</td><td>--</td><td>19.8</td><td>19.5</td><td>18.9</td><td>--</td><td>--</td><td>3</td><td>AGN</td><td>b</td></tr>\n",
       "<tr><td>S708</td><td>ATCDFS_J033534.47-284213.3</td><td>C763</td><td>SWIRE3_J033534.66-284221.7</td><td>3:35:34.479</td><td>-28:42:13.31</td><td>0.5</td><td>79.8</td><td>53.1</td><td>-1.0</td><td>44.3</td><td>-1.0</td><td>99.0</td><td>22.7</td><td>21.3</td><td>20.4</td><td>19.9</td><td>--</td><td>4</td><td>--</td><td>--</td></tr>\n",
       "<tr><td>S709</td><td>ATCDFS_J033535.20-281729.0</td><td>C762,C765</td><td>SWIRE3_J033535.20-281729.0</td><td>3:35:35.20</td><td>-28:17:29.00</td><td>8.4</td><td>34.5</td><td>25.3</td><td>-1.0</td><td>-1.0</td><td>-1.0</td><td>99.0</td><td>99.0</td><td>99.0</td><td>22.6</td><td>21.9</td><td>--</td><td>-1</td><td>AGN</td><td>a</td></tr>\n",
       "<tr><td>S710</td><td>ATCDFS_J033536.48-282618.2</td><td>C766</td><td>(154935)</td><td>3:35:36.488</td><td>-28:26:18.27</td><td>0.3</td><td>4.1</td><td>-1.0</td><td>-1.0</td><td>-1.0</td><td>-1.0</td><td>99.0</td><td>99.0</td><td>99.0</td><td>99.0</td><td>99.0</td><td>--</td><td>1</td><td>--</td><td>--</td></tr>\n",
       "</table>"
      ],
      "text/plain": [
       "<Table masked=True length=10>\n",
       " #              Name                 Component      ...   ID  Class Basis\n",
       "str4           str26                   str19        ... int64  str4  str3\n",
       "---- -------------------------- ------------------- ... ----- ----- -----\n",
       "S701 ATCDFS_J033529.42-285156.5                C753 ...     3    --    --\n",
       "S702 ATCDFS_J033530.22-281108.4                C754 ...     1   AGN     b\n",
       "S703 ATCDFS_J033531.02-272702.2                C755 ...     9    --    --\n",
       "S704 ATCDFS_J033532.11-274547.6                C756 ...     3    --    --\n",
       "S705 ATCDFS_J033532.19-284801.0                C757 ...     1    --    --\n",
       "S706 ATCDFS_J033533.22-280621.8                C758 ...     9    --    --\n",
       "S707 ATCDFS_J033533.96-273313.4 C759,C760,C761,C764 ...     3   AGN     b\n",
       "S708 ATCDFS_J033534.47-284213.3                C763 ...     4    --    --\n",
       "S709 ATCDFS_J033535.20-281729.0           C762,C765 ...    -1   AGN     a\n",
       "S710 ATCDFS_J033536.48-282618.2                C766 ...     1    --    --"
      ]
     },
     "execution_count": 7,
     "metadata": {},
     "output_type": "execute_result"
    }
   ],
   "source": [
    "# Load Norris cross-identifications.\n",
    "# This table has inconsistent tabs, so we will have to convert them to \"soft tabs\".\n",
    "def replace_tabs(s, tabstop=8):\n",
    "    \"\"\"Convert tabs to spaces.\"\"\"\n",
    "    out = ''\n",
    "    upto = 0\n",
    "    last = None\n",
    "    for c in s:\n",
    "        if c == '\\t':\n",
    "            # Fill up to next tabstop.\n",
    "            diff = tabstop - upto % tabstop\n",
    "            if diff == 0:\n",
    "                diff = tabstop\n",
    "            out += ' ' * diff\n",
    "            upto += diff\n",
    "            last = c\n",
    "            continue\n",
    "        \n",
    "        last = c\n",
    "        out += c\n",
    "        upto += 1\n",
    "\n",
    "    return out\n",
    "\n",
    "test_input = ('S001\tATCDFS_J032602.78-284709.0\tC001\t            SWIRE3_J032603.15-284708.5\t3:26:02.785\t-28:47:09.06\t1.4\t33.8\t21.1\t-1.0\t-1.0\t-1.0\t\t\t\t\t\t \t4\t\t\t\t\tlooks like a group in irac 1')\n",
    "test_output = ('S001    ATCDFS_J032602.78-284709.0      C001                SWIRE3_J032603.15-284708.5  3:26:02.785     -28:47:09.06    1.4     33.8    21.1    -1.0    -1.0    -1.0                                                    4                                       looks like a group in irac 1')\n",
    "\n",
    "assert test_output == replace_tabs(test_input)\n",
    "\n",
    "\n",
    "norris_cross_identifications = astropy.table.Table.from_pandas(\n",
    "    pandas.read_fwf(\n",
    "        io.StringIO(\n",
    "            '\\n'.join(map(\n",
    "                    lambda s: replace_tabs(s, 8),\n",
    "                    requests.get(NORRIS_CROSS_IDENTIFICATIONS_URI).text.split('\\r\\n'))\n",
    "             )\n",
    "        ),\n",
    "        skiprows=[0, 2],\n",
    "        header=0,\n",
    "        widths=[8, 32, 20, 28, 16, 16, 8, 8, 8, 8, 8, 8, 8, 8, 8, 8, 8, 8, 16, 8, 16]\n",
    "    )\n",
    ")\n",
    "norris_cross_identifications[700:710]"
   ]
  },
  {
   "cell_type": "code",
   "execution_count": 8,
   "metadata": {
    "collapsed": false
   },
   "outputs": [
    {
     "name": "stdout",
     "output_type": "stream",
     "text": [
      "Downloading http://iopscience.iop.org/article/10.1086/508275/fulltext/datafile4.txt [Done]\n",
      " ID             Name            RAh RAm  RAs  DE- DEd  DEm    DEs   e_RAs  e_DEs  PFlux IFlux MajAxis MinAxis PosAng rms  Com\n",
      "                                 h  min   s       deg arcmin arcsec arcsec arcsec  mJy   mJy   arcsec  arcsec  deg   uJy     \n",
      "---- -------------------------- --- --- ----- --- --- ------ ------ ------ ------ ----- ----- ------- ------- ------ ---- ---\n",
      "C001 ATCDFS_J032602.78-284709.0   3  26 2.785   -  28     47    9.0   0.78   0.73   0.7  1.38     8.3     2.6   60.8 79.3  --\n",
      "Downloading http://iopscience.iop.org/article/10.1086/508275/fulltext/datafile6.txt [Done]\n",
      " ID             Name            CID            SName            RAh RAm  RAs  DE- DEd  DEm    DEs   F20 F3.6 F4.5 F5.8 F8.0 F24  umag gmag rmag Imag zmag  z  Type Class f_Class             Comm            \n",
      "                                                                 h  min   s       deg arcmin arcsec mJy uJy  uJy  uJy  uJy  uJy  mag  mag  mag  mag  mag                                                     \n",
      "---- -------------------------- ---- -------------------------- --- --- ----- --- --- ------ ------ --- ---- ---- ---- ---- ---- ---- ---- ---- ---- ---- --- ---- ----- ------- ----------------------------\n",
      "S001 ATCDFS_J032602.78-284709.0 C001 SWIRE3_J032603.15-284708.5   3  26 2.785   -  28     47   9.06 1.4 33.8 21.1 -1.0 -1.0 -1.0   --   --   --   --   --  --    4    --      -- looks like a group in irac 1\n"
     ]
    }
   ],
   "source": [
    "# Load Middelberg tables.\n",
    "middelberg_components = asc.read(MIDDELBERG_COMPONENTS_URI)\n",
    "print(middelberg_components[0])\n",
    "middelberg_cross_identifications = asc.read(MIDDELBERG_CROSS_IDENTIFICATIONS_URI)\n",
    "print(middelberg_cross_identifications[0])"
   ]
  },
  {
   "cell_type": "code",
   "execution_count": 9,
   "metadata": {
    "collapsed": false
   },
   "outputs": [],
   "source": [
    "# Convert Middelberg data into columns. There's no catalogue matching to do here so we can\n",
    "# throw everything in right away.\n",
    "import astropy.coordinates\n",
    "\n",
    "_middelberg_component_ids = middelberg_components['ID']\n",
    "_middelberg_component_names = middelberg_components['Name']\n",
    "_middelberg_component_positions = [\n",
    "    astropy.coordinates.SkyCoord(ra=(r['RAh'], r['RAm'], r['RAs']),\n",
    "                                 dec=(-r['DEd'], r['DEm'], r['DEs']),\n",
    "                                 unit=('hourangle', 'deg'))\n",
    "    for r in middelberg_components\n",
    "]\n",
    "_middelberg_component_ras = [r.ra.deg for r in _middelberg_component_positions]\n",
    "_middelberg_component_decs = [r.dec.deg for r in _middelberg_component_positions]\n",
    "\n",
    "_middelberg_source_ids = middelberg_components['ID']\n",
    "_middelberg_cid_to_source_id = {}\n",
    "_middelberg_cid_to_source_name = {}\n",
    "_middelberg_cid_to_swire = {}\n",
    "_middelberg_cid_to_source_z = {}\n",
    "_middelberg_cid_to_source_ra = {}\n",
    "_middelberg_cid_to_source_dec = {}\n",
    "for row in middelberg_cross_identifications:\n",
    "    for component in row['CID'].split(','):\n",
    "        component = component.strip()\n",
    "        _middelberg_cid_to_source_id[component] = row['ID']\n",
    "        _middelberg_cid_to_source_name[component] = row['Name']\n",
    "        _middelberg_cid_to_swire[component] = row['SName']\n",
    "        _middelberg_cid_to_source_z[component] = row['z']\n",
    "        pos = astropy.coordinates.SkyCoord(ra=(row['RAh'], row['RAm'], row['RAs']),\n",
    "                                           dec=(-row['DEd'], row['DEm'], row['DEs']),\n",
    "                                           unit=('hourangle', 'deg'))\n",
    "        _middelberg_cid_to_source_ra[component] = pos.ra.deg\n",
    "        _middelberg_cid_to_source_dec[component] = pos.dec.deg\n",
    "\n",
    "_middelberg_component_source_ids = [_middelberg_cid_to_source_id[c] for c in _middelberg_component_ids]\n",
    "_middelberg_component_source_names = [_middelberg_cid_to_source_name[c] for c in _middelberg_component_ids]\n",
    "_middelberg_component_swires = [_middelberg_cid_to_swire[c] for c in _middelberg_component_ids]\n",
    "_middelberg_component_source_zs = [_middelberg_cid_to_source_z[c] for c in _middelberg_component_ids]\n",
    "_middelberg_component_source_ras = [_middelberg_cid_to_source_ra[c] for c in _middelberg_component_ids]\n",
    "_middelberg_component_source_decs = [_middelberg_cid_to_source_dec[c] for c in _middelberg_component_ids]"
   ]
  },
  {
   "cell_type": "code",
   "execution_count": 10,
   "metadata": {
    "collapsed": false
   },
   "outputs": [],
   "source": [
    "# Load RGZ.\n",
    "import pymongo, numpy\n",
    "\n",
    "client = pymongo.MongoClient(MONGO_HOST, MONGO_PORT)\n",
    "db = client['radio']\n",
    "\n",
    "_rgz_sources = []\n",
    "_rgz_coords = []\n",
    "_rgz_zids = []\n",
    "\n",
    "for subject in db.radio_subjects.find({'metadata.survey': 'atlas'}):\n",
    "    source = subject['metadata']['source']\n",
    "    ra, dec = subject['coords']\n",
    "    zid = subject['zooniverse_id']\n",
    "    _rgz_sources.append(source)\n",
    "    _rgz_coords.append((ra, dec))\n",
    "    _rgz_zids.append(zid)\n",
    "\n",
    "_rgz_coords = numpy.array(_rgz_coords)"
   ]
  },
  {
   "cell_type": "code",
   "execution_count": 11,
   "metadata": {
    "collapsed": false
   },
   "outputs": [],
   "source": [
    "# Load consensuses from crowdastro.\n",
    "import h5py\n",
    "with h5py.File(CROWDASTRO_PATH, 'r') as crowdastro_h5:\n",
    "    # (atlas_i, ir_i, success, percentage)\n",
    "    _crowdastro_consensus_objects = crowdastro_h5['/atlas/cdfs/consensus_objects']\n",
    "    _crowdastro_zids = [r[0].decode('ascii') for r in crowdastro_h5['/atlas/cdfs/string']]\n",
    "    _crowdastro_swire_names = [r.decode('ascii') for r in crowdastro_h5['/swire/cdfs/string']]\n",
    "    _crowdastro_zid_to_swire = {}\n",
    "    for atlas_i, ir_i, success, percentage in _crowdastro_consensus_objects:\n",
    "        _crowdastro_zid_to_swire[_crowdastro_zids[int(atlas_i)]] = _crowdastro_swire_names[int(ir_i)]"
   ]
  },
  {
   "cell_type": "code",
   "execution_count": 12,
   "metadata": {
    "collapsed": false
   },
   "outputs": [],
   "source": [
    "# Match RGZ to Norris.\n",
    "import scipy.spatial\n",
    "_rgz_zid_to_norris = {}  # Maps ZID -> Norris CID\n",
    "_norris_cids = [r['#'] for r in norris_components]\n",
    "_norris_coords = [astropy.coordinates.SkyCoord(\n",
    "    ra=r['Radio RA'],\n",
    "    dec=r['Radio dec'],\n",
    "    unit=('hourangle', 'deg')) for r in norris_components]\n",
    "\n",
    "_norris_coords = numpy.array([(p.ra.deg, p.dec.deg) for p in _norris_coords])\n",
    "_norris_tree = scipy.spatial.KDTree(_norris_coords)\n",
    "# Assume that there are no situations where one Norris component maps to multiple RGZ components (and vice versa).\n",
    "_dists, _indices = _norris_tree.query(_rgz_coords)\n",
    "_matches = _dists < 3 / 60 / 60\n",
    "\n",
    "for zid, match, index in zip(_rgz_zids, _matches, _indices):\n",
    "    if not match:\n",
    "        continue\n",
    "    \n",
    "    _rgz_zid_to_norris[zid] = _norris_cids[index]\n",
    "_norris_to_rgz_zid = {j:i for i, j in _rgz_zid_to_norris.items()}"
   ]
  },
  {
   "cell_type": "code",
   "execution_count": 13,
   "metadata": {
    "collapsed": false
   },
   "outputs": [],
   "source": [
    "# Load Fan.\n",
    "fan_cross_identifications = asc.read(FAN_PATH, header_start=0, delimiter=',')\n",
    "_fan_source_ids = fan_cross_identifications['id']\n",
    "_fan_id_to_swire = {r['id']:r['swire'] for r in fan_cross_identifications}\n",
    "# Assuming that CID in Fan = CID in Norris.\n",
    "_fan_component_to_source = {}\n",
    "_fan_component_to_swire = {}\n",
    "for row in fan_cross_identifications:\n",
    "    components = row['radios'].split(',')\n",
    "    for component in components:\n",
    "        component = component.strip()\n",
    "        _fan_component_to_source[component] = row['id']\n",
    "        _fan_component_to_swire[component] = row['swire']"
   ]
  },
  {
   "cell_type": "markdown",
   "metadata": {
    "collapsed": false
   },
   "source": [
    "Now, we can construct the table. We will have the following columns:\n",
    "\n",
    "- Key\n",
    "- Component ID (Norris)\n",
    "- Source ID (Norris)\n",
    "- Source Name (Norris)\n",
    "- SWIRE Name (Norris)\n",
    "- RA (Norris)\n",
    "- Dec (Norris)\n",
    "- Source RA (Norris)\n",
    "- Source Dec (Norris)\n",
    "- Component ID (RGZ)\n",
    "- Zooniverse ID (RGZ)\n",
    "- SWIRE Name (RGZ-MV)\n",
    "- RA (RGZ)\n",
    "- Dec (RGZ)\n",
    "- Source ID (Fan)\n",
    "- SWIRE Name (Fan)\n",
    "- Component ID (Middelberg)\n",
    "- Component Name (Middelberg)\n",
    "- RA (Middelberg)\n",
    "- Dec (Middelberg)\n",
    "- Source ID (Middelberg)\n",
    "- Source Name (Middelberg)\n",
    "- SWIRE Name (Middelberg)\n",
    "- Source RA (Middelberg)\n",
    "- Source Dec (Middelberg)\n",
    "- Source Redshift (Middelberg)"
   ]
  },
  {
   "cell_type": "code",
   "execution_count": 14,
   "metadata": {
    "collapsed": true
   },
   "outputs": [],
   "source": [
    "columns = [\n",
    "    'Key', 'Component ID (Norris)', 'Source ID (Norris)', 'Source Name (Norris)',\n",
    "    'SWIRE Name (Norris)', 'RA (Norris)', 'Dec (Norris)', 'Source RA (Norris)', 'Source Dec (Norris)',\n",
    "    'Component ID (RGZ)', 'Zooniverse ID (RGZ)', 'SWIRE Name (RGZ)', 'RA (RGZ)', 'Dec (RGZ)',\n",
    "    'Source ID (Fan)', 'SWIRE Name (Fan)',\n",
    "    'Component ID (Middelberg)', 'Component Name (Middelberg)', 'RA (Middelberg)',\n",
    "    'Dec (Middelberg)', 'Source ID (Middelberg)', 'Source Name (Middelberg)',\n",
    "    'SWIRE Name (Middelberg)', 'Source RA (Middelberg)', 'Source Dec (Middelberg)',\n",
    "    'Source Redshift (Middelberg)',\n",
    "]\n",
    "\n"
   ]
  },
  {
   "cell_type": "code",
   "execution_count": 15,
   "metadata": {
    "collapsed": false,
    "scrolled": false
   },
   "outputs": [
    {
     "data": {
      "text/html": [
       "&lt;Table length=3491&gt;\n",
       "<table id=\"table2487176239480\">\n",
       "<thead><tr><th>Key</th><th>Component ID (Norris)</th><th>Source ID (Norris)</th><th>Source Name (Norris)</th><th>SWIRE Name (Norris)</th><th>RA (Norris)</th><th>Dec (Norris)</th><th>Source RA (Norris)</th><th>Source Dec (Norris)</th><th>Component ID (RGZ)</th><th>Zooniverse ID (RGZ)</th><th>SWIRE Name (RGZ)</th><th>RA (RGZ)</th><th>Dec (RGZ)</th><th>Source ID (Fan)</th><th>SWIRE Name (Fan)</th><th>Component ID (Middelberg)</th><th>Component Name (Middelberg)</th><th>RA (Middelberg)</th><th>Dec (Middelberg)</th><th>Source ID (Middelberg)</th><th>Source Name (Middelberg)</th><th>SWIRE Name (Middelberg)</th><th>Source RA (Middelberg)</th><th>Source Dec (Middelberg)</th><th>Source Redshift (Middelberg)</th></tr></thead>\n",
       "<thead><tr><th>int32</th><th>str4</th><th>str4</th><th>str26</th><th>str32</th><th>str32</th><th>str32</th><th>str32</th><th>str32</th><th>str8</th><th>str10</th><th>str26</th><th>str32</th><th>str32</th><th>str11</th><th>str26</th><th>str4</th><th>str26</th><th>str18</th><th>str19</th><th>str4</th><th>str26</th><th>str32</th><th>str18</th><th>str19</th><th>str32</th></tr></thead>\n",
       "<tr><td>0</td><td>C001</td><td>S001</td><td>ATCDFS_J032602.78-284709.0</td><td>SWIRE3_J032603.15-284708.5</td><td>51.511604166666665</td><td>-28.785833333333336</td><td>51.511604166666665</td><td>-28.78585</td><td>CI0412</td><td>ARG0003rb2</td><td>SWIRE3_J032602.36-284711.5</td><td>51.511734</td><td>-28.785575</td><td>91</td><td>SWIRE3_J032603.15-284708.5</td><td></td><td></td><td></td><td></td><td></td><td></td><td></td><td></td><td></td><td></td></tr>\n",
       "<tr><td>1</td><td>C002</td><td>S002</td><td>ATCDFS_J032604.15-275659.3</td><td>--</td><td>51.5173</td><td>-27.949805555555557</td><td>51.5173</td><td>-27.949830555555558</td><td></td><td></td><td></td><td></td><td></td><td></td><td></td><td></td><td></td><td></td><td></td><td></td><td></td><td></td><td></td><td></td><td></td></tr>\n",
       "<tr><td>2</td><td>C003</td><td>S003</td><td>ATCDFS_J032605.68-274734.4</td><td>--</td><td>51.5236875</td><td>-27.79288888888889</td><td>51.5236875</td><td>-27.792911111111113</td><td></td><td></td><td></td><td></td><td></td><td></td><td></td><td></td><td></td><td></td><td></td><td></td><td></td><td></td><td></td><td></td><td></td></tr>\n",
       "<tr><td>3</td><td>C004</td><td>S004</td><td>ATCDFS_J032606.95-275332.2</td><td>--</td><td>51.528979166666666</td><td>-27.892277777777778</td><td>51.528979166666666</td><td>-27.892294444444445</td><td></td><td></td><td></td><td></td><td></td><td></td><td></td><td></td><td></td><td></td><td></td><td></td><td></td><td></td><td></td><td></td><td></td></tr>\n",
       "<tr><td>4</td><td>C005</td><td>S005</td><td>ATCDFS_J032611.47-273243.8</td><td>--</td><td>51.5478125</td><td>-27.5455</td><td>51.5478125</td><td>-27.54550277777778</td><td></td><td></td><td></td><td></td><td></td><td></td><td></td><td></td><td></td><td></td><td></td><td></td><td></td><td></td><td></td><td></td><td></td></tr>\n",
       "<tr><td>5</td><td>C006</td><td>S006</td><td>ATCDFS_J032613.70-281717.7</td><td>(441298)</td><td>51.557087499999994</td><td>-28.28825</td><td>51.557087499999994</td><td>-28.288252777777778</td><td></td><td></td><td></td><td></td><td></td><td></td><td></td><td></td><td></td><td></td><td></td><td></td><td></td><td></td><td></td><td></td><td></td></tr>\n",
       "<tr><td>6</td><td>C007</td><td>S007</td><td>ATCDFS_J032615.48-284629.2</td><td>SWIRE3_J032615.41-284630.7</td><td>51.5645375</td><td>-28.77477777777778</td><td>51.5645375</td><td>-28.77478888888889</td><td>CI0614</td><td>ARG0003rfr</td><td>SWIRE3_J032615.41-284630.7</td><td>51.564555</td><td>-28.774847</td><td>153</td><td>SWIRE3_J032615.41-284630.7</td><td></td><td></td><td></td><td></td><td></td><td></td><td></td><td></td><td></td><td></td></tr>\n",
       "<tr><td>7</td><td>C008</td><td>S008</td><td>ATCDFS_J032615.55-280601.0</td><td>SWIRE3_J032615.52-280559.8</td><td>51.564820833333336</td><td>-28.10027777777778</td><td>51.564820833333336</td><td>-28.100291666666667</td><td>CI0320</td><td>ARG0003r8s</td><td>SWIRE3_J032615.52-280559.8</td><td>51.564799</td><td>-28.099955</td><td>156</td><td>SWIRE3_J032615.52-280559.8</td><td></td><td></td><td></td><td></td><td></td><td></td><td></td><td></td><td></td><td></td></tr>\n",
       "<tr><td>8</td><td>C009</td><td>S009</td><td>ATCDFS_J032616.35-280014.6</td><td>SWIRE3_J032616.31-280014.7</td><td>51.5681375</td><td>-28.004055555555556</td><td>51.5681375</td><td>-28.004058333333333</td><td></td><td></td><td></td><td></td><td></td><td>996</td><td>SWIRE3_J032616.31-280014.7</td><td></td><td></td><td></td><td></td><td></td><td></td><td></td><td></td><td></td><td></td></tr>\n",
       "<tr><td>9</td><td>C010</td><td>S010</td><td>ATCDFS_J032616.41-271621.1</td><td>--</td><td>51.568412499999994</td><td>-27.27252777777778</td><td>51.568412499999994</td><td>-27.27252777777778</td><td></td><td></td><td></td><td></td><td></td><td></td><td></td><td></td><td></td><td></td><td></td><td></td><td></td><td></td><td></td><td></td><td></td></tr>\n",
       "<tr><td>...</td><td>...</td><td>...</td><td>...</td><td>...</td><td>...</td><td>...</td><td>...</td><td>...</td><td>...</td><td>...</td><td>...</td><td>...</td><td>...</td><td>...</td><td>...</td><td>...</td><td>...</td><td>...</td><td>...</td><td>...</td><td>...</td><td>...</td><td>...</td><td>...</td><td>...</td></tr>\n",
       "<tr><td>3481</td><td></td><td></td><td></td><td></td><td></td><td></td><td></td><td></td><td></td><td></td><td></td><td></td><td></td><td></td><td></td><td>C775</td><td>ATCDFS_J033544.32-274323.3</td><td>53.934691666666666</td><td>-27.723138888888887</td><td>S719</td><td>ATCDFS_J033542.53-274343.8</td><td>SWIRE3_J033542.52-274344.1</td><td>53.927208333333326</td><td>-27.728838888888887</td><td>--</td></tr>\n",
       "<tr><td>3482</td><td></td><td></td><td></td><td></td><td></td><td></td><td></td><td></td><td></td><td></td><td></td><td></td><td></td><td></td><td></td><td>C776</td><td>ATCDFS_J033544.35-282050.9</td><td>53.93479166666666</td><td>-28.347472222222223</td><td>S718</td><td>ATCDFS_J033544.35-282050.9</td><td>SWIRE3_J033544.37-282050.8</td><td>53.93479166666666</td><td>-28.347472222222223</td><td>--</td></tr>\n",
       "<tr><td>3483</td><td></td><td></td><td></td><td></td><td></td><td></td><td></td><td></td><td></td><td></td><td></td><td></td><td></td><td></td><td></td><td>C777</td><td>ATCDFS_J033544.96-274308.0</td><td>53.93733333333333</td><td>-27.718888888888888</td><td>S719</td><td>ATCDFS_J033542.53-274343.8</td><td>SWIRE3_J033542.52-274344.1</td><td>53.927208333333326</td><td>-27.728838888888887</td><td>--</td></tr>\n",
       "<tr><td>3484</td><td></td><td></td><td></td><td></td><td></td><td></td><td></td><td></td><td></td><td></td><td></td><td></td><td></td><td></td><td></td><td>C778</td><td>ATCDFS_J033546.38-283805.2</td><td>53.943262499999996</td><td>-28.634777777777778</td><td>S720</td><td>ATCDFS_J033546.38-283805.2</td><td>(146056)</td><td>53.943262499999996</td><td>-28.634797222222222</td><td>--</td></tr>\n",
       "<tr><td>3485</td><td></td><td></td><td></td><td></td><td></td><td></td><td></td><td></td><td></td><td></td><td></td><td></td><td></td><td></td><td></td><td>C779</td><td>ATCDFS_J033548.20-284402.3</td><td>53.950849999999996</td><td>-28.733972222222224</td><td>S721</td><td>ATCDFS_J033548.20-284402.3</td><td>SWIRE3_J033548.21-284402.1</td><td>53.950849999999996</td><td>-28.733980555555558</td><td>--</td></tr>\n",
       "<tr><td>3486</td><td></td><td></td><td></td><td></td><td></td><td></td><td></td><td></td><td></td><td></td><td></td><td></td><td></td><td></td><td></td><td>C780</td><td>ATCDFS_J033549.15-274918.5</td><td>53.9548</td><td>-27.821805555555557</td><td>S722</td><td>ATCDFS_J033549.15-274918.5</td><td>SWIRE3_J033549.18-274918.8</td><td>53.9548</td><td>-27.82182222222222</td><td>--</td></tr>\n",
       "<tr><td>3487</td><td></td><td></td><td></td><td></td><td></td><td></td><td></td><td></td><td></td><td></td><td></td><td></td><td></td><td></td><td></td><td>C781</td><td>ATCDFS_J033553.33-272740.4</td><td>53.97223333333333</td><td>-27.461222222222222</td><td>S723</td><td>ATCDFS_J033553.33-272740.4</td><td>SWIRE3_J033553.33-272740.4</td><td>53.97223333333333</td><td>-27.46123611111111</td><td>--</td></tr>\n",
       "<tr><td>3488</td><td></td><td></td><td></td><td></td><td></td><td></td><td></td><td></td><td></td><td></td><td></td><td></td><td></td><td></td><td></td><td>C782</td><td>ATCDFS_J033553.48-275510.9</td><td>53.97283333333333</td><td>-27.919694444444445</td><td>S724</td><td>ATCDFS_J033553.48-275510.9</td><td>SWIRE3_J033553.44-275512.8</td><td>53.97283333333333</td><td>-27.91971388888889</td><td>--</td></tr>\n",
       "<tr><td>3489</td><td></td><td></td><td></td><td></td><td></td><td></td><td></td><td></td><td></td><td></td><td></td><td></td><td></td><td></td><td></td><td>C783</td><td>ATCDFS_J033553.58-280956.8</td><td>53.9732875</td><td>-28.165777777777777</td><td>S725</td><td>ATCDFS_J033553.58-280956.8</td><td>SWIRE3_J033553.56-280952.4</td><td>53.9732875</td><td>-28.165788888888887</td><td>--</td></tr>\n",
       "<tr><td>3490</td><td></td><td></td><td></td><td></td><td></td><td></td><td></td><td></td><td></td><td></td><td></td><td></td><td></td><td></td><td></td><td>C784</td><td>ATCDFS_J033553.63-282923.5</td><td>53.973475</td><td>-28.48986111111111</td><td>S726</td><td>ATCDFS_J033553.63-282923.5</td><td>SWIRE3_J033553.59-282922.4</td><td>53.973475</td><td>-28.489872222222225</td><td>--</td></tr>\n",
       "</table>"
      ],
      "text/plain": [
       "<Table length=3491>\n",
       " Key  Component ID (Norris) ... Source Redshift (Middelberg)\n",
       "int32          str4         ...            str32            \n",
       "----- --------------------- ... ----------------------------\n",
       "    0                  C001 ...                             \n",
       "    1                  C002 ...                             \n",
       "    2                  C003 ...                             \n",
       "    3                  C004 ...                             \n",
       "    4                  C005 ...                             \n",
       "    5                  C006 ...                             \n",
       "    6                  C007 ...                             \n",
       "    7                  C008 ...                             \n",
       "    8                  C009 ...                             \n",
       "    9                  C010 ...                             \n",
       "  ...                   ... ...                          ...\n",
       " 3481                       ...                           --\n",
       " 3482                       ...                           --\n",
       " 3483                       ...                           --\n",
       " 3484                       ...                           --\n",
       " 3485                       ...                           --\n",
       " 3486                       ...                           --\n",
       " 3487                       ...                           --\n",
       " 3488                       ...                           --\n",
       " 3489                       ...                           --\n",
       " 3490                       ...                           --"
      ]
     },
     "execution_count": 15,
     "metadata": {},
     "output_type": "execute_result"
    }
   ],
   "source": [
    "import astropy.coordinates\n",
    "\n",
    "# Component ID (Norris)\n",
    "component_ids_norris = [r['#'] for r in norris_components]\n",
    "\n",
    "# Source ID (Norris)\n",
    "_component_to_source = {}\n",
    "for r in norris_cross_identifications:\n",
    "    for component in r['Component'].split(','):\n",
    "        _component_to_source[component.strip()] = r['#']\n",
    "source_ids_norris = [_component_to_source[c] for c in component_ids_norris]\n",
    "\n",
    "# Source Name (Norris)\n",
    "_source_to_name = {r['#']:r['Name'] for r in norris_cross_identifications}\n",
    "source_names_norris = [_source_to_name[s] for s in source_ids_norris]\n",
    "\n",
    "# SWIRE Name (Norris)\n",
    "_source_to_swire_norris = {r['#']:r['SWIRE'] for r in norris_cross_identifications}\n",
    "swire_names_norris = [_source_to_swire_norris[s] for s in source_ids_norris]\n",
    "\n",
    "# RA (Norris), Dec (Norris)\n",
    "_positions_norris = [astropy.coordinates.SkyCoord(\n",
    "    ra=r['Radio RA'],\n",
    "    dec=r['Radio dec'],\n",
    "    unit=('hourangle', 'deg')) for r in norris_components]\n",
    "ras_norris = [p.ra.deg for p in _positions_norris]\n",
    "decs_norris = [p.dec.deg for p in _positions_norris]\n",
    "\n",
    "# Source RA (Norris), Source Dec (Norris)\n",
    "_source_positions_norris = [astropy.coordinates.SkyCoord(\n",
    "    ra=r['Radio RA'],\n",
    "    dec=r['Radio dec'],\n",
    "    unit=('hourangle', 'deg')) for r in norris_cross_identifications]\n",
    "_source_id_to_position_norris = dict(zip(norris_cross_identifications['#'], _source_positions_norris))\n",
    "source_ras_norris = [_source_id_to_position_norris[s].ra.deg for s in source_ids_norris]\n",
    "source_decs_norris = [_source_id_to_position_norris[s].dec.deg for s in source_ids_norris]\n",
    "\n",
    "# Zooniverse ID (RGZ)\n",
    "zooniverse_ids_rgz = [_norris_to_rgz_zid.get(cid, '') for cid in component_ids_norris]\n",
    "\n",
    "# Component ID (RGZ)\n",
    "_zid_to_cid = {z:c for z, c in zip(_rgz_zids, _rgz_sources)}\n",
    "_zid_to_coord = {z:p for z, p in zip(_rgz_zids, _rgz_coords)}\n",
    "component_ids_rgz = [_zid_to_cid.get(z, '') for z in zooniverse_ids_rgz]\n",
    "\n",
    "# Extend all of these columns by RGZ objects with no corresponding Norris object.\n",
    "_zid_no_norris = [z for z in _rgz_zids if z not in _rgz_zid_to_norris]\n",
    "_cid_no_norris = [_zid_to_cid.get(z, '') for z in _zid_no_norris]\n",
    "_blank_no_norris = [''] * len(_zid_no_norris)\n",
    "\n",
    "for l in [component_ids_norris, source_ids_norris, source_names_norris,\n",
    "          swire_names_norris, ras_norris, decs_norris, source_ras_norris,\n",
    "          source_decs_norris]:\n",
    "    l.extend(_blank_no_norris)\n",
    "zooniverse_ids_rgz.extend(_zid_no_norris)\n",
    "component_ids_rgz.extend(_cid_no_norris)\n",
    "\n",
    "# RA (RGZ), Dec (RGZ)\n",
    "ras_rgz = [_zid_to_coord.get(z, ('', ''))[0] for z in zooniverse_ids_rgz]\n",
    "decs_rgz = [_zid_to_coord.get(z, ('', ''))[1] for z in zooniverse_ids_rgz]\n",
    "\n",
    "# SWIRE Name (RGZ)\n",
    "swire_names_rgz = [_crowdastro_zid_to_swire.get(z, '') for z in zooniverse_ids_rgz]\n",
    "\n",
    "# Source ID (Fan)\n",
    "fan_source_ids = [_fan_component_to_source.get(cid, '') for cid in component_ids_norris]\n",
    "\n",
    "# SWIRE Name (Fan)\n",
    "fan_swire_names = [_fan_component_to_swire.get(cid, '') for cid in component_ids_norris]\n",
    "\n",
    "# Pad out the Middelberg columns.\n",
    "middelberg_component_ids = [''] * len(component_ids_norris) + list(_middelberg_component_ids)\n",
    "middelberg_component_names = [''] * len(component_ids_norris) + list(_middelberg_component_names)\n",
    "middelberg_component_ras = [''] * len(component_ids_norris) + list(_middelberg_component_ras)\n",
    "middelberg_component_decs = [''] * len(component_ids_norris) + list(_middelberg_component_decs)\n",
    "middelberg_component_source_ids = [''] * len(component_ids_norris) + list(_middelberg_component_source_ids)\n",
    "middelberg_component_source_names = [''] * len(component_ids_norris) + list(_middelberg_component_source_names)\n",
    "middelberg_component_swires = [''] * len(component_ids_norris) + list(_middelberg_component_swires)\n",
    "middelberg_component_source_ras = [''] * len(component_ids_norris) + list(_middelberg_component_source_ras)\n",
    "middelberg_component_source_decs = [''] * len(component_ids_norris) + list(_middelberg_component_source_decs)\n",
    "middelberg_component_source_zs = [''] * len(component_ids_norris) + list(_middelberg_component_source_zs)\n",
    "\n",
    "# Pad out the other columns.\n",
    "for l in [component_ids_norris, source_ids_norris, source_names_norris,\n",
    "          swire_names_norris, ras_norris, decs_norris, component_ids_rgz,\n",
    "          zooniverse_ids_rgz, swire_names_rgz, ras_rgz, decs_rgz,\n",
    "          fan_source_ids, fan_swire_names, source_ras_norris, source_decs_norris]:\n",
    "    l.extend([''] * len(_middelberg_component_ids))\n",
    "\n",
    "keys = list(range(len(component_ids_norris)))\n",
    "\n",
    "table = astropy.table.Table(data=[keys, component_ids_norris, source_ids_norris, source_names_norris,\n",
    "                                  swire_names_norris, ras_norris, decs_norris, source_ras_norris,\n",
    "                                  source_decs_norris,\n",
    "                                  component_ids_rgz, zooniverse_ids_rgz, swire_names_rgz, ras_rgz, decs_rgz,\n",
    "                                  fan_source_ids, fan_swire_names,\n",
    "                                  middelberg_component_ids, middelberg_component_names,\n",
    "                                  middelberg_component_ras, middelberg_component_decs,\n",
    "                                  middelberg_component_source_ids, middelberg_component_source_names,\n",
    "                                  middelberg_component_swires, middelberg_component_source_ras,\n",
    "                                  middelberg_component_source_decs, middelberg_component_source_zs,\n",
    "],\n",
    "                            names=columns)\n",
    "table"
   ]
  },
  {
   "cell_type": "code",
   "execution_count": 16,
   "metadata": {
    "collapsed": false
   },
   "outputs": [],
   "source": [
    "table.write('one-table-to-rule-them-all.tbl', format='ascii')"
   ]
  },
  {
   "cell_type": "code",
   "execution_count": null,
   "metadata": {
    "collapsed": true
   },
   "outputs": [],
   "source": []
  }
 ],
 "metadata": {
  "kernelspec": {
   "display_name": "Python 3",
   "language": "python",
   "name": "python3"
  },
  "language_info": {
   "codemirror_mode": {
    "name": "ipython",
    "version": 3
   },
   "file_extension": ".py",
   "mimetype": "text/x-python",
   "name": "python",
   "nbconvert_exporter": "python",
   "pygments_lexer": "ipython3",
   "version": "3.5.1"
  }
 },
 "nbformat": 4,
 "nbformat_minor": 0
}
